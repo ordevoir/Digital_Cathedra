{
  "cells": [
    {
      "cell_type": "markdown",
      "metadata": {
        "id": "view-in-github",
        "colab_type": "text"
      },
      "source": [
        "<a href=\"https://colab.research.google.com/github/ordevoir/Data_Analysis/blob/main/pandas_load_and_review_data.ipynb\" target=\"_parent\"><img src=\"https://colab.research.google.com/assets/colab-badge.svg\" alt=\"Open In Colab\"/></a>"
      ]
    },
    {
      "cell_type": "markdown",
      "metadata": {
        "id": "_7q6cLObt_ij"
      },
      "source": [
        "# Данные\n",
        "\n",
        "**Данные** (*Data*) - представление информации в формализованном виде, пригодном для хранения, передачи или обработки.\n",
        "\n",
        "**Неструктурированные данные** (*Unstructured Data*) - информация, которая либо не имеет заранее определенной модели данных, либо не организована заранее определенным образом. Примерами неструктурированных данных могут быть изображения, видео или аудиофайлы, текстовые документы (в частности, PDF-документы), в которых содержатся даты, числа или факты.\n",
        "\n",
        "**Структурированные данные** (*Structured Data*) - хорошо организованное представление информации, которое имеет определенную структуру. Структурированные данные обычно существуют в виде таблиц, баз данных и прочих формах, в которых заранее определена модель данных (не путать со структурами данных: одна и те же структурированные данные могут храниться посредством разных структур данных).\n",
        "\n",
        "**Анализ данных** (*Data Analysis*) - это процесс, который включает в себя сбор, обработку, изучение и интерпретацию данных с целью извлечения полезной информации и принятия решений."
      ]
    },
    {
      "cell_type": "markdown",
      "metadata": {
        "id": "HxPedOm6t_ik"
      },
      "source": [
        "## Элементы структурированных данных\n",
        "\n",
        "Можно выделить два основных **типа данных** (*data types*), которые участвуют в формированиии структурированных данных: числовые и категориальные; в иных терминах можно было бы использовать слова **количественные** (*quantitative*) и **качественные** (*qualitative*).\n",
        "\n",
        "**Числовые** (*numerical*) данные имеют две формы: **непрерывную** (*continuous*) или **дискретную** (*discrete*). С числовыми данными можно производить арифметические манипуляции, между значениями легко определить способ измерения расстояния. Имеет смысл вычислять среднее от значений и тд.\n",
        "\n",
        "**Категориальные** (*categorical*) данные как правило принимают значение из ограниченного и фиксированного множества. Различают номинальны  и порядковые категориальные данные.\n",
        "\n",
        "**Номинальные** (*nominal*) данные группируются во взаимоисключающие описательные категории, между которыми нет отношения порядка. Примерами могут быть такие признаки как цвет волос, группа крови или политические предпочтения. Несмотря на то, что группы крови могут быть представлены в виде чисел, они не имеют арифметического значения, и нет смысла сравнивать их по величине.\n",
        "\n",
        "**Порядковые** (*ordinal*) отличаются от номинальных тем, что в категориях есть естественный порядок, например, уровень образования, уровень дохода, тяжесть состояния больного. Принципиальное отличие порядковых данных от числовых в том, что для них не определена шкала, в соответствии с которой можно было бы говорить о расстоянии, между значениями. Поэтому арифметические операции и поиск среднего значения не имеет большого смысла.\n",
        "\n",
        "---"
      ]
    },
    {
      "cell_type": "markdown",
      "metadata": {
        "id": "uh5Enw0Ft_il"
      },
      "source": [
        "# [Pandas](\"https://pandas.pydata.org/)"
      ]
    },
    {
      "cell_type": "markdown",
      "metadata": {
        "id": "ruGXOFC7t_il"
      },
      "source": [
        "Pandas – это библиотека Python, которая предоставляет инструменты для анализа структурированных данных. Основными структурами в Pandas являются [`DataFrame`](https://pandas.pydata.org/docs/reference/frame.html) и [`Series`](https://pandas.pydata.org/docs/reference/api/pandas.Series.html).\n",
        "- `DataFrame` – это двумерная таблица, которая содержит данные различных типов.  \n",
        "- `Series` представляет собой единственную колонку с данными.\n",
        "\n",
        "Эти структуры данных также содержат названия для строк и колонок.\n",
        "\n",
        "Pandas также предоставляет инструменты для чтения и записи данных из различных источников, таких как CSV, Excel, базы данных, веб-API и т.д.\n",
        "\n",
        "Установить библиотеку Pandas в Python можно выполнив в терминале\n",
        "\n",
        "`pip install pandas`"
      ]
    },
    {
      "cell_type": "code",
      "execution_count": null,
      "metadata": {
        "id": "9po1Q4F8t_il"
      },
      "outputs": [],
      "source": [
        "import pandas as pd\n",
        "import numpy as np\n",
        "import matplotlib.pyplot as plt"
      ]
    },
    {
      "cell_type": "markdown",
      "metadata": {
        "id": "nLZ4an1Ct_im"
      },
      "source": [
        "---\n",
        "\n",
        "# Загрузка данных"
      ]
    },
    {
      "cell_type": "markdown",
      "metadata": {
        "id": "go0gAyxvt_im"
      },
      "source": [
        "Загрузим данные из файла data.csv формата CSV (*comma-separated values*), расположенного на локальном диске. Фактически это текстовый файл, в котором задана таблица, строки которой разделены переносом на новую строку, а колонки разделены запятыми. Откройте этот файл в текстовом редакторе и просмотрите его. Убедитесь, что это такие же данные, какие были сгенерированы в файле matplotlib_examples.ipynb. Вы можете также открыть файл data.csv в Microsoft Excel.\n",
        "\n",
        "Для того, чтобы загрузить данные из файла формата CSV используется функция `read_csv()` в которую передается в качестве аргумента путь к файлу. Функция возвращает объект класса `DataFrame`:\n",
        "\n",
        ">```python\n",
        ">pd.read_csv('directory/file_name.csv')\n",
        ">```"
      ]
    },
    {
      "cell_type": "markdown",
      "metadata": {
        "id": "1ETuiI-JosZa"
      },
      "source": [
        "## Загрузка данных из GoogleDrive\n",
        "\n",
        "Для того, чтобы использовать GoogleDrive в качестве локального диска, необходимо монтировать диск. Для этого используется функция `mount()`:"
      ]
    },
    {
      "cell_type": "code",
      "execution_count": null,
      "metadata": {
        "id": "l5MxsFfEvNd8"
      },
      "outputs": [],
      "source": [
        "from google.colab import drive\n",
        "drive.mount('/content/drive')"
      ]
    },
    {
      "cell_type": "markdown",
      "metadata": {
        "id": "WYvTB6DepbQJ"
      },
      "source": [
        "Теперь функция `read_csv()` может считать данные из файла, расположенного в GoogleDrive:"
      ]
    },
    {
      "cell_type": "code",
      "execution_count": null,
      "metadata": {
        "id": "yZU2Qx-6wLhe"
      },
      "outputs": [],
      "source": [
        "data = pd.read_csv('drive/MyDrive/Colab Notebooks/data.csv')\n",
        "print(type(data))"
      ]
    },
    {
      "cell_type": "code",
      "execution_count": null,
      "metadata": {
        "id": "8isAiTs_t_in"
      },
      "outputs": [],
      "source": [
        "# посмотрим на загруженные данные\n",
        "data.head()     # просмотр первых пяти строк\n",
        "# data          # просмотр данных целиком"
      ]
    },
    {
      "cell_type": "markdown",
      "metadata": {
        "id": "bSnwsDKst_in"
      },
      "source": [
        "## Загрузка данных из репозитория\n",
        "\n",
        "В общем случае можно загружать данных из любых удаленных источников, предоставляющих прямой доступ к файлу csv. В качестве примера загрузим данные из GitHub (файл расположен в репозитории [Data_Analysis](https://github.com/ordevoir/Data_Analysis))."
      ]
    },
    {
      "cell_type": "code",
      "execution_count": null,
      "metadata": {
        "id": "nO7etbz1t_in"
      },
      "outputs": [],
      "source": [
        "housing = pd.read_csv('https://raw.githubusercontent.com/ordevoir/Data_Analysis/main/housing.csv')"
      ]
    },
    {
      "cell_type": "markdown",
      "metadata": {
        "id": "-BTXPz4YqfF5"
      },
      "source": [
        "> Существуют множество других форматов данных и способов загрузки."
      ]
    },
    {
      "cell_type": "markdown",
      "metadata": {
        "id": "JX_8Tk0gt_in"
      },
      "source": [
        "# [`DataFrame`](https://pandas.pydata.org/docs/reference/frame.html)\n",
        "\n",
        "В таблице `DataFrame` в строках записаны данные об **оразцах** (*samples*), а колонкам таблицы соответствуют признаки (*features*). В терминах баз данных можно сказать, что в строках расположены **записи** (*records*) об экземплярах, а колонки соответствуют **полям** (*fields*), также используется понятие **атрибут** (*atribute*).\n",
        "\n",
        "Колонки таблицы умеют названия, соовтетствующие названиям признаков. Традиционные таблицы базы данных содержат колоноку (или несколько колонок) для индексации. Это значительно повышает эффективность некоторых запросов\n",
        "к базе данных. По умолчанию для объекта `DataFrame` создается автоматический целочисленный индекс, который основывается на порядке следования строк таблицы. В pandas также существует возможность задавать многоуровневые/иерархические индексы с целью повышения эффективности некоторых операций."
      ]
    },
    {
      "cell_type": "markdown",
      "metadata": {
        "id": "7M5GiiH8tF0o"
      },
      "source": [
        "### `head()`, `info()`, `describe()`, `hist()`"
      ]
    },
    {
      "cell_type": "code",
      "execution_count": null,
      "metadata": {
        "id": "JnKLt-FZt_io"
      },
      "outputs": [],
      "source": [
        "housing.head()  # вывод первых пяти образцов"
      ]
    },
    {
      "cell_type": "markdown",
      "metadata": {
        "id": "5C-XAfF-t_io"
      },
      "source": [
        "При помощи метода `info()` можно увидеть, сколько всего образцов, сколько признаков, какое количество непустых значений параметров, какие у них типы данных:"
      ]
    },
    {
      "cell_type": "code",
      "execution_count": null,
      "metadata": {
        "id": "YnhBlLzFt_io"
      },
      "outputs": [],
      "source": [
        "housing.info()  # вывод информации о признаках"
      ]
    },
    {
      "cell_type": "markdown",
      "metadata": {
        "id": "QGgCiVKJt_io"
      },
      "source": [
        "Статистическое описание признаков можно посмотреть при помощи метода `describe()`.<br>"
      ]
    },
    {
      "cell_type": "code",
      "execution_count": null,
      "metadata": {
        "id": "aGl1neNKt_io"
      },
      "outputs": [],
      "source": [
        "housing.describe()"
      ]
    },
    {
      "cell_type": "markdown",
      "metadata": {
        "id": "tOE9hZb0t_ip"
      },
      "source": [
        "Если вызвать метод `hist()` у объекта класса `DataFrame`, то будут визуализировано распределение всех числовых признаков. В параметре `bins` можно задать число ячеек, которые будут использовны при построении гистограммы:"
      ]
    },
    {
      "cell_type": "code",
      "execution_count": null,
      "metadata": {
        "id": "9dfVhCpwt_ip"
      },
      "outputs": [],
      "source": [
        "housing.hist(bins=15, figsize=(15, 10))"
      ]
    },
    {
      "cell_type": "markdown",
      "metadata": {
        "id": "UtsF6DZht_ip"
      },
      "source": [
        "# [`Series`](https://pandas.pydata.org/docs/reference/series.html)"
      ]
    },
    {
      "cell_type": "markdown",
      "metadata": {
        "id": "MXyJ-GJNt_iq"
      },
      "source": [
        "Если извлечь из объекта `DataFrame` данные одного из признаков (колонку), получим объект класса `Series`:"
      ]
    },
    {
      "cell_type": "code",
      "execution_count": null,
      "metadata": {
        "id": "adHg_Takt_iq"
      },
      "outputs": [],
      "source": [
        "s = housing['latitude']\n",
        "s.info()"
      ]
    },
    {
      "cell_type": "markdown",
      "metadata": {
        "id": "SO8k_npqt_io"
      },
      "source": [
        "При помощи метода `value_counts()` можно посмотреть распределение значений для отдельного признака: список принимаемых значений, и количество образцов с этим значением. Это полезно, когда принимаемых значений не так много. Обычно это касается категориальных признаков, таких как `ocean_proximity` в данных `housing`. Заметим, что доступ к колонке признака производится по ключу, подобно тому, как это делается в словарях (`dict`)."
      ]
    },
    {
      "cell_type": "code",
      "execution_count": null,
      "metadata": {
        "id": "ptWjRo4Ut_io"
      },
      "outputs": [],
      "source": [
        "housing['ocean_proximity'].value_counts()"
      ]
    },
    {
      "cell_type": "markdown",
      "metadata": {
        "id": "Px7jaugvt_ip"
      },
      "source": [
        "Метод `hist()` позволяет визуализировать распределение значений признака. Сравните значения, полученные в предыдущей ячейке с кодом, со значениями на диаграмме:"
      ]
    },
    {
      "cell_type": "code",
      "execution_count": null,
      "metadata": {
        "id": "RlLsbbEXt_ip"
      },
      "outputs": [],
      "source": [
        "housing['ocean_proximity'].hist(figsize=(5, 3))"
      ]
    },
    {
      "cell_type": "markdown",
      "metadata": {
        "id": "YQGkegrXt_ip"
      },
      "source": [
        "Особенно полезен метод `hist()` для числовых признаков, когда принимаемых значений очень много, и метод `value_counts()` уже не выводит удобные для восприятия данные. Попробуйте вместо `hist()` вызвать метод `value_counts()` и посмотрите результат."
      ]
    },
    {
      "cell_type": "code",
      "execution_count": null,
      "metadata": {
        "id": "4pRfUP58t_ip"
      },
      "outputs": [],
      "source": [
        "housing['median_house_value'].hist(bins=36, figsize=(5,3))"
      ]
    },
    {
      "cell_type": "markdown",
      "source": [
        "# Визуализация данных\n",
        "\n",
        "Визуализация данных может помочь нам увидеть некоторые закономерности в данных, корреляции между признаками, которые впоследствии можно будет использовать для анализа данных.\n",
        "\n",
        "Так как в наших данных содержится информация о географическом расположении образцов, имеет смысл визуализировать расположение точек (`longitude`, `latitude`). Визуализацию можно произвести при помощи метода `plot()`. Так как мы хотим визуализировать значения в виде точек, зададим параметр `kind=\"scatter\"`. Для более приглядной визуализации сделаем точки полупрозрачными, задав параметр `alpha=0.1`, что позволит нам разглядеть области наиболее плотного расположения точек."
      ],
      "metadata": {
        "id": "4IF0lq1U4Pn8"
      }
    },
    {
      "cell_type": "code",
      "source": [
        "housing.plot(kind=\"scatter\", x=\"longitude\", y=\"latitude\", alpha=0.1)"
      ],
      "metadata": {
        "id": "brmUB-7s57EL"
      },
      "execution_count": null,
      "outputs": []
    },
    {
      "cell_type": "markdown",
      "source": [
        "На этой же диаграмме мы можем отобразить информацию и о других признаках, используя различные цвета и размеры точек. Параметр `s` определяет размер точек, а параметр `c` – цвет точки. Размеры точек будут соответствовать признаку `population`, а цвета точек – признаку `median_house_value`. Карта цветов задается в параметре `cmap`. Различные цветовые карты представлены [здесь](https://matplotlib.org/stable/users/explain/colors/colormaps.html)."
      ],
      "metadata": {
        "id": "HyJOS0tD6Aar"
      }
    },
    {
      "cell_type": "code",
      "source": [
        "housing.plot(kind=\"scatter\", x=\"longitude\", y=\"latitude\",\n",
        "    alpha=0.1,                      # значение непрозрачности для точки\n",
        "    s=housing[\"population\"]/100,    # размер точки\n",
        "    c=\"median_house_value\",         # цвет точки\n",
        "    cmap=plt.get_cmap(\"jet\"),       # цветовая карта\n",
        "    colorbar=True,                  # отображать шкалу цветов\n",
        "    label=\"papulation\",\n",
        "    figsize=(10,7))"
      ],
      "metadata": {
        "id": "4yoHNiZQ4VSp"
      },
      "execution_count": null,
      "outputs": []
    },
    {
      "cell_type": "markdown",
      "source": [
        "# Поиск корреляций\n",
        "\n",
        "Если данные не слишком большие, можно легко вычислить [коэффициент корреляции Пирсона](https://en.wikipedia.org/wiki/Pearson_correlation_coefficient) для каждой пары признаков, используя метод [`corr()`](https://pandas.pydata.org/docs/reference/api/pandas.DataFrame.corr.html) объекта класса `DataFrame`:"
      ],
      "metadata": {
        "id": "B79bYOWV-9G-"
      }
    },
    {
      "cell_type": "code",
      "source": [
        "corr_matrix = housing.corr()\n",
        "type(corr_matrix)"
      ],
      "metadata": {
        "id": "3poIsU7tANM0"
      },
      "execution_count": null,
      "outputs": []
    },
    {
      "cell_type": "markdown",
      "source": [
        "Выведем коэффициенты корреляции с признаком `median_house_value`. Эти значения находятся в колонке `median_house_value` объекта `corr_matrix`. Для того, чтобы вывод значений был упорядоченным, воспользуемся методом `sort_values()` и зададим значение параметра `ascending=False`, чтобы список шел по убыванию."
      ],
      "metadata": {
        "id": "pDDepj8aAwY2"
      }
    },
    {
      "cell_type": "code",
      "source": [
        "corr_matrix[\"median_house_value\"].sort_values(ascending=False)"
      ],
      "metadata": {
        "id": "B-IdwlelAl1S"
      },
      "execution_count": null,
      "outputs": []
    },
    {
      "cell_type": "markdown",
      "source": [
        "Видим, что имеется выраженная корреляция с признаком `median_income`. Также видим, что имеется некоторая отрицательная корреляция с широтой (`latitude`)."
      ],
      "metadata": {
        "id": "k2NH0Y5aDR1s"
      }
    },
    {
      "cell_type": "markdown",
      "source": [
        "Корреляции можно искать также и визуально. Попробуем визуализировать матрицы рассеяния (*scatter matrix*) между парами признаков. Нас будут интересовать признаки `\"median_house_value\", \"median_income\", \"total_rooms\", \"housing_median_age\"`:"
      ],
      "metadata": {
        "id": "GmWl-6RoDJLK"
      }
    },
    {
      "cell_type": "code",
      "source": [
        "features = [\"median_house_value\",\n",
        "              \"median_income\",\n",
        "              \"total_rooms\",\n",
        "              \"housing_median_age\"]"
      ],
      "metadata": {
        "id": "8kZJLbsdEeeR"
      },
      "execution_count": null,
      "outputs": []
    },
    {
      "cell_type": "markdown",
      "source": [
        "Для визуализации матриц рассеяния воспользуемся функцией `scatter_matrix()` из модуля `plotting` библиотеки `pandas`:"
      ],
      "metadata": {
        "id": "8MT6Ahh3Eo1o"
      }
    },
    {
      "cell_type": "code",
      "source": [
        "from pandas.plotting import scatter_matrix\n",
        "\n",
        "scatter_matrix(housing[features], figsize=(12, 8))\n",
        "plt.show()"
      ],
      "metadata": {
        "id": "LAdb_vtJEhh7"
      },
      "execution_count": null,
      "outputs": []
    },
    {
      "cell_type": "markdown",
      "source": [
        "На диаграммах также видно, что наиболее выраженная корреляция признака `median_house_value` наблюдается с признаком `median_income`. Выведем отдельно эту диаграмму отдельно:"
      ],
      "metadata": {
        "id": "ajVLciEZFh87"
      }
    },
    {
      "cell_type": "code",
      "source": [
        "housing.plot(kind=\"scatter\",\n",
        "             x=\"median_income\",\n",
        "             y=\"median_house_value\",\n",
        "             alpha=0.1)"
      ],
      "metadata": {
        "id": "Y_61TF94Fzty"
      },
      "execution_count": null,
      "outputs": []
    },
    {
      "cell_type": "markdown",
      "source": [
        "> В данной визуализации можно также заметить выраженную горизонтальную линию на уровне 500 000 долларов. Можно предположить, что это некоторое ценовое ограничение, которое вносит искажение в данные. Можно попробовать удалить соответствующие районы, чтобы ваши алгоритмы не обучались воспроизведению этих причуд данных."
      ],
      "metadata": {
        "id": "A-a0vfNzHDbo"
      }
    },
    {
      "cell_type": "markdown",
      "source": [
        "# Корреляция с комбинацией признаков\n",
        "\n",
        "В данном наборе данных целевым признаком является `median_house_value`. Возможно, что с целевым признаком больше коррелируют не сами признаки образцов а отношения между признаками Можно создать новые признаки, как комбинации имеющихся, и посмотреть, не будут ли они больше коррелировать с целевым признаком."
      ],
      "metadata": {
        "id": "yBi6vk5GImAR"
      }
    },
    {
      "cell_type": "code",
      "source": [
        "housing[\"rooms_per_household\"] = housing[\"total_rooms\"]/housing[\"households\"]\n",
        "housing[\"bedrooms_per_room\"] = housing[\"total_bedrooms\"]/housing[\"total_rooms\"]\n",
        "housing[\"population_per_household\"]=housing[\"population\"]/housing[\"households\"]\n",
        "\n",
        "corr_matrix = housing.corr()\n",
        "corr_matrix[\"median_house_value\"].sort_values(ascending=False)"
      ],
      "metadata": {
        "id": "HgHLBoKsF1WK"
      },
      "execution_count": null,
      "outputs": []
    },
    {
      "cell_type": "markdown",
      "source": [
        "В самом деле `rooms_per_household` больше коррелирует с целевым  признаком `median_house_value`, чем признаки `total_rooms` и `households` по-отдельности. Также и с `bedrooms_per_room` наблюдается хорошая отрицательная корреляция, так что эти новые признаки могли бы быть полезны."
      ],
      "metadata": {
        "id": "QjqepwvlJ9f6"
      }
    }
  ],
  "metadata": {
    "colab": {
      "provenance": [],
      "toc_visible": true,
      "include_colab_link": true
    },
    "kernelspec": {
      "display_name": "Python 3 (ipykernel)",
      "language": "python",
      "name": "python3"
    },
    "language_info": {
      "codemirror_mode": {
        "name": "ipython",
        "version": 3
      },
      "file_extension": ".py",
      "mimetype": "text/x-python",
      "name": "python",
      "nbconvert_exporter": "python",
      "pygments_lexer": "ipython3",
      "version": "3.10.10"
    },
    "vscode": {
      "interpreter": {
        "hash": "e20f72739ffc6c3cc505414aaab49afe57115ca17c783e620ccfd5d632835ddf"
      }
    }
  },
  "nbformat": 4,
  "nbformat_minor": 0
}