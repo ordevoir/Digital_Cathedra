{
  "cells": [
    {
      "cell_type": "markdown",
      "metadata": {
        "colab_type": "text",
        "id": "view-in-github"
      },
      "source": [
        "<a href=\"https://colab.research.google.com/github/ordevoir/Digital_Cathedra/blob/main/Data%20Analysis/clustering/sklearn_clustering.ipynb\" target=\"_parent\"><img src=\"https://colab.research.google.com/assets/colab-badge.svg\" alt=\"Open In Colab\"/></a>"
      ]
    },
    {
      "cell_type": "markdown",
      "id": "1b972a4d",
      "metadata": {
        "id": "1b972a4d"
      },
      "source": [
        "# Кластеризация\n",
        "Кластеризация может быть использована для следующих задач:\n",
        "- **анализ данных**: когда используется новый датасет может быть полезным запустить алгоритм кластеризации и затем анализировать каждый кластер по-отдельности\n",
        "- **снижение размерности**: когда данные кластеризованы, обычно возможно измерить соотвествие (affinity) образца к каждому кластеру. Тогда вектор признаков $\\mathbf x$ может быть представлен как вектор соответствия к кластерам. Размерность вектора будет равно числу кластеров. Такой вектор обычно существенно меньшей размерности, чем исходный вектор признаков, но при этом он может сохранять достаточно информации для следующей обработки.\n",
        "- **обнаружение аномалий** (выбросов): каждый образец имеющий слабое соответствие ко всем кластерам вероятно представляет собой аномалию. Обнаружение аномалий в частности полезно в обнаружении деффектов в производстве или для обнаружения мошенничества.\n",
        "- **частичное обучение с учителем** (*semi-supervised learning*): если имеется небольшой набор размеченных данных, и большой набор неразмеченных данных, можно произвести кластеризацию и распространить соответствующие метки на все образцы, находящиеся в одних и тех же кластерах. Такая техника может существенно повысить число размеченных данных для последующего обучения с учителем.\n",
        "- **сегментация изображения**: кластеризуя пиксели в соответствии с их цветом, можно заменить цвет каждого пикселя средним цветом его кластера. Таким образом можно значительно уменьшить число различных цветов на изображении. Сегментация изображения используется во многих ситемах детекции и трекинга объекта, так как это упрощает детекцию контура каждого объекта.\n",
        "\n",
        "Некоторые алгоритмы ищут экземпляры, сосредоточенные вокруг определенной точки, называемой центроидом. Другие ищут непрерывные области плотно упакованных экземпляров: такие кластеры могут принимать любую форму."
      ]
    },
    {
      "cell_type": "markdown",
      "id": "HlP7_U8wC9Kz",
      "metadata": {
        "id": "HlP7_U8wC9Kz"
      },
      "source": [
        "# Генерация данных"
      ]
    },
    {
      "cell_type": "code",
      "execution_count": null,
      "id": "W8EvgPW0BPV9",
      "metadata": {
        "id": "W8EvgPW0BPV9"
      },
      "outputs": [],
      "source": [
        "import numpy as np\n",
        "import matplotlib.pyplot as plt"
      ]
    },
    {
      "cell_type": "markdown",
      "id": "KXCGBRCABPV9",
      "metadata": {
        "id": "KXCGBRCABPV9"
      },
      "source": [
        "Начнем с генерации кластеров/классов. Для этого можно воспользоваться функцией [`make_blobs()`](https://scikit-learn.org/stable/modules/generated/sklearn.datasets.make_blobs.html)."
      ]
    },
    {
      "cell_type": "code",
      "execution_count": null,
      "id": "iwHQLgW2BPV-",
      "metadata": {
        "id": "iwHQLgW2BPV-"
      },
      "outputs": [],
      "source": [
        "from sklearn.datasets import make_blobs\n",
        "\n",
        "# зададим центры кластеров:\n",
        "blob_centers = np.array(\n",
        "    [[ 0.2,  2.3],\n",
        "     [-1.5 ,  2.3],\n",
        "     [-2.8,  1.8],\n",
        "     [-2.8,  2.8],\n",
        "     [-2.8,  1.3]])\n",
        "\n",
        "# зададим среднеквадрадическое отклонение точек от центра:\n",
        "blob_std = np.array([0.4, 0.3, 0.1, 0.1, 0.1])\n",
        "\n",
        "X, y = make_blobs(n_samples=2000, centers=blob_centers,\n",
        "                  cluster_std=blob_std, random_state=7)"
      ]
    },
    {
      "cell_type": "markdown",
      "id": "d2DPb3axD33M",
      "metadata": {
        "id": "d2DPb3axD33M"
      },
      "source": [
        "`X` будет представлять собой массив точек:"
      ]
    },
    {
      "cell_type": "code",
      "execution_count": null,
      "id": "5qJUoFNbCqoh",
      "metadata": {
        "colab": {
          "base_uri": "https://localhost:8080/"
        },
        "id": "5qJUoFNbCqoh",
        "outputId": "d862242e-cac7-4649-ab6f-4c97ff34f5ee"
      },
      "outputs": [],
      "source": [
        "print(X[:3])"
      ]
    },
    {
      "cell_type": "markdown",
      "id": "yauUG2qJEza_",
      "metadata": {
        "id": "yauUG2qJEza_"
      },
      "source": [
        "`y` представляет собой массив соответствующих меток:"
      ]
    },
    {
      "cell_type": "code",
      "execution_count": null,
      "id": "Yz8R-c3zEpdw",
      "metadata": {
        "colab": {
          "base_uri": "https://localhost:8080/"
        },
        "id": "Yz8R-c3zEpdw",
        "outputId": "c795d351-f119-4a1e-9a29-fbc3878c5240"
      },
      "outputs": [],
      "source": [
        "print(y[:3])\n",
        "print(f\"{y.min() = }\\n{y.max() = }\")"
      ]
    },
    {
      "cell_type": "markdown",
      "id": "h_b8_iP8Gxwp",
      "metadata": {
        "id": "h_b8_iP8Gxwp"
      },
      "source": [
        "Функция для визуализации классов/кластеров:"
      ]
    },
    {
      "cell_type": "code",
      "execution_count": null,
      "id": "smCGZUmBGujo",
      "metadata": {
        "id": "smCGZUmBGujo"
      },
      "outputs": [],
      "source": [
        "def plot_clusters(X, y=None):\n",
        "    plt.scatter(X[:, 0], X[:, 1], c=y, s=1)\n",
        "    plt.xlabel(\"$x_1$\", fontsize=14)\n",
        "    plt.ylabel(\"$x_2$\", fontsize=14, rotation=0)"
      ]
    },
    {
      "cell_type": "markdown",
      "id": "KfLNhQCLG36U",
      "metadata": {
        "id": "KfLNhQCLG36U"
      },
      "source": [
        "Визуализируем сгенерированные классы:"
      ]
    },
    {
      "cell_type": "code",
      "execution_count": null,
      "id": "QSsxC1ocCChg",
      "metadata": {
        "colab": {
          "base_uri": "https://localhost:8080/",
          "height": 393
        },
        "id": "QSsxC1ocCChg",
        "outputId": "85137d98-c6be-48f3-eb30-c1d6639e1464"
      },
      "outputs": [],
      "source": [
        "plt.figure(figsize=(8, 4))\n",
        "plot_clusters(X, y)"
      ]
    },
    {
      "cell_type": "markdown",
      "id": "ZsjTRM69G8CP",
      "metadata": {
        "id": "ZsjTRM69G8CP"
      },
      "source": [
        "Если игнорировать метки, то останется массив неразмеченных данных `X`. Будем использовать его для задачи кластеризации."
      ]
    },
    {
      "cell_type": "code",
      "execution_count": null,
      "id": "3bfHG8IeCzSL",
      "metadata": {
        "colab": {
          "base_uri": "https://localhost:8080/",
          "height": 393
        },
        "id": "3bfHG8IeCzSL",
        "outputId": "8841dd4f-306b-4869-a668-c5246ea83c82"
      },
      "outputs": [],
      "source": [
        "plt.figure(figsize=(8, 4))\n",
        "plot_clusters(X)"
      ]
    },
    {
      "cell_type": "markdown",
      "id": "023688b1",
      "metadata": {
        "id": "023688b1"
      },
      "source": [
        "# K-means вручную"
      ]
    },
    {
      "cell_type": "markdown",
      "id": "IkdYNtjlLROZ",
      "metadata": {
        "id": "IkdYNtjlLROZ"
      },
      "source": [
        "![](https://github.com/ordevoir/Digital_Cathedra/blob/main/Data%20Analysis/clustering/images/distances.png?raw=1)"
      ]
    },
    {
      "cell_type": "code",
      "execution_count": null,
      "id": "zCe-90QIBPV-",
      "metadata": {
        "id": "zCe-90QIBPV-"
      },
      "outputs": [],
      "source": [
        "def euclid_distance(r1: np.ndarray, r2: np.ndarray):\n",
        "    \"\"\"Функция принимает два одномерых массива (вектора)\n",
        "    Возвращает евклидово расстояние между векторами\"\"\"\n",
        "    squares = (r1 - r2)**2\n",
        "    distance = np.sqrt(squares.sum())\n",
        "    return distance\n",
        "\n",
        "def l1(r1, r2):\n",
        "    \"\"\"Функция принимает два одномерых массива (вектора)\n",
        "    Возвращает расстояние городских кварталов между векторами\"\"\"\n",
        "    return abs(r1-r2).sum() / len(r1)\n",
        "\n",
        "\n",
        "def measure_distances(X, centroids, dist_function):\n",
        "    \"\"\"Функция принимает первым аргументом массив координат точек;\n",
        "    вторым аргументом массив координат центров кластеров (центроидов)\n",
        "    Возвращает массив расстояний до центров для каждой точки\"\"\"\n",
        "\n",
        "    k = len(centroids)      # число кластеров\n",
        "    n = len(X)              # число образцов\n",
        "\n",
        "    # создаем массив, который будет содержать расстояния до центроидов\n",
        "    distances = np.zeros((n, k))\n",
        "    for i in range(n):\n",
        "        # d будет содержать расстояния от точки до каждого из центроидов\n",
        "        d = np.zeros(k)\n",
        "        for j in range(k):\n",
        "            d[j] = dist_function(X[i], centroids[j])\n",
        "        distances[i] = d\n",
        "    return distances\n",
        "\n",
        "def correct_centroids(X, centroids, dist_function):\n",
        "    \"\"\"Функция принимает массив координат точек (образцов) и координаты\n",
        "    центроидов кластеров (центроидов)\n",
        "    Возвращает новые координаты центроидов \"\"\"\n",
        "    k = len(centroids)      # число кластеров\n",
        "    distances = measure_distances(X, centroids, dist_function)\n",
        "    instance_labels = distances.argmin(axis=1)      # метки образцов\n",
        "\n",
        "    for i in range(k):\n",
        "        X_i = X[instance_labels==i]\n",
        "\n",
        "        centroid = X_i.mean(axis=0)\n",
        "        # эта запись равносильна следующим трем строкам:\n",
        "        # centroid = np.zeros(2)\n",
        "        # centroid[0] = X_i[:, 0].mean()\n",
        "        # centroid[2] = X_i[:, 0].mean()\n",
        "        centroids[i] = centroid\n",
        "\n",
        "    return centroids"
      ]
    },
    {
      "cell_type": "markdown",
      "id": "c9575580",
      "metadata": {
        "id": "c9575580"
      },
      "source": [
        "Инициализация центроидов"
      ]
    },
    {
      "cell_type": "code",
      "execution_count": null,
      "id": "4c08298c",
      "metadata": {
        "colab": {
          "base_uri": "https://localhost:8080/"
        },
        "id": "4c08298c",
        "outputId": "9296334a-00c0-4c0a-e6ae-2b858754aa5f"
      },
      "outputs": [],
      "source": [
        "k = 5       # задаем число кластеров\n",
        "\n",
        "# создаем рандомные координаты центров:\n",
        "# np.random.seed(43)\n",
        "init_centroids = np.random.uniform(low=(-3, 1), high=(0, 3),\n",
        "                                   size=(k, 2))\n",
        "\n",
        "# либо выбираем случайным образом из образцов:\n",
        "# np.random.seed(40)\n",
        "# random_indices = np.random.choice(len(X), size=5, replace=False)\n",
        "# init_centroids = X[random_indices]\n",
        "\n",
        "centroids = init_centroids.copy()\n",
        "init_centroids"
      ]
    },
    {
      "cell_type": "code",
      "execution_count": null,
      "id": "cb4eba1d",
      "metadata": {
        "colab": {
          "base_uri": "https://localhost:8080/",
          "height": 393
        },
        "id": "cb4eba1d",
        "outputId": "0b69d829-e250-4180-f4f4-91d07e3b505c"
      },
      "outputs": [],
      "source": [
        "labels = np.argmin(measure_distances(X, centroids, euclid_distance), axis=1)\n",
        "\n",
        "plt.figure(figsize=(8, 4))\n",
        "plot_clusters(X, labels)\n",
        "plt.scatter(init_centroids[:, 0], init_centroids[:, 1], c='red', s=12)\n",
        "plt.scatter(centroids[:, 0], centroids[:, 1], c='orange', s=56)\n",
        "\n",
        "centroids = correct_centroids(X, centroids, euclid_distance)"
      ]
    },
    {
      "cell_type": "markdown",
      "id": "czk9mjzM1Efa",
      "metadata": {
        "id": "czk9mjzM1Efa"
      },
      "source": [
        "красные точки – исходные расположения центроидов, оранжевые точки – результирующее расположение центроидов."
      ]
    },
    {
      "cell_type": "markdown",
      "id": "ybOD1C-tBPWA",
      "metadata": {
        "id": "ybOD1C-tBPWA"
      },
      "source": [
        "# Класс [KMeans](https://scikit-learn.org/stable/modules/generated/sklearn.cluster.KMeans.html) из библиотеки Scikit-Learn\n",
        "\n",
        "Метод `fit()` производит подгонку центроидов, при котором они располагаются в оптимальных позициях. В параметре `n_clusters` задается число кластеров.\n",
        "\n",
        "После того, как подгонка произведена, можно спрогнозировать результаты для образцов методом `predict()`. \n",
        "\n",
        "Метод `fit_predict()` предоизводит подгонку центроидов и прогнозирование на тех же данных. Метод возвращает метки для образцов, соответствующие результату кластеризации. "
      ]
    },
    {
      "cell_type": "code",
      "execution_count": null,
      "id": "AUDyyOuBBPWA",
      "metadata": {
        "colab": {
          "base_uri": "https://localhost:8080/"
        },
        "id": "AUDyyOuBBPWA",
        "outputId": "ceb59e5f-9673-4b7f-893a-380fa5aa63b7"
      },
      "outputs": [],
      "source": [
        "from sklearn.cluster import KMeans\n",
        "\n",
        "k = 5\n",
        "kmeans = KMeans(n_clusters=k, n_init=5)\n",
        "kmeans.fit(X)\n",
        "y_pred = kmeans.predict(X)\n",
        "# y_pred = kmeans.fit_predict(X)\n",
        "print(f\"labels:\\n{y_pred[:20]}\")\n"
      ]
    },
    {
      "cell_type": "markdown",
      "id": "16277251",
      "metadata": {},
      "source": [
        "Объект класса `KMeans` сохраняет копию меток образцов, на которых происходило обучение, и они доступны в поле `labels_` объекта. Поле `cluster_centers_` содержит центры кластеров."
      ]
    },
    {
      "cell_type": "code",
      "execution_count": null,
      "id": "d5d62259",
      "metadata": {},
      "outputs": [],
      "source": [
        "kmeans.labels_"
      ]
    },
    {
      "cell_type": "code",
      "execution_count": null,
      "id": "8c5f004d",
      "metadata": {},
      "outputs": [],
      "source": [
        "kmeans.cluster_centers_"
      ]
    },
    {
      "cell_type": "markdown",
      "id": "7ca84cfe",
      "metadata": {
        "id": "7ca84cfe"
      },
      "source": [
        "Спрогнозировать метки для новых образцов можно при помощи метода `predict()`."
      ]
    },
    {
      "cell_type": "code",
      "execution_count": null,
      "id": "p0ZHajbYBPWB",
      "metadata": {
        "colab": {
          "base_uri": "https://localhost:8080/"
        },
        "id": "p0ZHajbYBPWB",
        "outputId": "5fa98bd4-fff3-473d-bd7d-5f1f324627a7"
      },
      "outputs": [],
      "source": [
        "X_new = np.array([[0, 2], [3, 2], [-3, 3], [-3, 2.5]])\n",
        "print(kmeans.predict(X_new))"
      ]
    },
    {
      "cell_type": "markdown",
      "id": "cd792ty1BPWB",
      "metadata": {
        "id": "cd792ty1BPWB"
      },
      "source": [
        "Нарисуем диаграму Вороного и центроиды:"
      ]
    },
    {
      "cell_type": "code",
      "execution_count": null,
      "id": "-RflexfyBPWB",
      "metadata": {
        "id": "-RflexfyBPWB"
      },
      "outputs": [],
      "source": [
        "def plot_data(X):\n",
        "    plt.scatter(X[:, 0], X[:, 1], c='#555', s=2)\n",
        "\n",
        "def plot_centroids(centroids, weights=None, circle_color='w', cross_color='k'):\n",
        "    if weights is not None:\n",
        "        centroids = centroids[weights > weights.max() / 10]\n",
        "    plt.scatter(centroids[:, 0], centroids[:, 1],\n",
        "                marker='o', s=35, linewidths=8,\n",
        "                color=circle_color, zorder=10, alpha=0.9)\n",
        "    plt.scatter(centroids[:, 0], centroids[:, 1],\n",
        "                marker='x', s=2, linewidths=12,\n",
        "                color=cross_color, zorder=11, alpha=1)\n",
        "\n",
        "def plot_decision_boundaries(clusterer, X, resolution=1000, show_centroids=True,\n",
        "                             show_xlabels=True, show_ylabels=True):\n",
        "    mins = X.min(axis=0) - 0.1\n",
        "    maxs = X.max(axis=0) + 0.1\n",
        "    xx, yy = np.meshgrid(np.linspace(mins[0], maxs[0], resolution),\n",
        "                         np.linspace(mins[1], maxs[1], resolution))\n",
        "    Z = clusterer.predict(np.c_[xx.ravel(), yy.ravel()])\n",
        "    Z = Z.reshape(xx.shape)\n",
        "\n",
        "    plt.contourf(Z, extent=(mins[0], maxs[0], mins[1], maxs[1]),\n",
        "                cmap=\"Pastel2\")\n",
        "    # plt.contour(Z, extent=(mins[0], maxs[0], mins[1], maxs[1]),\n",
        "    #             linewidths=1, colors='k')\n",
        "    plot_data(X)\n",
        "    if show_centroids:\n",
        "        plot_centroids(clusterer.cluster_centers_)\n",
        "\n",
        "    if show_xlabels:\n",
        "        plt.xlabel(\"$x_1$\", fontsize=14)\n",
        "    else:\n",
        "        plt.tick_params(labelbottom=False)\n",
        "    if show_ylabels:\n",
        "        plt.ylabel(\"$x_2$\", fontsize=14, rotation=0)\n",
        "    else:\n",
        "        plt.tick_params(labelleft=False)"
      ]
    },
    {
      "cell_type": "code",
      "execution_count": null,
      "id": "UG7775X-BPWB",
      "metadata": {
        "colab": {
          "base_uri": "https://localhost:8080/",
          "height": 393
        },
        "id": "UG7775X-BPWB",
        "outputId": "b57df77f-fdfa-41c8-8029-e06588f6e1c6"
      },
      "outputs": [],
      "source": [
        "plt.figure(figsize=(8, 4))\n",
        "plot_decision_boundaries(kmeans, X)\n",
        "plt.show()"
      ]
    },
    {
      "cell_type": "markdown",
      "id": "9a77768b",
      "metadata": {
        "id": "9a77768b"
      },
      "source": [
        "Результат неплохой, но некоторые образцы вблизи границ все же кластеризованы некорректно."
      ]
    },
    {
      "cell_type": "markdown",
      "id": "f9da7ade",
      "metadata": {
        "id": "f9da7ade"
      },
      "source": [
        "## Hard and Soft Clustering\n",
        "Если каждому образцу присваивается один кластер, то такой способ называется **жесткой кластеризацией** (*hard clustering*). Если же каждому образцу присваиватеся оценка по каждому кластеру, то это называется **мягкой кластеризацией** (*soft clustering*). Оценка может быть выражена расстоянием между образцом и центроидом. Методом `transform()` можно получить значения расстояний от этих образцов до центроидов. Это можно использовать кроме всего прочего как очень эффективный, нелинейны способ **снижения размерности** (*dimension reduction*): если бы у нас был многомерный датасет, такая трансформация свела бы его к $k$-мерному датасету."
      ]
    },
    {
      "cell_type": "code",
      "execution_count": null,
      "id": "ff5a47e6",
      "metadata": {
        "colab": {
          "base_uri": "https://localhost:8080/"
        },
        "id": "ff5a47e6",
        "outputId": "4c422980-a2db-409a-a5cb-9ec4f8aebd29"
      },
      "outputs": [],
      "source": [
        "kmeans.transform(X_new)"
      ]
    },
    {
      "cell_type": "markdown",
      "id": "eec2002c",
      "metadata": {
        "id": "eec2002c"
      },
      "source": [
        "## Инициализация центроидов\n",
        "Результат кластеризации зависит также от инициализации центроидов, и тут как повезет. Однако есть несколько способов снизить риск."
      ]
    },
    {
      "cell_type": "markdown",
      "id": "1a2b60e5",
      "metadata": {
        "id": "1a2b60e5"
      },
      "source": [
        "Вариант по умолчанию – запустить алгоритм несколько раз с различной инициализацией и сохранить лучшее решение. Именно за счет этого запуск модели класса KMeans дает обычно корректную кластеризацию, по сравнению с тем, что производилось вручную. Число случайных инициализайций контролируется гиперпараметром `n_init` (по умолчанию 10). Для того, чтобы выяснить, какое решение лучшее, используется метрика **инерция** (*inertia*), которая представляет собой сумму квадратов расстояний экземпляров до своих центроидов. В поле `inertia_` доступно итоговое (минимальное) значение этой метрики:"
      ]
    },
    {
      "cell_type": "code",
      "execution_count": null,
      "id": "dc8c4090",
      "metadata": {
        "colab": {
          "base_uri": "https://localhost:8080/"
        },
        "id": "dc8c4090",
        "outputId": "5c75e36b-5e66-4e5b-b095-0c6184536898"
      },
      "outputs": [],
      "source": [
        "print(kmeans.inertia_)\n",
        "(kmeans.transform(X).min(axis=1) ** 2).sum()"
      ]
    },
    {
      "cell_type": "markdown",
      "id": "3fe7052a",
      "metadata": {
        "id": "3fe7052a"
      },
      "source": [
        "Метод `score()` возвращает отрицательное значение инерции. Это связано с тем, что метод `score()` предиктора должен всегда соответствовать правилу \"больше - значит лучше\": если предиктор лучше другого предиктора, то метода `score()` должен возвращать бóαльшую оценку:"
      ]
    },
    {
      "cell_type": "code",
      "execution_count": null,
      "id": "f34de443",
      "metadata": {
        "colab": {
          "base_uri": "https://localhost:8080/"
        },
        "id": "f34de443",
        "outputId": "66ae68de-2b0e-4a0f-9461-a692bb5c333b"
      },
      "outputs": [],
      "source": [
        "kmeans.score(X)"
      ]
    },
    {
      "cell_type": "markdown",
      "id": "3bc5d146",
      "metadata": {
        "id": "3bc5d146"
      },
      "source": [
        "Если заранее известно, где примерно центроиды должны быть (например, из результатов другого алгоритма кластеризации), то можно задать эти центроиды в гиперпараметре `init`, установив при этом значение еще `n_init=1`:"
      ]
    },
    {
      "cell_type": "code",
      "execution_count": null,
      "id": "2e580845",
      "metadata": {
        "colab": {
          "base_uri": "https://localhost:8080/",
          "height": 161
        },
        "id": "2e580845",
        "outputId": "20d06852-0a0c-4db7-a973-ec978a051656"
      },
      "outputs": [],
      "source": [
        "good_init = np.array([[-3, 3], [-3, 2], [-3, 1], [-1, 2], [0, 2]])\n",
        "kmeans = KMeans(n_clusters=5, init=good_init, n_init=1)\n",
        "kmeans.fit(X)"
      ]
    },
    {
      "cell_type": "markdown",
      "id": "355a6f6d",
      "metadata": {
        "id": "355a6f6d"
      },
      "source": [
        "Алгоритм **K-Means++** предполагает умную инициализацию, которая склонна выбирать центроиды расположенные далеко друг от друга, что делает менее вероятным схождение к субоптимальным решением. Дополнительные вычисления, которые требуются для этого существенно снижают число запусков алгоритма, которые требуются для нахождения оптимального решения. Этот метод инициализации используется по умолчанию в классе `KMeans`. Если нужно инициировать центроиды выбирая $k$ случайных образцов, следует задать `init=\"random\"`."
      ]
    },
    {
      "cell_type": "markdown",
      "id": "478915b6",
      "metadata": {
        "id": "478915b6"
      },
      "source": [
        "## Mini-batch K-Means\n",
        "Вместо того, чтобы использовать весь набора данных на каждой итерации, алгоритм способен использовать **мини-партии** (*mini-batches*), перемещая слегка центроиды на каждой итерации. Это обычно в несколько раз ускоряет алгоритм и позволяет кластеризовать огромные датасеты, которые не вмещаютя в память. Такой алгоритм реализован в классе `MiniBatchKMeans`.\n",
        "\n",
        "Хотя Mini-batch K-means быстрее, чем обычный алгоритм K-Means, его инерция в целом несколько хуже, особенно с ростом числа кластеров."
      ]
    },
    {
      "cell_type": "code",
      "execution_count": null,
      "id": "2dd421c2",
      "metadata": {
        "colab": {
          "base_uri": "https://localhost:8080/"
        },
        "id": "2dd421c2",
        "outputId": "b2b7ebc4-1661-4462-f081-9a5f773f5a3f"
      },
      "outputs": [],
      "source": [
        "from sklearn.cluster import MiniBatchKMeans\n",
        "\n",
        "minibatch_kmeans= MiniBatchKMeans(n_clusters=5, n_init=3)\n",
        "minibatch_kmeans.fit(X)\n",
        "minibatch_kmeans.inertia_"
      ]
    },
    {
      "cell_type": "markdown",
      "id": "c5be46af",
      "metadata": {
        "id": "c5be46af"
      },
      "source": [
        "## Поиск оптимального числа кластеров\n",
        "В общем случае не так просто выяснить корректное число кластеров. Неудачный выбор числа кластеров может привести к плохому результату. Можно было бы подумать, что следует выбрать такое $k$, при котором достигается наименьшее значение инерции, но это не очень хорошая метрика, так как инерция обычно уменьшается с ростом числа кластеров."
      ]
    },
    {
      "cell_type": "code",
      "execution_count": null,
      "id": "960d2d1f",
      "metadata": {
        "colab": {
          "base_uri": "https://localhost:8080/",
          "height": 74
        },
        "id": "960d2d1f",
        "outputId": "5901c19f-8096-4847-d7f2-7e6dc9adbd1f"
      },
      "outputs": [],
      "source": [
        "kmeans_k3 = KMeans(n_clusters=3, random_state=42, n_init=3)\n",
        "kmeans_k8 = KMeans(n_clusters=8, random_state=42, n_init=3)\n",
        "kmeans_k3.fit(X)\n",
        "kmeans_k8.fit(X)"
      ]
    },
    {
      "cell_type": "code",
      "execution_count": null,
      "id": "7eaccf75",
      "metadata": {
        "colab": {
          "base_uri": "https://localhost:8080/",
          "height": 198
        },
        "id": "7eaccf75",
        "outputId": "767cb6a2-fc59-4b9b-ceb6-b471bf7f63d9"
      },
      "outputs": [],
      "source": [
        "plt.figure(figsize=(16, 4))\n",
        "plt.subplot(121)\n",
        "plot_decision_boundaries(kmeans_k3, X, show_xlabels=False, show_ylabels=False)\n",
        "plt.subplot(122)\n",
        "plot_decision_boundaries(kmeans_k8, X, show_xlabels=False, show_ylabels=False)\n",
        "plt.tight_layout()"
      ]
    },
    {
      "cell_type": "code",
      "execution_count": null,
      "id": "b37d1bd1",
      "metadata": {
        "colab": {
          "base_uri": "https://localhost:8080/"
        },
        "id": "b37d1bd1",
        "outputId": "4c609ba2-0d96-4f87-a4e9-907d53021096"
      },
      "outputs": [],
      "source": [
        "# инерция при трех различных значениях k\n",
        "print(kmeans_k3.inertia_)\n",
        "print(kmeans.inertia_)          # k = 5\n",
        "print(kmeans_k8.inertia_)"
      ]
    },
    {
      "cell_type": "markdown",
      "id": "fbeab6f6",
      "metadata": {
        "id": "fbeab6f6"
      },
      "source": [
        "## Зависимость инерции от числа кластеров"
      ]
    },
    {
      "cell_type": "code",
      "execution_count": null,
      "id": "5d44635f",
      "metadata": {
        "id": "5d44635f"
      },
      "outputs": [],
      "source": [
        "kmeans_per_k = [KMeans(n_clusters=k, random_state=41, n_init=3).fit(X)\n",
        "                for k in range(1, 10)]\n",
        "inertias = [model.inertia_ for model in kmeans_per_k]"
      ]
    },
    {
      "cell_type": "code",
      "execution_count": null,
      "id": "98cb3f3b",
      "metadata": {
        "colab": {
          "base_uri": "https://localhost:8080/",
          "height": 393
        },
        "id": "98cb3f3b",
        "outputId": "0f39332a-79ea-49e2-a6ae-998ec11324f2"
      },
      "outputs": [],
      "source": [
        "plt.figure(figsize=(8, 4))\n",
        "plt.plot(range(1, 10), inertias, \"bo-\")\n",
        "plt.xlabel(\"$k$\", fontsize=14)\n",
        "plt.ylabel(\"inertia\", fontsize=14)\n",
        "plt.annotate('Elbow',\n",
        "             xy=(4, inertias[3]),\n",
        "             xytext=(0.5, 0.5),\n",
        "             textcoords='figure fraction',\n",
        "             fontsize=16,\n",
        "             arrowprops=dict(facecolor='black', shrink=0.1),\n",
        "             )\n",
        "plt.show()"
      ]
    },
    {
      "cell_type": "markdown",
      "id": "f7769489",
      "metadata": {
        "id": "f7769489"
      },
      "source": [
        "Глядя на график зависимости инерции от числа кластеров можно заметить, что инерция сначала быстро убывает, пока $k$ растет до 4, но затем это убывание становится существенно медленне с ростом $k$. Кривая отдаленно напоминает форму руки, где локоть (*elbow*) распологается около $k = 4$. Такая точка обычно является хорошим выбором при поиске оптимального значения $k$, ведь левее этой отметки инерция очень высокая, а правее она не очень то и убывает. Конечно, такой метод не гарантирует, что будет выбрано самое оптимальное значение $k$ (мы знаем, что в данном примере оптимальным значением является 5), но все же получаемое значение будет хорошим. Посмотрим на результат кластеризации при $k=4$ и убедимся, что разбиение точек весьма удачное."
      ]
    },
    {
      "cell_type": "code",
      "execution_count": null,
      "id": "c0f450e6",
      "metadata": {
        "colab": {
          "base_uri": "https://localhost:8080/",
          "height": 406
        },
        "id": "c0f450e6",
        "outputId": "a48acab1-0c4d-486d-aa52-52e28bae5084"
      },
      "outputs": [],
      "source": [
        "kmeans_k4 = KMeans(n_clusters=4, random_state=42)\n",
        "kmeans_k4.fit(X)\n",
        "plt.figure(figsize=(8, 4))\n",
        "plot_decision_boundaries(kmeans_k4, X, show_xlabels=False, show_ylabels=False)"
      ]
    },
    {
      "cell_type": "markdown",
      "id": "dd73d487",
      "metadata": {
        "id": "dd73d487"
      },
      "source": [
        "## Ограничения K-Means\n",
        "Недостатками K-Means являются необходимость запускать алгоритм несколько раз во избежание субоптимальных решений, необходимость задавать число кластеров (что может быть довольно хлопотно). Более того K-Means не ведет себя очень хорошо, когда кластеры имеют различные размеры, различную плотность и имеют несферическую форму.\n",
        "\n",
        "Создадим данные, содержащие кластеры несферической формы и разные плотноности, чтобы испытать на них алгоритм K-Means."
      ]
    },
    {
      "cell_type": "code",
      "execution_count": null,
      "id": "06o6ERUXBPWJ",
      "metadata": {
        "colab": {
          "base_uri": "https://localhost:8080/",
          "height": 454
        },
        "id": "06o6ERUXBPWJ",
        "outputId": "7f74df43-24eb-413d-af70-f922ba6f420b"
      },
      "outputs": [],
      "source": [
        "X1, y1 = make_blobs(n_samples=1000, centers=((4, -4), (0, 0)), random_state=42)\n",
        "X1 = X1.dot(np.array([[0.374, 0.95], [0.732, 0.598]]))\n",
        "X2, y2 = make_blobs(n_samples=250, centers=1, random_state=42)\n",
        "X2 = X2 + [6, -8]\n",
        "X = np.r_[X1, X2]   # канкатенация X1 и X2\n",
        "y = np.r_[y1, y2]   # канкатенация y1 и y2\n",
        "\n",
        "plot_clusters(X)"
      ]
    },
    {
      "cell_type": "code",
      "execution_count": null,
      "id": "ef76f63d",
      "metadata": {
        "colab": {
          "base_uri": "https://localhost:8080/",
          "height": 131
        },
        "id": "ef76f63d",
        "outputId": "d1578ebe-a383-48b1-8e9c-43ff6cd49733"
      },
      "outputs": [],
      "source": [
        "kmeans_good = KMeans(n_clusters=3, n_init=1, random_state=42,\n",
        "                     init=np.array([[-1.5, 2.5], [0.5, 0], [4, 0]])\n",
        "                     )\n",
        "kmeans_bad = KMeans(n_clusters=3, random_state=42, n_init=5)\n",
        "kmeans_good.fit(X)\n",
        "kmeans_bad.fit(X)"
      ]
    },
    {
      "cell_type": "code",
      "execution_count": null,
      "id": "79BSjWl3BPWK",
      "metadata": {
        "colab": {
          "base_uri": "https://localhost:8080/",
          "height": 314
        },
        "id": "79BSjWl3BPWK",
        "outputId": "f8d5f814-4d74-4d6e-efde-92e6da964c82"
      },
      "outputs": [],
      "source": [
        "plt.figure(figsize=(10, 3.2))\n",
        "\n",
        "plt.subplot(121)\n",
        "plot_decision_boundaries(kmeans_good, X)\n",
        "plt.title(f\"Inertia = {kmeans_good.inertia_:.1f}\", fontsize=14)\n",
        "\n",
        "plt.subplot(122)\n",
        "plot_decision_boundaries(kmeans_bad, X, show_ylabels=False)\n",
        "plt.title(f\"Inertia = {kmeans_bad.inertia_:.1f}\", fontsize=14)\n",
        "\n",
        "plt.show()"
      ]
    },
    {
      "cell_type": "markdown",
      "id": "3a9a74fb",
      "metadata": {
        "id": "3a9a74fb"
      },
      "source": [
        "Как можно видеть ни одно из решений не является хорошим. Решение на левой картинке лучше, но все же 25% точек кластера, расположенного посередине, были отнесены к кластеру, расположенному справа. Решение на правой картинке и вовсе никуда не годится, хотя значение инерции при этом лучше.\n",
        "\n",
        "Важно предварительно масштабировать признаки перед запуском K-Means, иначе кластеры могут быть очень растянуты и K-Means будет даст плохой результат. Масштабирование признаков не гарантирует, что все кластеры будут хорошими и сферическими, но обычно это улучшает дело.\n",
        "\n",
        "На такого рода эллиптических кластерах [Gaussian mixture models](https://scikit-learn.org/stable/modules/generated/sklearn.mixture.GaussianMixture.html#sklearn.mixture.GaussianMixture) работает прекрасно:"
      ]
    },
    {
      "cell_type": "code",
      "execution_count": null,
      "id": "7enbgYO51Efk",
      "metadata": {
        "colab": {
          "base_uri": "https://localhost:8080/",
          "height": 448
        },
        "id": "7enbgYO51Efk",
        "outputId": "7488ce1d-c9fb-44e0-dd5b-5d0568a59913"
      },
      "outputs": [],
      "source": [
        "from sklearn.mixture import GaussianMixture\n",
        "\n",
        "gaussian = GaussianMixture(n_components=3, n_init=10)\n",
        "pred = gaussian.fit_predict(X)\n",
        "plt.scatter(X[:, 0], X[:, 1], c=pred)"
      ]
    },
    {
      "cell_type": "markdown",
      "id": "2ADaMQtW3wiE",
      "metadata": {
        "id": "2ADaMQtW3wiE"
      },
      "source": [
        "# Скачивание файла"
      ]
    },
    {
      "cell_type": "markdown",
      "id": "WtWbE5bb3g5-",
      "metadata": {
        "id": "WtWbE5bb3g5-"
      },
      "source": [
        "## `requests`\n",
        "\n",
        "Один из сопособов – воспользоваться модулем `requests`. Функция `get()` возвращает объект класса `Response`. Поле `status_code` содержит статус ответа, а поле `content` – содержимое ответа в байтовом представлении (объект `bytes`).\n",
        "\n",
        "Приведенная функция `download()` по умолчанию загружает файл в рабочий каталог, но также можно задать путь (абсолютный или относительный)."
      ]
    },
    {
      "cell_type": "code",
      "execution_count": null,
      "id": "8hRwLqTr3mMU",
      "metadata": {
        "id": "8hRwLqTr3mMU"
      },
      "outputs": [],
      "source": [
        "import requests\n",
        "from os import mkdir\n",
        "from os.path import basename, isdir\n",
        "\n",
        "def download(url, location='.'):\n",
        "    response = requests.get(url)\n",
        "    if response.status_code != 200:\n",
        "        raise IOError(f\"response statis code is {response.status_code}\")\n",
        "\n",
        "    if not isdir(location):\n",
        "        mkdir(location)\n",
        "\n",
        "    path = location + '/' + basename(url)\n",
        "    with open(path, \"wb\") as file:\n",
        "        file.write(response.content)\n",
        "\n",
        "    print(f'The file is successfully downloaded with path: \\n{path}')"
      ]
    },
    {
      "cell_type": "code",
      "execution_count": null,
      "id": "p9VEq1TL4WPY",
      "metadata": {
        "id": "p9VEq1TL4WPY"
      },
      "outputs": [],
      "source": [
        "url1 = \"https://raw.githubusercontent.com/ordevoir/Data_Analysis/main/datasets/example.jpg\"\n",
        "url2 = \"https://raw.githubusercontent.com/ordevoir/Data_Analysis/main/datasets/field_2.jpg\""
      ]
    },
    {
      "cell_type": "code",
      "execution_count": null,
      "id": "CoaBdx5P3oSM",
      "metadata": {
        "colab": {
          "base_uri": "https://localhost:8080/"
        },
        "id": "CoaBdx5P3oSM",
        "outputId": "49ae713f-736e-4428-8509-ba29bc32471a"
      },
      "outputs": [],
      "source": [
        "download(url1, \"images\")\n",
        "download(url2, \"images\")"
      ]
    },
    {
      "cell_type": "markdown",
      "id": "n3aBSYIP3V_f",
      "metadata": {
        "id": "n3aBSYIP3V_f"
      },
      "source": [
        "## `urlretrieve()`\n",
        "\n",
        "Другой сопосб – использование функции `urlretrieve()` из модуля `urllib.request`. Функция `urlretrieve` копирует объект на диск. Первый аргумент – **url** объекта. Если второй аргумент (`filename`) не задан, то объект будет сохранен во временных файлах. Можно задать `filename`, и тогда объект будет сохранен в соответствующем месте с соответствующим именем. Функция `urlretrieve` возвращает кортеж `(filename, headers)` – имя файла и заголовки запроса.\n",
        "\n",
        "Важное отличие следующей функции `download()` от предыдущей в том, что здесь файл не будет перезаписан, если он уже существует."
      ]
    },
    {
      "cell_type": "code",
      "execution_count": null,
      "id": "YGuxjqYL2IUB",
      "metadata": {
        "id": "YGuxjqYL2IUB"
      },
      "outputs": [],
      "source": [
        "from os.path import basename, exists\n",
        "from urllib.request import urlretrieve\n",
        "\n",
        "def download(url, location='.'):\n",
        "    path = location + '/' + basename(url)\n",
        "\n",
        "    if not isdir(location):\n",
        "        mkdir(location)\n",
        "        \n",
        "    if not exists(path):\n",
        "        local_filename, headers = urlretrieve(url, path)\n",
        "        print('Downloaded ' + path)\n",
        "    else:\n",
        "        print('file ' + path + ' already exists')"
      ]
    },
    {
      "cell_type": "code",
      "execution_count": null,
      "id": "8tOevTlz2U3Y",
      "metadata": {
        "colab": {
          "base_uri": "https://localhost:8080/"
        },
        "id": "8tOevTlz2U3Y",
        "outputId": "65386419-47bf-41e9-b8b0-a2e3898610b5"
      },
      "outputs": [],
      "source": [
        "download(url1, \"asdf\")\n",
        "download(url2)"
      ]
    },
    {
      "cell_type": "markdown",
      "id": "aHhtldCD41Pp",
      "metadata": {
        "id": "aHhtldCD41Pp"
      },
      "source": [
        "# Использование кластеризации для сегментации изображения\n",
        "**Сегментация изображения** (*image segmentation*) это задача разбиения изображения на множество сегментов. При **семантической сегментации** все пиксели относящиеся к одному и тому же объекту назначаются одному сегменту. Произведем **цветовую сегментацию** (*color segmentation*): будем назначать пиксели одному сегменту, если они имеют похожие цвета. В некоторых приложениях это может быть полезным. Например, если вы хотите анализировать спутниковые снимки и измерять, как много лесистой площади в регионе, цветовая сегментация может пригодиться.\n",
        "\n",
        "Первым делом воспользуемся функцией `imread()` из библиотеки Matplotlib для загрузки изображения. Функция вернет трехмерный массив Numpy, который содержит значения цветовых каналов (RGB) пикселей картинки."
      ]
    },
    {
      "cell_type": "code",
      "execution_count": null,
      "id": "EHjC97lL11wA",
      "metadata": {
        "colab": {
          "base_uri": "https://localhost:8080/",
          "height": 461
        },
        "id": "EHjC97lL11wA",
        "outputId": "c99b0f33-20d9-4a22-eeb1-ba70d8766282"
      },
      "outputs": [],
      "source": [
        "from matplotlib.image import imread\n",
        "\n",
        "image = imread(\"example.jpg\")\n",
        "# image = imread(\"field_2.jpg\")\n",
        "\n",
        "print(type(image))\n",
        "print(image.shape)          # (высота, ширина, количество каналов)\n",
        "image.min(), image.max()    # минимальное и максимльное значения"
      ]
    },
    {
      "cell_type": "code",
      "execution_count": null,
      "id": "cfe1d52c",
      "metadata": {},
      "outputs": [],
      "source": [
        "plt.imshow(image)\n",
        "plt.axis('off')"
      ]
    },
    {
      "cell_type": "code",
      "execution_count": null,
      "id": "iXycPwo4BPWK",
      "metadata": {
        "colab": {
          "base_uri": "https://localhost:8080/",
          "height": 407
        },
        "id": "iXycPwo4BPWK",
        "outputId": "daa5252c-c62d-4603-d904-c164fc09c1a7"
      },
      "outputs": [],
      "source": [
        "from sklearn.cluster import KMeans\n",
        "# reshape для того, чтобы линеаризировать матрицу пикселей\n",
        "k = 4\n",
        "X = image.reshape(-1, 3)\n",
        "print(X.shape)\n",
        "kmeans = KMeans(n_clusters=k, n_init=3).fit(X)   # разбиваем точки на класстеры\n",
        "print(kmeans.cluster_centers_)\n",
        "\n",
        "# формируем матрицу, соответствующую форме матрицы X:\n",
        "segmentedImg = kmeans.cluster_centers_[kmeans.labels_]\n",
        "# reshape, чтобы представить точки обратно в двухмерном виде\n",
        "segmentedImg = segmentedImg.reshape(image.shape)\n",
        "\n",
        "# нарисуем результат\n",
        "segmentedImg = segmentedImg / 255\n",
        "\n",
        "plt.figure(figsize=(12, 6))\n",
        "plt.subplots_adjust(wspace=0.03)\n",
        "\n",
        "plt.subplot(121)\n",
        "plt.imshow(image, interpolation='none')\n",
        "plt.axis('off')\n",
        "\n",
        "plt.subplot(122)\n",
        "plt.imshow(segmentedImg, interpolation='none')\n",
        "plt.axis('off')\n",
        "plt.show()"
      ]
    },
    {
      "cell_type": "markdown",
      "id": "uPorlRUABPWK",
      "metadata": {
        "id": "uPorlRUABPWK"
      },
      "source": [
        "# DBSCAN\n",
        "Алгоритм кластеризации DBSCAN (Density-Based Spatial Clustering of Applications with Noise) основан на оценке локальной плотности и работет по следующему принципу:\n",
        "- Для каждого образца алгоритм подсчитывает число образцов, находящихся в его окрестности (*neighborhood*) на расстоянии, не превыщающем некоторого значения $\\varepsilon$ (это называется $\\varepsilon$-окрестностью).\n",
        "- Если образец содержит в своей $\\varepsilon$-окрестности не менее `min_samples` образцов, то такой образец считается **центральным** (*core instance*). Другими словами, центральным является такой образец, который расположен в плотной области.\n",
        "- Все образцы в окрестности центрального образца принадлежат одному кластеру. Такая окрестность может содержать и другие центральные образцы, так что длинная последовательность соседствующих центральных образцов формируют один кластер.\n",
        "- Всякий образец, который не является центральным и не содержит в своей $\\varepsilon$-окрестности ни одного центрального образца, считается аномалией.\n",
        "\n",
        "Алгоритм работает хорошо, если все кластеры достаточно плотные и хорошо разделены областями низкой плотности."
      ]
    },
    {
      "cell_type": "code",
      "execution_count": null,
      "id": "3300a11d",
      "metadata": {
        "colab": {
          "base_uri": "https://localhost:8080/",
          "height": 368
        },
        "id": "3300a11d",
        "outputId": "dbcd36e8-76b9-4f6f-97bc-bf6613e4e067"
      },
      "outputs": [],
      "source": [
        "from sklearn.datasets import make_moons\n",
        "\n",
        "X, y = make_moons(n_samples=1000, noise=0.05)\n",
        "plt.figure(figsize=(8, 4))\n",
        "plot_data(X)"
      ]
    },
    {
      "cell_type": "markdown",
      "id": "82647d49",
      "metadata": {
        "id": "82647d49"
      },
      "source": [
        "Вот как справляется с такими данными алгоритм K-Means:"
      ]
    },
    {
      "cell_type": "code",
      "execution_count": null,
      "id": "c3f441c5",
      "metadata": {
        "colab": {
          "base_uri": "https://localhost:8080/",
          "height": 406
        },
        "id": "c3f441c5",
        "outputId": "5751625c-f89a-416e-aaea-acb401e638e0"
      },
      "outputs": [],
      "source": [
        "kmeans_k2 = KMeans(n_clusters=2, random_state=42)\n",
        "kmeans_k2.fit(X)\n",
        "plt.figure(figsize=(8, 4))\n",
        "plot_decision_boundaries(kmeans_k2, X, show_xlabels=False, show_ylabels=False)"
      ]
    },
    {
      "cell_type": "code",
      "execution_count": null,
      "id": "lEW6WHVWBPWL",
      "metadata": {
        "colab": {
          "base_uri": "https://localhost:8080/",
          "height": 74
        },
        "id": "lEW6WHVWBPWL",
        "outputId": "da4ad7fe-2cd4-4394-c98a-93477b9a50b8"
      },
      "outputs": [],
      "source": [
        "from sklearn.cluster import DBSCAN\n",
        "\n",
        "dbscan = DBSCAN(eps=0.05, min_samples=5)\n",
        "dbscan.fit(X)"
      ]
    },
    {
      "cell_type": "markdown",
      "id": "bbf2a228",
      "metadata": {
        "id": "bbf2a228"
      },
      "source": [
        "Метки (кластерные индексы) для всех образцов доступны в поле `labels_`. Некоторые образцы имеют кластерный индекс -1. Такие метки соответствуют аномалиям. Индексы центральных образцов доступны вполе `core_sample_indices_`, а сами образцы доступны в поле `components_`."
      ]
    },
    {
      "cell_type": "code",
      "execution_count": null,
      "id": "212064ce",
      "metadata": {
        "colab": {
          "base_uri": "https://localhost:8080/"
        },
        "id": "212064ce",
        "outputId": "207c1bed-6d27-4eb4-c684-92caa05b7822"
      },
      "outputs": [],
      "source": [
        "dbscan.labels_[:12]"
      ]
    },
    {
      "cell_type": "code",
      "execution_count": null,
      "id": "kuPy6RUTBPWL",
      "metadata": {
        "colab": {
          "base_uri": "https://localhost:8080/"
        },
        "id": "kuPy6RUTBPWL",
        "outputId": "0aefdcb6-ddef-418e-f6fe-f39c01c3c4c8"
      },
      "outputs": [],
      "source": [
        "print(dbscan.core_sample_indices_[:20])\n",
        "len(dbscan.core_sample_indices_)"
      ]
    },
    {
      "cell_type": "code",
      "execution_count": null,
      "id": "8ed6fa5b",
      "metadata": {
        "colab": {
          "base_uri": "https://localhost:8080/"
        },
        "id": "8ed6fa5b",
        "outputId": "7dcd81d9-f516-4b94-b922-b27120cad7fd"
      },
      "outputs": [],
      "source": [
        "dbscan.components_[:5]"
      ]
    },
    {
      "cell_type": "code",
      "execution_count": null,
      "id": "9560bf57",
      "metadata": {
        "id": "9560bf57"
      },
      "outputs": [],
      "source": [
        "def plot_dbscan(dbscan, X, size, show_xlabels=True, show_ylabels=True):\n",
        "    core_mask = np.zeros_like(dbscan.labels_, dtype=bool)\n",
        "    core_mask[dbscan.core_sample_indices_] = True\n",
        "    anomalies_mask = dbscan.labels_ == -1\n",
        "    non_core_mask = ~(core_mask | anomalies_mask)\n",
        "\n",
        "    cores = dbscan.components_\n",
        "    anomalies = X[anomalies_mask]\n",
        "    non_cores = X[non_core_mask]\n",
        "\n",
        "    plt.scatter(cores[:, 0], cores[:, 1],\n",
        "                c=dbscan.labels_[core_mask], marker='o', s=size, cmap=\"Paired\")\n",
        "    plt.scatter(cores[:, 0], cores[:, 1], marker='*', s=20, c=dbscan.labels_[core_mask])\n",
        "    plt.scatter(anomalies[:, 0], anomalies[:, 1],\n",
        "                c=\"r\", marker=\"x\", s=100)\n",
        "    plt.scatter(non_cores[:, 0], non_cores[:, 1], c=dbscan.labels_[non_core_mask], marker=\".\")\n",
        "    if show_xlabels:\n",
        "        plt.xlabel(\"$x_1$\", fontsize=14)\n",
        "    else:\n",
        "        plt.tick_params(labelbottom=False)\n",
        "    if show_ylabels:\n",
        "        plt.ylabel(\"$x_2$\", fontsize=14, rotation=0)\n",
        "    else:\n",
        "        plt.tick_params(labelleft=False)\n",
        "    plt.title(\"eps={:.2f}, min_samples={}\".format(dbscan.eps, dbscan.min_samples), fontsize=14)"
      ]
    },
    {
      "cell_type": "code",
      "execution_count": null,
      "id": "9827484f",
      "metadata": {
        "colab": {
          "base_uri": "https://localhost:8080/",
          "height": 368
        },
        "id": "9827484f",
        "outputId": "985bbc90-ccfd-4519-ed8d-8557691e90f1"
      },
      "outputs": [],
      "source": [
        "plt.figure(figsize=(8, 4))\n",
        "plt.axis(False)\n",
        "plot_dbscan(dbscan, X, 100)"
      ]
    },
    {
      "cell_type": "code",
      "execution_count": null,
      "id": "6ca71773",
      "metadata": {
        "colab": {
          "base_uri": "https://localhost:8080/",
          "height": 74
        },
        "id": "6ca71773",
        "outputId": "f15b07d9-8ea4-4340-a5fe-dff37d0d4447"
      },
      "outputs": [],
      "source": [
        "dbscan2 = DBSCAN(eps=0.2)\n",
        "dbscan2.fit(X)"
      ]
    },
    {
      "cell_type": "code",
      "execution_count": null,
      "id": "eb17e249",
      "metadata": {
        "colab": {
          "base_uri": "https://localhost:8080/",
          "height": 368
        },
        "id": "eb17e249",
        "outputId": "6615ac89-9137-4a26-b2ce-bb83f5fce92f"
      },
      "outputs": [],
      "source": [
        "plt.figure(figsize=(8, 4))\n",
        "plt.axis(False)\n",
        "plot_dbscan(dbscan2, X, 100)"
      ]
    },
    {
      "cell_type": "code",
      "execution_count": null,
      "id": "d53d3609",
      "metadata": {
        "id": "d53d3609"
      },
      "outputs": [],
      "source": []
    }
  ],
  "metadata": {
    "colab": {
      "include_colab_link": true,
      "provenance": [],
      "toc_visible": true
    },
    "interpreter": {
      "hash": "f6c01aa93c43a6d3e51d18c124199899f1fa475bbcdc8a6b2a2ec13f01fabf3c"
    },
    "kernelspec": {
      "display_name": "Python 3.8.5 64-bit ('tf': conda)",
      "name": "python3"
    },
    "language_info": {
      "codemirror_mode": {
        "name": "ipython",
        "version": 3
      },
      "file_extension": ".py",
      "mimetype": "text/x-python",
      "name": "python",
      "nbconvert_exporter": "python",
      "pygments_lexer": "ipython3",
      "version": "3.10.10"
    }
  },
  "nbformat": 4,
  "nbformat_minor": 5
}
