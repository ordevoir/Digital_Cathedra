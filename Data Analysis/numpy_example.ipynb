{
 "cells": [
  {
   "cell_type": "markdown",
   "metadata": {
    "colab_type": "text",
    "id": "view-in-github"
   },
   "source": [
    "<a href=\"https://colab.research.google.com/github/ordevoir/Data_Analysis/blob/main/numpy_example.ipynb\" target=\"_parent\"><img src=\"https://colab.research.google.com/assets/colab-badge.svg\" alt=\"Open In Colab\"/></a>"
   ]
  },
  {
   "cell_type": "markdown",
   "metadata": {
    "id": "bO0RoNinInG1"
   },
   "source": [
    "# [NumPy](https://numpy.org/)\n",
    "NumPy (Numerical Python) - это библиотека для языка программирования Python, предназначенная для работы с массивами данных и выполнения математических операций над ними.\n",
    "\n",
    "NumPy предоставляет множество функций для выполнения операций линейной алгебры, обработки сигналов, обработки изображений и других вычислительных задач, которые требуют работу с массивами данных. Библиотека NumPy является основой для многих других библиотек, используемых в научных вычислениях и анализе данных, таких как [Pandas](https://pandas.pydata.org/docs/user_guide/10min.html), [SciPy](https://docs.scipy.org/doc/scipy/tutorial/index.html) и [Scikit-Learn](https://scikit-learn.org/stable/).\n",
    "\n",
    "Одним из главных преимуществ NumPy является возможность выполнения вычислений над массивами данных с высокой производительностью. NumPy использует оптимизированные алгоритмы, написанные на языке программирования C, что позволяет ему обрабатывать большие объемы данных с высокой скоростью.\n",
    "\n",
    "В NumPy определен многомерный массив (ndarray), который является основным объектом библиотеки. Этот объект представляет собой таблицу элементов (чисел), все из которых должны иметь одинаковый тип. NumPy также предоставляет функции для создания и манипулирования массивами данных, включая срезы (*slicing*), индексацию и изменение формы массивов. Подробности в [документации](https://numpy.org/doc/stable/).\n",
    "\n",
    "Установить библиотеку NumPy в Python можно выполнив в терминале\n",
    "\n",
    "`pip install numpy`"
   ]
  },
  {
   "cell_type": "code",
   "execution_count": null,
   "metadata": {
    "id": "xZjL5IusInG2"
   },
   "outputs": [],
   "source": [
    "import numpy as np"
   ]
  },
  {
   "cell_type": "markdown",
   "metadata": {
    "id": "g9ytDH6iInG4"
   },
   "source": [
    "# Создание массивов"
   ]
  },
  {
   "cell_type": "markdown",
   "metadata": {
    "id": "NWApKdG1H78h"
   },
   "source": [
    "## Массивы из списков"
   ]
  },
  {
   "cell_type": "code",
   "execution_count": null,
   "metadata": {
    "colab": {
     "base_uri": "https://localhost:8080/"
    },
    "id": "atznN9REInG4",
    "outputId": "4e1a3827-d85d-442a-a7a8-ca3c374a8904"
   },
   "outputs": [],
   "source": [
    "x1 = np.array([1, 4, 6, 8])         # явное задание массива в виде списка\n",
    "\n",
    "# массив numpy можно создать из списка (list):\n",
    "some_numeric_list = [5, 6, 7, 8]\n",
    "x2 = np.array(some_numeric_list)    # создание массива из списка\n",
    "\n",
    "print(x1, x2)\n",
    "print('lenght:', len(x1))\n",
    "print('type:', type(x1))\n",
    "print('elements type:', x1.dtype)"
   ]
  },
  {
   "cell_type": "code",
   "execution_count": null,
   "metadata": {
    "colab": {
     "base_uri": "https://localhost:8080/"
    },
    "id": "a3QuOtwyInG6",
    "outputId": "d3c804f7-834e-45eb-96d8-b664d07d8aef"
   },
   "outputs": [],
   "source": [
    "# создадим двумерный массив (матрицу) с заданным типом значений\n",
    "x3 = np.array([\n",
    "    [1, 4, 3, 2],\n",
    "    [4, 5, 6, 3],\n",
    "    [5, 1, 3, 7],\n",
    "], dtype=np.float32)\n",
    "print(x3)\n",
    "print('array shape:', x3.shape)"
   ]
  },
  {
   "cell_type": "markdown",
   "metadata": {
    "id": "G1m6Uf7rInG6"
   },
   "source": [
    "Здесь явно задан тип `float32`. Полный список доступных типов [здесь](https://numpy.org/doc/1.17/user/basics.types.html)."
   ]
  },
  {
   "cell_type": "markdown",
   "metadata": {
    "id": "R0hIfW60Ifkz"
   },
   "source": [
    "## Генерация массивов заданной формы"
   ]
  },
  {
   "cell_type": "markdown",
   "metadata": {
    "id": "lQlPNZopJgrl"
   },
   "source": [
    "Функции `zeros()`, `ones()` и `full()` возвращают массивы, заполненные соответственно нулями, единицами или заданным значением. Форама массива задается первым аргументом (`shape`)."
   ]
  },
  {
   "cell_type": "code",
   "execution_count": null,
   "metadata": {
    "colab": {
     "base_uri": "https://localhost:8080/"
    },
    "id": "B7cGcmrjInG7",
    "outputId": "e138245a-231f-4c39-f85c-0e1184f23310"
   },
   "outputs": [],
   "source": [
    "xZeros = np.zeros((2, 3))                   # заполнение нулями\n",
    "xOnes = np.ones((2, 4))                     # заполнение единицами\n",
    "xFull = np.full((2, 2), fill_value=7.0)     # заполнение числом 7\n",
    "\n",
    "print(f\"{xZeros = }\")\n",
    "print(f\"{xOnes = }\")\n",
    "print(f\"{xFull = }\")"
   ]
  },
  {
   "cell_type": "code",
   "execution_count": null,
   "metadata": {
    "colab": {
     "base_uri": "https://localhost:8080/"
    },
    "id": "Qvs6YvvpInG9",
    "outputId": "3edaefdb-56d1-487f-eaee-64d97292ce54"
   },
   "outputs": [],
   "source": [
    "# создание диагональных матриц\n",
    "xEye = np.eye(4, dtype=np.int16)    # значения по главной диагонали равны 1\n",
    "xDiag = np.diag(v=(1, 2, 3, 4))\n",
    "\n",
    "print('eye:\\n', xEye)\n",
    "print('\\ndiag:\\n', xDiag)"
   ]
  },
  {
   "cell_type": "markdown",
   "metadata": {
    "id": "2FBB5WiGKgok"
   },
   "source": [
    "Можно создать массив, заполненный определенным числом, форма и тип значений которого повторяет форму и тип элементов другого массива при помощи функций `zeros_like()`, `ones_like()`, `full_like()`. При желании можно здать определенный тип элементов (аргумент `dtype`), переняв от исходного массива только форму.\n"
   ]
  },
  {
   "cell_type": "code",
   "execution_count": null,
   "metadata": {
    "colab": {
     "base_uri": "https://localhost:8080/"
    },
    "id": "0Q5jOA1gInG8",
    "outputId": "bac01e67-3e99-4f66-eb0d-a4e44c20644c"
   },
   "outputs": [],
   "source": [
    "xFillLike = np.full_like(x3, fill_value=3)\n",
    "xOnesLike = np.ones_like(x3, dtype=np.int16)\n",
    "\n",
    "print(f\"{xFillLike = }\\n{xOnesLike = }\")"
   ]
  },
  {
   "cell_type": "markdown",
   "metadata": {
    "id": "hU8tU3TCInG-"
   },
   "source": [
    "Здесь приведены наиболее часто используемые способы создания массивов. Полный список функций, создающих массивы [здесь](https://numpy.org/doc/stable/reference/routines.array-creation.html#routines-array-creation)."
   ]
  },
  {
   "cell_type": "markdown",
   "metadata": {
    "id": "0Fflnmc6A9Xg"
   },
   "source": [
    "Генерация массивов со случайными значениями. Используя функции из модуля `numpy.random`, можно сгенерировать случайное значение, либо массив заданной формы, содержащий случайные значения. Для генерации массива из целых чисел в заданном диапазоне, используйте функцию `randint()`, а для генерации массива из чисел с плавающей точкой в заданном диапазоне, используйте функцию `uniform()`. Первые два аргумента задают диапозон, а третий - форму.\n",
    "\n",
    "В модуле `numpy.random` имеется еще множество других функций, которые могут пригодиться. Подробнее в [документации](https://numpy.org/doc/1.16/reference/routines.random.html)."
   ]
  },
  {
   "cell_type": "code",
   "execution_count": null,
   "metadata": {
    "colab": {
     "base_uri": "https://localhost:8080/"
    },
    "id": "2Fqelx4kAaaP",
    "outputId": "76b8c32d-0034-45b3-f9e8-b6bdba58e85d"
   },
   "outputs": [],
   "source": [
    "r = np.random.randint(5)\n",
    "R1 = np.random.randint(5, 10, size=(4, 5))\n",
    "R2 = np.random.uniform(5, 10, size=(4, 5))\n",
    "\n",
    "print(f\"{r = }\\n{R1 = }\\n{R2 = }\")"
   ]
  },
  {
   "cell_type": "markdown",
   "metadata": {
    "id": "QnQKhO8ZMsXH"
   },
   "source": [
    "## Генерация массивов в диапозоне"
   ]
  },
  {
   "cell_type": "markdown",
   "metadata": {
    "id": "TN_Rj0S9FKYh"
   },
   "source": [
    "Можно задать массив состоящий из последовательности в заданном диапазоне с заданным шагом. В функции `arrange()` позиционными аргументами можно задать:\n",
    "- первый аргумент: стартовное значение последовательности\n",
    "- второй аргумент: финальное значение (не входит в последовательность)\n",
    "- третий аргумент: шаг последовательности"
   ]
  },
  {
   "cell_type": "code",
   "execution_count": null,
   "metadata": {
    "colab": {
     "base_uri": "https://localhost:8080/"
    },
    "id": "pCSD4ga8InG9",
    "outputId": "07812f22-1e08-45e5-fd90-cdd4858e1adf"
   },
   "outputs": [],
   "source": [
    "xArange = np.arange(10)             # задан только один аргумент\n",
    "yArange = np.arange(5, 15, 2)       # возрастающая последовательность\n",
    "zArange = np.arange(15, 5, -2)      # убывающая последовательность\n",
    "\n",
    "print(xArange)\n",
    "print(yArange)\n",
    "print(zArange)"
   ]
  },
  {
   "cell_type": "markdown",
   "metadata": {
    "id": "vw3yyye2OXQr"
   },
   "source": [
    "Равномерно распределенные значения в заданном диапазоне с заданным число разбиения диапазона"
   ]
  },
  {
   "cell_type": "code",
   "execution_count": null,
   "metadata": {
    "colab": {
     "base_uri": "https://localhost:8080/"
    },
    "id": "W0uv6YN8InG-",
    "outputId": "377d39a6-eb26-4bb0-9822-7de8b014c180"
   },
   "outputs": [],
   "source": [
    "xSpace = np.linspace(5, 15, 10)\n",
    "print(xSpace)\n",
    "print(xSpace.dtype)"
   ]
  },
  {
   "cell_type": "markdown",
   "metadata": {},
   "source": [
    "# Поля объекта класса `ndarray`"
   ]
  },
  {
   "cell_type": "code",
   "execution_count": null,
   "metadata": {},
   "outputs": [],
   "source": [
    "import numpy as np\n",
    "a = np.random.randint(0, 100, (2, 3, 4), dtype=np.int64)\n",
    "print(a)"
   ]
  },
  {
   "cell_type": "code",
   "execution_count": null,
   "metadata": {},
   "outputs": [],
   "source": [
    "print(f\"{ a.dtype     =  }\") # тип элементов\n",
    "print(f\"{ a.shape     =  }\") # форма массива\n",
    "print(f\"{ a.ndim      =  }\") # размерность (число индексов у элемента)\n",
    "print(f\"{ a.size      =  }\") # число элементов в массиве\n",
    "print(f\"{ a.itemsize  =  }\") # число байтов, занимаемых одним элементом\n"
   ]
  },
  {
   "cell_type": "markdown",
   "metadata": {
    "id": "Bq8ZDlEkInG-"
   },
   "source": [
    "# Операции над массивами"
   ]
  },
  {
   "cell_type": "markdown",
   "metadata": {
    "id": "hm4gp95eInG_"
   },
   "source": [
    "## Умножение всех элементов массива на число"
   ]
  },
  {
   "cell_type": "code",
   "execution_count": null,
   "metadata": {
    "id": "zReHLEsEInG_"
   },
   "outputs": [],
   "source": [
    "# создадим первый массив:\n",
    "a = np.array([\n",
    "    [1, 2 ,3],\n",
    "    [4, 5, 6],\n",
    "    [7, 8, 9]\n",
    "])\n",
    "# второй массив создадим из первого, домножив его на 2:\n",
    "b = a * 2\n",
    "# второй массив будет результатом умножения всех элементов\n",
    "# первого массива на число 2\n",
    "print(b)"
   ]
  },
  {
   "cell_type": "markdown",
   "metadata": {
    "id": "dlZyLY3fInG_"
   },
   "source": [
    "## Поэлементные операции"
   ]
  },
  {
   "cell_type": "code",
   "execution_count": null,
   "metadata": {
    "id": "2x7pMFlBInG_"
   },
   "outputs": [],
   "source": [
    "c = a + b\n",
    "d = a * b\n",
    "\n",
    "print('c:\\n', c)\n",
    "print('d:\\n', d)\n",
    "\n",
    "# подобным образом можно производить и поэлментное деление и вычитание"
   ]
  },
  {
   "cell_type": "markdown",
   "metadata": {
    "id": "K7IMb8dDInHA"
   },
   "source": [
    "## Другие операции над массивами"
   ]
  },
  {
   "cell_type": "code",
   "execution_count": null,
   "metadata": {
    "id": "qlEsMrgdInHA"
   },
   "outputs": [],
   "source": [
    "print(  c.min()     )      # значение минимального элемента\n",
    "print(  c.max()     )      # значение максималаьного элемента\n",
    "print(  c.sum()     )      # сумма всех элементов массива\n",
    "print(  c.mean()    )      # среднее арифметическое от всех элементов"
   ]
  },
  {
   "cell_type": "markdown",
   "metadata": {
    "id": "SkLpPHTxInHB"
   },
   "source": [
    "## Преобразование формы при помощи метода `reshape()`\n",
    "Метод `reshape() `в классе `ndarray` библиотеки NumPy позволяет изменять форму (`shape`) массива без изменения его данных. Он возвращает новый массив с теми же данными, но с новой формой. Для этого нужно передать в качестве аргумента кортеж с новой формой. Количество элементов в массиве новой формы должно совпадать с количеством элементов исходного массива."
   ]
  },
  {
   "cell_type": "code",
   "execution_count": null,
   "metadata": {
    "id": "x8Pwgoy9InHC"
   },
   "outputs": [],
   "source": [
    "a = np.array([\n",
    "            [1,  2,  3,  4],\n",
    "            [5,  6,  7,  8],\n",
    "            [9, 10, 11, 12],\n",
    "            ])\n",
    "a.shape"
   ]
  },
  {
   "cell_type": "code",
   "execution_count": null,
   "metadata": {
    "id": "wQYth8JhInHC"
   },
   "outputs": [],
   "source": [
    "a.reshape((4, 3))"
   ]
  },
  {
   "cell_type": "code",
   "execution_count": null,
   "metadata": {
    "id": "Ha5y8YgYInHC"
   },
   "outputs": [],
   "source": [
    "a.reshape((2, 2, 3))"
   ]
  },
  {
   "cell_type": "markdown",
   "metadata": {
    "id": "C-mxbNMxInHC"
   },
   "source": [
    "Если в метод `reshape()` передать кортеж формы, содержащий значение `-1`, то это значение будет заменено на вычисленное автоматически значение, которое гарантирует, что общее количество элементов массива останется неизменным."
   ]
  },
  {
   "cell_type": "code",
   "execution_count": null,
   "metadata": {
    "id": "xqE6HdiIInHD"
   },
   "outputs": [],
   "source": [
    "a.reshape((2, -1))\n",
    "# втрым значением формы будет 6:"
   ]
  },
  {
   "cell_type": "code",
   "execution_count": null,
   "metadata": {
    "id": "UmkqBiJZInHD"
   },
   "outputs": [],
   "source": [
    "a.reshape(-1)"
   ]
  },
  {
   "cell_type": "code",
   "execution_count": null,
   "metadata": {
    "id": "-oMJDQQtInHD"
   },
   "outputs": [],
   "source": [
    "a.reshape((-1, 1))"
   ]
  },
  {
   "cell_type": "markdown",
   "metadata": {
    "id": "xV4dVAwxInHA"
   },
   "source": [
    "# Доступ к элментам массива по индексам"
   ]
  },
  {
   "cell_type": "code",
   "execution_count": null,
   "metadata": {
    "id": "1gTLm8nBInHB"
   },
   "outputs": [],
   "source": [
    "print(c[2])     # доступ к строке с индексом 2\n",
    "print(c[:, 1])  # доступ к столбцу с индексом 1\n",
    "print(c[2, 0])  # доступ к элементу 2-ой строки 0-го столбца\n",
    "c[0, 1] = 42    # изменение значения элемента 0-ой строки 1-го столбца"
   ]
  },
  {
   "cell_type": "code",
   "execution_count": null,
   "metadata": {
    "id": "uDSTIGooInHB"
   },
   "outputs": [],
   "source": [
    "# перебор всех элементов двумерного массива в цикле\n",
    "for i in range(c.shape[0]):\n",
    "    for j in range(c.shape[1]):\n",
    "        print(c[i, j])"
   ]
  },
  {
   "cell_type": "code",
   "execution_count": null,
   "metadata": {
    "id": "2YBjII6a7BRa",
    "outputId": "3753c9b4-f2af-4e5e-8aa2-24f5c95c7d6e"
   },
   "outputs": [],
   "source": [
    "s = 'Text'\n",
    "\n",
    "a, b, c, d = s[:2], s[2:], s[:-2], s[-2:]\n",
    "print(a, b, c, d)\n",
    "\n",
    "a, b, = s[:-1], s[-1]\n",
    "print(a, b)\n",
    "\n",
    "(a, b), c = s[:2], s[2:]\n",
    "print(a, b, c)"
   ]
  },
  {
   "cell_type": "code",
   "execution_count": null,
   "metadata": {
    "id": "rEIQgm0H7BRa",
    "outputId": "15fcf8c6-ae04-4412-887e-ed2599da3d46"
   },
   "outputs": [],
   "source": [
    "L = list(range(12))\n",
    "print(f'{  L         = }')\n",
    "print(f'{  L[3:10:2] = }')  # каждый второй элемент в диапазоне от 3 до 10\n",
    "print(f'{  L[5::4]   = }')  # каждый четвертый элемент начиная с 5\n",
    "print(f'{  L[1::2]   = }')  # все элементы с нечетными индексами\n",
    "print(f'{  L[::2]    = }')  # все элементы с четными индексами [0::2]\n",
    "print(f'{  L[::3]    = }')  # каждый третий элемент начиная с нулевого"
   ]
  },
  {
   "cell_type": "code",
   "execution_count": null,
   "metadata": {
    "id": "ErfnzYjX7BRa",
    "outputId": "8b3569df-60bd-4d25-fb67-4ecc2f2c59fe"
   },
   "outputs": [],
   "source": [
    "# срезы в обратном порядке:\n",
    "print(f'{ L       = }')\n",
    "print(f'{ L[10:3:-2] = }') # каждый второй элемент в диапазоне от 10 до 3\n",
    "print(f'{ L[3::-1] = }')   # первые 4 элемента в обратном порядке\n",
    "print(f'{ L[::-1] = }')    # все элементы в обратном порядке\n",
    "print(f'{ L[::-3] = }')    # каждый третий эл. с конца начиная с последнего"
   ]
  },
  {
   "cell_type": "markdown",
   "metadata": {
    "id": "aKmlR4_LKJks"
   },
   "source": [
    "> Пусть матрица `A` задана в виде списка списков. Получить копию строки можно примерно так же, как и для матрицы NumPy: `A[1][:]`, но вот с копией колонки такой номер не пройдет: `A[:][1]` также возрващает копию строки с индексом `1`:"
   ]
  },
  {
   "cell_type": "code",
   "execution_count": null,
   "metadata": {
    "colab": {
     "base_uri": "https://localhost:8080/"
    },
    "id": "1ZZneOfm7BRb",
    "outputId": "bd330087-55a9-411b-e1fa-08a964a24ef3"
   },
   "outputs": [],
   "source": [
    "A = [\n",
    "    [ 1,  2,  3,  4],\n",
    "    [ 5,  6,  7,  8],\n",
    "    [ 9, 10, 11, 12],\n",
    "    [13, 14, 15, 16]\n",
    "]\n",
    "print(f\"{  A[1][:]   = }\")      # копия строки с индексом 1\n",
    "print(f\"{  A[:][1]   = }\")      # копия строки с индексом 1"
   ]
  },
  {
   "cell_type": "markdown",
   "metadata": {
    "id": "bRDfmcqhKJkt"
   },
   "source": [
    "### Срезы в NumPy"
   ]
  },
  {
   "cell_type": "code",
   "execution_count": null,
   "metadata": {
    "id": "g9ON9f7gKJkt",
    "outputId": "5910abff-28c8-41a4-d9ef-9802f2238b35"
   },
   "outputs": [],
   "source": [
    "import numpy as np\n",
    "\n",
    "A = np.array(A)\n",
    "print(f\"{  A[1, :]   = }\")      # строка с индексом 1\n",
    "print(f\"{  A[:, 1]   = }\")      # колонка с индексом 1\n",
    "print(f\"{  A[1, 2:]  = }\")      # строка с индексом 1\n",
    "print(f\"{  A[:2, 1]  = }\")      # колонка с индексом 1\n",
    "print(f\"{  A[::2, 1] = }\")      # колонка с индексом 1"
   ]
  },
  {
   "cell_type": "markdown",
   "metadata": {
    "id": "t_ZhPdYW7BRb"
   },
   "source": [
    "## Фильтрация массива по маске"
   ]
  },
  {
   "cell_type": "markdown",
   "metadata": {
    "id": "fLpB8g8QKJkv"
   },
   "source": [
    "### Создание маски\n",
    "\n",
    "Для массива `b` выражение `b%2==0` возвращает булевый массив, содержащий `True` в тех позициях, где элемент массива `b` является четным, и `False` – где элемент массива `b` является четным."
   ]
  },
  {
   "cell_type": "code",
   "execution_count": null,
   "metadata": {
    "id": "5m_dNSeD7BRb",
    "outputId": "51e97a4f-1c95-4ba7-e4aa-0180f32e8a0f"
   },
   "outputs": [],
   "source": [
    "import numpy as np\n",
    "\n",
    "a = np.arange(8)\n",
    "b = np.random.randint(0, 100, 8)\n",
    "\n",
    "b_odd = b%2==0\n",
    "\n",
    "print(f'{a = }')\n",
    "print(f'{b = }')\n",
    "print(f'{b_odd = }')\n",
    "print(f'{b_odd.dtype = }')"
   ]
  },
  {
   "cell_type": "markdown",
   "metadata": {
    "id": "o82wAl78KJkw"
   },
   "source": [
    "### Наложение маски\n",
    "В данном случае массив `b_odd` той же формы что и массив `a`, можно использовать в качестве фильтрующего массива для `a`, если передать его в квадратные скобки:"
   ]
  },
  {
   "cell_type": "code",
   "execution_count": null,
   "metadata": {
    "id": "YolfjMZQKJkx",
    "outputId": "01c48439-a7cb-4a6b-98fb-a14ecfee9672"
   },
   "outputs": [],
   "source": [
    "a_filtered = a[b_odd]\n",
    "print(f'{a_filtered = }')"
   ]
  },
  {
   "cell_type": "code",
   "execution_count": null,
   "metadata": {
    "id": "6lCRMKJd7BRb",
    "outputId": "906e63f8-b55c-4bb0-9d9a-2fe1bc9d7c94"
   },
   "outputs": [],
   "source": [
    "# можно было бы сразу записать так:\n",
    "a_filtered = a[b%2==0]\n",
    "print(f'{a_filtered = }')"
   ]
  },
  {
   "cell_type": "markdown",
   "metadata": {
    "id": "ueX06Dy9KJk0"
   },
   "source": [
    "### Получение строк и колонок матрицы по маске"
   ]
  },
  {
   "cell_type": "code",
   "execution_count": null,
   "metadata": {
    "id": "tXtsLqp-KJk1",
    "outputId": "e27f5ad7-cd83-4ee1-c12f-6fd5b7a1da2e"
   },
   "outputs": [],
   "source": [
    "import numpy as np\n",
    "\n",
    "X = np.random.randint(0, 10, (6, 6))    # двумерный маcсив\n",
    "mask = X[:, 0] > 5                      # маска по колонке с индексом 0\n",
    "print(f\"{ X }\\n\\n{ mask }\")\n",
    "X[X[:, 0] > 5]                          # получение строк по маске"
   ]
  },
  {
   "cell_type": "code",
   "execution_count": null,
   "metadata": {
    "id": "PV74znhJ7BRb",
    "outputId": "f555fc7f-6851-4c15-eaf2-6ffd4a3d945f"
   },
   "outputs": [],
   "source": [
    "obj = np.array([2, 4, 6, 8, 5, 3])\n",
    "X[:, (5 > obj)]                         # получение колонок по маске"
   ]
  },
  {
   "cell_type": "markdown",
   "metadata": {
    "id": "2g1tY2OZKJk4"
   },
   "source": [
    "## Fancy Indexing\n",
    "\n",
    "В NumPy вы можете использовать список индексов в квадратных скобках для выбора элементов из массива."
   ]
  },
  {
   "cell_type": "code",
   "execution_count": null,
   "metadata": {
    "id": "5Kzz8Xf97BRc",
    "outputId": "ea673c6f-da56-45b5-9a62-f8ad7e9486c7"
   },
   "outputs": [],
   "source": [
    "import numpy as np\n",
    "\n",
    "tags = np.array([0.0, 1.1, 2.2, 3.3, 4.4, 5.5])\n",
    "tags[[1, 4, 3, 4, -1]]"
   ]
  },
  {
   "cell_type": "markdown",
   "metadata": {
    "id": "RbJeyuFoKJk5"
   },
   "source": [
    "Для многомерных массивов:"
   ]
  },
  {
   "cell_type": "code",
   "execution_count": null,
   "metadata": {
    "id": "KpQw1T4vKJk5",
    "outputId": "df68a3b7-263f-41b0-c419-e9c00465f752"
   },
   "outputs": [],
   "source": [
    "X = np.random.randint(0, 10, (3, 3))    # двумерный маcсив\n",
    "print(X)\n",
    "X[[0, 1], [2, 2]]"
   ]
  },
  {
   "cell_type": "markdown",
   "metadata": {
    "id": "bCD5Bh8V7BRU"
   },
   "source": [
    "## Оператор инверсии `~`\n",
    "\n",
    "Оператор `~` производит битовую инверсию челых чисел в two's-complement (дополнительный код) представлении. Например, число `10` в дополнительном коде представляется как `00001010`, инверсии этого числа `11110101` будет соответствовать число `-11`. Заметим, что исверсией нуля (`00000000`) будет -`1` (`11111111`)."
   ]
  },
  {
   "cell_type": "code",
   "execution_count": null,
   "metadata": {
    "colab": {
     "base_uri": "https://localhost:8080/"
    },
    "id": "WVwYQF837BRU",
    "outputId": "fd35af89-24f1-41cd-8973-0c7640eb6ca6"
   },
   "outputs": [],
   "source": [
    "print(f\"{ ~10    = }\")\n",
    "print(f\"{ ~0     = }\")\n",
    "print(f\"{ ~False = }\")      # заметим, что для булевых значений выполняется\n",
    "print(f\"{ ~True  = }\")      # конвертация в int, а не инверсия T в F"
   ]
  },
  {
   "cell_type": "markdown",
   "metadata": {
    "id": "aPIvPCg17BRV"
   },
   "source": [
    "Благодаря такому свойству оператор `~` может оказаться полезен при движении по массиву с конца, так как в отличие от использования отрицательных индексов, здесь сохраняется симметрия с движением по массиву с начала."
   ]
  },
  {
   "cell_type": "code",
   "execution_count": null,
   "metadata": {
    "colab": {
     "base_uri": "https://localhost:8080/"
    },
    "id": "Ul2M2p9r7BRV",
    "outputId": "8960955e-a899-4bd6-b668-4bd1fd95f4af"
   },
   "outputs": [],
   "source": [
    "A = [1, 2, 3, 4, 5]\n",
    "print('i  A[i]  A[-i]  A[~i]')\n",
    "for i in range(len(A)):\n",
    "    print(f'{i}    {A[i]}      {A[-i]}      {A[~i]}')"
   ]
  },
  {
   "cell_type": "markdown",
   "metadata": {
    "id": "MR9dYrh87BRV"
   },
   "source": [
    "Своя специфика имеется при использовании оператора `~` с NumPy:\n",
    "- Для булевых типов NumPy (`numpy.bool_`) производтся инверсия (в отличие от стандартных типов `bool`). А если оператор применить к массиву (или матрице), состоящему из логических элементов, то результатом будет массив, содержащий инверированные элементы.\n",
    "- Если применить оператор к массиву (или матрице), состоящей из целочисленных элементов, то вернется матрица, состоящий из инвертрованных целых чисел (в соответствии с представлением в дополнительном коде)."
   ]
  },
  {
   "cell_type": "code",
   "execution_count": null,
   "metadata": {
    "id": "wWAVoMyf7BRV",
    "outputId": "0be7ea49-30a5-4be6-d3bd-d7550b788fb0"
   },
   "outputs": [],
   "source": [
    "import numpy as np\n",
    "\n",
    "print(f\"{~np.False_ = }\")   # для типов\n",
    "print(f\"{~np.True_  = }\")    # numpy.bool_\n",
    "\n",
    "L = np.array([False, True, False])\n",
    "\n",
    "print(f\"{~L = }\")\n",
    "\n",
    "A = np.array([0, 1, -2, 3])\n",
    "print(f\"{~A = }\")"
   ]
  },
  {
   "cell_type": "markdown",
   "metadata": {
    "id": "O9wkwe477BRV"
   },
   "source": [
    "## Оператор Ellipsis (`...`)"
   ]
  },
  {
   "cell_type": "code",
   "execution_count": null,
   "metadata": {
    "id": "47jNHWNX7BRV"
   },
   "outputs": [],
   "source": [
    "# to be defined\n",
    "def f():\n",
    "    ...\n",
    "# Такая запись предполагает, что тело функции в дельнейшем должно быть\n",
    "# определено (в отличие от pass, где намеренно пропускаются действия)"
   ]
  },
  {
   "cell_type": "code",
   "execution_count": null,
   "metadata": {
    "id": "rXxqWSLx7BRW",
    "outputId": "98043b91-766f-499b-f2ae-f9fc43c9286e"
   },
   "outputs": [],
   "source": [
    "import numpy as np\n",
    "\n",
    "n = np.random.rand(3, 3, 3, 3)          # shape (3, 3, 3, 3)\n",
    "print(n[..., 2])                        # <=> n[:, :, :, 2]"
   ]
  }
 ],
 "metadata": {
  "colab": {
   "include_colab_link": true,
   "provenance": [],
   "toc_visible": true
  },
  "kernelspec": {
   "display_name": "Python 3 (ipykernel)",
   "language": "python",
   "name": "python3"
  },
  "language_info": {
   "codemirror_mode": {
    "name": "ipython",
    "version": 3
   },
   "file_extension": ".py",
   "mimetype": "text/x-python",
   "name": "python",
   "nbconvert_exporter": "python",
   "pygments_lexer": "ipython3",
   "version": "3.10.10"
  }
 },
 "nbformat": 4,
 "nbformat_minor": 4
}
