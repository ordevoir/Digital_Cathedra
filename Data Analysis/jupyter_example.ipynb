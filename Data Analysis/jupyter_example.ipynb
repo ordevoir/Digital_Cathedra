{
 "cells": [
  {
   "cell_type": "markdown",
   "metadata": {
    "colab_type": "text",
    "id": "view-in-github"
   },
   "source": [
    "<a href=\"https://colab.research.google.com/github/ordevoir/Data_Analysis/blob/main/jupyter_example.ipynb\" target=\"_parent\"><img src=\"https://colab.research.google.com/assets/colab-badge.svg\" alt=\"Open In Colab\"/></a>"
   ]
  },
  {
   "cell_type": "markdown",
   "metadata": {
    "id": "Y4pEc0dg4DlG"
   },
   "source": [
    "# Jupyter Notebook"
   ]
  },
  {
   "cell_type": "markdown",
   "metadata": {
    "id": "kDZ63beR4DlK"
   },
   "source": [
    "[Jupyter Notebook](https://jupyter.org/ \"Открыть оффициальный сайт\") - это интерактивная среда разработки (IDE) для языков программирования, которая позволяет создавать и выполнять код в браузере. Она поддерживает множество языков программирования, включая Python, R, Julia и другие. Работать с файлами Jupyter Notebook можно также и в редакторе VS Code.\n",
    "\n",
    "Jupyter Notebook позволяет создавать документы, которые объединяют в себе код, текст, изображения, формулы (LaTeX) и графики. Jupyter Notebook доступен как на локальной машине, так и в облаке, например, на платформе [Google Colab](https://colab.research.google.com/).\n",
    "\n",
    "Это демонстрационный файл для ознакомления с основными возможностями Jupyter. Запустите секции с кодом. В секциях с текстом можно использовать язык разметки Markdown. Первое время будет полезна [шпаргалка](https://colab.research.google.com/notebooks/markdown_guide.ipynb).\n",
    "\n"
   ]
  },
  {
   "cell_type": "markdown",
   "metadata": {
    "id": "lL-d_lm-4DlN"
   },
   "source": [
    "## Площадь цилиндра"
   ]
  },
  {
   "cell_type": "code",
   "execution_count": null,
   "metadata": {
    "id": "MQ_jjGcF4DlP"
   },
   "outputs": [],
   "source": [
    "import math     # модуль, содержащий математические функции и констатнты\n",
    "\n",
    "def cylinder_area(h, r):\n",
    "    \"\"\"Функция, вычисляющая площадь цилиндра\"\"\"\n",
    "    base_area = math.pi * r**2          # площадь основания\n",
    "    side_area = 2 * math.pi * r * h     # площадь боковой поверхности\n",
    "    return 2*base_area + side_area      # возврат полной площади"
   ]
  },
  {
   "cell_type": "code",
   "execution_count": null,
   "metadata": {
    "id": "Rwn8i2lP4DlW",
    "outputId": "6de97f56-93df-4fa0-a8e9-4edc6e184bed"
   },
   "outputs": [
    {
     "name": "stdout",
     "output_type": "stream",
     "text": [
      "471.23889803846896\n"
     ]
    }
   ],
   "source": [
    "H = 10      # высота\n",
    "R = 5       # радиус\n",
    "area = cylinder_area(H, R)\n",
    "print(area)"
   ]
  },
  {
   "cell_type": "markdown",
   "metadata": {
    "id": "2_Sfaiej4DlX"
   },
   "source": [
    "Фукнция `cylinder_area()` принимает два *позиционных* аргумента: `h` - высота и `r` - радиус основания. Так как основанием цилиндра является круг, **площадь основания** вычисляется по формуле $S_b = \\pi r^2$. А **площадь боковой поверхности** вычислется по формуле\n",
    "$$\n",
    "S_s = 2 \\pi r h\n",
    "$$\n",
    "**Полная площадь** цилиндра слагается из площади боковой поверхности и удвоенной площади снования $S = 2 S_b + S_s$.\n",
    "\n",
    "<img src=\"https://homework.study.com/cimages/multimages/16/zsdkfj1019373429681313743.png\">"
   ]
  }
 ],
 "metadata": {
  "colab": {
   "include_colab_link": true,
   "provenance": []
  },
  "kernelspec": {
   "display_name": "Python 3 (ipykernel)",
   "language": "python",
   "name": "python3"
  },
  "language_info": {
   "codemirror_mode": {
    "name": "ipython",
    "version": 3
   },
   "file_extension": ".py",
   "mimetype": "text/x-python",
   "name": "python",
   "nbconvert_exporter": "python",
   "pygments_lexer": "ipython3",
   "version": "3.10.10"
  }
 },
 "nbformat": 4,
 "nbformat_minor": 4
}
