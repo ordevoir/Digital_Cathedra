{
  "cells": [
    {
      "cell_type": "markdown",
      "metadata": {
        "colab_type": "text",
        "id": "view-in-github"
      },
      "source": [
        "<a href=\"https://colab.research.google.com/github/ordevoir/Digital_Cathedra/blob/main/Python/01_types_and_operators.ipynb\" target=\"_parent\"><img src=\"https://colab.research.google.com/assets/colab-badge.svg\" alt=\"Open In Colab\"/></a>"
      ]
    },
    {
      "cell_type": "markdown",
      "metadata": {
        "id": "ULRVAMcIoQF_"
      },
      "source": [
        "## Создание переменных простых типов\n",
        "\n",
        "Создадим несколько переменных, которые будут содержать данные простых типов.  Интерпретатор python самостоятельно решает, какого типа будет создан объект в зависимости от присваиваемых значений."
      ]
    },
    {
      "cell_type": "code",
      "execution_count": null,
      "metadata": {
        "id": "7n86brawoQF_",
        "outputId": "0ea12f0c-86a2-44d2-aa8b-5883ae6643b0"
      },
      "outputs": [
        {
          "name": "stdout",
          "output_type": "stream",
          "text": [
            "<class 'int'>\n",
            "<class 'float'>\n",
            "<class 'str'>\n",
            "<class 'bool'>\n",
            "<class 'int'>\n",
            "<class 'NoneType'>\n"
          ]
        }
      ],
      "source": [
        "a = 5               # int\n",
        "b = 1.3             # float\n",
        "c = 'строка'        # str\n",
        "d = True            # bool\n",
        "n = None            # NoneType\n",
        "\n",
        "h = a               # новое имя h ссылается на тот же объект, что и a\n",
        "\n",
        "print(type(a))\n",
        "print(type(b))\n",
        "print(type(c))\n",
        "print(type(d))\n",
        "print(type(h))\n",
        "print(type(n))"
      ]
    },
    {
      "cell_type": "markdown",
      "metadata": {
        "id": "0aRfUjF1oQGB"
      },
      "source": [
        "В python реализована динамическая типизация, поэтому, объявленной ранее переменной `a` можно присвоить другое значение любого типа. При этом, создается новый объект соответствующего типа, в данном случае – `str`, а целочисленный объект `5`, на который до этого ссылалась переменная `a`, уничтожается, если на него не ссылаются другие переменные. В данном случае имя\n",
        "`h` также ссылается на объект `5`, поэтому объект не уничтожится."
      ]
    },
    {
      "cell_type": "code",
      "execution_count": null,
      "metadata": {
        "id": "YHin42cGoQGB",
        "outputId": "253243d8-de08-4b5d-ed4e-d7f5f19aaa0a"
      },
      "outputs": [
        {
          "name": "stdout",
          "output_type": "stream",
          "text": [
            "Значение другого типа\n",
            "5\n"
          ]
        }
      ],
      "source": [
        "a = 'Значение другого типа'\n",
        "print(a)\n",
        "print(h)"
      ]
    },
    {
      "cell_type": "markdown",
      "metadata": {
        "id": "nUOWQbDooQGB"
      },
      "source": [
        "## Арифметические операторы"
      ]
    },
    {
      "cell_type": "code",
      "execution_count": null,
      "metadata": {
        "id": "__ItsiThoQGC"
      },
      "outputs": [],
      "source": [
        "print( 3 + 2 )      # сложение\n",
        "print( 3 - 2 )      # вычитание\n",
        "print( 3 * 2 )      # умножение\n",
        "print( 3 / 2 )      # деление\n",
        "print( 3 ** 2 )     # возведение в степень\n",
        "print( 3 % 2 )      # остаток от деления\n",
        "print( 3 // 2 )     # целочисленное деление\n",
        "# данные операторы возвращают число (int или float)"
      ]
    },
    {
      "cell_type": "markdown",
      "metadata": {
        "id": "JaqZs1SNrsEL"
      },
      "source": [
        "## Арифметические операторы присваивания"
      ]
    },
    {
      "cell_type": "code",
      "execution_count": null,
      "metadata": {
        "id": "Sg4uIe2rrxcL"
      },
      "outputs": [],
      "source": [
        "x = 200\n",
        "x += 2      #   <=>   x = x + 2\n",
        "x -= 2      #   <=>   x = x - 2\n",
        "x *= 2      #   <=>   x = x * 2\n",
        "x /= 2      #   <=>   x = x / 2\n",
        "x %= 3      #   <=>   x = x % 2\n",
        "x **= 2     #   <=>   x = x ** 2\n",
        "x //= 2     #   <=>   x = x // 2"
      ]
    },
    {
      "cell_type": "markdown",
      "metadata": {
        "id": "4wXzlW7FoQGC"
      },
      "source": [
        "## Операторы сравнения"
      ]
    },
    {
      "cell_type": "code",
      "execution_count": null,
      "metadata": {
        "id": "8MrO_BLPoQGC"
      },
      "outputs": [],
      "source": [
        "print( 3 > 2 )      # больше\n",
        "print( 3 < 2 )      # меньше\n",
        "print( 3 >= 2 )     # больше либо равно\n",
        "print( 3 <= 2 )     # меньше либо равно\n",
        "print( 3 == 2 )     # равно\n",
        "print( 3 != 2 )     # не равно\n",
        "# эти операторы возвращают логический тип (False, True)"
      ]
    },
    {
      "cell_type": "markdown",
      "metadata": {
        "id": "u0j541ueoQGD"
      },
      "source": [
        "## Логические операторы\n",
        "\n",
        "- `not` - **отрицание** (*negation*)\n",
        "- `or` - **дизъюнкция** (*disjunction*)\n",
        "- `and` - **конъюнкция** (*conjunction*)"
      ]
    },
    {
      "cell_type": "code",
      "execution_count": null,
      "metadata": {
        "id": "YW46zI_YoQGD",
        "outputId": "d98d1efd-7512-4119-9c78-4c697625d3fd"
      },
      "outputs": [
        {
          "name": "stdout",
          "output_type": "stream",
          "text": [
            "False\n",
            "True\n",
            "\n",
            "True\n",
            "False\n"
          ]
        }
      ],
      "source": [
        "print( 1 == 2 )\n",
        "print( not 1 == 2 )                     # negation\n",
        "print()\n",
        "print( 1 == 2 or 1 == 1 or 2 != 3)      # disjunction\n",
        "print( 1 == 1 and 1 == 2 and 2 != 3)    # conjunction\n",
        "# эти операторы возвращают логический тип (False, True)"
      ]
    },
    {
      "cell_type": "markdown",
      "metadata": {
        "id": "e878a412-281e-4317-b21a-da04a9d5b350"
      },
      "source": [
        "# Списки (`list`)\n",
        "\n",
        "Список представляет собой последовательность объектов, доступ к которым можно получить посредством индексов. Для того, чтобы создать список, можно перечислить объекты в квадратных скобках, через запятую:"
      ]
    },
    {
      "cell_type": "code",
      "execution_count": null,
      "metadata": {
        "id": "3cc16007-4adb-4b25-aef3-ae054be45767"
      },
      "outputs": [],
      "source": [
        "Y = [10, 12, 30, 44, 51, 36, 11, 12]"
      ]
    },
    {
      "cell_type": "markdown",
      "metadata": {
        "id": "cb669021-8141-44fa-bbce-8f72c006e502"
      },
      "source": [
        "Индексами служат целые неотрицательные числа. Индексация начинается с нуля. Получим **доступ к элементу** с индексом `3`:"
      ]
    },
    {
      "cell_type": "code",
      "execution_count": null,
      "metadata": {
        "id": "e1d1e23c-d016-4575-93e4-ecef5c397b45"
      },
      "outputs": [],
      "source": [
        "a = Y[3]\n",
        "print(a)"
      ]
    },
    {
      "cell_type": "markdown",
      "metadata": {
        "id": "28767b68-3394-4b9f-81fc-183803abd484"
      },
      "source": [
        "Можно **изменить значение**, расположенное под индексом `3`:"
      ]
    },
    {
      "cell_type": "code",
      "execution_count": null,
      "metadata": {
        "id": "7a5c7acc-ca76-426c-9d4e-65c1e74f4f24"
      },
      "outputs": [],
      "source": [
        "Y[3] = 147\n",
        "print(Y)"
      ]
    },
    {
      "cell_type": "markdown",
      "metadata": {
        "id": "oAUKksM3kb6s"
      },
      "source": [
        "Отрицательные индексы ведут отсчет с конца последовательности:"
      ]
    },
    {
      "cell_type": "code",
      "execution_count": null,
      "metadata": {
        "id": "Cj7K_KO_kb6t",
        "outputId": "3618ee83-44f3-45ee-da89-dcc6e251ad2b"
      },
      "outputs": [
        {
          "name": "stdout",
          "output_type": "stream",
          "text": [
            "[10, 12, 30, 51, 36, 11, 12, 256]\n"
          ]
        },
        {
          "data": {
            "text/plain": [
              "(256, 12)"
            ]
          },
          "execution_count": 94,
          "metadata": {},
          "output_type": "execute_result"
        }
      ],
      "source": [
        "print(Y)\n",
        "Y[-1], Y[-2]"
      ]
    },
    {
      "cell_type": "markdown",
      "metadata": {
        "id": "2c1d2492-a60d-4443-9f01-65758fa24f62"
      },
      "source": [
        "**Удалим** элемент, расположенный в списке под индексом `3`:"
      ]
    },
    {
      "cell_type": "code",
      "execution_count": null,
      "metadata": {
        "id": "5655988e-cf92-493c-a176-ef71d5c861ea"
      },
      "outputs": [],
      "source": [
        "del Y[3]\n",
        "print(Y)"
      ]
    },
    {
      "cell_type": "markdown",
      "metadata": {
        "id": "82345dcb-c519-48a1-85f8-7895c54130e2"
      },
      "source": [
        "Можно добавить элемент в конец списка:"
      ]
    },
    {
      "cell_type": "code",
      "execution_count": null,
      "metadata": {
        "id": "116810cd-c71a-40c9-a0eb-e2a9174e5318"
      },
      "outputs": [],
      "source": [
        "Y.append(256)\n",
        "print(Y)"
      ]
    },
    {
      "cell_type": "markdown",
      "metadata": {
        "id": "9SSbBQI6lUEX"
      },
      "source": [
        "Можно создать пустой список и затем добавить в него элементы:"
      ]
    },
    {
      "cell_type": "code",
      "execution_count": null,
      "metadata": {
        "id": "y96Yf9DilUEX"
      },
      "outputs": [],
      "source": [
        "Z = list()          #   <=>  Z = []\n",
        "for i in range(6):\n",
        "    Z.append(i**2)\n",
        "\n",
        "print(Z)"
      ]
    },
    {
      "cell_type": "markdown",
      "metadata": {
        "id": "8493f043-754c-4fa9-97c8-49781fe38cf4"
      },
      "source": [
        "Получить **длину списка**, т.е. количество элементов последовательности, можно при помощи встроенной функции `len()`:"
      ]
    },
    {
      "cell_type": "code",
      "execution_count": null,
      "metadata": {
        "id": "ea0707e4-3586-42f1-abdc-bbb191bd1088"
      },
      "outputs": [],
      "source": [
        "lenght = len(Y)\n",
        "print(lenght)"
      ]
    },
    {
      "cell_type": "markdown",
      "metadata": {
        "id": "8mrQR-Nxkb6u"
      },
      "source": [
        "> индексация идет с нуля, поэтому индекс последнего элемента на единицу меньше длины последовательности:"
      ]
    },
    {
      "cell_type": "code",
      "execution_count": null,
      "metadata": {
        "id": "k4Fzl1mXkb6u"
      },
      "outputs": [],
      "source": [
        "print(Y)\n",
        "print(Y[7])"
      ]
    },
    {
      "cell_type": "markdown",
      "metadata": {
        "id": "j8PyAGRnco-j"
      },
      "source": [
        "Проверить, содержится ли объект в списке можно используя оператор `in`:"
      ]
    },
    {
      "cell_type": "code",
      "execution_count": null,
      "metadata": {
        "id": "TZaTxPDhcopT"
      },
      "outputs": [],
      "source": [
        "print(11 in Y)\n",
        "print(13 in Y)"
      ]
    },
    {
      "cell_type": "markdown",
      "metadata": {
        "id": "WZ-Hx6u5lUEY"
      },
      "source": [
        "## Основные методы класса `list`\n",
        "\n",
        "Полный список методов списка приводится в [документации](https://docs.python.org/3/tutorial/datastructures.html)."
      ]
    },
    {
      "cell_type": "code",
      "execution_count": null,
      "metadata": {
        "id": "Np4879NslUEY"
      },
      "outputs": [],
      "source": [
        "Y.append(6)         # добавляет в конец списка объект 6\n",
        "Y.insert(4, 12)     # вставляет объект 12 в позицию 4\n",
        "Y.remove(1)         # удаляет из списка первый элемент со значением 1\n",
        "Y.extend(Z)         # расширение списка Y элементами списка Z\n",
        "print(Y.pop())      # удаляет и возвращаяет последний элемент\n",
        "print(Y.pop(6))     # удаляет и возвращаяет элемент с индексом 6\n",
        "print(Y.count(1),   'возвращает количество элементов со значением 1')\n",
        "print(Y.index(3),   'возвращает индекс первого элемента со значением 3')"
      ]
    },
    {
      "cell_type": "markdown",
      "metadata": {
        "id": "2dIxOT9MlUEY"
      },
      "source": [
        "## Поведение операторов `+` и `in`"
      ]
    },
    {
      "cell_type": "code",
      "execution_count": null,
      "metadata": {
        "id": "eOKW-YVxlUEZ"
      },
      "outputs": [],
      "source": [
        "print(f\"{ Y = } \\n{Z = }\")\n",
        "print(f\"{ Y + Z = }\")        # оператор + производит конкатенацию двух списков\n",
        "print(f\"{ 12 in Y = }\")      # возвращает True, если элемент 12 содержится в Y"
      ]
    },
    {
      "cell_type": "markdown",
      "metadata": {
        "id": "5509ed17-1798-4d2c-8b41-07a36579b416"
      },
      "source": [
        "# Строки (`str`)\n",
        "\n",
        "Строки представляют собой последовательности символов. Для создания строк используются кавычки `\"` или апострофы `'`:"
      ]
    },
    {
      "cell_type": "code",
      "execution_count": null,
      "metadata": {
        "id": "9a694370-0a34-492a-83d2-d9e9604f2c53"
      },
      "outputs": [],
      "source": [
        "s = 'This is - some  text'"
      ]
    },
    {
      "cell_type": "markdown",
      "metadata": {
        "id": "2be899d9-c22a-4a87-9c57-622f1e2347ec"
      },
      "source": [
        "> Важное отличие строк от списков заключается в том, что строки являются неизменяемыми объектами, в то время как списки – изменяемые, т.е. содержимое списков можно менять, а вот объект строки, после того как он создан, изменить уже не получится:"
      ]
    },
    {
      "cell_type": "code",
      "execution_count": null,
      "metadata": {
        "id": "de18449b-5ee5-441b-a5bb-d830e26904f0"
      },
      "outputs": [],
      "source": [
        "# s[3] = '3'"
      ]
    },
    {
      "cell_type": "markdown",
      "metadata": {
        "id": "d224b3ce-c29f-496c-9703-5272dbde0189"
      },
      "source": [
        "Однако мы можем получать доступ к элементам строки посредством индексов, а также можем создавать новые строки на базе имеющихся."
      ]
    },
    {
      "cell_type": "code",
      "execution_count": null,
      "metadata": {
        "id": "40b38eca-3a2c-4983-9682-5de40046a718"
      },
      "outputs": [],
      "source": [
        "print(s[5])"
      ]
    },
    {
      "cell_type": "code",
      "execution_count": null,
      "metadata": {
        "id": "f4b6c2c1-69fc-484c-b781-990163b7fa65"
      },
      "outputs": [],
      "source": [
        "new_s = s.upper()\n",
        "print(new_s)"
      ]
    },
    {
      "cell_type": "markdown",
      "metadata": {
        "id": "47311611-b46f-46cd-9787-37fbc6f5133d"
      },
      "source": [
        "Как и для списков, встроенная функция `len()` возвращает длину строки:"
      ]
    },
    {
      "cell_type": "code",
      "execution_count": null,
      "metadata": {
        "id": "f8f50f24-4f58-4309-965e-d20c30083bb2",
        "jupyter": {
          "source_hidden": true
        }
      },
      "outputs": [],
      "source": [
        "print( len(s) )"
      ]
    },
    {
      "cell_type": "markdown",
      "metadata": {
        "id": "rDUAcZyjhDI0"
      },
      "source": [
        "Последовательность может быть конвертирована в список при помощи функции `list()`:"
      ]
    },
    {
      "cell_type": "code",
      "execution_count": null,
      "metadata": {
        "id": "ym1i_O1-g3NQ"
      },
      "outputs": [],
      "source": [
        "L = list(s)\n",
        "print(L)"
      ]
    },
    {
      "cell_type": "code",
      "execution_count": null,
      "metadata": {
        "id": "SF2MdfIndScW"
      },
      "outputs": [],
      "source": [
        "\"his\" in s"
      ]
    },
    {
      "cell_type": "markdown",
      "metadata": {
        "id": "OzfyCL96dTOe"
      },
      "source": [
        "Для строк оператор `in` может проверить не только наличие символа в строке, но и наличие некоторой последовательности символов:"
      ]
    },
    {
      "cell_type": "code",
      "execution_count": null,
      "metadata": {
        "id": "FqJTWMhKkb6w",
        "outputId": "a5c2ef0b-0f47-43e9-c09a-d41dc15c81dc"
      },
      "outputs": [
        {
          "name": "stdout",
          "output_type": "stream",
          "text": [
            "T\n",
            "h\n",
            "i\n",
            "s\n",
            " \n",
            "i\n",
            "s\n",
            " \n",
            "-\n",
            " \n",
            "s\n",
            "o\n",
            "m\n",
            "e\n",
            " \n",
            " \n",
            "t\n",
            "e\n",
            "x\n",
            "t\n"
          ]
        }
      ],
      "source": [
        "for i in s:\n",
        "    print(i)"
      ]
    },
    {
      "cell_type": "markdown",
      "metadata": {
        "id": "NOiL7rC_kb6w"
      },
      "source": [
        "## Методы строк\n",
        "\n",
        "Строки (`str`) являются неизменяемыми объектами, поэтому, они не содержат методов, которые меняли бы сам объект. Однако, они обладают множеством методов, которые могут возвращать значения на основе данной строки.\n",
        "\n",
        "Метод `split()` позволяет разбить строку на фрагменты по заданному разделителю. По-умолчанию разделителем является пробел."
      ]
    },
    {
      "cell_type": "code",
      "execution_count": null,
      "metadata": {
        "id": "sHxghCJ8kb6x"
      },
      "outputs": [],
      "source": [
        "s = 'This is - some  text'"
      ]
    },
    {
      "cell_type": "code",
      "execution_count": null,
      "metadata": {
        "id": "QP0iztNbkb6x"
      },
      "outputs": [],
      "source": [
        "words = s.split()\n",
        "print(words)"
      ]
    },
    {
      "cell_type": "code",
      "execution_count": null,
      "metadata": {
        "id": "gH0kIN_Dkb6x"
      },
      "outputs": [],
      "source": [
        "phrases = s.split('-')          # разделитель `-`\n",
        "print(phrases)"
      ]
    },
    {
      "cell_type": "markdown",
      "metadata": {
        "id": "53_JdUAZkb6x"
      },
      "source": [
        "Метод `join()` позволяет объединить строки из списка."
      ]
    },
    {
      "cell_type": "code",
      "execution_count": null,
      "metadata": {
        "id": "2ie7ZG4dkb6x"
      },
      "outputs": [],
      "source": [
        "delimmiter = ' '\n",
        "s2 = delimmiter.join(words)\n",
        "print(s2)"
      ]
    },
    {
      "cell_type": "markdown",
      "metadata": {
        "id": "R96LMNLLkb6x"
      },
      "source": [
        "### Методы, возвращающие модифицированную строку"
      ]
    },
    {
      "cell_type": "code",
      "execution_count": null,
      "metadata": {
        "id": "WzPz1X0Lkb6x"
      },
      "outputs": [],
      "source": [
        "s3 = s2.lower()\n",
        "print(s3)"
      ]
    },
    {
      "cell_type": "code",
      "execution_count": null,
      "metadata": {
        "id": "6g4K0GcFkb6x"
      },
      "outputs": [],
      "source": [
        "s4 = s2.upper()\n",
        "print(s4)"
      ]
    },
    {
      "cell_type": "code",
      "execution_count": null,
      "metadata": {
        "id": "15Wff1bDkb6x"
      },
      "outputs": [],
      "source": [
        "s5 = s2.title()\n",
        "print(s5)"
      ]
    },
    {
      "cell_type": "markdown",
      "metadata": {
        "id": "7cDt9Vbukb6y"
      },
      "source": [
        "### Логические методы\n",
        "\n",
        "Логические методы позволяют выяснить, удовлетворяет ли оъект некоторому условию. Логические методы возвращают `True`, если объект удовлетворяет условию и `False` в противном случае."
      ]
    },
    {
      "cell_type": "code",
      "execution_count": null,
      "metadata": {
        "id": "H1trHVGikb6y"
      },
      "outputs": [],
      "source": [
        "s2.isupper()"
      ]
    },
    {
      "cell_type": "code",
      "execution_count": null,
      "metadata": {
        "id": "wVtwqe7Zkb6y"
      },
      "outputs": [],
      "source": [
        "s2.islower()"
      ]
    },
    {
      "cell_type": "code",
      "execution_count": null,
      "metadata": {
        "id": "5YsDJwC-kb6y"
      },
      "outputs": [],
      "source": [
        "s2.istitle()"
      ]
    },
    {
      "cell_type": "code",
      "execution_count": null,
      "metadata": {
        "id": "rtCyCdwxkb6y"
      },
      "outputs": [],
      "source": [
        "s2.startswith('T')      # строка начинается заданным символом"
      ]
    },
    {
      "cell_type": "code",
      "execution_count": null,
      "metadata": {
        "id": "Be3wP4-jkb6y"
      },
      "outputs": [],
      "source": [
        "s2.endswith('t')      # строка заканчивается заданным символом"
      ]
    },
    {
      "cell_type": "markdown",
      "metadata": {
        "id": "GTdkV92gkb6y"
      },
      "source": [
        "# Канкатенация\n",
        "\n",
        "Операция канкатенации представляет собой сшивание двух последовательностей, представляющих собой одну и ту же структуру данных. В частности, можно произвести канкатенацию двух списков, или двух строк:"
      ]
    },
    {
      "cell_type": "code",
      "execution_count": null,
      "metadata": {
        "id": "ZLICiIQkkb6y"
      },
      "outputs": [],
      "source": [
        "[4, 5, 6] + [3, 2]"
      ]
    },
    {
      "cell_type": "code",
      "execution_count": null,
      "metadata": {
        "id": "w_kEJn2Qkb6y"
      },
      "outputs": [],
      "source": [
        "'tex' + 't'"
      ]
    },
    {
      "cell_type": "markdown",
      "metadata": {
        "id": "XZ5lwJcflUEn"
      },
      "source": [
        "# Словари (`dict`)\n",
        "\n",
        "Словарь представляет собой тип данных, в котором элементы содержатся в виде пары (ключ : значение). При этом, в одном словаре не могут присутствовать пары, с одинаковыми ключами – все ключи уникальны. Значения же могут повторяться. Доступ к значениям в словаре осуществляется через ключи.\n",
        "\n",
        "В Python словарь реализован в виде стуктуры данных, представленного классом `dict` (*dictionary* – словарь)."
      ]
    },
    {
      "cell_type": "markdown",
      "metadata": {
        "id": "HOafHW04lUEn"
      },
      "source": [
        "## Способы создания словарей\n",
        "Можно задать пары (ключ: значение) при создании словаря. В роли ключей могут выступать разные типы данных. Ограничением является то, что эти типы должны быть неизменяемыми: назначить в качестве ключа список или словарь не получится."
      ]
    },
    {
      "cell_type": "code",
      "execution_count": null,
      "metadata": {
        "id": "UQFmCdW3lUEn"
      },
      "outputs": [],
      "source": [
        "d = {1: 'value',\n",
        "     True: 23,\n",
        "     'a': [1, 3, 5]\n",
        "     }\n",
        "\n",
        "print(d)"
      ]
    },
    {
      "cell_type": "markdown",
      "metadata": {
        "id": "JfI3nbpClUEn"
      },
      "source": [
        "Можно создать пустой словарь и затем добавить пары:"
      ]
    },
    {
      "cell_type": "code",
      "execution_count": null,
      "metadata": {
        "id": "BV9ZK6sclUEn"
      },
      "outputs": [],
      "source": [
        "dictionary = dict()  # dictionary (словарь)\n",
        "\n",
        "# добавим несколько пар в формате dictionary[key] = value\n",
        "dictionary['key_1'] = 13\n",
        "dictionary[4] = [1, 4, 10]\n",
        "dictionary[(0,1)] = 'value'\n",
        "dictionary[3.4] = 23\n",
        "dictionary[False] = dictionary\n",
        "\n",
        "print(dictionary)"
      ]
    },
    {
      "cell_type": "markdown",
      "metadata": {
        "id": "dkmSZhqPlUEo"
      },
      "source": [
        "## Доступ к элементам словаря"
      ]
    },
    {
      "cell_type": "code",
      "execution_count": null,
      "metadata": {
        "id": "7CdvXUSVlUEo"
      },
      "outputs": [],
      "source": [
        "a = dictionary['key_1']     # получить значение по ключу 'key_1'\n",
        "print(a)\n",
        "dictionary['key_1'] = 12    # изменить значение ассоциированное с ключом\n",
        "# если такого ключа нет в словаре, то создается новая пара\n",
        "\n",
        "del dictionary[4]           # удаляется пара по ключу 4\n",
        "print(dictionary)"
      ]
    },
    {
      "cell_type": "code",
      "execution_count": null,
      "metadata": {
        "id": "jUVL37pmlUEo"
      },
      "outputs": [],
      "source": [
        "a = dictionary.pop(3.4)         # удаляет пару и возвращаяет значение по ключу\n",
        "print(a)\n",
        "b = dictionary.popitem()        # удаляет и возвращают пару в виде кортежа\n",
        "print(b)\n",
        "dictionary.setdefault('key_2')      # добавляет ключ со значением None\n",
        "dictionary.setdefault('key_3', 65)  # добавляет ключ со значением 65\n",
        "print(dictionary)"
      ]
    },
    {
      "cell_type": "markdown",
      "metadata": {
        "id": "vjZrOnn_lUEo"
      },
      "source": [
        "## Получение последовательностей ключей и значений"
      ]
    },
    {
      "cell_type": "code",
      "execution_count": null,
      "metadata": {
        "id": "MCuGXw9glUEo"
      },
      "outputs": [],
      "source": [
        "keys = dictionary.keys()        # получить набор ключей\n",
        "values = dictionary.values()    # получить набор значений\n",
        "print(keys)\n",
        "print(values)\n",
        "print(list(keys))       # набор можно преобразовать в список"
      ]
    },
    {
      "cell_type": "code",
      "execution_count": null,
      "metadata": {
        "id": "WYalYHKulUEo"
      },
      "outputs": [],
      "source": [
        "a = {'a': 11, 'b': 12, 'c': 13}\n",
        "dictionary.update(a)    # пополнение словаря парами из другого словаря\n",
        "dictionary"
      ]
    },
    {
      "cell_type": "code",
      "execution_count": null,
      "metadata": {
        "id": "hXepVorRlUEo"
      },
      "outputs": [],
      "source": [
        "# можно проверить, содержится ли такой ключ в словаре:\n",
        "isKey = (0, 1) in dictionary\n",
        "print('object is a key in the dictionary:', isKey)\n",
        "\n",
        "# перебор в цикле всех ключей словаря\n",
        "for key in dictionary:\n",
        "    print(key)\n",
        "# также можно перебрать непосредственно значения\n",
        "for value in dictionary.values():\n",
        "    print(value)"
      ]
    },
    {
      "cell_type": "code",
      "execution_count": null,
      "metadata": {
        "id": "DrjpVeFKlUEo"
      },
      "outputs": [],
      "source": [
        "a = {'a': 11, 'b': 12, 'c': 13}\n",
        "b = {'b': 14, 'd': 15, 'e': 16}\n",
        "c = {**a, **b}          # объединение словарей путем распаковки\n",
        "print(f'{c =     }')\n",
        "print(f'{a | b = }')   # начиная с версии python 3.9"
      ]
    }
  ],
  "metadata": {
    "colab": {
      "include_colab_link": true,
      "provenance": [],
      "toc_visible": true
    },
    "kernelspec": {
      "display_name": "Python 3 (ipykernel)",
      "language": "python",
      "name": "python3"
    },
    "language_info": {
      "codemirror_mode": {
        "name": "ipython",
        "version": 3
      },
      "file_extension": ".py",
      "mimetype": "text/x-python",
      "name": "python",
      "nbconvert_exporter": "python",
      "pygments_lexer": "ipython3",
      "version": "3.10.10"
    }
  },
  "nbformat": 4,
  "nbformat_minor": 0
}
