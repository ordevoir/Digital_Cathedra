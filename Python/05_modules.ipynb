{
  "cells": [
    {
      "cell_type": "markdown",
      "metadata": {
        "id": "view-in-github",
        "colab_type": "text"
      },
      "source": [
        "<a href=\"https://colab.research.google.com/github/ordevoir/Digital_Cathedra/blob/main/Python/05_modules.ipynb\" target=\"_parent\"><img src=\"https://colab.research.google.com/assets/colab-badge.svg\" alt=\"Open In Colab\"/></a>"
      ]
    },
    {
      "cell_type": "markdown",
      "metadata": {
        "id": "bKBhK1UVkAXb"
      },
      "source": [
        "Модули в Python – это файлы с расширением .py, которые содержат код, который можно повторно использовать в других программах. Модули позволяют организовать код, избежать дублирования, расширить функциональность и упростить сопровождение.\n",
        "\n",
        "Иллюстрацию различных способов импортирования модулей будем проводить на примере модуля `math` из стандартной библиотеки Python, который предоставляет различные математические функции и константны."
      ]
    },
    {
      "cell_type": "markdown",
      "metadata": {
        "id": "A4gA47qtkAXc"
      },
      "source": [
        "# Импорт"
      ]
    },
    {
      "cell_type": "markdown",
      "metadata": {
        "id": "Ox1c37nMkAXd"
      },
      "source": [
        "## Базовый синтаксис\n",
        "\n",
        "Для того, чтобы импортировать модуль достаточно прописать ключевое слово `import` и написать имя модуля:"
      ]
    },
    {
      "cell_type": "code",
      "execution_count": null,
      "metadata": {
        "id": "9bSbGRz6kAXd"
      },
      "outputs": [],
      "source": [
        "import math\n",
        "\n",
        "type(math)"
      ]
    },
    {
      "cell_type": "markdown",
      "metadata": {
        "id": "rKNJi_lBkAXd"
      },
      "source": [
        "Для того, чтобы получить доступ к объектам, определенным в модуле, нужно воспользоваться **оператором доступа** (оператор-точка) `.` :"
      ]
    },
    {
      "cell_type": "code",
      "execution_count": null,
      "metadata": {
        "id": "AMrs4WgvkAXe"
      },
      "outputs": [],
      "source": [
        "math.pi"
      ]
    },
    {
      "cell_type": "code",
      "execution_count": null,
      "metadata": {
        "id": "-0WHQG1pkAXe"
      },
      "outputs": [],
      "source": [
        "math.sin(math.pi / 4)"
      ]
    },
    {
      "cell_type": "markdown",
      "metadata": {
        "id": "RlTpHBQjkAXe"
      },
      "source": [
        "## Импорт под псевдонимом\n",
        "\n",
        "Часто для краткости имеет смысл назначить модулю некоторый **псевдоним** (*alias*), под которым мы будем получать доступ к содержимому модуля. Для этого используется оператор `as`:"
      ]
    },
    {
      "cell_type": "code",
      "execution_count": null,
      "metadata": {
        "id": "q2uj9HBmkAXe"
      },
      "outputs": [],
      "source": [
        "import math as mt\n",
        "\n",
        "mt.sin(mt.pi / 4)"
      ]
    },
    {
      "cell_type": "markdown",
      "metadata": {
        "id": "87kWoBRtkAXe"
      },
      "source": [
        "Так как мы импортировали модуль `math` как `mt` (т.е. под псевдонимом `mt`), для доступа к объектам, определенным в модуле, мы используем имя `mt`."
      ]
    },
    {
      "cell_type": "markdown",
      "metadata": {
        "id": "W_Y9NXlhkAXe"
      },
      "source": [
        "## Импорт отдельных объектов модуля\n",
        "\n",
        "Если нам нужны лишь некоторые объекты из модуля, то, вместо импорта всего модуля, можно импортировать отдельные объекты. Для этого используется оператор `from`. При этом уже нет необходимости использовать имя модуля или псевдоним для доступа к объектам модуля:"
      ]
    },
    {
      "cell_type": "code",
      "execution_count": null,
      "metadata": {
        "id": "bbGknv9XkAXe"
      },
      "outputs": [],
      "source": [
        "from math import sin, pi\n",
        "\n",
        "sin(pi / 4)"
      ]
    },
    {
      "cell_type": "markdown",
      "metadata": {
        "id": "plBy41s6kAXf"
      },
      "source": [
        "## Импорт всех объектов модуля\n",
        "\n",
        "Для того, чтобы импортировать все объекты модуля так, чтобы доступ к ним осуществлялся напрямую, через имя объекта, без необходимости указывать имя библиотеки или псевдоним, можно воспользоваться следующим синтаксисом:"
      ]
    },
    {
      "cell_type": "code",
      "execution_count": null,
      "metadata": {
        "id": "XsXz92wZkAXf"
      },
      "outputs": [],
      "source": [
        "from math import *\n",
        "\n",
        "sin(pi / 4)"
      ]
    },
    {
      "cell_type": "markdown",
      "metadata": {
        "id": "KJhuhl5xkAXf"
      },
      "source": [
        "`*` – означает \"всё\".\n",
        "\n",
        "> Данный способ все же не является предпочтительным в общем случае. Как правило, мы не знаем имена всех объектов, определенных в модуле и при таком импорте. Может оказаться так, что некоторые имена объектов модуля совпадают с именами переменных, определенных нами в нашем коде, что приведет к конфликтам."
      ]
    },
    {
      "cell_type": "markdown",
      "metadata": {
        "id": "B8Y1i_RWkAXf"
      },
      "source": [
        "# Просмотри содержимого модуля"
      ]
    },
    {
      "cell_type": "code",
      "execution_count": null,
      "metadata": {
        "id": "jKqgNO3VkAXf"
      },
      "outputs": [],
      "source": [
        "dir(math)"
      ]
    },
    {
      "cell_type": "code",
      "execution_count": null,
      "metadata": {
        "id": "6q6-BFJikAXf",
        "outputId": "c3fab92d-e89b-480d-f559-b4c2429c653b"
      },
      "outputs": [
        {
          "name": "stdout",
          "output_type": "stream",
          "text": [
            "Help on built-in module math:\n",
            "\n",
            "NAME\n",
            "    math\n",
            "\n",
            "DESCRIPTION\n",
            "    This module provides access to the mathematical functions\n",
            "    defined by the C standard.\n",
            "\n",
            "FUNCTIONS\n",
            "    acos(x, /)\n",
            "        Return the arc cosine (measured in radians) of x.\n",
            "        \n",
            "        The result is between 0 and pi.\n",
            "    \n",
            "    acosh(x, /)\n",
            "        Return the inverse hyperbolic cosine of x.\n",
            "    \n",
            "    asin(x, /)\n",
            "        Return the arc sine (measured in radians) of x.\n",
            "        \n",
            "        The result is between -pi/2 and pi/2.\n",
            "    \n",
            "    asinh(x, /)\n",
            "        Return the inverse hyperbolic sine of x.\n",
            "    \n",
            "    atan(x, /)\n",
            "        Return the arc tangent (measured in radians) of x.\n",
            "        \n",
            "        The result is between -pi/2 and pi/2.\n",
            "    \n",
            "    atan2(y, x, /)\n",
            "        Return the arc tangent (measured in radians) of y/x.\n",
            "        \n",
            "        Unlike atan(y/x), the signs of both x and y are considered.\n",
            "    \n",
            "    atanh(x, /)\n",
            "        Return the inverse hyperbolic tangent of x.\n",
            "    \n",
            "    ceil(x, /)\n",
            "        Return the ceiling of x as an Integral.\n",
            "        \n",
            "        This is the smallest integer >= x.\n",
            "    \n",
            "    comb(n, k, /)\n",
            "        Number of ways to choose k items from n items without repetition and without order.\n",
            "        \n",
            "        Evaluates to n! / (k! * (n - k)!) when k <= n and evaluates\n",
            "        to zero when k > n.\n",
            "        \n",
            "        Also called the binomial coefficient because it is equivalent\n",
            "        to the coefficient of k-th term in polynomial expansion of the\n",
            "        expression (1 + x)**n.\n",
            "        \n",
            "        Raises TypeError if either of the arguments are not integers.\n",
            "        Raises ValueError if either of the arguments are negative.\n",
            "    \n",
            "    copysign(x, y, /)\n",
            "        Return a float with the magnitude (absolute value) of x but the sign of y.\n",
            "        \n",
            "        On platforms that support signed zeros, copysign(1.0, -0.0)\n",
            "        returns -1.0.\n",
            "    \n",
            "    cos(x, /)\n",
            "        Return the cosine of x (measured in radians).\n",
            "    \n",
            "    cosh(x, /)\n",
            "        Return the hyperbolic cosine of x.\n",
            "    \n",
            "    degrees(x, /)\n",
            "        Convert angle x from radians to degrees.\n",
            "    \n",
            "    dist(p, q, /)\n",
            "        Return the Euclidean distance between two points p and q.\n",
            "        \n",
            "        The points should be specified as sequences (or iterables) of\n",
            "        coordinates.  Both inputs must have the same dimension.\n",
            "        \n",
            "        Roughly equivalent to:\n",
            "            sqrt(sum((px - qx) ** 2.0 for px, qx in zip(p, q)))\n",
            "    \n",
            "    erf(x, /)\n",
            "        Error function at x.\n",
            "    \n",
            "    erfc(x, /)\n",
            "        Complementary error function at x.\n",
            "    \n",
            "    exp(x, /)\n",
            "        Return e raised to the power of x.\n",
            "    \n",
            "    expm1(x, /)\n",
            "        Return exp(x)-1.\n",
            "        \n",
            "        This function avoids the loss of precision involved in the direct evaluation of exp(x)-1 for small x.\n",
            "    \n",
            "    fabs(x, /)\n",
            "        Return the absolute value of the float x.\n",
            "    \n",
            "    factorial(x, /)\n",
            "        Find x!.\n",
            "        \n",
            "        Raise a ValueError if x is negative or non-integral.\n",
            "    \n",
            "    floor(x, /)\n",
            "        Return the floor of x as an Integral.\n",
            "        \n",
            "        This is the largest integer <= x.\n",
            "    \n",
            "    fmod(x, y, /)\n",
            "        Return fmod(x, y), according to platform C.\n",
            "        \n",
            "        x % y may differ.\n",
            "    \n",
            "    frexp(x, /)\n",
            "        Return the mantissa and exponent of x, as pair (m, e).\n",
            "        \n",
            "        m is a float and e is an int, such that x = m * 2.**e.\n",
            "        If x is 0, m and e are both 0.  Else 0.5 <= abs(m) < 1.0.\n",
            "    \n",
            "    fsum(seq, /)\n",
            "        Return an accurate floating point sum of values in the iterable seq.\n",
            "        \n",
            "        Assumes IEEE-754 floating point arithmetic.\n",
            "    \n",
            "    gamma(x, /)\n",
            "        Gamma function at x.\n",
            "    \n",
            "    gcd(*integers)\n",
            "        Greatest Common Divisor.\n",
            "    \n",
            "    hypot(...)\n",
            "        hypot(*coordinates) -> value\n",
            "        \n",
            "        Multidimensional Euclidean distance from the origin to a point.\n",
            "        \n",
            "        Roughly equivalent to:\n",
            "            sqrt(sum(x**2 for x in coordinates))\n",
            "        \n",
            "        For a two dimensional point (x, y), gives the hypotenuse\n",
            "        using the Pythagorean theorem:  sqrt(x*x + y*y).\n",
            "        \n",
            "        For example, the hypotenuse of a 3/4/5 right triangle is:\n",
            "        \n",
            "            >>> hypot(3.0, 4.0)\n",
            "            5.0\n",
            "    \n",
            "    isclose(a, b, *, rel_tol=1e-09, abs_tol=0.0)\n",
            "        Determine whether two floating point numbers are close in value.\n",
            "        \n",
            "          rel_tol\n",
            "            maximum difference for being considered \"close\", relative to the\n",
            "            magnitude of the input values\n",
            "          abs_tol\n",
            "            maximum difference for being considered \"close\", regardless of the\n",
            "            magnitude of the input values\n",
            "        \n",
            "        Return True if a is close in value to b, and False otherwise.\n",
            "        \n",
            "        For the values to be considered close, the difference between them\n",
            "        must be smaller than at least one of the tolerances.\n",
            "        \n",
            "        -inf, inf and NaN behave similarly to the IEEE 754 Standard.  That\n",
            "        is, NaN is not close to anything, even itself.  inf and -inf are\n",
            "        only close to themselves.\n",
            "    \n",
            "    isfinite(x, /)\n",
            "        Return True if x is neither an infinity nor a NaN, and False otherwise.\n",
            "    \n",
            "    isinf(x, /)\n",
            "        Return True if x is a positive or negative infinity, and False otherwise.\n",
            "    \n",
            "    isnan(x, /)\n",
            "        Return True if x is a NaN (not a number), and False otherwise.\n",
            "    \n",
            "    isqrt(n, /)\n",
            "        Return the integer part of the square root of the input.\n",
            "    \n",
            "    lcm(*integers)\n",
            "        Least Common Multiple.\n",
            "    \n",
            "    ldexp(x, i, /)\n",
            "        Return x * (2**i).\n",
            "        \n",
            "        This is essentially the inverse of frexp().\n",
            "    \n",
            "    lgamma(x, /)\n",
            "        Natural logarithm of absolute value of Gamma function at x.\n",
            "    \n",
            "    log(...)\n",
            "        log(x, [base=math.e])\n",
            "        Return the logarithm of x to the given base.\n",
            "        \n",
            "        If the base not specified, returns the natural logarithm (base e) of x.\n",
            "    \n",
            "    log10(x, /)\n",
            "        Return the base 10 logarithm of x.\n",
            "    \n",
            "    log1p(x, /)\n",
            "        Return the natural logarithm of 1+x (base e).\n",
            "        \n",
            "        The result is computed in a way which is accurate for x near zero.\n",
            "    \n",
            "    log2(x, /)\n",
            "        Return the base 2 logarithm of x.\n",
            "    \n",
            "    modf(x, /)\n",
            "        Return the fractional and integer parts of x.\n",
            "        \n",
            "        Both results carry the sign of x and are floats.\n",
            "    \n",
            "    nextafter(x, y, /)\n",
            "        Return the next floating-point value after x towards y.\n",
            "    \n",
            "    perm(n, k=None, /)\n",
            "        Number of ways to choose k items from n items without repetition and with order.\n",
            "        \n",
            "        Evaluates to n! / (n - k)! when k <= n and evaluates\n",
            "        to zero when k > n.\n",
            "        \n",
            "        If k is not specified or is None, then k defaults to n\n",
            "        and the function returns n!.\n",
            "        \n",
            "        Raises TypeError if either of the arguments are not integers.\n",
            "        Raises ValueError if either of the arguments are negative.\n",
            "    \n",
            "    pow(x, y, /)\n",
            "        Return x**y (x to the power of y).\n",
            "    \n",
            "    prod(iterable, /, *, start=1)\n",
            "        Calculate the product of all the elements in the input iterable.\n",
            "        \n",
            "        The default start value for the product is 1.\n",
            "        \n",
            "        When the iterable is empty, return the start value.  This function is\n",
            "        intended specifically for use with numeric values and may reject\n",
            "        non-numeric types.\n",
            "    \n",
            "    radians(x, /)\n",
            "        Convert angle x from degrees to radians.\n",
            "    \n",
            "    remainder(x, y, /)\n",
            "        Difference between x and the closest integer multiple of y.\n",
            "        \n",
            "        Return x - n*y where n*y is the closest integer multiple of y.\n",
            "        In the case where x is exactly halfway between two multiples of\n",
            "        y, the nearest even value of n is used. The result is always exact.\n",
            "    \n",
            "    sin(x, /)\n",
            "        Return the sine of x (measured in radians).\n",
            "    \n",
            "    sinh(x, /)\n",
            "        Return the hyperbolic sine of x.\n",
            "    \n",
            "    sqrt(x, /)\n",
            "        Return the square root of x.\n",
            "    \n",
            "    tan(x, /)\n",
            "        Return the tangent of x (measured in radians).\n",
            "    \n",
            "    tanh(x, /)\n",
            "        Return the hyperbolic tangent of x.\n",
            "    \n",
            "    trunc(x, /)\n",
            "        Truncates the Real x to the nearest Integral toward 0.\n",
            "        \n",
            "        Uses the __trunc__ magic method.\n",
            "    \n",
            "    ulp(x, /)\n",
            "        Return the value of the least significant bit of the float x.\n",
            "\n",
            "DATA\n",
            "    e = 2.718281828459045\n",
            "    inf = inf\n",
            "    nan = nan\n",
            "    pi = 3.141592653589793\n",
            "    tau = 6.283185307179586\n",
            "\n",
            "FILE\n",
            "    (built-in)\n",
            "\n",
            "\n"
          ]
        }
      ],
      "source": [
        "help(math)"
      ]
    },
    {
      "cell_type": "markdown",
      "metadata": {
        "id": "1E93Ok8JkAXg"
      },
      "source": [
        "# Модуль `math`"
      ]
    },
    {
      "cell_type": "code",
      "execution_count": null,
      "metadata": {
        "id": "KovOUVzqkAXg"
      },
      "outputs": [],
      "source": [
        "import math as mt"
      ]
    },
    {
      "cell_type": "code",
      "execution_count": null,
      "metadata": {
        "id": "VAah2PXvkAXg",
        "outputId": "4b375b08-e225-47e7-dd7c-5a809057ef8b"
      },
      "outputs": [
        {
          "data": {
            "text/plain": [
              "21"
            ]
          },
          "execution_count": 18,
          "metadata": {},
          "output_type": "execute_result"
        }
      ],
      "source": [
        "mt.ceil(20.1)"
      ]
    },
    {
      "cell_type": "code",
      "execution_count": null,
      "metadata": {
        "id": "x4QAwWaAkAXg",
        "outputId": "6abcde58-256f-4d5c-ce74-ff649bbe8f27"
      },
      "outputs": [
        {
          "data": {
            "text/plain": [
              "20"
            ]
          },
          "execution_count": 19,
          "metadata": {},
          "output_type": "execute_result"
        }
      ],
      "source": [
        "mt.floor(20.9)"
      ]
    },
    {
      "cell_type": "markdown",
      "metadata": {
        "id": "sBjxC2f4kAXg"
      },
      "source": [
        "---\n",
        "$$\n",
        "\\sqrt{x}\n",
        "$$"
      ]
    },
    {
      "cell_type": "code",
      "execution_count": null,
      "metadata": {
        "id": "cUk1ykJxkAXg",
        "outputId": "e3ab8b91-f1f2-47c6-d6bb-907df26dae11"
      },
      "outputs": [
        {
          "data": {
            "text/plain": [
              "5.0"
            ]
          },
          "execution_count": 20,
          "metadata": {},
          "output_type": "execute_result"
        }
      ],
      "source": [
        "x = 25\n",
        "mt.sqrt(x)"
      ]
    },
    {
      "cell_type": "markdown",
      "metadata": {
        "id": "fEez2MnEkAXg"
      },
      "source": [
        "---\n",
        "$$\n",
        "e^x\n",
        "$$"
      ]
    },
    {
      "cell_type": "code",
      "execution_count": null,
      "metadata": {
        "id": "xFSxyBcakAXg",
        "outputId": "dba1ac56-7f48-4696-864f-cb0b23eace84"
      },
      "outputs": [
        {
          "data": {
            "text/plain": [
              "54.598150033144236"
            ]
          },
          "execution_count": 22,
          "metadata": {},
          "output_type": "execute_result"
        }
      ],
      "source": [
        "x = 4\n",
        "mt.exp(x)"
      ]
    },
    {
      "cell_type": "markdown",
      "metadata": {
        "id": "QLTzoVsTkAXh"
      },
      "source": [
        "---\n",
        "$$\n",
        "\\ln{x}\n",
        "$$"
      ]
    },
    {
      "cell_type": "code",
      "execution_count": null,
      "metadata": {
        "id": "tfSFb2QRkAXh",
        "outputId": "b2b932ec-f7f4-46e4-c723-bb1cc2a44278"
      },
      "outputs": [
        {
          "data": {
            "text/plain": [
              "2.302585092994046"
            ]
          },
          "execution_count": 23,
          "metadata": {},
          "output_type": "execute_result"
        }
      ],
      "source": [
        "x = 10\n",
        "mt.log(x)"
      ]
    },
    {
      "cell_type": "markdown",
      "metadata": {
        "id": "MiuoSFaEkAXh"
      },
      "source": [
        "---\n",
        "$$\n",
        "\\log_b{a}\n",
        "$$"
      ]
    },
    {
      "cell_type": "code",
      "execution_count": null,
      "metadata": {
        "id": "M2_wy8EGkAXh",
        "outputId": "fb4e6013-258a-4d58-89ce-42f414d51de9"
      },
      "outputs": [
        {
          "data": {
            "text/plain": [
              "2.0"
            ]
          },
          "execution_count": 25,
          "metadata": {},
          "output_type": "execute_result"
        }
      ],
      "source": [
        "a = 25\n",
        "b = 5\n",
        "mt.log(a, b)"
      ]
    },
    {
      "cell_type": "markdown",
      "metadata": {
        "id": "62hVfHW-kAXh"
      },
      "source": [
        "---\n",
        "Константы $ \\pi $ и $ e $"
      ]
    },
    {
      "cell_type": "code",
      "execution_count": null,
      "metadata": {
        "id": "8gLRY7EfkAXh",
        "outputId": "354be982-2838-4d35-b987-03016e60871d"
      },
      "outputs": [
        {
          "data": {
            "text/plain": [
              "(3.141592653589793, 2.718281828459045)"
            ]
          },
          "execution_count": 27,
          "metadata": {},
          "output_type": "execute_result"
        }
      ],
      "source": [
        "mt.pi, mt.e"
      ]
    },
    {
      "cell_type": "markdown",
      "metadata": {
        "id": "V-9RqhhvkAXh"
      },
      "source": [
        "# Модуль `random`"
      ]
    },
    {
      "cell_type": "code",
      "execution_count": null,
      "metadata": {
        "id": "OlbsH5wNkAXh"
      },
      "outputs": [],
      "source": [
        "import random as rd"
      ]
    },
    {
      "cell_type": "code",
      "execution_count": null,
      "metadata": {
        "id": "BlcVEfd3kAXh",
        "outputId": "2a6be47d-2a72-4eb0-e5fa-411f667f32ea"
      },
      "outputs": [
        {
          "data": {
            "text/plain": [
              "0.34125110847228346"
            ]
          },
          "execution_count": 36,
          "metadata": {},
          "output_type": "execute_result"
        }
      ],
      "source": [
        "rd.random()"
      ]
    },
    {
      "cell_type": "code",
      "execution_count": null,
      "metadata": {
        "id": "ENPgxz2xkAXh",
        "outputId": "f9b5c016-3339-4b30-af00-dc704021958f"
      },
      "outputs": [
        {
          "data": {
            "text/plain": [
              "0"
            ]
          },
          "execution_count": 82,
          "metadata": {},
          "output_type": "execute_result"
        }
      ],
      "source": [
        "rd.randint(0, 10)"
      ]
    },
    {
      "cell_type": "code",
      "execution_count": null,
      "metadata": {
        "id": "NXyt3qb5kAXi",
        "outputId": "4b1eb5cd-194e-4842-8ff3-b5ecdd9aac25"
      },
      "outputs": [
        {
          "data": {
            "text/plain": [
              "4.1257296570970965"
            ]
          },
          "execution_count": 88,
          "metadata": {},
          "output_type": "execute_result"
        }
      ],
      "source": [
        "rd.uniform(0, 10)"
      ]
    },
    {
      "cell_type": "code",
      "execution_count": null,
      "metadata": {
        "id": "GnUlgFrikAXi"
      },
      "outputs": [],
      "source": [
        "L = ['a', 'b', 'c', 'd', 'e', 'f', 'g']"
      ]
    },
    {
      "cell_type": "code",
      "execution_count": null,
      "metadata": {
        "id": "MZJGGHlzkAXi",
        "outputId": "c3ee0f93-71c7-4e39-f795-6503c1c4d915"
      },
      "outputs": [
        {
          "data": {
            "text/plain": [
              "'e'"
            ]
          },
          "execution_count": 62,
          "metadata": {},
          "output_type": "execute_result"
        }
      ],
      "source": [
        "rd.choice(L)"
      ]
    },
    {
      "cell_type": "code",
      "execution_count": null,
      "metadata": {
        "id": "eGgr8MW4kAXi",
        "outputId": "aea5689e-37cf-429d-df1a-941b000013bf"
      },
      "outputs": [
        {
          "data": {
            "text/plain": [
              "['f', 'g', 'b']"
            ]
          },
          "execution_count": 70,
          "metadata": {},
          "output_type": "execute_result"
        }
      ],
      "source": [
        "rd.sample(L, 3)"
      ]
    },
    {
      "cell_type": "code",
      "execution_count": null,
      "metadata": {
        "id": "C14ly1F-kAXj",
        "outputId": "6c43069b-107d-49e9-ab9e-5752fa280ee6"
      },
      "outputs": [
        {
          "data": {
            "text/plain": [
              "[34, 72, 23, 38, 92, 65, 89, 74, 88, 12]"
            ]
          },
          "execution_count": 77,
          "metadata": {},
          "output_type": "execute_result"
        }
      ],
      "source": [
        "rd.sample(range(100), 10)"
      ]
    },
    {
      "cell_type": "markdown",
      "metadata": {
        "id": "9klqN9LbkAXj"
      },
      "source": [
        "# Модуль `time`"
      ]
    },
    {
      "cell_type": "code",
      "execution_count": null,
      "metadata": {
        "id": "x82ks0emkAXj"
      },
      "outputs": [],
      "source": [
        "import time"
      ]
    },
    {
      "cell_type": "markdown",
      "metadata": {
        "id": "zu90fNl6kAXj"
      },
      "source": [
        "Функция `time()` возвращает время в секундах, прошедшее с 1 января 1970 года."
      ]
    },
    {
      "cell_type": "code",
      "execution_count": null,
      "metadata": {
        "id": "IWwFVM7PkAXj",
        "outputId": "76d24671-bdf3-4dc6-dcc5-f92e3b9243b0"
      },
      "outputs": [
        {
          "data": {
            "text/plain": [
              "1699456878.3841045"
            ]
          },
          "execution_count": 109,
          "metadata": {},
          "output_type": "execute_result"
        }
      ],
      "source": [
        "time.time()"
      ]
    },
    {
      "cell_type": "markdown",
      "metadata": {
        "id": "UpLqUb9YkAXk"
      },
      "source": [
        "Текущее время в виде удобочитаемой строки можно получить при помощи функции `ctime()`:"
      ]
    },
    {
      "cell_type": "code",
      "execution_count": null,
      "metadata": {
        "id": "nWewJ51zkAXk",
        "outputId": "0f5f449d-e124-48b7-cd3a-f06af5e34564"
      },
      "outputs": [
        {
          "data": {
            "text/plain": [
              "'Wed Nov  8 18:21:42 2023'"
            ]
          },
          "execution_count": 112,
          "metadata": {},
          "output_type": "execute_result"
        }
      ],
      "source": [
        "time.ctime()"
      ]
    },
    {
      "cell_type": "code",
      "execution_count": null,
      "metadata": {
        "id": "UTgCkP-rkAXk",
        "outputId": "3bc16cae-cac5-4611-b20a-258defdc323c"
      },
      "outputs": [
        {
          "data": {
            "text/plain": [
              "time.struct_time(tm_year=2023, tm_mon=11, tm_mday=8, tm_hour=18, tm_min=23, tm_sec=8, tm_wday=2, tm_yday=312, tm_isdst=0)"
            ]
          },
          "execution_count": 115,
          "metadata": {},
          "output_type": "execute_result"
        }
      ],
      "source": [
        "time.localtime()"
      ]
    },
    {
      "cell_type": "code",
      "execution_count": null,
      "metadata": {
        "id": "wkY960cAkAXk"
      },
      "outputs": [],
      "source": [
        "dt = time.localtime()"
      ]
    },
    {
      "cell_type": "code",
      "execution_count": null,
      "metadata": {
        "id": "acBDvlLJkAXk",
        "outputId": "04e03398-ad74-46b2-bbd7-13ec19fbf164"
      },
      "outputs": [
        {
          "data": {
            "text/plain": [
              "24"
            ]
          },
          "execution_count": 124,
          "metadata": {},
          "output_type": "execute_result"
        }
      ],
      "source": [
        "dt[5]"
      ]
    },
    {
      "cell_type": "code",
      "execution_count": null,
      "metadata": {
        "id": "KIvNSxLQkAXk",
        "outputId": "17e87a28-f71f-4d8e-cecf-bc077257f9d5"
      },
      "outputs": [
        {
          "data": {
            "text/plain": [
              "4"
            ]
          },
          "execution_count": 136,
          "metadata": {},
          "output_type": "execute_result"
        }
      ],
      "source": [
        "time.localtime()[5]"
      ]
    },
    {
      "cell_type": "code",
      "execution_count": null,
      "metadata": {
        "id": "IR2Swj7JkAXk",
        "outputId": "5fe38e20-b19e-40a6-aadc-8ad2fbf025ba"
      },
      "outputs": [
        {
          "name": "stdout",
          "output_type": "stream",
          "text": [
            "0\n",
            "1\n",
            "4\n",
            "9\n",
            "16\n"
          ]
        }
      ],
      "source": [
        "for i in range(5):\n",
        "    time.sleep(1)\n",
        "    print(i**2)"
      ]
    }
  ],
  "metadata": {
    "kernelspec": {
      "display_name": "tf",
      "language": "python",
      "name": "python3"
    },
    "language_info": {
      "codemirror_mode": {
        "name": "ipython",
        "version": 3
      },
      "file_extension": ".py",
      "mimetype": "text/x-python",
      "name": "python",
      "nbconvert_exporter": "python",
      "pygments_lexer": "ipython3",
      "version": "3.10.10"
    },
    "colab": {
      "provenance": [],
      "include_colab_link": true
    }
  },
  "nbformat": 4,
  "nbformat_minor": 0
}