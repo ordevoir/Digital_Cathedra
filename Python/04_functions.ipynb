{
 "cells": [
  {
   "cell_type": "markdown",
   "id": "f12ad133",
   "metadata": {
    "colab_type": "text",
    "id": "view-in-github"
   },
   "source": [
    "<a href=\"https://colab.research.google.com/github/ordevoir/Digital_Cathedra/blob/main/Python/04_functions.ipynb\" target=\"_parent\"><img src=\"https://colab.research.google.com/assets/colab-badge.svg\" alt=\"Open In Colab\"/></a>"
   ]
  },
  {
   "cell_type": "markdown",
   "id": "c3f4e3d8-d9e8-4cf4-9136-c313b20f4086",
   "metadata": {
    "id": "c3f4e3d8-d9e8-4cf4-9136-c313b20f4086"
   },
   "source": [
    "# Функции\n",
    "\n",
    "Функции в программировании нужны для того, чтобы упростить и структурировать код, избежать повторения одинаковых действий и сделать программу более модульной и понятной. Функции позволяют выделить отдельные блоки кода, которые решают определенную задачу, и вызывать их по имени в любом месте программы. Функции также могут принимать и возвращать значения, которые используются для обмена данными между разными частями программы. Функции могут быть встроенными или определенными пользователем.\n",
    "\n",
    "Встроенные функци – это функции, которые предоставляются языком программирования или его библиотеками и реализуют общие или специфические операции. Например, в Python есть встроенные функци и `print()`, `len()`, `type()` и другие, которые позволяют выводить данные на экран, получать длину объекта, получать тип объектар и т.д.\n",
    "\n",
    "Определенные пользователем функции – это функции, которые создает сам программист для решения своих задач."
   ]
  },
  {
   "cell_type": "markdown",
   "id": "ef40dbc4-a5d0-4471-9af4-756e7f336573",
   "metadata": {
    "id": "ef40dbc4-a5d0-4471-9af4-756e7f336573"
   },
   "source": [
    "# Определение функции\n",
    "\n",
    "Для **определения** функции используется ключевое слово `def` (сокращение от *define*). Тело функции прописывается с отступом. В данном примере функция принимает два аргумента (`a` и `b`). Значения аргументов будут использованы в теле функции при выполнении функции."
   ]
  },
  {
   "cell_type": "code",
   "execution_count": null,
   "id": "88264497-3e42-4e8b-b7e3-e5cd90cdcbe3",
   "metadata": {
    "id": "88264497-3e42-4e8b-b7e3-e5cd90cdcbe3"
   },
   "outputs": [],
   "source": [
    "def some_function(a, b):\n",
    "    c = a * b - 1\n",
    "    return c"
   ]
  },
  {
   "cell_type": "markdown",
   "id": "8786a182-acb2-4028-a3a0-04877a122227",
   "metadata": {
    "id": "8786a182-acb2-4028-a3a0-04877a122227"
   },
   "source": [
    "При объявлении функции не производится выполнения тела функции. Выполнение осуществляется только при вызове функции."
   ]
  },
  {
   "cell_type": "markdown",
   "id": "afa4d6ad-6ce1-4469-8815-0f905ef415cb",
   "metadata": {
    "id": "afa4d6ad-6ce1-4469-8815-0f905ef415cb"
   },
   "source": [
    "# Вызов функции\n",
    "\n",
    "Для того, чтобы поспользоваться функцией, необходимо произвести **вызов** (*call*) функции. Для этого нужно написать имя функции, за которым будут следовать круглые скобки, в которых можно прописать аргументы."
   ]
  },
  {
   "cell_type": "code",
   "execution_count": null,
   "id": "17e7eb7b-d644-4e08-99fc-0e123ae924ad",
   "metadata": {
    "id": "17e7eb7b-d644-4e08-99fc-0e123ae924ad"
   },
   "outputs": [],
   "source": [
    "x, y = 5, 6\n",
    "result = some_function(x, y)\n",
    "print(result)"
   ]
  },
  {
   "cell_type": "markdown",
   "id": "7054600b-f50d-4034-8cfb-3bbce0e7aab5",
   "metadata": {
    "id": "7054600b-f50d-4034-8cfb-3bbce0e7aab5"
   },
   "source": [
    "Очевидно, что вызов такой функции является выражением, результатом которого является значение, определяемое оператором `return`. Это значение, **возвращаемое** функцией, можно присвоить некоторой переменной."
   ]
  },
  {
   "cell_type": "markdown",
   "id": "76373222-0c0f-4003-99fd-64d0c26e1689",
   "metadata": {
    "id": "76373222-0c0f-4003-99fd-64d0c26e1689"
   },
   "source": [
    "> При вызове функций всегда после имени функции идут круглые скобки `()`. Если написать имя функции без скобок, то вызова функции не произойдет: имя функции является переменной, которая ссылается на объект функции, так что если просто написать имя функции, это это будет выражение, возвращающее объект функции. Это обстоятельство позволяет передавать функции по ссылке (см. ниже)"
   ]
  },
  {
   "cell_type": "code",
   "execution_count": null,
   "id": "269e210e-c224-4f57-8bb6-c17f89b4bddc",
   "metadata": {
    "id": "269e210e-c224-4f57-8bb6-c17f89b4bddc"
   },
   "outputs": [],
   "source": [
    "some_function"
   ]
  },
  {
   "cell_type": "markdown",
   "id": "293b78b0",
   "metadata": {
    "id": "293b78b0"
   },
   "source": [
    "После определения функции, ее можно вызывать многократно, в самых разных участках кода."
   ]
  },
  {
   "cell_type": "markdown",
   "id": "d98fe4d3",
   "metadata": {
    "id": "d98fe4d3"
   },
   "source": [
    "## Пример\n",
    "\n",
    "Рассмотрим код, вычисляющий площадь цилиндра:"
   ]
  },
  {
   "cell_type": "code",
   "execution_count": null,
   "id": "ff1cf770-9a33-4721-ae5d-157c1bda6efa",
   "metadata": {
    "id": "ff1cf770-9a33-4721-ae5d-157c1bda6efa"
   },
   "outputs": [],
   "source": [
    "h = 100\n",
    "r = 2\n",
    "pi = 3.14\n",
    "\n",
    "base_area = pi * r**2           # площадь основания\n",
    "side_area = 2 * pi * r * h      # площадь боковой поверхности\n",
    "area = 2*base_area + side_area  # полная площалдь\n",
    "\n",
    "print('S =', area)"
   ]
  },
  {
   "cell_type": "markdown",
   "id": "d8184f34",
   "metadata": {
    "id": "d8184f34"
   },
   "source": [
    "Определим функцию, которая по заданным аргументам (высота, радиус) будет вычислять площадь цилиндра и возвращать его в качестве результата выполнения:"
   ]
  },
  {
   "cell_type": "code",
   "execution_count": null,
   "id": "dcfd4128",
   "metadata": {
    "id": "dcfd4128"
   },
   "outputs": [],
   "source": [
    "def cylinder_area(h, r):\n",
    "    pi = 3.14\n",
    "    base_area = pi * r**2           # площадь основания\n",
    "    side_area = 2 * pi * r * h      # площадь боковой поверхности\n",
    "    area = 2*base_area + side_area  # возврат полной площади\n",
    "    return area"
   ]
  },
  {
   "cell_type": "markdown",
   "id": "cc04e991",
   "metadata": {
    "id": "cc04e991"
   },
   "source": [
    "Теперь произведем вызов функции для того, чтобы получить площадь. Результат выполнения функции, т.е. значение, возвращаемое функцией, присвоим переменной `s` и выведем ее на печать:"
   ]
  },
  {
   "cell_type": "code",
   "execution_count": null,
   "id": "5d639a0a",
   "metadata": {
    "id": "5d639a0a"
   },
   "outputs": [],
   "source": [
    "s = cylinder_area(100, 2)\n",
    "print('S =', s)"
   ]
  },
  {
   "cell_type": "markdown",
   "id": "2bf044f9",
   "metadata": {
    "id": "2bf044f9"
   },
   "source": [
    "Предположим, что мы в ходе выполнения программы получили значения высоты и радиуса цилиндра в переменных `H` и `R`. Тогда мы можем вычислить площадь цилиндра, вызвав функцию `cylinder_area()` и передав ей соответствующие аргументы:"
   ]
  },
  {
   "cell_type": "code",
   "execution_count": null,
   "id": "713a718f",
   "metadata": {
    "id": "713a718f"
   },
   "outputs": [],
   "source": [
    "H = 10\n",
    "R = 3\n",
    "s = cylinder_area(H, R)\n",
    "print('S =', s)"
   ]
  },
  {
   "cell_type": "markdown",
   "id": "5777e6e2",
   "metadata": {
    "id": "5777e6e2"
   },
   "source": [
    "> Заметим, что переменные, хранящие значения высоты и радиуса, передаются в функцию в той последовательности, которая была предусмотрена при определении функции: первым аргументом функции является высота, вторым – радиус."
   ]
  },
  {
   "cell_type": "markdown",
   "id": "040cc3b5-5eb6-4019-be1f-22a6e2cb9289",
   "metadata": {
    "id": "040cc3b5-5eb6-4019-be1f-22a6e2cb9289"
   },
   "source": [
    "# Функции без `return`"
   ]
  },
  {
   "cell_type": "markdown",
   "id": "0d5698de",
   "metadata": {
    "id": "0d5698de"
   },
   "source": [
    "В качестве примера функции, которая не возвращает значений, напишем фукнцию, которая принимает в качестве аргумента некоторую строку, и выводит на печать отдельные слова, из которых оно состоит."
   ]
  },
  {
   "cell_type": "code",
   "execution_count": null,
   "id": "9e5f26ff",
   "metadata": {
    "id": "9e5f26ff"
   },
   "outputs": [],
   "source": [
    "def print_words(text):\n",
    "    word = ''\n",
    "    for symbol in text:\n",
    "        if symbol != ' ':\n",
    "            word = word + symbol\n",
    "        else:\n",
    "            print(word)\n",
    "            word = ''"
   ]
  },
  {
   "cell_type": "code",
   "execution_count": null,
   "id": "659de2c5",
   "metadata": {
    "id": "659de2c5"
   },
   "outputs": [],
   "source": [
    "some_text = \"Medicine is the field of health and healing\"\n",
    "print_words(some_text)"
   ]
  },
  {
   "cell_type": "markdown",
   "id": "a788fdab",
   "metadata": {
    "id": "a788fdab"
   },
   "source": [
    "Напишем теперь функцию, которая будет менять объект, передаваемый ей в качестве аргумента. В рассматриваемом примере функция `increase_elements_of_list()` изменяет список, увеличивая значения элементов на единицу:"
   ]
  },
  {
   "cell_type": "code",
   "execution_count": null,
   "id": "b9ac61a7",
   "metadata": {
    "id": "b9ac61a7"
   },
   "outputs": [],
   "source": [
    "def increase_elements_of_list(x):\n",
    "    for i in range(len(x)):\n",
    "        x[i] += 1"
   ]
  },
  {
   "cell_type": "markdown",
   "id": "e23f94ac",
   "metadata": {
    "id": "e23f94ac"
   },
   "source": [
    "> Следует отметить, что для передавать в функцию необходимо не произвольный список, а список целиком состоящий из чисел. Иначе оператор арифметического присваивания не будет работать корректно."
   ]
  },
  {
   "cell_type": "code",
   "execution_count": null,
   "id": "956c254c-3dee-4d96-bec4-d793b960b1ce",
   "metadata": {
    "id": "956c254c-3dee-4d96-bec4-d793b960b1ce"
   },
   "outputs": [],
   "source": [
    "a = [1, 2, 3]                   # имя \"a\" ссылается на список\n",
    "increase_elements_of_list(a)    # вызов функции, функция меняет список \"a\"\n",
    "print(a)"
   ]
  },
  {
   "cell_type": "markdown",
   "id": "300112b2-9d20-476d-8218-b4ab9033219e",
   "metadata": {
    "id": "300112b2-9d20-476d-8218-b4ab9033219e"
   },
   "source": [
    "## Что возвращает функция без `return`?\n",
    "\n",
    "Строго говоря, функции без `return` все же кое что возвращают, а именно – объект `None`:"
   ]
  },
  {
   "cell_type": "code",
   "execution_count": null,
   "id": "0eafb20d-02b8-4266-8d73-067682d5c6cc",
   "metadata": {
    "id": "0eafb20d-02b8-4266-8d73-067682d5c6cc"
   },
   "outputs": [],
   "source": [
    "result = increase_elements_of_list(a)\n",
    "print(result)"
   ]
  },
  {
   "cell_type": "markdown",
   "id": "43663edf-cdef-419f-9530-61aa11c91a32",
   "metadata": {
    "id": "43663edf-cdef-419f-9530-61aa11c91a32"
   },
   "source": [
    "## Образец плохой практики\n",
    "\n",
    "Список `a` можно изменить в функции не передавая ее в качестве аргумента:"
   ]
  },
  {
   "cell_type": "code",
   "execution_count": null,
   "id": "2ee217f5",
   "metadata": {
    "id": "2ee217f5"
   },
   "outputs": [],
   "source": [
    "def f():\n",
    "    a.append(a[-1]+1)"
   ]
  },
  {
   "cell_type": "code",
   "execution_count": null,
   "id": "25b63eff-e34b-4b72-a022-4e7ca0854700",
   "metadata": {
    "id": "25b63eff-e34b-4b72-a022-4e7ca0854700"
   },
   "outputs": [],
   "source": [
    "a = [1, 2, 3]           # глобальные"
   ]
  },
  {
   "cell_type": "code",
   "execution_count": null,
   "id": "e5dd098c",
   "metadata": {
    "id": "e5dd098c"
   },
   "outputs": [],
   "source": [
    "f()\n",
    "print(a)"
   ]
  },
  {
   "cell_type": "markdown",
   "id": "156c51a0",
   "metadata": {
    "id": "156c51a0"
   },
   "source": [
    "Плохо здесь то, что глядя на вызов функции `f()` вряд ли можно догадаться, что она меняет объект `a`. В более сложном коде это может привести к непредсказуемым изменениям объекта `a`, при котором будет очень трудно выяснить, почему объект меняется: мы смотрим на вызов функции `f()` и не видим никаких намеков на то, что она будет менять объект и именем `a`. Более того, функция не является универсальной: кроме как менять `a`, функция ничего больше не умеет, ведь она не сможет работать с каким либо другим списком.\n",
    "\n",
    "Вишенкой на торте является то, что название функции совершенно не информативное. Оно ничего нам не говорит о поведении функции."
   ]
  },
  {
   "cell_type": "markdown",
   "id": "3df04e9b",
   "metadata": {
    "id": "3df04e9b"
   },
   "source": [
    "## Как сделать грамотно?\n",
    "\n",
    "Во-первых следовало бы явно передавать список в качестве аргумента. Для этого в определении функции необходимо определить аргумент. Во-вторых стоит подобрать более информативное имя для функции `append_increased_last_elemend()`."
   ]
  },
  {
   "cell_type": "code",
   "execution_count": null,
   "id": "1dde2b2c",
   "metadata": {
    "id": "1dde2b2c"
   },
   "outputs": [],
   "source": [
    "def append_increased_last_elemend(a):\n",
    "    a.append(a[-1]+1)"
   ]
  },
  {
   "cell_type": "markdown",
   "id": "40b10951",
   "metadata": {
    "id": "40b10951"
   },
   "source": [
    "Тогда функция будет универсальной – работать с любым числовым списком, и при этом, глядя на вызов функции всегда будет понятно, над каким объектом функция совершает манипуляции:"
   ]
  },
  {
   "cell_type": "code",
   "execution_count": null,
   "id": "6bb8ae69",
   "metadata": {
    "id": "6bb8ae69"
   },
   "outputs": [],
   "source": [
    "b = [100]"
   ]
  },
  {
   "cell_type": "code",
   "execution_count": null,
   "id": "0e7d227f",
   "metadata": {
    "id": "0e7d227f"
   },
   "outputs": [],
   "source": [
    "append_increased_last_elemend(b)\n",
    "print(b)"
   ]
  },
  {
   "cell_type": "code",
   "execution_count": null,
   "id": "56c3bfd0",
   "metadata": {
    "id": "56c3bfd0"
   },
   "outputs": [],
   "source": [
    "append_increased_last_elemend(a)\n",
    "print(a)"
   ]
  },
  {
   "cell_type": "markdown",
   "id": "de4b584c",
   "metadata": {
    "id": "de4b584c"
   },
   "source": [
    "# Локальные и глобальные переменные\n",
    "\n",
    "**Локальные переменные** (*local variables*) – это переменные, которые объявлены внутри функции и существуют только во время выполнения этой функции.\n",
    "\n",
    "**Глобальные переменные** (*global variables*) – это те, которые объявлены вне функции и существуют во всей программе.\n",
    "\n",
    "Локальные переменные могут иметь то же имя, что и глобальные, но они не связаны между собой."
   ]
  },
  {
   "cell_type": "markdown",
   "id": "4c816076",
   "metadata": {
    "id": "4c816076"
   },
   "source": [
    "Немного модифицируем функцию `append_increased_last_elemend()`:"
   ]
  },
  {
   "cell_type": "code",
   "execution_count": null,
   "id": "d50360a1",
   "metadata": {
    "id": "d50360a1"
   },
   "outputs": [],
   "source": [
    "def append_increased_last_elemend(a):\n",
    "    t = 1\n",
    "    a.append(a[-1]+t)"
   ]
  },
  {
   "cell_type": "markdown",
   "id": "1c37212d",
   "metadata": {
    "id": "1c37212d"
   },
   "source": [
    "Мы используем в теле функции локальную переменную `t`. Эта перменная создается при вызове функции и вне функции мы не можем получить к ней доступ – вне функции она не существует."
   ]
  },
  {
   "cell_type": "code",
   "execution_count": null,
   "id": "42cbd816",
   "metadata": {
    "id": "42cbd816"
   },
   "outputs": [],
   "source": [
    "# t"
   ]
  },
  {
   "cell_type": "markdown",
   "id": "2e3d1d36",
   "metadata": {
    "id": "2e3d1d36"
   },
   "source": [
    "Объявим теперь вне функции глобальные перменные `a`, `b` и `t`:"
   ]
  },
  {
   "cell_type": "code",
   "execution_count": null,
   "id": "700a55c1",
   "metadata": {
    "id": "700a55c1"
   },
   "outputs": [],
   "source": [
    "a = [1, 2 ,3]\n",
    "b = [100]\n",
    "t = 10"
   ]
  },
  {
   "cell_type": "markdown",
   "id": "48da1d67",
   "metadata": {
    "id": "48da1d67"
   },
   "source": [
    "Произведем вызов функции и передадим ей в качестве аргумента список `b`"
   ]
  },
  {
   "cell_type": "code",
   "execution_count": null,
   "id": "6994e063",
   "metadata": {
    "id": "6994e063"
   },
   "outputs": [],
   "source": [
    "append_increased_last_elemend(b)"
   ]
  },
  {
   "cell_type": "markdown",
   "id": "89eb5dde",
   "metadata": {
    "id": "89eb5dde"
   },
   "source": [
    "Посмотрим, как как изменились значения глобальных переменных:"
   ]
  },
  {
   "cell_type": "code",
   "execution_count": null,
   "id": "f931ff64",
   "metadata": {
    "id": "f931ff64"
   },
   "outputs": [],
   "source": [
    "print(a, b, t)"
   ]
  },
  {
   "cell_type": "markdown",
   "id": "a7c7d11a",
   "metadata": {
    "id": "a7c7d11a"
   },
   "source": [
    "Отсюда можно убедиться, что локальные переменные `a` и `t`, определенные внутри функции и глобальные переменные `a` и `t`, определенные вне функции – никак не связаны между собой.\n",
    "\n",
    "Однако, если бы локальная переменная `t` не была бы определена внутри функции, то в инструкции `a.append(a[-1]+t)` функции обратилась бы к глобальной переменной:"
   ]
  },
  {
   "cell_type": "code",
   "execution_count": null,
   "id": "0769170a",
   "metadata": {
    "id": "0769170a"
   },
   "outputs": [],
   "source": [
    "def append_increased_last_elemend(a):\n",
    "    a.append(a[-1]+t)"
   ]
  },
  {
   "cell_type": "code",
   "execution_count": null,
   "id": "5aab7352",
   "metadata": {
    "id": "5aab7352"
   },
   "outputs": [],
   "source": [
    "append_increased_last_elemend(a)\n",
    "print(a)"
   ]
  },
  {
   "cell_type": "markdown",
   "id": "8726ec85",
   "metadata": {
    "id": "8726ec85"
   },
   "source": [
    "Заметим, что несмотря на то, что функция `append_increased_last_elemend()` обращается к глобальной переменной `t`, она не пытается изменить ее значение. Поэтому значение `t` не будет неожиданно меняться:"
   ]
  },
  {
   "cell_type": "code",
   "execution_count": null,
   "id": "f30a3b46",
   "metadata": {
    "id": "f30a3b46"
   },
   "outputs": [],
   "source": [
    "print(t)"
   ]
  },
  {
   "cell_type": "markdown",
   "id": "765f6473",
   "metadata": {
    "id": "765f6473"
   },
   "source": [
    "## Гуанин-цитозиновый состав (*GC-content*)"
   ]
  },
  {
   "cell_type": "code",
   "execution_count": null,
   "id": "85261c3a",
   "metadata": {
    "id": "85261c3a"
   },
   "outputs": [],
   "source": [
    "sequence_1 = 'ATTGCTTAAGACATTAAGACATAATTACCAAGTAGCAGATGAAATTAGC'\n",
    "sequence_2 = 'AGTGCGTACGACAGCGCAGGGACATGCACGACCAAGTAGCAGCCGCGGCTAGC'"
   ]
  },
  {
   "cell_type": "code",
   "execution_count": null,
   "id": "480b29ba",
   "metadata": {
    "id": "480b29ba"
   },
   "outputs": [],
   "source": [
    "def get_gc_content(seq):\n",
    "    pass"
   ]
  },
  {
   "cell_type": "markdown",
   "id": "3674cc1d-c8c6-4e62-aecf-198f9a75fc2b",
   "metadata": {
    "id": "3674cc1d-c8c6-4e62-aecf-198f9a75fc2b"
   },
   "source": [
    "# Композиция функций"
   ]
  },
  {
   "cell_type": "markdown",
   "id": "82149405",
   "metadata": {
    "id": "82149405"
   },
   "source": [
    "Самый простой вариант композиции функций – вызов функции внутри аргумента:"
   ]
  },
  {
   "cell_type": "code",
   "execution_count": null,
   "id": "6e8eeee7",
   "metadata": {
    "id": "6e8eeee7"
   },
   "outputs": [],
   "source": [
    "print(type(10))"
   ]
  },
  {
   "cell_type": "markdown",
   "id": "9045deb1",
   "metadata": {
    "id": "9045deb1"
   },
   "source": [
    "В общем случае можно неограниченно вкладывать вызовы функций друг в друга:"
   ]
  },
  {
   "cell_type": "code",
   "execution_count": null,
   "id": "ecb4484d",
   "metadata": {
    "id": "ecb4484d"
   },
   "outputs": [],
   "source": [
    "print(len(str(type(10))))"
   ]
  },
  {
   "cell_type": "markdown",
   "id": "31140819",
   "metadata": {
    "id": "31140819"
   },
   "source": [
    "Другой распространенный способ композиции функций – использование фукнкций, определенных ранее, в *теле* другой функции. Мы уже такую композицию, когда вызвали, к примеру, встроенную функцию `print()` в теле функции `print_words()`."
   ]
  },
  {
   "cell_type": "markdown",
   "id": "7c10de78",
   "metadata": {
    "id": "7c10de78"
   },
   "source": [
    "## Температура плавления ДНК\n",
    "\n",
    "Напишем функцию, которая будет использовать определенную нами ранее функцию `get_gc_content()` для вычисления температуры плавления двуцепочечной молекулы ДНК по [формуле](http://iairas.ru/mag/2020/full2/Art2.pdf)\n",
    "$$\n",
    "T_m = 69.3 + 0.41 [G + C]\n",
    "$$\n",
    "где $[G + C]$ представляет собой содержание нуклеотидов $G$ и $C$ в цепи."
   ]
  },
  {
   "cell_type": "code",
   "execution_count": null,
   "id": "8de62135",
   "metadata": {
    "id": "8de62135"
   },
   "outputs": [],
   "source": [
    "def melting_t(A):\n",
    "    gc = get_gc_content(A)      # доля gc в цепи\n",
    "    T = 69.3 + 0.41 * (gc*100)\n",
    "    return T"
   ]
  },
  {
   "cell_type": "code",
   "execution_count": null,
   "id": "b1b46afb",
   "metadata": {
    "id": "b1b46afb"
   },
   "outputs": [],
   "source": [
    "melting_t(sequence_1)"
   ]
  },
  {
   "cell_type": "code",
   "execution_count": null,
   "id": "6bf5035b",
   "metadata": {
    "id": "6bf5035b"
   },
   "outputs": [],
   "source": [
    "melting_t(sequence_2)"
   ]
  },
  {
   "cell_type": "markdown",
   "id": "c554418a",
   "metadata": {
    "id": "c554418a"
   },
   "source": [
    "# Встроенные функции"
   ]
  },
  {
   "cell_type": "markdown",
   "id": "c5beb6fb",
   "metadata": {
    "id": "c5beb6fb"
   },
   "source": [
    "## `help()`\n",
    "\n",
    "`help()` – это встроенная функция в Python, которая позволяет получить справку по любому объекту языка, такому как модуль, класс, функция, переменная и т.д. Функция `help()` вызывает интерактивную справочную систему, которая показывает документацию по объекту, его атрибутам, методам и примерам использования."
   ]
  },
  {
   "cell_type": "code",
   "execution_count": 1,
   "id": "0e7f145e",
   "metadata": {
    "colab": {
     "base_uri": "https://localhost:8080/"
    },
    "id": "0e7f145e",
    "outputId": "581f0f28-6fe0-41b5-f9df-0c2cf229427a"
   },
   "outputs": [
    {
     "name": "stdout",
     "output_type": "stream",
     "text": [
      "Help on built-in function print in module builtins:\n",
      "\n",
      "print(...)\n",
      "    print(value, ..., sep=' ', end='\\n', file=sys.stdout, flush=False)\n",
      "    \n",
      "    Prints the values to a stream, or to sys.stdout by default.\n",
      "    Optional keyword arguments:\n",
      "    file:  a file-like object (stream); defaults to the current sys.stdout.\n",
      "    sep:   string inserted between values, default a space.\n",
      "    end:   string appended after the last value, default a newline.\n",
      "    flush: whether to forcibly flush the stream.\n",
      "\n"
     ]
    }
   ],
   "source": [
    "help(print)"
   ]
  },
  {
   "cell_type": "code",
   "execution_count": 6,
   "id": "YE-Pd4-xMvI9",
   "metadata": {
    "colab": {
     "base_uri": "https://localhost:8080/"
    },
    "id": "YE-Pd4-xMvI9",
    "outputId": "300971ce-3be9-4290-eaa4-525f98a2cd99"
   },
   "outputs": [
    {
     "name": "stdout",
     "output_type": "stream",
     "text": [
      "4 - 5 - 6 - 7 8 9\n"
     ]
    }
   ],
   "source": [
    "print(4, 5, 6, 7, sep=' - ', end=' ')\n",
    "print(8, 9)"
   ]
  },
  {
   "cell_type": "markdown",
   "id": "9ebf5fdf",
   "metadata": {
    "id": "9ebf5fdf"
   },
   "source": [
    "## `abs()`\n",
    "\n",
    "`abs()` возвращает абсолютную величину числа:"
   ]
  },
  {
   "cell_type": "code",
   "execution_count": 9,
   "id": "fa765c6d",
   "metadata": {
    "colab": {
     "base_uri": "https://localhost:8080/"
    },
    "id": "fa765c6d",
    "outputId": "03fe84f4-f162-4cc1-e225-95e5b14687a9"
   },
   "outputs": [
    {
     "name": "stdout",
     "output_type": "stream",
     "text": [
      "3.6666666666666665\n"
     ]
    }
   ],
   "source": [
    "a = 11 / 3\n",
    "print(a)"
   ]
  },
  {
   "cell_type": "code",
   "execution_count": 10,
   "id": "15425bf4",
   "metadata": {
    "colab": {
     "base_uri": "https://localhost:8080/"
    },
    "id": "15425bf4",
    "outputId": "e481d543-497b-47aa-a67b-5703273ab4b7"
   },
   "outputs": [
    {
     "name": "stdout",
     "output_type": "stream",
     "text": [
      "3.6666666666666665\n"
     ]
    }
   ],
   "source": [
    "b = abs(a)\n",
    "print(b)"
   ]
  },
  {
   "cell_type": "markdown",
   "id": "54a8cd2f",
   "metadata": {
    "id": "54a8cd2f"
   },
   "source": [
    "## `round()`\n",
    "\n",
    "`round()` округляет число до ближайшего целого, либо до $n$ знаков после запятой:"
   ]
  },
  {
   "cell_type": "code",
   "execution_count": 11,
   "id": "f1cdd5b0",
   "metadata": {
    "colab": {
     "base_uri": "https://localhost:8080/"
    },
    "id": "f1cdd5b0",
    "outputId": "0b10f62d-b455-4035-ee21-1fdf24608020"
   },
   "outputs": [
    {
     "data": {
      "text/plain": [
       "4"
      ]
     },
     "execution_count": 11,
     "metadata": {},
     "output_type": "execute_result"
    }
   ],
   "source": [
    "round(b)"
   ]
  },
  {
   "cell_type": "code",
   "execution_count": 12,
   "id": "da81884c",
   "metadata": {
    "colab": {
     "base_uri": "https://localhost:8080/"
    },
    "id": "da81884c",
    "outputId": "fed7487c-e64c-4e89-d73e-ff6d9c9d10a0"
   },
   "outputs": [
    {
     "data": {
      "text/plain": [
       "3.67"
      ]
     },
     "execution_count": 12,
     "metadata": {},
     "output_type": "execute_result"
    }
   ],
   "source": [
    "round(b, 2)"
   ]
  },
  {
   "cell_type": "markdown",
   "id": "50d48de5",
   "metadata": {
    "id": "50d48de5"
   },
   "source": [
    "## `max()` & `min()`\n",
    "\n",
    "`max()` и `min()` возвращают максимальный и минимальный эелемент последовательности"
   ]
  },
  {
   "cell_type": "code",
   "execution_count": 13,
   "id": "0707b043",
   "metadata": {
    "id": "0707b043"
   },
   "outputs": [],
   "source": [
    "L_1 = [1, -2, 3, 2, 5, 2, -3, 4, 5, 0]\n",
    "L_2 = [2, 3, -3, 5, 3, -4, 5, 0, 9, 3]"
   ]
  },
  {
   "cell_type": "code",
   "execution_count": 14,
   "id": "7c48449c",
   "metadata": {
    "colab": {
     "base_uri": "https://localhost:8080/"
    },
    "id": "7c48449c",
    "outputId": "26cbd1d1-deb1-4c70-f47f-33dcf4c826c9"
   },
   "outputs": [
    {
     "name": "stdout",
     "output_type": "stream",
     "text": [
      "5\n",
      "9\n"
     ]
    }
   ],
   "source": [
    "print(max(L_1))\n",
    "print(max(L_2))"
   ]
  },
  {
   "cell_type": "code",
   "execution_count": 15,
   "id": "0d0fbaff",
   "metadata": {
    "colab": {
     "base_uri": "https://localhost:8080/"
    },
    "id": "0d0fbaff",
    "outputId": "816f9e68-2097-4b3a-cdfe-4566e5a9b2df"
   },
   "outputs": [
    {
     "name": "stdout",
     "output_type": "stream",
     "text": [
      "-3\n",
      "-4\n"
     ]
    }
   ],
   "source": [
    "print(min(L_1))\n",
    "print(min(L_2))"
   ]
  },
  {
   "cell_type": "markdown",
   "id": "07ec84e0",
   "metadata": {
    "id": "07ec84e0"
   },
   "source": [
    "## `sum()`"
   ]
  },
  {
   "cell_type": "code",
   "execution_count": 16,
   "id": "0a8883eb",
   "metadata": {
    "colab": {
     "base_uri": "https://localhost:8080/"
    },
    "id": "0a8883eb",
    "outputId": "026a2dd3-1707-435d-dc6e-70ead9038a7d"
   },
   "outputs": [
    {
     "name": "stdout",
     "output_type": "stream",
     "text": [
      "17 23\n"
     ]
    }
   ],
   "source": [
    "print(sum(L_1), sum(L_2))"
   ]
  },
  {
   "cell_type": "code",
   "execution_count": 18,
   "id": "a960f010",
   "metadata": {
    "colab": {
     "base_uri": "https://localhost:8080/"
    },
    "id": "a960f010",
    "outputId": "92b53f60-9181-48b0-d35e-311ec82864e7"
   },
   "outputs": [
    {
     "name": "stdout",
     "output_type": "stream",
     "text": [
      "23\n"
     ]
    }
   ],
   "source": [
    "s = 0\n",
    "\n",
    "for value in L_2:\n",
    "    s += value\n",
    "\n",
    "print(s)"
   ]
  },
  {
   "cell_type": "markdown",
   "id": "fa91dc9f",
   "metadata": {
    "id": "fa91dc9f"
   },
   "source": [
    "## `zip()`\n",
    "\n",
    "Функция `zip()` позволяет пройтись в цикле параллельно по двум или нескольким последовательностям."
   ]
  },
  {
   "cell_type": "markdown",
   "id": "1b83ae07",
   "metadata": {
    "id": "1b83ae07"
   },
   "source": [
    "Получим список, содержащий поэлементные разности двух списков:"
   ]
  },
  {
   "cell_type": "code",
   "execution_count": 22,
   "id": "l8alzBRZQH_Q",
   "metadata": {
    "id": "l8alzBRZQH_Q"
   },
   "outputs": [],
   "source": [
    "L_1 = [1, -2, 3, 2, 5, 2, -3, 4, 5, 0]\n",
    "L_2 = [2, 3, -3, 5, 3, -4, 5, 0, 9, 3, 9, 21]"
   ]
  },
  {
   "cell_type": "code",
   "execution_count": 24,
   "id": "KtjRwX7FPAEc",
   "metadata": {
    "colab": {
     "base_uri": "https://localhost:8080/"
    },
    "id": "KtjRwX7FPAEc",
    "outputId": "a399dc19-8f17-4e8b-b505-170d56d2923d"
   },
   "outputs": [
    {
     "name": "stdout",
     "output_type": "stream",
     "text": [
      "[1, -2, 3, 2, 5, 2, -3, 4, 5, 0]\n",
      "[2, 3, -3, 5, 3, -4, 5, 0, 9, 3, 9, 21]\n"
     ]
    }
   ],
   "source": [
    "print(L_1)\n",
    "print(L_2)"
   ]
  },
  {
   "cell_type": "code",
   "execution_count": 20,
   "id": "5d12b06c",
   "metadata": {
    "colab": {
     "base_uri": "https://localhost:8080/"
    },
    "id": "5d12b06c",
    "outputId": "e20047b0-319c-4a02-b572-cee0a9128bac"
   },
   "outputs": [
    {
     "name": "stdout",
     "output_type": "stream",
     "text": [
      "[1, 5, -6, 3, -2, -6, 8, -4, 4, 3]\n"
     ]
    }
   ],
   "source": [
    "differences = []\n",
    "lenght = len(L_1)\n",
    "\n",
    "for index in range(lenght):\n",
    "    diff = L_2[index] - L_1[index]\n",
    "    differences.append(diff)\n",
    "\n",
    "print(differences)"
   ]
  },
  {
   "cell_type": "code",
   "execution_count": 23,
   "id": "c306c834",
   "metadata": {
    "colab": {
     "base_uri": "https://localhost:8080/"
    },
    "id": "c306c834",
    "outputId": "9f8d2331-c50a-44f4-a62c-16fc10a79d5c"
   },
   "outputs": [
    {
     "name": "stdout",
     "output_type": "stream",
     "text": [
      "[1, 5, -6, 3, -2, -6, 8, -4, 4, 3]\n"
     ]
    }
   ],
   "source": [
    "differences = []\n",
    "\n",
    "for v1, v2 in zip(L_1, L_2):\n",
    "    diff = v2 - v1\n",
    "    differences.append(diff)\n",
    "\n",
    "print(differences)"
   ]
  },
  {
   "cell_type": "markdown",
   "id": "cdc3a663",
   "metadata": {
    "id": "cdc3a663"
   },
   "source": [
    "Напишем в виде функции:"
   ]
  },
  {
   "cell_type": "code",
   "execution_count": 25,
   "id": "1ac3dbf7",
   "metadata": {
    "id": "1ac3dbf7"
   },
   "outputs": [],
   "source": [
    "def get_differences(a, b):\n",
    "\n",
    "    differences = []\n",
    "    for v1, v2 in zip(a, b):\n",
    "        diff = v2 - v1\n",
    "        differences.append(diff)\n",
    "\n",
    "    return differences"
   ]
  },
  {
   "cell_type": "code",
   "execution_count": 26,
   "id": "ebe491a0",
   "metadata": {
    "colab": {
     "base_uri": "https://localhost:8080/"
    },
    "id": "ebe491a0",
    "outputId": "ba44493f-faf2-47b0-875c-7d277e48ad71"
   },
   "outputs": [
    {
     "name": "stdout",
     "output_type": "stream",
     "text": [
      "[1, 5, -6, 3, -2, -6, 8, -4, 4, 3]\n"
     ]
    }
   ],
   "source": [
    "d = get_differences(L_1, L_2)\n",
    "print(d)"
   ]
  },
  {
   "cell_type": "markdown",
   "id": "95388bac-3a3a-42c6-8bb4-618a8bd63dfb",
   "metadata": {
    "id": "95388bac-3a3a-42c6-8bb4-618a8bd63dfb"
   },
   "source": [
    "# Аргументы функций"
   ]
  },
  {
   "cell_type": "markdown",
   "id": "38d53efd",
   "metadata": {
    "id": "38d53efd"
   },
   "source": [
    "## Позиционные аргументы"
   ]
  },
  {
   "cell_type": "code",
   "execution_count": 27,
   "id": "cd82f98e",
   "metadata": {
    "id": "cd82f98e"
   },
   "outputs": [],
   "source": [
    "def difference(x, y):\n",
    "    diff = x - y\n",
    "    return diff"
   ]
  },
  {
   "cell_type": "code",
   "execution_count": 28,
   "id": "06093194",
   "metadata": {
    "id": "06093194"
   },
   "outputs": [],
   "source": [
    "a = 3\n",
    "b = 5"
   ]
  },
  {
   "cell_type": "code",
   "execution_count": 29,
   "id": "70710084",
   "metadata": {
    "colab": {
     "base_uri": "https://localhost:8080/"
    },
    "id": "70710084",
    "outputId": "5fc8c754-2ca7-41f9-d672-4e27c19f96ce"
   },
   "outputs": [
    {
     "data": {
      "text/plain": [
       "-2"
      ]
     },
     "execution_count": 29,
     "metadata": {},
     "output_type": "execute_result"
    }
   ],
   "source": [
    "difference(a, b)"
   ]
  },
  {
   "cell_type": "code",
   "execution_count": 30,
   "id": "80808553",
   "metadata": {
    "colab": {
     "base_uri": "https://localhost:8080/"
    },
    "id": "80808553",
    "outputId": "2ab72886-53b1-4a39-c7af-7196bc959d6b"
   },
   "outputs": [
    {
     "data": {
      "text/plain": [
       "2"
      ]
     },
     "execution_count": 30,
     "metadata": {},
     "output_type": "execute_result"
    }
   ],
   "source": [
    "difference(b, a)"
   ]
  },
  {
   "cell_type": "markdown",
   "id": "ed8fb954",
   "metadata": {
    "id": "ed8fb954"
   },
   "source": [
    "## Именованные аргументы"
   ]
  },
  {
   "cell_type": "code",
   "execution_count": 31,
   "id": "d2b64f61",
   "metadata": {
    "colab": {
     "base_uri": "https://localhost:8080/"
    },
    "id": "d2b64f61",
    "outputId": "02883f92-da8a-478b-f432-75f78ad6875a"
   },
   "outputs": [
    {
     "data": {
      "text/plain": [
       "-2"
      ]
     },
     "execution_count": 31,
     "metadata": {},
     "output_type": "execute_result"
    }
   ],
   "source": [
    "difference(x=a, y=b)"
   ]
  },
  {
   "cell_type": "code",
   "execution_count": 33,
   "id": "4a1017f5",
   "metadata": {
    "colab": {
     "base_uri": "https://localhost:8080/"
    },
    "id": "4a1017f5",
    "outputId": "51c91aec-d37c-4815-9d78-f3a1160940b7"
   },
   "outputs": [
    {
     "data": {
      "text/plain": [
       "-2"
      ]
     },
     "execution_count": 33,
     "metadata": {},
     "output_type": "execute_result"
    }
   ],
   "source": [
    "difference(y=b, x=a)"
   ]
  },
  {
   "cell_type": "code",
   "execution_count": 34,
   "id": "39669105",
   "metadata": {
    "colab": {
     "base_uri": "https://localhost:8080/",
     "height": 175
    },
    "id": "39669105",
    "outputId": "e115db6b-3601-4a16-bee5-8acc0d937e2b"
   },
   "outputs": [
    {
     "ename": "TypeError",
     "evalue": "ignored",
     "output_type": "error",
     "traceback": [
      "\u001b[0;31m---------------------------------------------------------------------------\u001b[0m",
      "\u001b[0;31mTypeError\u001b[0m                                 Traceback (most recent call last)",
      "\u001b[0;32m<ipython-input-34-d4d0932acd90>\u001b[0m in \u001b[0;36m<cell line: 1>\u001b[0;34m()\u001b[0m\n\u001b[0;32m----> 1\u001b[0;31m \u001b[0mdifference\u001b[0m\u001b[0;34m(\u001b[0m\u001b[0ma\u001b[0m\u001b[0;34m)\u001b[0m\u001b[0;34m\u001b[0m\u001b[0;34m\u001b[0m\u001b[0m\n\u001b[0m",
      "\u001b[0;31mTypeError\u001b[0m: difference() missing 1 required positional argument: 'y'"
     ]
    }
   ],
   "source": [
    "difference(a)"
   ]
  },
  {
   "cell_type": "markdown",
   "id": "fa1166dc",
   "metadata": {
    "id": "fa1166dc"
   },
   "source": [
    "## Дефолтные значения аргументов"
   ]
  },
  {
   "cell_type": "code",
   "execution_count": 38,
   "id": "b7e5e77b",
   "metadata": {
    "id": "b7e5e77b"
   },
   "outputs": [],
   "source": [
    "def difference(x, y=1):\n",
    "    diff = x - y\n",
    "    return diff"
   ]
  },
  {
   "cell_type": "code",
   "execution_count": 35,
   "id": "a4a29bf4",
   "metadata": {
    "colab": {
     "base_uri": "https://localhost:8080/"
    },
    "id": "a4a29bf4",
    "outputId": "025139f3-1ad7-4f4b-d26b-b61998d439ab"
   },
   "outputs": [
    {
     "data": {
      "text/plain": [
       "-2"
      ]
     },
     "execution_count": 35,
     "metadata": {},
     "output_type": "execute_result"
    }
   ],
   "source": [
    "difference(a, b)"
   ]
  },
  {
   "cell_type": "code",
   "execution_count": 36,
   "id": "9a7362c5",
   "metadata": {
    "colab": {
     "base_uri": "https://localhost:8080/"
    },
    "id": "9a7362c5",
    "outputId": "81e2776f-1604-47bb-faba-8ab0315a0390"
   },
   "outputs": [
    {
     "data": {
      "text/plain": [
       "2"
      ]
     },
     "execution_count": 36,
     "metadata": {},
     "output_type": "execute_result"
    }
   ],
   "source": [
    "difference(y=a, x=b)"
   ]
  },
  {
   "cell_type": "code",
   "execution_count": 39,
   "id": "93592156",
   "metadata": {
    "colab": {
     "base_uri": "https://localhost:8080/"
    },
    "id": "93592156",
    "outputId": "29a754ad-26e2-4421-b683-bde29034ead2"
   },
   "outputs": [
    {
     "data": {
      "text/plain": [
       "4"
      ]
     },
     "execution_count": 39,
     "metadata": {},
     "output_type": "execute_result"
    }
   ],
   "source": [
    "difference(b)"
   ]
  },
  {
   "cell_type": "code",
   "execution_count": 40,
   "id": "e3cced24",
   "metadata": {
    "colab": {
     "base_uri": "https://localhost:8080/"
    },
    "id": "e3cced24",
    "outputId": "78d11ce4-b529-4242-ccca-9d18cbcb387b"
   },
   "outputs": [
    {
     "name": "stdout",
     "output_type": "stream",
     "text": [
      "4\n"
     ]
    }
   ],
   "source": [
    "b = difference(b)\n",
    "print(b)"
   ]
  },
  {
   "cell_type": "markdown",
   "id": "9e28c2b7-4ec2-4c72-b985-3c6d591c0d6a",
   "metadata": {
    "id": "9e28c2b7-4ec2-4c72-b985-3c6d591c0d6a"
   },
   "source": [
    "## Предостережение!\n",
    "\n",
    ">Не стоит задавать изменяемый объект в качестве значение аргумента функции по умолчанию!\n",
    "\n",
    "Значения по умлочанию аргументов функций задаются один раз при определении функции, а не отдельно во время вызова. Поэтому при каждом вызове функции его локальная перменная, соответствующая дефолтному аргументу, ссылается на тот объект, который создан при определении функции. Для неизменяемых значений это не проблема, но для изменяемых объектов это может привести к неприятностям: первый вызов функции может изменить дефолтный объект, и тогда следующий вызов функции будет иметь дело с измененным объектом."
   ]
  },
  {
   "cell_type": "code",
   "execution_count": 41,
   "id": "045ec7f5-a78f-4c16-8d61-9000f9131a18",
   "metadata": {
    "id": "045ec7f5-a78f-4c16-8d61-9000f9131a18"
   },
   "outputs": [],
   "source": [
    "def f(a, b=[]):\n",
    "    b.append(a)\n",
    "    return b\n",
    "# дефолтный объект [] создан"
   ]
  },
  {
   "cell_type": "markdown",
   "id": "6d199bf0",
   "metadata": {
    "id": "6d199bf0"
   },
   "source": [
    "В данном коде для функции `f` определяется один дефолтный объект – пустой список. Далее, при вызове функции локальная переменная `b` будет ссылаться на тот самый объект и изменит его при выполнении функции."
   ]
  },
  {
   "cell_type": "code",
   "execution_count": 42,
   "id": "94019ff6",
   "metadata": {
    "colab": {
     "base_uri": "https://localhost:8080/"
    },
    "id": "94019ff6",
    "outputId": "fc5a022f-7b8a-4054-a2e5-9a1b717d037d"
   },
   "outputs": [
    {
     "name": "stdout",
     "output_type": "stream",
     "text": [
      "[10]\n",
      "[10, 11]\n"
     ]
    }
   ],
   "source": [
    "c = f(10)   # в объект [] записывается значение 10\n",
    "print(c)    # функция возвращает этот список и на него теперь ссылается c\n",
    "d = f(11)   # в объект [10] записыается значение 11\n",
    "print(d)    # теперь и d ссылается на список, значение которого теперь [10, 11]"
   ]
  },
  {
   "cell_type": "markdown",
   "id": "13048cb2",
   "metadata": {
    "id": "13048cb2"
   },
   "source": [
    "Переменным `c` и `d` был присвоен один и тот же объект: список, созданный при определении функции, поэтому:"
   ]
  },
  {
   "cell_type": "code",
   "execution_count": 43,
   "id": "b64496cc",
   "metadata": {
    "colab": {
     "base_uri": "https://localhost:8080/"
    },
    "id": "b64496cc",
    "outputId": "31f49b5e-3e1b-431a-b0f8-5d38872a6c27"
   },
   "outputs": [
    {
     "data": {
      "text/plain": [
       "True"
      ]
     },
     "execution_count": 43,
     "metadata": {},
     "output_type": "execute_result"
    }
   ],
   "source": [
    "c is d"
   ]
  },
  {
   "cell_type": "markdown",
   "id": "769c6f1c",
   "metadata": {
    "id": "769c6f1c"
   },
   "source": [
    "Если все же значением по умолчанию должен быть изменяемый объект, но уникальный при для каждого вызова функции, можно действовать так:"
   ]
  },
  {
   "cell_type": "code",
   "execution_count": 44,
   "id": "40a1ee08",
   "metadata": {
    "colab": {
     "base_uri": "https://localhost:8080/"
    },
    "id": "40a1ee08",
    "outputId": "464b844b-8296-45fd-c3fd-984b53eb1e87"
   },
   "outputs": [
    {
     "name": "stdout",
     "output_type": "stream",
     "text": [
      "[10]\n",
      "[11]\n",
      "False\n"
     ]
    }
   ],
   "source": [
    "def f(a, b=None):\n",
    "    if b is None:\n",
    "        b = []\n",
    "    b.append(a)\n",
    "    return b\n",
    "\n",
    "c = f(10)\n",
    "print(c)\n",
    "d = f(11)\n",
    "print(d)\n",
    "print(c is d)"
   ]
  },
  {
   "cell_type": "markdown",
   "id": "5e4ac336",
   "metadata": {
    "id": "5e4ac336"
   },
   "source": [
    "В этом случае при определении функции создается объект `None`, а список создаются отдельно создается каждый раз при вызове функции."
   ]
  },
  {
   "cell_type": "markdown",
   "id": "c26459e8",
   "metadata": {
    "id": "c26459e8"
   },
   "source": [
    "# Функции как методы\n",
    "\n",
    "Методы представляют собой функции, которые предназначены для работы с объектами данного типа. Возьмем, к примеру, списки (объекти типа `list`). Списки обладают некоторым набором методов, при помощи которых можно менять списки, либо получать данные на основе значений элементов. Полный список методов списка приводится в [документации](https://docs.python.org/3/tutorial/datastructures.html).\n",
    "\n",
    ">Основные методы списков, строк и словарей приводятся в файле list_string_dict.ipynb."
   ]
  },
  {
   "cell_type": "markdown",
   "id": "0045068a",
   "metadata": {
    "id": "0045068a"
   },
   "source": [
    "## Методы списков\n",
    "\n",
    "Создадим список и попробуем вызвать некоторые его методы."
   ]
  },
  {
   "cell_type": "code",
   "execution_count": 57,
   "id": "eff89f46-d35c-468a-adec-a14cf31a4fcc",
   "metadata": {
    "id": "eff89f46-d35c-468a-adec-a14cf31a4fcc"
   },
   "outputs": [],
   "source": [
    "L = [1, -2, 3, 2, 5, 2, -3, 4, 5, 0]"
   ]
  },
  {
   "cell_type": "markdown",
   "id": "9e12cfd2",
   "metadata": {
    "id": "9e12cfd2"
   },
   "source": [
    "Методы могут вызываться при помощи точечной нотации:"
   ]
  },
  {
   "cell_type": "code",
   "execution_count": null,
   "id": "a139b827",
   "metadata": {
    "id": "a139b827"
   },
   "outputs": [],
   "source": [
    "L.append(9)"
   ]
  },
  {
   "cell_type": "markdown",
   "id": "c478403d",
   "metadata": {
    "id": "c478403d"
   },
   "source": [
    "Метод `append()` добавляет объект, переданный в качестве аргумента, в конец списка:"
   ]
  },
  {
   "cell_type": "code",
   "execution_count": null,
   "id": "e108aecd",
   "metadata": {
    "id": "e108aecd"
   },
   "outputs": [],
   "source": [
    "print(L)"
   ]
  },
  {
   "cell_type": "markdown",
   "id": "61283605",
   "metadata": {
    "id": "61283605"
   },
   "source": [
    "Метод `pop()` удаляет и возвращает последний элемент списка:"
   ]
  },
  {
   "cell_type": "code",
   "execution_count": 56,
   "id": "5533f360",
   "metadata": {
    "colab": {
     "base_uri": "https://localhost:8080/",
     "height": 210
    },
    "id": "5533f360",
    "outputId": "b3cd0da2-7af7-4bb6-c328-02de169f525a"
   },
   "outputs": [
    {
     "ename": "IndexError",
     "evalue": "ignored",
     "output_type": "error",
     "traceback": [
      "\u001b[0;31m---------------------------------------------------------------------------\u001b[0m",
      "\u001b[0;31mIndexError\u001b[0m                                Traceback (most recent call last)",
      "\u001b[0;32m<ipython-input-56-eadd80a8d431>\u001b[0m in \u001b[0;36m<cell line: 1>\u001b[0;34m()\u001b[0m\n\u001b[0;32m----> 1\u001b[0;31m \u001b[0mvalue\u001b[0m \u001b[0;34m=\u001b[0m \u001b[0mL\u001b[0m\u001b[0;34m.\u001b[0m\u001b[0mpop\u001b[0m\u001b[0;34m(\u001b[0m\u001b[0;34m)\u001b[0m\u001b[0;34m\u001b[0m\u001b[0;34m\u001b[0m\u001b[0m\n\u001b[0m\u001b[1;32m      2\u001b[0m \u001b[0mprint\u001b[0m\u001b[0;34m(\u001b[0m\u001b[0mvalue\u001b[0m\u001b[0;34m)\u001b[0m\u001b[0;34m\u001b[0m\u001b[0;34m\u001b[0m\u001b[0m\n\u001b[1;32m      3\u001b[0m \u001b[0mprint\u001b[0m\u001b[0;34m(\u001b[0m\u001b[0mL\u001b[0m\u001b[0;34m)\u001b[0m\u001b[0;34m\u001b[0m\u001b[0;34m\u001b[0m\u001b[0m\n",
      "\u001b[0;31mIndexError\u001b[0m: pop from empty list"
     ]
    }
   ],
   "source": [
    "value = L.pop()\n",
    "print(value)\n",
    "print(L)"
   ]
  },
  {
   "cell_type": "markdown",
   "id": "b9aacf38",
   "metadata": {
    "id": "b9aacf38"
   },
   "source": [
    "Также можно передать индекс в качестве аргумента, тогда будет удален и возвращен объект, находящийся под заданным индексом:"
   ]
  },
  {
   "cell_type": "code",
   "execution_count": 65,
   "id": "ZF7Q3DsPT6Oc",
   "metadata": {
    "colab": {
     "base_uri": "https://localhost:8080/"
    },
    "id": "ZF7Q3DsPT6Oc",
    "outputId": "70be1029-3a60-4766-8234-c5337aa43cc7"
   },
   "outputs": [
    {
     "data": {
      "text/plain": [
       "[-3, 4, 5, 0]"
      ]
     },
     "execution_count": 65,
     "metadata": {},
     "output_type": "execute_result"
    }
   ],
   "source": [
    "L"
   ]
  },
  {
   "cell_type": "code",
   "execution_count": 64,
   "id": "b355a267",
   "metadata": {
    "colab": {
     "base_uri": "https://localhost:8080/"
    },
    "id": "b355a267",
    "outputId": "66c23838-f8a4-4f3c-b89a-e5503aa531f8"
   },
   "outputs": [
    {
     "name": "stdout",
     "output_type": "stream",
     "text": [
      "2\n",
      "[-3, 4, 5, 0]\n"
     ]
    }
   ],
   "source": [
    "value = L.pop(0)\n",
    "print(value)\n",
    "print(L)"
   ]
  },
  {
   "cell_type": "markdown",
   "id": "b9d6d805",
   "metadata": {
    "id": "b9d6d805"
   },
   "source": [
    "# Воссоздание комплементарной последовательности"
   ]
  },
  {
   "cell_type": "code",
   "execution_count": 85,
   "id": "e0881ddb",
   "metadata": {
    "id": "e0881ddb"
   },
   "outputs": [],
   "source": [
    "sequence = 'ATTGCTTAAGACATTAAGACATAATTACCAAGTAGCAGATGAAATTAGC'"
   ]
  },
  {
   "cell_type": "code",
   "execution_count": 86,
   "id": "44db8f29",
   "metadata": {
    "id": "44db8f29"
   },
   "outputs": [],
   "source": [
    "def get_compl_seq(seq):\n",
    "    sequence_list = []\n",
    "    for nucleotide in seq:\n",
    "        if nucleotide == \"A\":\n",
    "            sequence_list.append(\"T\")\n",
    "        elif nucleotide == \"T\":\n",
    "            sequence_list.append(\"A\")\n",
    "        elif nucleotide == \"C\":\n",
    "            sequence_list.append(\"G\")\n",
    "        elif nucleotide == \"G\":\n",
    "            sequence_list.append(\"C\")\n",
    "    sequence = \"\".join(sequence_list)\n",
    "    return sequence"
   ]
  },
  {
   "cell_type": "code",
   "execution_count": 87,
   "id": "tAjhjJubagDB",
   "metadata": {
    "colab": {
     "base_uri": "https://localhost:8080/",
     "height": 36
    },
    "id": "tAjhjJubagDB",
    "outputId": "8f1603af-316d-4e26-873b-b11afa0e5767"
   },
   "outputs": [
    {
     "data": {
      "application/vnd.google.colaboratory.intrinsic+json": {
       "type": "string"
      },
      "text/plain": [
       "'TAACGAATTCTGTAATTCTGTATTAATGGTTCATCGTCTACTTTAATCG'"
      ]
     },
     "execution_count": 87,
     "metadata": {},
     "output_type": "execute_result"
    }
   ],
   "source": [
    "get_compl_seq(sequence)"
   ]
  },
  {
   "cell_type": "markdown",
   "id": "0b34941a",
   "metadata": {
    "id": "0b34941a"
   },
   "source": [
    "# Разбиение на триплеты"
   ]
  },
  {
   "cell_type": "code",
   "execution_count": 88,
   "id": "tQLJE6GHa6hO",
   "metadata": {
    "colab": {
     "base_uri": "https://localhost:8080/",
     "height": 36
    },
    "id": "tQLJE6GHa6hO",
    "outputId": "88ea7a9c-6f1f-465d-fdfd-ad47c2268f7a"
   },
   "outputs": [
    {
     "data": {
      "application/vnd.google.colaboratory.intrinsic+json": {
       "type": "string"
      },
      "text/plain": [
       "'ATTGCTTAAGACATTAAGACATAATTACCAAGTAGCAGATGAAATTAGC'"
      ]
     },
     "execution_count": 88,
     "metadata": {},
     "output_type": "execute_result"
    }
   ],
   "source": [
    "sequence"
   ]
  },
  {
   "cell_type": "code",
   "execution_count": 89,
   "id": "1fccadaf",
   "metadata": {
    "colab": {
     "base_uri": "https://localhost:8080/"
    },
    "id": "1fccadaf",
    "outputId": "f6bd18f2-6be5-4581-97ca-286465c5bf06"
   },
   "outputs": [
    {
     "name": "stdout",
     "output_type": "stream",
     "text": [
      "ATTGCTTAAGACATTAAGACATAATTACCAAGTAGCAGATGAAATTAGC\n",
      "['ATT', 'GCT', 'TAA', 'GAC', 'ATT', 'AAG', 'ACA', 'TAA', 'TTA', 'CCA', 'AGT', 'AGC', 'AGA', 'TGA', 'AAT', 'TAG']\n"
     ]
    }
   ],
   "source": [
    "i = 0\n",
    "triplet_list = []\n",
    "while (i+3) < len(sequence):\n",
    "    triplet = sequence[i] + sequence[i+1] + sequence[i+2]\n",
    "    triplet_list.append(triplet)\n",
    "    i += 3\n",
    "\n",
    "print(sequence)\n",
    "print(triplet_list)"
   ]
  },
  {
   "cell_type": "markdown",
   "id": "d16b9375",
   "metadata": {
    "id": "d16b9375"
   },
   "source": [
    "# Вложенные циклы и списки"
   ]
  },
  {
   "cell_type": "markdown",
   "id": "2bb98418",
   "metadata": {
    "id": "2bb98418"
   },
   "source": [
    "Дается список, состоящий из списков, в каждом из которых по два числовых значения (вложенные списки). Нeобходимо найти средннее арифметическое от квадратов разностей чисел во вложенных списках."
   ]
  },
  {
   "cell_type": "code",
   "execution_count": 90,
   "id": "dac27817",
   "metadata": {
    "colab": {
     "base_uri": "https://localhost:8080/"
    },
    "id": "dac27817",
    "outputId": "a725c0c5-cfb1-4dba-d6d1-280635e3b231"
   },
   "outputs": [
    {
     "name": "stdout",
     "output_type": "stream",
     "text": [
      "14.166666666666666\n"
     ]
    }
   ],
   "source": [
    "L = [[2, 3], [3, 6], [12, 4], [4, 3], [22, 25], [1, 2]]\n",
    "\n",
    "total = 0\n",
    "\n",
    "for pair in L:\n",
    "    difference = pair[0] - pair[1]\n",
    "    squared = difference ** 2\n",
    "    total += squared\n",
    "\n",
    "mean = total / len(L)\n",
    "print(mean)"
   ]
  },
  {
   "cell_type": "markdown",
   "id": "3f17414d",
   "metadata": {
    "id": "3f17414d"
   },
   "source": [
    "## Список всевозможных триплетов"
   ]
  },
  {
   "cell_type": "code",
   "execution_count": 91,
   "id": "60b3f93d",
   "metadata": {
    "id": "60b3f93d"
   },
   "outputs": [],
   "source": [
    "nucleotides = 'ATGC'\n",
    "\n",
    "triplets = []\n",
    "\n",
    "for n1 in nucleotides:\n",
    "    for n2 in nucleotides:\n",
    "        for n3 in nucleotides:\n",
    "            t = n1 + n2 + n3\n",
    "            triplets.append(t)"
   ]
  },
  {
   "cell_type": "code",
   "execution_count": 93,
   "id": "Uj9Z6uXMdHaB",
   "metadata": {
    "colab": {
     "base_uri": "https://localhost:8080/"
    },
    "id": "Uj9Z6uXMdHaB",
    "outputId": "4cb75571-62ee-4706-e49a-c638eff86c19"
   },
   "outputs": [
    {
     "data": {
      "text/plain": [
       "64"
      ]
     },
     "execution_count": 93,
     "metadata": {},
     "output_type": "execute_result"
    }
   ],
   "source": [
    "len(triplets)"
   ]
  },
  {
   "cell_type": "markdown",
   "id": "7a5d8d34-a5a5-4a88-9dfd-1bfc9def6f40",
   "metadata": {
    "id": "7a5d8d34-a5a5-4a88-9dfd-1bfc9def6f40"
   },
   "source": [
    "## Транскрипция"
   ]
  },
  {
   "cell_type": "code",
   "execution_count": 108,
   "id": "226b6a2f",
   "metadata": {
    "id": "226b6a2f"
   },
   "outputs": [],
   "source": [
    "def transcriptor(dna_sequence):\n",
    "    sequence_list = []\n",
    "    for nucleotide in dna_sequence:\n",
    "        if nucleotide == \"A\":\n",
    "            sequence_list.append(\"U\")\n",
    "        elif nucleotide == \"T\":\n",
    "            sequence_list.append(\"A\")\n",
    "        elif nucleotide == \"C\":\n",
    "            sequence_list.append(\"G\")\n",
    "        elif nucleotide == \"G\":\n",
    "            sequence_list.append(\"C\")\n",
    "    rna_sequence = \"\".join(sequence_list)\n",
    "    return rna_sequence"
   ]
  },
  {
   "cell_type": "code",
   "execution_count": 109,
   "id": "ydE18M-od-Gn",
   "metadata": {
    "colab": {
     "base_uri": "https://localhost:8080/",
     "height": 36
    },
    "id": "ydE18M-od-Gn",
    "outputId": "d4e85679-a95b-464a-9b60-e8bd7963a997"
   },
   "outputs": [
    {
     "data": {
      "application/vnd.google.colaboratory.intrinsic+json": {
       "type": "string"
      },
      "text/plain": [
       "'UAACGAAUUCUGUAAUUCUGUAUUAAUGGUUCAUCGUCUACUUUAAUCG'"
      ]
     },
     "execution_count": 109,
     "metadata": {},
     "output_type": "execute_result"
    }
   ],
   "source": [
    "transcriptor(sequence)"
   ]
  },
  {
   "cell_type": "code",
   "execution_count": 126,
   "id": "uGchH1PYfVSn",
   "metadata": {
    "id": "uGchH1PYfVSn"
   },
   "outputs": [],
   "source": [
    "def get_triplets(seq):\n",
    "    i = 0\n",
    "    triplet_list = []\n",
    "    while (i+3) < len(seq):\n",
    "        triplet = seq[i] + seq[i+1] + seq[i+2]\n",
    "        triplet_list.append(triplet)\n",
    "        i += 3\n",
    "    return triplet_list"
   ]
  },
  {
   "cell_type": "code",
   "execution_count": 127,
   "id": "lbJ-ww8fe9U-",
   "metadata": {
    "id": "lbJ-ww8fe9U-"
   },
   "outputs": [],
   "source": [
    "def translator(seq, codons):\n",
    "    rna_sequence = transcriptor(seq)\n",
    "    print(seq)\n",
    "    print(rna_sequence)\n",
    "    triplets = get_triplets(rna_sequence)\n",
    "    print(rna_sequence)\n",
    "    aa_list = []\n",
    "    print(triplets)\n",
    "    for t in triplets:\n",
    "        print(t)\n",
    "        aminoacid = codons[t]\n",
    "        aa_list.append(aminoacid)\n",
    "    return aa_list"
   ]
  },
  {
   "cell_type": "code",
   "execution_count": 128,
   "id": "NVDcmIE1gMGe",
   "metadata": {
    "colab": {
     "base_uri": "https://localhost:8080/"
    },
    "id": "NVDcmIE1gMGe",
    "outputId": "4eea9ede-9253-4754-e29d-5ecd804f5a9a"
   },
   "outputs": [
    {
     "name": "stdout",
     "output_type": "stream",
     "text": [
      "ATTGCTTAAGACATTAAGACATAATTACCAAGTAGCAGATGAAATTAGC\n",
      "UAACGAAUUCUGUAAUUCUGUAUUAAUGGUUCAUCGUCUACUUUAAUCG\n",
      "UAACGAAUUCUGUAAUUCUGUAUUAAUGGUUCAUCGUCUACUUUAAUCG\n",
      "['UAA', 'CGA', 'AUU', 'CUG', 'UAA', 'UUC', 'UGU', 'AUU', 'AAU', 'GGU', 'UCA', 'UCG', 'UCU', 'ACU', 'UUA', 'AUC']\n",
      "UAA\n",
      "CGA\n",
      "AUU\n",
      "CUG\n",
      "UAA\n",
      "UUC\n",
      "UGU\n",
      "AUU\n",
      "AAU\n",
      "GGU\n",
      "UCA\n",
      "UCG\n",
      "UCU\n",
      "ACU\n",
      "UUA\n",
      "AUC\n"
     ]
    },
    {
     "data": {
      "text/plain": [
       "['STOP',\n",
       " 'Arg',\n",
       " 'Ile',\n",
       " 'Leu',\n",
       " 'STOP',\n",
       " 'Phe',\n",
       " 'Cys',\n",
       " 'Ile',\n",
       " 'Asn',\n",
       " 'Gly',\n",
       " 'Ser',\n",
       " 'Ser',\n",
       " 'Ser',\n",
       " 'Thr',\n",
       " 'Leu',\n",
       " 'Ile']"
      ]
     },
     "execution_count": 128,
     "metadata": {},
     "output_type": "execute_result"
    }
   ],
   "source": [
    "translator(sequence, codons)"
   ]
  },
  {
   "cell_type": "markdown",
   "id": "b3a588b5-bec5-4edc-8e2e-bcc0934e1829",
   "metadata": {
    "id": "b3a588b5-bec5-4edc-8e2e-bcc0934e1829"
   },
   "source": [
    "## Трасляция"
   ]
  },
  {
   "cell_type": "code",
   "execution_count": 99,
   "id": "b9b9e028",
   "metadata": {
    "id": "b9b9e028"
   },
   "outputs": [],
   "source": [
    "codons = {  'UUU': 'Phe',\n",
    "            'UUC': 'Phe',\n",
    "            'UUA': 'Leu',\n",
    "            'UUG': 'Leu',\n",
    "            'UCU': 'Ser',\n",
    "            'UCC': 'Ser',\n",
    "            'UCA': 'Ser',\n",
    "            'UCG': 'Ser',\n",
    "            'UAU': 'Tyr',\n",
    "            'UAC': 'Tyr',\n",
    "            'UAA': 'STOP',\n",
    "            'UAG': 'STOP',\n",
    "            'UGU': 'Cys',\n",
    "            'UGC': 'Cys',\n",
    "            'UGA': 'STOP',\n",
    "            'UGG': 'Trp',\n",
    "            'CUU': 'Leu',\n",
    "            'CUC': 'Leu',\n",
    "            'CUA': 'Leu',\n",
    "            'CUG': 'Leu',\n",
    "            'CCU': 'Pro',\n",
    "            'CCC': 'Pro',\n",
    "            'CCA': 'Pro',\n",
    "            'CCG': 'Pro',\n",
    "            'CAU': 'His',\n",
    "            'CAC': 'His',\n",
    "            'CAA': 'Gln',\n",
    "            'CAG': 'Gln',\n",
    "            'CGU': 'Arg',\n",
    "            'CGC': 'Arg',\n",
    "            'CGA': 'Arg',\n",
    "            'CGG': 'Arg',\n",
    "            'AUU': 'Ile',\n",
    "            'AUC': 'Ile',\n",
    "            'AUA': 'Ile',\n",
    "            'AUG': 'Met',\n",
    "            'ACU': 'Thr',\n",
    "            'ACC': 'Thr',\n",
    "            'ACA': 'Thr',\n",
    "            'ACG': 'Thr',\n",
    "            'AAU': 'Asn',\n",
    "            'AAC': 'Asn',\n",
    "            'AAA': 'Lys',\n",
    "            'AAG': 'Lys',\n",
    "            'AGU': 'Ser',\n",
    "            'AGC': 'Ser',\n",
    "            'AGA': 'Arg',\n",
    "            'AGG': 'Arg',\n",
    "            'GUU': 'Val',\n",
    "            'GUC': 'Val',\n",
    "            'GUA': 'Val',\n",
    "            'GUG': 'Val',\n",
    "            'GCU': 'Ala',\n",
    "            'GCC': 'Ala',\n",
    "            'GCA': 'Ala',\n",
    "            'GCG': 'Ala',\n",
    "            'GAU': 'Asp',\n",
    "            'GAC': 'Asp',\n",
    "            'GAA': 'Glu',\n",
    "            'GAG': 'Glu',\n",
    "            'GGU': 'Gly',\n",
    "            'GGC': 'Gly',\n",
    "            'GGA': 'Gly',\n",
    "            'GGG': 'Gly',\n",
    "            }"
   ]
  },
  {
   "cell_type": "code",
   "execution_count": 100,
   "id": "bb48a6f8",
   "metadata": {
    "colab": {
     "base_uri": "https://localhost:8080/",
     "height": 36
    },
    "id": "bb48a6f8",
    "outputId": "d9be0a8d-be9f-418d-9949-def4690b57eb"
   },
   "outputs": [
    {
     "data": {
      "application/vnd.google.colaboratory.intrinsic+json": {
       "type": "string"
      },
      "text/plain": [
       "'Phe'"
      ]
     },
     "execution_count": 100,
     "metadata": {},
     "output_type": "execute_result"
    }
   ],
   "source": [
    "codons[\"UUU\"]"
   ]
  }
 ],
 "metadata": {
  "colab": {
   "include_colab_link": true,
   "provenance": [],
   "toc_visible": true
  },
  "kernelspec": {
   "display_name": "Python 3 (ipykernel)",
   "language": "python",
   "name": "python3"
  },
  "language_info": {
   "codemirror_mode": {
    "name": "ipython",
    "version": 3
   },
   "file_extension": ".py",
   "mimetype": "text/x-python",
   "name": "python",
   "nbconvert_exporter": "python",
   "pygments_lexer": "ipython3",
   "version": "3.10.10"
  }
 },
 "nbformat": 4,
 "nbformat_minor": 5
}
