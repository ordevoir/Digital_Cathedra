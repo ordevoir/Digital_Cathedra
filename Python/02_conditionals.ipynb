{
  "cells": [
    {
      "cell_type": "markdown",
      "metadata": {
        "id": "view-in-github",
        "colab_type": "text"
      },
      "source": [
        "<a href=\"https://colab.research.google.com/github/ordevoir/Digital_Cathedra/blob/main/Python/02_conditionals.ipynb\" target=\"_parent\"><img src=\"https://colab.research.google.com/assets/colab-badge.svg\" alt=\"Open In Colab\"/></a>"
      ]
    },
    {
      "cell_type": "markdown",
      "id": "48cc3fe9-64bb-441f-bc58-abceece4febb",
      "metadata": {
        "id": "48cc3fe9-64bb-441f-bc58-abceece4febb"
      },
      "source": [
        "# Пример простой программы"
      ]
    },
    {
      "cell_type": "markdown",
      "id": "22b9277f-a886-486e-9b58-da5caecb66dc",
      "metadata": {
        "id": "22b9277f-a886-486e-9b58-da5caecb66dc"
      },
      "source": [
        "Рассмотрим в качестве примера программу, которая вычисляет площадь цилиндра.\n",
        "\n",
        "Так как основанием цилиндра является круг, **площадь основания** вычисляется по формуле $$S_b = \\pi r^2$$ А **площадь боковой поверхности** вычислется по формуле\n",
        "$$\n",
        "S_s = 2 \\pi r h\n",
        "$$\n",
        "**Полная площадь** цилиндра слагается из площади боковой поверхности и удвоенной площади снования\n",
        "$$S = 2 S_b + S_s$$\n",
        "\n",
        "<img src=\"https://homework.study.com/cimages/multimages/16/zsdkfj1019373429681313743.png\">"
      ]
    },
    {
      "cell_type": "code",
      "execution_count": null,
      "id": "a94fba07-69c9-414a-b715-c8cd95e0907b",
      "metadata": {
        "id": "a94fba07-69c9-414a-b715-c8cd95e0907b"
      },
      "outputs": [],
      "source": [
        "h = 100\n",
        "r = 2\n",
        "pi = 3.14\n",
        "\n",
        "base_area = pi * r**2           # площадь основания\n",
        "side_area = 2 * pi * r * h      # площадь боковой поверхности\n",
        "area = 2*base_area + side_area  # возврат полной площади\n",
        "\n",
        "print('S =', area)"
      ]
    },
    {
      "cell_type": "markdown",
      "id": "b0494dc7-bbd2-4d71-b5ff-2df66992a84c",
      "metadata": {
        "id": "b0494dc7-bbd2-4d71-b5ff-2df66992a84c"
      },
      "source": [
        "Программа, реализованная в ячейке позволяет вычислять площадь цилиндра по задынным значениям высоты и радиуса, которые присваиваются переменным `h` и `r`.\n",
        "\n",
        "Для реализации программы помимо оператора присваивания `=` использовались также операторы сложения `+`, умножения `*` и возведения в степень `**`.\n",
        "\n",
        "Инструкции в python можно разделять переносом на следующую строку, а также символом \"`;`\". Принято разделять переносом.\n",
        "\n",
        "Для вывода результата была использована встроенная функция [`print()`](https://docs.python.org/3/library/functions.html#print), которая выводит на печать значения выражений, переданных в аргументе\n",
        "\n",
        "Полный список встроенных функций и их описание можно посмотреть в [документации](https://docs.python.org/3/library/functions.html)."
      ]
    },
    {
      "cell_type": "markdown",
      "id": "3f3abc88-f74a-42bc-bdea-bcfae6ca2be0",
      "metadata": {
        "id": "3f3abc88-f74a-42bc-bdea-bcfae6ca2be0"
      },
      "source": [
        "# Выражения\n",
        "\n",
        "**Выражение** (*Expression*) представляет собой фрагмент кода, выдающий (возвращающий) в результате выполнения некоторый результат, который можно вывести на печать, либо присвоить некоторой переменной.\n",
        "\n",
        "Простые выражения представляют собой просто некотору константу, переменную или вызов функции:"
      ]
    },
    {
      "cell_type": "code",
      "execution_count": null,
      "id": "c5a5a209-cc58-4716-91b2-adf80db194f1",
      "metadata": {
        "id": "c5a5a209-cc58-4716-91b2-adf80db194f1"
      },
      "outputs": [],
      "source": [
        "10"
      ]
    },
    {
      "cell_type": "markdown",
      "id": "00fc0b59-7a78-4799-a268-5bc90d75630c",
      "metadata": {
        "id": "00fc0b59-7a78-4799-a268-5bc90d75630c"
      },
      "source": [
        "Сложные выражения содержат некоторые операторы, или функции:"
      ]
    },
    {
      "cell_type": "code",
      "execution_count": null,
      "id": "18787a56-a80a-449b-b46d-3444bd8dc5c2",
      "metadata": {
        "id": "18787a56-a80a-449b-b46d-3444bd8dc5c2"
      },
      "outputs": [],
      "source": [
        "10 + 15"
      ]
    },
    {
      "cell_type": "code",
      "execution_count": null,
      "id": "56cdb4f1-f34b-4d72-a286-ba8c2edbc3ce",
      "metadata": {
        "id": "56cdb4f1-f34b-4d72-a286-ba8c2edbc3ce"
      },
      "outputs": [],
      "source": [
        "float((10 + 15 * 2) // 2)"
      ]
    },
    {
      "cell_type": "markdown",
      "id": "2f7e05c8",
      "metadata": {
        "id": "2f7e05c8"
      },
      "source": [
        "При выполнении выражение будет заменено на значение, которое оно возвращает. В выражении `float((10 + 15 * 2) // 2)` более простое выражение `10 + 15 * 2` будет заменено на значение `40`. А результатом выполнения всего выражения будет значение `20.0`."
      ]
    },
    {
      "cell_type": "markdown",
      "id": "2a034e9f-dc38-4de2-910c-e7459edaa811",
      "metadata": {
        "id": "2a034e9f-dc38-4de2-910c-e7459edaa811"
      },
      "source": [
        "## Тип объекта, возвращаемого выражением\n",
        "\n",
        "Для того, чтобы получить тип объекта, можно воспользоваться встроенной функцией [`type()`](https://docs.python.org/3/library/functions.html#type) :"
      ]
    },
    {
      "cell_type": "code",
      "execution_count": null,
      "id": "bf8d5348-eb15-4da4-ab3d-2b77f2da92ca",
      "metadata": {
        "id": "bf8d5348-eb15-4da4-ab3d-2b77f2da92ca"
      },
      "outputs": [],
      "source": [
        "type(10)"
      ]
    },
    {
      "cell_type": "code",
      "execution_count": null,
      "id": "1ebd2966-fc55-438a-96e5-148a5ae27a85",
      "metadata": {
        "id": "1ebd2966-fc55-438a-96e5-148a5ae27a85"
      },
      "outputs": [],
      "source": [
        "type(float((10 + 15 * 2) // 2))"
      ]
    },
    {
      "cell_type": "markdown",
      "id": "8e24f07c-1dad-4c07-86cc-94920f8f00f9",
      "metadata": {
        "id": "8e24f07c-1dad-4c07-86cc-94920f8f00f9"
      },
      "source": [
        "# Инструкции\n",
        "\n",
        "**Инструкция** (*Statement*) представляет собой фрагмент кода, при выполнении которого совершается действие, приводящее к изменению в среде выполнения. Инструкции не возвращают значений. В частности, операция присваивания приводит к тому, что в среде создается новая переменная, либо меняется значение уже существующей. Операторы циклов и ветвлений управляют действиями, но ничего не возвращают."
      ]
    },
    {
      "cell_type": "code",
      "execution_count": null,
      "id": "9d83e7ad-f040-40b8-88f0-4e8e746c60ac",
      "metadata": {
        "id": "9d83e7ad-f040-40b8-88f0-4e8e746c60ac"
      },
      "outputs": [],
      "source": [
        "a = 10  # инструкция"
      ]
    },
    {
      "cell_type": "markdown",
      "id": "fd052e1f-fb7a-4736-a225-69db28ab5d72",
      "metadata": {
        "id": "fd052e1f-fb7a-4736-a225-69db28ab5d72"
      },
      "source": [
        "Так как в последней ячейке с кодом выполнена инструкция, мы не получили под ячейкой никакого выходного значения. Было бы бессмысленно пытаться вывести на печать результат выполнения операции присовения `print(a = 10)`.\n",
        "\n",
        "Но так как в среде выполнения произошло изменение, мы можем обнаружить следы инструкции в следующей ячейке: в ячейке будет теперь доступна переменная `a`, которая была создана в результате выполнения инструкции:"
      ]
    },
    {
      "cell_type": "code",
      "execution_count": null,
      "id": "26c0f099-ec15-4dd9-8b63-3c9e6e260ce4",
      "metadata": {
        "id": "26c0f099-ec15-4dd9-8b63-3c9e6e260ce4"
      },
      "outputs": [],
      "source": [
        "a"
      ]
    },
    {
      "cell_type": "markdown",
      "id": "cabc3a94-5f72-48fb-9d84-48df7c54656e",
      "metadata": {
        "id": "cabc3a94-5f72-48fb-9d84-48df7c54656e"
      },
      "source": [
        "Следует отметить, что в инструкции `a = 10` содержалось и выражение: то, что напечатано справа от операторая `=`. Это простое выражение `10`, результатом выполнения которого является значение типа `int`, которое и присваивается переменной `a` в инструкции.\n",
        "\n",
        "В инструкции `a = 10.` выражение `10.` возвращало бы значение типа `float`."
      ]
    },
    {
      "cell_type": "markdown",
      "id": "1c009cac-d413-4816-9f2c-820ea6e1bee0",
      "metadata": {
        "id": "1c009cac-d413-4816-9f2c-820ea6e1bee0"
      },
      "source": [
        "# Логические выражения (*Boolean Expressions*)\n",
        "\n",
        "Логическими называются выражения, результатом выполнения которых является значение логического (*boolean*) типа, т.е. `True` или `False`."
      ]
    },
    {
      "cell_type": "markdown",
      "id": "04b0e006-886a-4f8a-9a7b-9830da493a49",
      "metadata": {
        "id": "04b0e006-886a-4f8a-9a7b-9830da493a49"
      },
      "source": [
        "## Операторы сравнения"
      ]
    },
    {
      "cell_type": "code",
      "execution_count": null,
      "id": "574f5ebc-8c15-4add-93b6-4a64ef181565",
      "metadata": {
        "id": "574f5ebc-8c15-4add-93b6-4a64ef181565"
      },
      "outputs": [],
      "source": [
        "print( 3 > 2 )      # больше\n",
        "print( 3 < 2 )      # меньше\n",
        "print( 3 >= 2 )     # больше либо равно"
      ]
    },
    {
      "cell_type": "code",
      "execution_count": null,
      "id": "wp2Wm9mhwP4e",
      "metadata": {
        "id": "wp2Wm9mhwP4e"
      },
      "outputs": [],
      "source": [
        "x = 2\n",
        "y = 6"
      ]
    },
    {
      "cell_type": "code",
      "execution_count": null,
      "id": "65af9304-2d85-4cdf-96ad-022233c42991",
      "metadata": {
        "id": "65af9304-2d85-4cdf-96ad-022233c42991"
      },
      "outputs": [],
      "source": [
        "print( x <= 2 )     # меньше либо равно\n",
        "print( y == 2 )     # равно\n",
        "print( x != y )     # не равно"
      ]
    },
    {
      "cell_type": "code",
      "execution_count": null,
      "id": "f8fd4ec0",
      "metadata": {
        "id": "f8fd4ec0"
      },
      "outputs": [],
      "source": [
        "print(bool)"
      ]
    },
    {
      "cell_type": "markdown",
      "id": "Gbczidcquii7",
      "metadata": {
        "id": "Gbczidcquii7"
      },
      "source": [
        "## Логические операторы\n",
        "\n",
        "Благодаря логическим опреаторам можно создавать сложные логические выражения, в которых истинность выражения определяется несколькими условиями.\n",
        "\n",
        "`not` – отрицание (*negation*)\n",
        "\n",
        "\n",
        "`a`|`not a`\n",
        ":-:|:-:\n",
        "`F`  | `T`\n",
        "`T`  | `F`\n",
        "\n",
        "`or` – логическое сложение (*disjunction*)\n",
        "\n",
        " `a` | `b` | `a or b`\n",
        ":-:|:-:|:-:\n",
        " `F` | `F` | `F`\n",
        " `F` | `T` | `T`\n",
        " `T` | `F` | `T`\n",
        " `T` | `T` | `T`\n",
        "\n",
        " `and` – логическое умножение (*conjunction*)\n",
        "\n",
        "  `a` | `b` | `a and b`\n",
        ":-:|:-:|:-:\n",
        " `F` | `F` | `F`\n",
        " `F` | `T` | `F`\n",
        " `T` | `F` | `F`\n",
        " `T` | `T` | `T`"
      ]
    },
    {
      "cell_type": "code",
      "execution_count": null,
      "id": "101b45b8-2232-483e-b5c8-045148a387bc",
      "metadata": {
        "id": "101b45b8-2232-483e-b5c8-045148a387bc"
      },
      "outputs": [],
      "source": [
        "print( 1 == 1 )\n",
        "print( not 1 == 1 )                     # negation"
      ]
    },
    {
      "cell_type": "code",
      "execution_count": null,
      "id": "ea2f06c3",
      "metadata": {
        "id": "ea2f06c3"
      },
      "outputs": [],
      "source": [
        "type( not 1 == 2)"
      ]
    },
    {
      "cell_type": "code",
      "execution_count": null,
      "id": "qQMJsPokv5l0",
      "metadata": {
        "id": "qQMJsPokv5l0"
      },
      "outputs": [],
      "source": [
        "x = 2\n",
        "y = 6"
      ]
    },
    {
      "cell_type": "code",
      "execution_count": null,
      "id": "bd4a0d17",
      "metadata": {
        "id": "bd4a0d17"
      },
      "outputs": [],
      "source": [
        "print( x == 2 and y > 3)\n",
        "print( x == 2 and y < 3)"
      ]
    },
    {
      "cell_type": "code",
      "execution_count": null,
      "id": "2cc91015",
      "metadata": {
        "id": "2cc91015"
      },
      "outputs": [],
      "source": [
        "print( x == 2 or y > 3)\n",
        "print( x == 1 or y < 3)"
      ]
    },
    {
      "cell_type": "code",
      "execution_count": null,
      "id": "wxugkhS3vroP",
      "metadata": {
        "id": "wxugkhS3vroP"
      },
      "outputs": [],
      "source": [
        "print( 1 == 2 or 1 == 1 or 2 != 3)      # disjunction\n",
        "print( x == 2 and y <= 2 and x != y)    # conjunction"
      ]
    },
    {
      "cell_type": "code",
      "execution_count": null,
      "id": "eec24f81",
      "metadata": {
        "id": "eec24f81"
      },
      "outputs": [],
      "source": [
        "type( 1 == 2 or 1 == 1 or 2 != 3 )"
      ]
    },
    {
      "cell_type": "markdown",
      "id": "84abca93",
      "metadata": {
        "id": "84abca93"
      },
      "source": [
        "### Пример"
      ]
    },
    {
      "cell_type": "code",
      "execution_count": null,
      "id": "4c687d5b",
      "metadata": {
        "id": "4c687d5b"
      },
      "outputs": [],
      "source": [
        "ivanov_is_here = True       # Иванов присутствует\n",
        "petrov_is_here = False      # Петров отсутсвтует"
      ]
    },
    {
      "cell_type": "code",
      "execution_count": null,
      "id": "da7a16e2",
      "metadata": {
        "id": "da7a16e2"
      },
      "outputs": [],
      "source": [
        "print( ivanov_is_here )\n",
        "print( not ivanov_is_here )"
      ]
    },
    {
      "cell_type": "code",
      "execution_count": null,
      "id": "7889e19e",
      "metadata": {
        "id": "7889e19e"
      },
      "outputs": [],
      "source": [
        "print( ivanov_is_here and petrov_is_here )\n",
        "print( ivanov_is_here or petrov_is_here )"
      ]
    },
    {
      "cell_type": "markdown",
      "id": "aa365cd9-44d0-4df4-bb4f-6ea08b46f902",
      "metadata": {
        "id": "aa365cd9-44d0-4df4-bb4f-6ea08b46f902"
      },
      "source": [
        "# Ветвление (*Conditional*)\n",
        "Интерпретатор Python выполняет инструкции последовательно (построчно), сверху вниз. Это называется основным потоком выполнения инструкций. Часто возникает необходимость выполнить те или иные инструкции в зависимости от условий. Т.е. мы хотим определить несколько ветвей развития событий. Например, мы хотим вывести на печать разные сообщения в зависимости от того, чему равно значение переменной `b`, которую мы определили ранее."
      ]
    },
    {
      "cell_type": "markdown",
      "id": "e2417c88-fc57-4cef-af75-0253fed131d5",
      "metadata": {
        "id": "e2417c88-fc57-4cef-af75-0253fed131d5"
      },
      "source": [
        "## Конструкция `if`\n",
        "В простейшем случае мы просто хотим вывести на печать некоторое сообщение, если значение `b` оказалось меньше `5.3`. Иными словами мы хотим создать условное ответвление. Рассмотрим блок-схему:\n",
        "\n",
        "![](https://github.com/ordevoir/Digital_Cathedra/blob/main/Python/images/conditional_1_low.png?raw=1)\n",
        "\n",
        "Опишем синтаксис. После ключевого слова `if` идет **логическое выражение** (в данном случае `b < 5.3`). Логическое выражение возвращает значение булевого типа `False` или `True`. Далее, после двоеточия `:` в последующих сторках с отступом записывается блок инструкий (вложенный код). Если условное выражение возвращает `True`, то выполняется блок инструкций, в противном случае – блок инструкций пропускается. Доветочие `:` можно читать как команду \"делать\", таким образом семантически фрагмент кода if\n",
        "."
      ]
    },
    {
      "cell_type": "code",
      "execution_count": null,
      "id": "37b6c3de-8b6b-491a-8661-0c2a19e2a941",
      "metadata": {
        "id": "37b6c3de-8b6b-491a-8661-0c2a19e2a941"
      },
      "outputs": [],
      "source": [
        "b = 5\n",
        "print(\"Инструкция из основного потока\")\n",
        "\n",
        "if b < 5.3:\n",
        "    print('b =', b)\n",
        "\n",
        "print(\"Другая инструкция из основного потока\")"
      ]
    },
    {
      "cell_type": "markdown",
      "id": "fcb777a4",
      "metadata": {
        "id": "fcb777a4"
      },
      "source": [
        "## Конструкция `if / else`\n",
        "\n",
        "В конструкции `if` был предусмотрен только один блок инструкций, который будет выполнятся только в том случае, если условное выражение возвращает значение `True`. В противном случае интерпретатор просто продолжит выполнение инструкций, которые следовали за конструкцией `if`. Но что если мы хотим выполнить другой блок инструкций, если логическое выражение вернуло значение `False`?\n",
        "\n",
        "![](https://github.com/ordevoir/Digital_Cathedra/blob/main/Python/images/conditional_2_low.png?raw=1)\n",
        "\n",
        "Для этих целей используется конструкция `if / else`, при котором второй блок инструкций задается после ключевого слова `else`:"
      ]
    },
    {
      "cell_type": "code",
      "execution_count": null,
      "id": "317a1a1b",
      "metadata": {
        "id": "317a1a1b"
      },
      "outputs": [],
      "source": [
        "b = 5\n",
        "print(\"Инструкция из основного потока\")\n",
        "\n",
        "if b < 5.3:\n",
        "    print('b =', b)\n",
        "else:\n",
        "    print('Логическое выражение вернуло значение False')\n",
        "\n",
        "print(\"Другая инструкция из основного потока\")"
      ]
    },
    {
      "cell_type": "markdown",
      "id": "0bb9489c-d154-4dfa-a70b-dab5271227d4",
      "metadata": {
        "id": "0bb9489c-d154-4dfa-a70b-dab5271227d4"
      },
      "source": [
        "## Конструкция `if / elif / else`\n",
        "\n",
        "Предположим теперь, что мы хотим проверить несколько условий и в зависимости от них выполнить определенный блок инструкуий\n",
        "\n",
        "![](https://github.com/ordevoir/Digital_Cathedra/blob/main/Python/images/conditional_3_low.png?raw=1)\n",
        "\n",
        "Ключевое слово `elif` – сокращение от *else if*. Оно используется для разделения на несколько ветвей. Если логическое выражение, идущее после `if` оказывается истинным, то выполняется только блок инструкций вложенный в `if`, а все инструкции вложенные в `elif` и `else` игнорируются. Если условное выражение, идущее после `if` оказывается ложным, то блок инструкий вложенный в `if` пропускается и проверяется условное выражение, идущее после `elif`. Если это выражение возвращает `True`, то выполняется блок инструкций, вложенный в этот `elif`, в противном случае проверяется выражение в следующем `elif`.\n",
        "\n",
        "Блок инструкций, вложенный в `else` выполняется только в том случае, если ни одно условное выражение идущее после `if` или `elif` не оказалось истинным.\n",
        "\n",
        "Если отсутствует блок `else`, то возможен случай, при котором не выполняется ни один блок.\n",
        "\n",
        ">В общем случае может быть выполнено не более одного блока инструкций, т.е. ситуация, при которой будет выполнено более одной ветви невозможно."
      ]
    },
    {
      "cell_type": "code",
      "execution_count": null,
      "id": "3fa83c03-b400-45f7-b51b-c2b59c463cc6",
      "metadata": {
        "id": "3fa83c03-b400-45f7-b51b-c2b59c463cc6"
      },
      "outputs": [],
      "source": [
        "b = 1\n",
        "\n",
        "print(\"Инструкция из основного потока\")\n",
        "\n",
        "if b == 1:\n",
        "    print('значение b равно 1')\n",
        "elif b <= 3:\n",
        "    print('значение b меньше либо равно 3')\n",
        "# elif b > 10:\n",
        "#     print('значение b больше 10')\n",
        "# элементов ветвления elif может быть произвольное количество\n",
        "else:\n",
        "    print('ни одно из логических выражений не вернуло True')\n",
        "\n",
        "print(\"Другая инструкция из основного потока\")"
      ]
    },
    {
      "cell_type": "markdown",
      "id": "12cadf5e",
      "metadata": {
        "id": "12cadf5e"
      },
      "source": [
        "### Пример"
      ]
    },
    {
      "cell_type": "code",
      "execution_count": null,
      "id": "96c684d7",
      "metadata": {
        "id": "96c684d7"
      },
      "outputs": [],
      "source": [
        "ivanov_is_here = True       # Иванов присутствует\n",
        "petrov_is_here = False      # Петров отсутсвтует"
      ]
    },
    {
      "cell_type": "code",
      "execution_count": null,
      "id": "1824d8c3",
      "metadata": {
        "id": "1824d8c3"
      },
      "outputs": [],
      "source": [
        "if ivanov_is_here and petrov_is_here:\n",
        "    print(\"Сегодня проведем рейтинги\")\n",
        "elif ivanov_is_here or petrov_is_here:\n",
        "    print(\"Сегодня проведем лекцию\")\n",
        "else:\n",
        "    print(\"Пары не будет, ищем ребят...\")"
      ]
    }
  ],
  "metadata": {
    "colab": {
      "provenance": [],
      "include_colab_link": true
    },
    "kernelspec": {
      "display_name": "Python 3 (ipykernel)",
      "language": "python",
      "name": "python3"
    },
    "language_info": {
      "codemirror_mode": {
        "name": "ipython",
        "version": 3
      },
      "file_extension": ".py",
      "mimetype": "text/x-python",
      "name": "python",
      "nbconvert_exporter": "python",
      "pygments_lexer": "ipython3",
      "version": "3.10.10"
    }
  },
  "nbformat": 4,
  "nbformat_minor": 5
}