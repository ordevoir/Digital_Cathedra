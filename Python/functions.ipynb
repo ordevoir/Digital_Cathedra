{
  "cells": [
    {
      "cell_type": "markdown",
      "metadata": {
        "colab_type": "text",
        "id": "view-in-github"
      },
      "source": [
        "<a href=\"https://colab.research.google.com/github/ordevoir/Digital_Cathedra/blob/main/Python/functions.ipynb\" target=\"_parent\"><img src=\"https://colab.research.google.com/assets/colab-badge.svg\" alt=\"Open In Colab\"/></a>"
      ]
    },
    {
      "cell_type": "markdown",
      "id": "c3f4e3d8-d9e8-4cf4-9136-c313b20f4086",
      "metadata": {
        "id": "c3f4e3d8-d9e8-4cf4-9136-c313b20f4086"
      },
      "source": [
        "# Функции\n",
        "\n",
        "Функции в программировании нужны для того, чтобы упростить и структурировать код, избежать повторения одинаковых действий и сделать программу более модульной и понятной. Функции позволяют выделить отдельные блоки кода, которые решают определенную задачу, и вызывать их по имени в любом месте программы. Функции также могут принимать и возвращать значения, которые используются для обмена данными между разными частями программы. Функции могут быть встроенными или определенными пользователем.\n",
        "\n",
        "Встроенные функци – это функции, которые предоставляются языком программирования или его библиотеками и реализуют общие или специфические операции. Например, в Python есть встроенные функци и `print()`, `len()`, `type()` и другие, которые позволяют выводить данные на экран, получать длину объекта, получать тип объектар и т.д.\n",
        "\n",
        "Определенные пользователем функции – это функции, которые создает сам программист для решения своих задач."
      ]
    },
    {
      "cell_type": "markdown",
      "id": "ef40dbc4-a5d0-4471-9af4-756e7f336573",
      "metadata": {
        "id": "ef40dbc4-a5d0-4471-9af4-756e7f336573"
      },
      "source": [
        "# Определение функции\n",
        "\n",
        "Для **определения** функции используется ключевое слово `def` (сокращение от *define*). Тело функции прописывается с отступом. В данном примере функция принимает два аргумента (`a` и `b`). Значения аргументов будут использованы в теле функции при выполнении функции."
      ]
    },
    {
      "cell_type": "code",
      "execution_count": null,
      "id": "88264497-3e42-4e8b-b7e3-e5cd90cdcbe3",
      "metadata": {
        "id": "88264497-3e42-4e8b-b7e3-e5cd90cdcbe3"
      },
      "outputs": [],
      "source": [
        "def some_function(a, b):\n",
        "    c = a * b - 1\n",
        "    return c"
      ]
    },
    {
      "cell_type": "markdown",
      "id": "8786a182-acb2-4028-a3a0-04877a122227",
      "metadata": {
        "id": "8786a182-acb2-4028-a3a0-04877a122227"
      },
      "source": [
        "При объявлении функции не производится выполнения тела функции. Выполнение осуществляется только при вызове функции."
      ]
    },
    {
      "cell_type": "markdown",
      "id": "afa4d6ad-6ce1-4469-8815-0f905ef415cb",
      "metadata": {
        "id": "afa4d6ad-6ce1-4469-8815-0f905ef415cb"
      },
      "source": [
        "# Вызов функции\n",
        "\n",
        "Для того, чтобы поспользоваться функцией, необходимо произвести **вызов** (*call*) функции. Для этого нужно написать имя функции, за которым будут следовать круглые скобки, в которых можно прописать аргументы."
      ]
    },
    {
      "cell_type": "code",
      "execution_count": null,
      "id": "17e7eb7b-d644-4e08-99fc-0e123ae924ad",
      "metadata": {
        "id": "17e7eb7b-d644-4e08-99fc-0e123ae924ad"
      },
      "outputs": [],
      "source": [
        "x, y = 5, 6\n",
        "result = some_function(x, y)\n",
        "print(result)"
      ]
    },
    {
      "cell_type": "markdown",
      "id": "7054600b-f50d-4034-8cfb-3bbce0e7aab5",
      "metadata": {
        "id": "7054600b-f50d-4034-8cfb-3bbce0e7aab5"
      },
      "source": [
        "Очевидно, что вызов такой функции является выражением, результатом которого является значение, определяемое оператором `return`. Это значение, **возвращаемое** функцией, можно присвоить некоторой переменной."
      ]
    },
    {
      "cell_type": "markdown",
      "id": "76373222-0c0f-4003-99fd-64d0c26e1689",
      "metadata": {
        "id": "76373222-0c0f-4003-99fd-64d0c26e1689"
      },
      "source": [
        "> При вызове функций всегда после имени функции идут круглые скобки `()`. Если написать имя функции без скобок, то вызова функции не произойдет: имя функции является переменной, которая ссылается на объект функции, так что если просто написать имя функции, это это будет выражение, возвращающее объект функции. Это обстоятельство позволяет передавать функции по ссылке (см. ниже)"
      ]
    },
    {
      "cell_type": "code",
      "execution_count": null,
      "id": "269e210e-c224-4f57-8bb6-c17f89b4bddc",
      "metadata": {
        "id": "269e210e-c224-4f57-8bb6-c17f89b4bddc"
      },
      "outputs": [],
      "source": [
        "some_function"
      ]
    },
    {
      "cell_type": "markdown",
      "id": "293b78b0",
      "metadata": {
        "id": "293b78b0"
      },
      "source": [
        "После определения функции, ее можно вызывать многократно, в самых разных участках кода."
      ]
    },
    {
      "cell_type": "markdown",
      "id": "d98fe4d3",
      "metadata": {
        "id": "d98fe4d3"
      },
      "source": [
        "## Пример\n",
        "\n",
        "Рассмотрим код, вычисляющий площадь цилиндра:"
      ]
    },
    {
      "cell_type": "code",
      "execution_count": null,
      "id": "ff1cf770-9a33-4721-ae5d-157c1bda6efa",
      "metadata": {
        "id": "ff1cf770-9a33-4721-ae5d-157c1bda6efa"
      },
      "outputs": [],
      "source": [
        "h = 100\n",
        "r = 2\n",
        "pi = 3.14\n",
        "\n",
        "base_area = pi * r**2           # площадь основания\n",
        "side_area = 2 * pi * r * h      # площадь боковой поверхности\n",
        "area = 2*base_area + side_area  # полная площалдь\n",
        "\n",
        "print('S =', area)"
      ]
    },
    {
      "cell_type": "markdown",
      "id": "d8184f34",
      "metadata": {
        "id": "d8184f34"
      },
      "source": [
        "Определим функцию, которая по заданным аргументам (высота, радиус) будет вычислять площадь цилиндра и возвращать его в качестве результата выполнения:"
      ]
    },
    {
      "cell_type": "code",
      "execution_count": null,
      "id": "dcfd4128",
      "metadata": {
        "id": "dcfd4128"
      },
      "outputs": [],
      "source": [
        "def cylinder_area(h, r):\n",
        "    pi = 3.14\n",
        "    base_area = pi * r**2           # площадь основания\n",
        "    side_area = 2 * pi * r * h      # площадь боковой поверхности\n",
        "    area = 2*base_area + side_area  # возврат полной площади\n",
        "    return area"
      ]
    },
    {
      "cell_type": "markdown",
      "id": "cc04e991",
      "metadata": {
        "id": "cc04e991"
      },
      "source": [
        "Теперь произведем вызов функции для того, чтобы получить площадь. Результат выполнения функции, т.е. значение, возвращаемое функцией, присвоим переменной `s` и выведем ее на печать:"
      ]
    },
    {
      "cell_type": "code",
      "execution_count": null,
      "id": "5d639a0a",
      "metadata": {
        "id": "5d639a0a"
      },
      "outputs": [],
      "source": [
        "s = cylinder_area(100, 2)\n",
        "print('S =', s)"
      ]
    },
    {
      "cell_type": "markdown",
      "id": "2bf044f9",
      "metadata": {
        "id": "2bf044f9"
      },
      "source": [
        "Предположим, что мы в ходе выполнения программы получили значения высоты и радиуса цилиндра в переменных `H` и `R`. Тогда мы можем вычислить площадь цилиндра, вызвав функцию `cylinder_area()` и передав ей соответствующие аргументы:"
      ]
    },
    {
      "cell_type": "code",
      "execution_count": null,
      "id": "713a718f",
      "metadata": {
        "id": "713a718f"
      },
      "outputs": [],
      "source": [
        "H = 10\n",
        "R = 3\n",
        "s = cylinder_area(H, R)\n",
        "print('S =', s)"
      ]
    },
    {
      "cell_type": "markdown",
      "id": "5777e6e2",
      "metadata": {
        "id": "5777e6e2"
      },
      "source": [
        "> Заметим, что переменные, хранящие значения высоты и радиуса, передаются в функцию в той последовательности, которая была предусмотрена при определении функции: первым аргументом функции является высота, вторым – радиус."
      ]
    },
    {
      "cell_type": "markdown",
      "id": "040cc3b5-5eb6-4019-be1f-22a6e2cb9289",
      "metadata": {
        "id": "040cc3b5-5eb6-4019-be1f-22a6e2cb9289"
      },
      "source": [
        "# Функции без `return`"
      ]
    },
    {
      "cell_type": "markdown",
      "id": "0d5698de",
      "metadata": {
        "id": "0d5698de"
      },
      "source": [
        "В качестве примера функции, которая не возвращает значений, напишем фукнцию, которая принимает в качестве аргумента некоторую строку, и выводит на печать отдельные слова, из которых оно состоит."
      ]
    },
    {
      "cell_type": "code",
      "execution_count": null,
      "id": "9e5f26ff",
      "metadata": {
        "id": "9e5f26ff"
      },
      "outputs": [],
      "source": [
        "def print_words(text):\n",
        "    word = ''\n",
        "    for symbol in text:\n",
        "        if symbol != ' ':\n",
        "            word = word + symbol\n",
        "        else:\n",
        "            print(word)\n",
        "            word = ''"
      ]
    },
    {
      "cell_type": "code",
      "execution_count": null,
      "id": "659de2c5",
      "metadata": {
        "id": "659de2c5"
      },
      "outputs": [],
      "source": [
        "some_text = \"Medicine is the field of health and healing\"\n",
        "print_words(some_text)"
      ]
    },
    {
      "cell_type": "markdown",
      "id": "a788fdab",
      "metadata": {
        "id": "a788fdab"
      },
      "source": [
        "Напишем теперь функцию, которая будет менять объект, передаваемый ей в качестве аргумента. В рассматриваемом примере функция `increase_elements_of_list()` изменяет список, увеличивая значения элементов на единицу:"
      ]
    },
    {
      "cell_type": "code",
      "execution_count": null,
      "id": "b9ac61a7",
      "metadata": {
        "id": "b9ac61a7"
      },
      "outputs": [],
      "source": [
        "def increase_elements_of_list(x):\n",
        "    for i in range(len(x)):\n",
        "        x[i] += 1"
      ]
    },
    {
      "cell_type": "markdown",
      "id": "e23f94ac",
      "metadata": {
        "id": "e23f94ac"
      },
      "source": [
        "> Следует отметить, что для передавать в функцию необходимо не произвольный список, а список целиком состоящий из чисел. Иначе оператор арифметического присваивания не будет работать корректно."
      ]
    },
    {
      "cell_type": "code",
      "execution_count": null,
      "id": "956c254c-3dee-4d96-bec4-d793b960b1ce",
      "metadata": {
        "id": "956c254c-3dee-4d96-bec4-d793b960b1ce"
      },
      "outputs": [],
      "source": [
        "a = [1, 2, 3]                   # имя \"a\" ссылается на список\n",
        "increase_elements_of_list(a)    # вызов функции, функция меняет список \"a\"\n",
        "print(a)"
      ]
    },
    {
      "cell_type": "markdown",
      "id": "300112b2-9d20-476d-8218-b4ab9033219e",
      "metadata": {
        "id": "300112b2-9d20-476d-8218-b4ab9033219e"
      },
      "source": [
        "## Что возвращает функция без `return`?\n",
        "\n",
        "Строго говоря, функции без `return` все же кое что возвращают, а именно – объект `None`:"
      ]
    },
    {
      "cell_type": "code",
      "execution_count": null,
      "id": "0eafb20d-02b8-4266-8d73-067682d5c6cc",
      "metadata": {
        "id": "0eafb20d-02b8-4266-8d73-067682d5c6cc"
      },
      "outputs": [],
      "source": [
        "result = increase_elements_of_list(a)\n",
        "print(result)"
      ]
    },
    {
      "cell_type": "markdown",
      "id": "43663edf-cdef-419f-9530-61aa11c91a32",
      "metadata": {
        "id": "43663edf-cdef-419f-9530-61aa11c91a32"
      },
      "source": [
        "## Образец плохой практики\n",
        "\n",
        "Список `a` можно изменить в функции не передавая ее в качестве аргумента:"
      ]
    },
    {
      "cell_type": "code",
      "execution_count": null,
      "id": "2ee217f5",
      "metadata": {
        "id": "2ee217f5"
      },
      "outputs": [],
      "source": [
        "def f():\n",
        "    a.append(a[-1]+1)"
      ]
    },
    {
      "cell_type": "code",
      "execution_count": null,
      "id": "25b63eff-e34b-4b72-a022-4e7ca0854700",
      "metadata": {
        "id": "25b63eff-e34b-4b72-a022-4e7ca0854700"
      },
      "outputs": [],
      "source": [
        "a = [1, 2, 3]           # глобальные"
      ]
    },
    {
      "cell_type": "code",
      "execution_count": null,
      "id": "e5dd098c",
      "metadata": {
        "id": "e5dd098c"
      },
      "outputs": [],
      "source": [
        "f()\n",
        "print(a)"
      ]
    },
    {
      "cell_type": "markdown",
      "id": "156c51a0",
      "metadata": {
        "id": "156c51a0"
      },
      "source": [
        "Плохо здесь то, что глядя на вызов функции `f()` вряд ли можно догадаться, что она меняет объект `a`. В более сложном коде это может привести к непредсказуемым изменениям объекта `a`, при котором будет очень трудно выяснить, почему объект меняется: мы смотрим на вызов функции `f()` и не видим никаких намеков на то, что она будет менять объект и именем `a`. Более того, функция не является универсальной: кроме как менять `a`, функция ничего больше не умеет, ведь она не сможет работать с каким либо другим списком.\n",
        "\n",
        "Вишенкой на торте является то, что название функции совершенно не информативное. Оно ничего нам не говорит о поведении функции."
      ]
    },
    {
      "cell_type": "markdown",
      "id": "3df04e9b",
      "metadata": {
        "id": "3df04e9b"
      },
      "source": [
        "## Как сделать грамотно?\n",
        "\n",
        "Во-первых следовало бы явно передавать список в качестве аргумента. Для этого в определении функции необходимо определить аргумент. Во-вторых стоит подобрать более информативное имя для функции `append_increased_last_elemend()`."
      ]
    },
    {
      "cell_type": "code",
      "execution_count": null,
      "id": "1dde2b2c",
      "metadata": {
        "id": "1dde2b2c"
      },
      "outputs": [],
      "source": [
        "def append_increased_last_elemend(a):\n",
        "    a.append(a[-1]+1)"
      ]
    },
    {
      "cell_type": "markdown",
      "id": "40b10951",
      "metadata": {
        "id": "40b10951"
      },
      "source": [
        "Тогда функция будет универсальной – работать с любым числовым списком, и при этом, глядя на вызов функции всегда будет понятно, над каким объектом функция совершает манипуляции:"
      ]
    },
    {
      "cell_type": "code",
      "execution_count": null,
      "id": "6bb8ae69",
      "metadata": {
        "id": "6bb8ae69"
      },
      "outputs": [],
      "source": [
        "b = [100]"
      ]
    },
    {
      "cell_type": "code",
      "execution_count": null,
      "id": "0e7d227f",
      "metadata": {
        "id": "0e7d227f"
      },
      "outputs": [],
      "source": [
        "append_increased_last_elemend(b)\n",
        "print(b)"
      ]
    },
    {
      "cell_type": "code",
      "execution_count": null,
      "id": "56c3bfd0",
      "metadata": {
        "id": "56c3bfd0"
      },
      "outputs": [],
      "source": [
        "append_increased_last_elemend(a)\n",
        "print(a)"
      ]
    },
    {
      "cell_type": "markdown",
      "id": "de4b584c",
      "metadata": {
        "id": "de4b584c"
      },
      "source": [
        "# Локальные и глобальные переменные\n",
        "\n",
        "**Локальные переменные** (*local variables*) – это переменные, которые объявлены внутри функции и существуют только во время выполнения этой функции.\n",
        "\n",
        "**Глобальные переменные** (*global variables*) – это те, которые объявлены вне функции и существуют во всей программе.\n",
        "\n",
        "Локальные переменные могут иметь то же имя, что и глобальные, но они не связаны между собой."
      ]
    },
    {
      "cell_type": "markdown",
      "id": "4c816076",
      "metadata": {
        "id": "4c816076"
      },
      "source": [
        "Немного модифицируем функцию `append_increased_last_elemend()`:"
      ]
    },
    {
      "cell_type": "code",
      "execution_count": null,
      "id": "d50360a1",
      "metadata": {
        "id": "d50360a1"
      },
      "outputs": [],
      "source": [
        "def append_increased_last_elemend(a):\n",
        "    t = 1\n",
        "    a.append(a[-1]+t)"
      ]
    },
    {
      "cell_type": "markdown",
      "id": "1c37212d",
      "metadata": {
        "id": "1c37212d"
      },
      "source": [
        "Мы используем в теле функции локальную переменную `t`. Эта перменная создается при вызове функции и вне функции мы не можем получить к ней доступ – вне функции она не существует."
      ]
    },
    {
      "cell_type": "code",
      "execution_count": null,
      "id": "42cbd816",
      "metadata": {
        "id": "42cbd816"
      },
      "outputs": [],
      "source": [
        "# t"
      ]
    },
    {
      "cell_type": "markdown",
      "id": "2e3d1d36",
      "metadata": {
        "id": "2e3d1d36"
      },
      "source": [
        "Объявим теперь вне функции глобальные перменные `a`, `b` и `t`:"
      ]
    },
    {
      "cell_type": "code",
      "execution_count": null,
      "id": "700a55c1",
      "metadata": {
        "id": "700a55c1"
      },
      "outputs": [],
      "source": [
        "a = [1, 2 ,3]\n",
        "b = [100]\n",
        "t = 10"
      ]
    },
    {
      "cell_type": "markdown",
      "id": "48da1d67",
      "metadata": {
        "id": "48da1d67"
      },
      "source": [
        "Произведем вызов функции и передадим ей в качестве аргумента список `b`"
      ]
    },
    {
      "cell_type": "code",
      "execution_count": null,
      "id": "6994e063",
      "metadata": {
        "id": "6994e063"
      },
      "outputs": [],
      "source": [
        "append_increased_last_elemend(b)"
      ]
    },
    {
      "cell_type": "markdown",
      "id": "89eb5dde",
      "metadata": {
        "id": "89eb5dde"
      },
      "source": [
        "Посмотрим, как как изменились значения глобальных переменных:"
      ]
    },
    {
      "cell_type": "code",
      "execution_count": null,
      "id": "f931ff64",
      "metadata": {
        "id": "f931ff64",
        "outputId": "a13789ae-f1ce-4c90-8c5d-d4b0593e1902"
      },
      "outputs": [],
      "source": [
        "print(a, b, t)"
      ]
    },
    {
      "cell_type": "markdown",
      "id": "a7c7d11a",
      "metadata": {
        "id": "a7c7d11a"
      },
      "source": [
        "Отсюда можно убедиться, что локальные переменные `a` и `t`, определенные внутри функции и глобальные переменные `a` и `t`, определенные вне функции – никак не связаны между собой.\n",
        "\n",
        "Однако, если бы локальная переменная `t` не была бы определена внутри функции, то в инструкции `a.append(a[-1]+t)` функции обратилась бы к глобальной переменной:"
      ]
    },
    {
      "cell_type": "code",
      "execution_count": null,
      "id": "0769170a",
      "metadata": {
        "id": "0769170a"
      },
      "outputs": [],
      "source": [
        "def append_increased_last_elemend(a):\n",
        "    a.append(a[-1]+t)"
      ]
    },
    {
      "cell_type": "code",
      "execution_count": null,
      "id": "5aab7352",
      "metadata": {
        "id": "5aab7352",
        "outputId": "43fe0626-a695-450d-8531-7c18caac6f06"
      },
      "outputs": [],
      "source": [
        "append_increased_last_elemend(a)\n",
        "print(a)"
      ]
    },
    {
      "cell_type": "markdown",
      "id": "8726ec85",
      "metadata": {
        "id": "8726ec85"
      },
      "source": [
        "Заметим, что несмотря на то, что функция `append_increased_last_elemend()` обращается к глобальной переменной `t`, она не пытается изменить ее значение. Поэтому значение `t` не будет неожиданно меняться:"
      ]
    },
    {
      "cell_type": "code",
      "execution_count": null,
      "id": "f30a3b46",
      "metadata": {
        "id": "f30a3b46",
        "outputId": "4c6720f4-a7d3-4b45-a4ac-8b19f510a0b6"
      },
      "outputs": [],
      "source": [
        "print(t)"
      ]
    },
    {
      "cell_type": "markdown",
      "id": "765f6473",
      "metadata": {},
      "source": [
        "## Гуанин-цитозиновый состав (*GC-content*)"
      ]
    },
    {
      "cell_type": "code",
      "execution_count": null,
      "id": "480b29ba",
      "metadata": {},
      "outputs": [],
      "source": [
        "def get_gc_content(seq):\n",
        "    pass"
      ]
    },
    {
      "cell_type": "code",
      "execution_count": null,
      "id": "3f8f1b8b",
      "metadata": {},
      "outputs": [],
      "source": [
        "def get_gc_content(seq):\n",
        "    gc_count = 0\n",
        "    for nucleotide in seq:\n",
        "        if nucleotide == 'G' or nucleotide == 'C':\n",
        "            gc_count += 1   #   <=>  gc_count = gc_count + 1\n",
        "\n",
        "    gc_fraction = gc_count / len(seq)\n",
        "    return gc_fraction"
      ]
    },
    {
      "cell_type": "markdown",
      "id": "3674cc1d-c8c6-4e62-aecf-198f9a75fc2b",
      "metadata": {
        "id": "3674cc1d-c8c6-4e62-aecf-198f9a75fc2b"
      },
      "source": [
        "# Композиция функций"
      ]
    },
    {
      "cell_type": "markdown",
      "id": "82149405",
      "metadata": {},
      "source": [
        "Самый простой вариант композиции функций – вызов функции внутри аргумента:"
      ]
    },
    {
      "cell_type": "code",
      "execution_count": null,
      "id": "6e8eeee7",
      "metadata": {},
      "outputs": [],
      "source": [
        "print(type(10))"
      ]
    },
    {
      "cell_type": "markdown",
      "id": "9045deb1",
      "metadata": {},
      "source": [
        "В общем случае можно неограниченно вкладывать вызовы функций друг в друга:"
      ]
    },
    {
      "cell_type": "code",
      "execution_count": null,
      "id": "ecb4484d",
      "metadata": {},
      "outputs": [],
      "source": [
        "print(len(str(type(10))))"
      ]
    },
    {
      "cell_type": "markdown",
      "id": "31140819",
      "metadata": {},
      "source": [
        "Другой распространенный способ композиции функций – использование фукнкций, определенных ранее, в *теле* другой функции. Мы уже такую композицию, когда вызвали, к примеру, встроенную функцию `print()` в теле функции `print_words()`. "
      ]
    },
    {
      "cell_type": "markdown",
      "id": "7c10de78",
      "metadata": {},
      "source": [
        "## Температура плавления ДНК\n",
        "\n",
        "Напишем функцию, которая будет использовать определенную нами ранее функцию `get_gc_content()` для вычисления температуры плавления двуцепочечной молекулы ДНК по [формуле](http://iairas.ru/mag/2020/full2/Art2.pdf) \n",
        "$$\n",
        "T_m = 69.3 + 0.41 [G + C]\n",
        "$$\n",
        "где $[G + C]$ представляет собой содержание нуклеотидов $G$ и $C$ в цепи."
      ]
    },
    {
      "cell_type": "code",
      "execution_count": null,
      "id": "8de62135",
      "metadata": {},
      "outputs": [],
      "source": [
        "def melting_t(A):\n",
        "    gc = get_gc_content(A)      # доля gc в цепи\n",
        "    T = 69.3 + 0.41 * (gc*100)\n",
        "    return T"
      ]
    },
    {
      "cell_type": "code",
      "execution_count": null,
      "id": "b1b46afb",
      "metadata": {},
      "outputs": [],
      "source": [
        "melting_t(sequence)"
      ]
    },
    {
      "cell_type": "code",
      "execution_count": null,
      "id": "6bf5035b",
      "metadata": {},
      "outputs": [],
      "source": [
        "melting_t(sequence_2)"
      ]
    },
    {
      "cell_type": "code",
      "execution_count": 4,
      "id": "aea86994",
      "metadata": {},
      "outputs": [
        {
          "name": "stdout",
          "output_type": "stream",
          "text": [
            "\n",
            "Welcome to Python 3.10's help utility!\n",
            "\n",
            "If this is your first time using Python, you should definitely check out\n",
            "the tutorial on the internet at https://docs.python.org/3.10/tutorial/.\n",
            "\n",
            "Enter the name of any module, keyword, or topic to get help on writing\n",
            "Python programs and using Python modules.  To quit this help utility and\n",
            "return to the interpreter, just type \"quit\".\n",
            "\n",
            "To get a list of available modules, keywords, symbols, or topics, type\n",
            "\"modules\", \"keywords\", \"symbols\", or \"topics\".  Each module also comes\n",
            "with a one-line summary of what it does; to list the modules whose name\n",
            "or summary contain a given string such as \"spam\", type \"modules spam\".\n",
            "\n",
            "Help on class type in module builtins:\n",
            "\n",
            "class type(object)\n",
            " |  type(object) -> the object's type\n",
            " |  type(name, bases, dict, **kwds) -> a new type\n",
            " |  \n",
            " |  Methods defined here:\n",
            " |  \n",
            " |  __call__(self, /, *args, **kwargs)\n",
            " |      Call self as a function.\n",
            " |  \n",
            " |  __delattr__(self, name, /)\n",
            " |      Implement delattr(self, name).\n",
            " |  \n",
            " |  __dir__(self, /)\n",
            " |      Specialized __dir__ implementation for types.\n",
            " |  \n",
            " |  __getattribute__(self, name, /)\n",
            " |      Return getattr(self, name).\n",
            " |  \n",
            " |  __init__(self, /, *args, **kwargs)\n",
            " |      Initialize self.  See help(type(self)) for accurate signature.\n",
            " |  \n",
            " |  __instancecheck__(self, instance, /)\n",
            " |      Check if an object is an instance.\n",
            " |  \n",
            " |  __or__(self, value, /)\n",
            " |      Return self|value.\n",
            " |  \n",
            " |  __repr__(self, /)\n",
            " |      Return repr(self).\n",
            " |  \n",
            " |  __ror__(self, value, /)\n",
            " |      Return value|self.\n",
            " |  \n",
            " |  __setattr__(self, name, value, /)\n",
            " |      Implement setattr(self, name, value).\n",
            " |  \n",
            " |  __sizeof__(self, /)\n",
            " |      Return memory consumption of the type object.\n",
            " |  \n",
            " |  __subclasscheck__(self, subclass, /)\n",
            " |      Check if a class is a subclass.\n",
            " |  \n",
            " |  __subclasses__(self, /)\n",
            " |      Return a list of immediate subclasses.\n",
            " |  \n",
            " |  mro(self, /)\n",
            " |      Return a type's method resolution order.\n",
            " |  \n",
            " |  ----------------------------------------------------------------------\n",
            " |  Class methods defined here:\n",
            " |  \n",
            " |  __prepare__(...)\n",
            " |      __prepare__() -> dict\n",
            " |      used to create the namespace for the class statement\n",
            " |  \n",
            " |  ----------------------------------------------------------------------\n",
            " |  Static methods defined here:\n",
            " |  \n",
            " |  __new__(*args, **kwargs)\n",
            " |      Create and return a new object.  See help(type) for accurate signature.\n",
            " |  \n",
            " |  ----------------------------------------------------------------------\n",
            " |  Data descriptors defined here:\n",
            " |  \n",
            " |  __abstractmethods__\n",
            " |  \n",
            " |  __annotations__\n",
            " |  \n",
            " |  __dict__\n",
            " |  \n",
            " |  __text_signature__\n",
            " |  \n",
            " |  ----------------------------------------------------------------------\n",
            " |  Data and other attributes defined here:\n",
            " |  \n",
            " |  __base__ = <class 'object'>\n",
            " |      The base class of the class hierarchy.\n",
            " |      \n",
            " |      When called, it accepts no arguments and returns a new featureless\n",
            " |      instance that has no instance attributes and cannot be given any.\n",
            " |  \n",
            " |  \n",
            " |  __bases__ = (<class 'object'>,)\n",
            " |  \n",
            " |  __basicsize__ = 888\n",
            " |  \n",
            " |  __dictoffset__ = 264\n",
            " |  \n",
            " |  __flags__ = 2148031744\n",
            " |  \n",
            " |  __itemsize__ = 40\n",
            " |  \n",
            " |  __mro__ = (<class 'type'>, <class 'object'>)\n",
            " |  \n",
            " |  __weakrefoffset__ = 368\n",
            "\n",
            "\n",
            "You are now leaving help and returning to the Python interpreter.\n",
            "If you want to ask for help on a particular object directly from the\n",
            "interpreter, you can type \"help(object)\".  Executing \"help('string')\"\n",
            "has the same effect as typing a particular string at the help> prompt.\n"
          ]
        }
      ],
      "source": [
        "help()"
      ]
    },
    {
      "cell_type": "markdown",
      "id": "f962424b-be48-412d-a6e8-d801cc420f2b",
      "metadata": {
        "id": "f962424b-be48-412d-a6e8-d801cc420f2b"
      },
      "source": [
        "### Передача функции по ссылке\n",
        "Python позволяет передавать функции по ссылке. Так как функция является объектом, то на него может ссылаться произвольное множество имен. Создадим список из арифметических функций `add, sub, mul, truediv`. Теперь доступ к этим функциям может быть осуществлен по индексам списка `operators`. Заметим, что при размещении функций в списке мы писали имена без скобок `()` (который произвел бы вызов функций)."
      ]
    },
    {
      "cell_type": "code",
      "execution_count": null,
      "id": "b26dcc38-fef7-424c-87d0-9ed8e1879ed6",
      "metadata": {
        "id": "b26dcc38-fef7-424c-87d0-9ed8e1879ed6"
      },
      "outputs": [],
      "source": [
        "from operator import add, sub, mul, truediv\n",
        "\n",
        "operators = [add, sub, mul, truediv]\n",
        "print(operators[1])\n"
      ]
    },
    {
      "cell_type": "markdown",
      "id": "da3add62-92a6-4bda-84c8-e866c140e70c",
      "metadata": {
        "id": "da3add62-92a6-4bda-84c8-e866c140e70c"
      },
      "source": [
        "Определим функцию `operate()`, которая первым аргументом примиает функцию по ссылке, и вызывает ее в операторе `return`. Вторым и третьим аргументом подразумевается передача чисел."
      ]
    },
    {
      "cell_type": "code",
      "execution_count": null,
      "id": "95f1e999-a983-41da-9354-b70676cbec30",
      "metadata": {
        "id": "95f1e999-a983-41da-9354-b70676cbec30"
      },
      "outputs": [],
      "source": [
        "def operate(fn, x, y):\n",
        "    return fn(x, y)"
      ]
    },
    {
      "cell_type": "markdown",
      "id": "d456aeb9-fbf2-4d85-ad6d-cb3b7361788d",
      "metadata": {
        "id": "d456aeb9-fbf2-4d85-ad6d-cb3b7361788d"
      },
      "source": [
        "Организуем цикл, в котором переменная `f` будет пробегаться по элементам списка `operators` (коими являются функции). В теле цикла будет вызываться функция `operate()`, в которую будут поочередно передаваться функции."
      ]
    },
    {
      "cell_type": "code",
      "execution_count": null,
      "id": "f43d7616-e3ba-4fe7-978e-748cf369320f",
      "metadata": {
        "id": "f43d7616-e3ba-4fe7-978e-748cf369320f"
      },
      "outputs": [],
      "source": [
        "a, b = 9, 3\n",
        "\n",
        "for f in operators:\n",
        "    result = operate(f, a, b)\n",
        "    print(result)"
      ]
    },
    {
      "cell_type": "markdown",
      "id": "1dcfa716",
      "metadata": {
        "id": "1dcfa716",
        "jp-MarkdownHeadingCollapsed": true
      },
      "source": [
        "# Функции высшего порядка\n",
        "\n",
        "**Функцией высшего порядка** называется функция, которая принимает функцию в качестве аргумента или возвращает в качестве значения."
      ]
    },
    {
      "cell_type": "markdown",
      "id": "21b63ae3",
      "metadata": {
        "id": "21b63ae3"
      },
      "source": [
        "### `sorted()`\n",
        "\n",
        "Примером может служить функция `sorted()`: ее необязательный аргумент `key` позволяет задать функцию, которая применяется к каждому сортируемому элементу. Например, чтобы упорядочить список слов по длине, достаточно передать функцию `len()` в качестве аргумента `key`.\n",
        ">Если не задавать значение для `key`, функция будет упорядочивать строки в лексигографическом порядке."
      ]
    },
    {
      "cell_type": "code",
      "execution_count": null,
      "id": "4033fb56",
      "metadata": {
        "id": "4033fb56"
      },
      "outputs": [],
      "source": [
        "s = ['This', 'is', '-', 'some', 'text']\n",
        "print(f\"{s =                        }\")\n",
        "print(f\"{sorted(s) =                }\")     # в лексикографическом порядке\n",
        "print(f\"{sorted(s, reverse=True) =  }\")     # упорядочивание по убыванию\n",
        "print(f\"{sorted(s, key=len) =       }\")     # упорядочивание по длине элемента"
      ]
    },
    {
      "cell_type": "markdown",
      "id": "88064fdc",
      "metadata": {
        "id": "88064fdc"
      },
      "source": [
        "### `map()`\n",
        "\n",
        "Функция `map()` позволяет производить отображение одной последовательности в другую, в соотствии с заданной в аргументе функцией. Функцию преобразования можно задать первым аргументом по ссылке, либо определить `lambda`-функцию. Вторым аргументом задается последовательность. Функция `map()` возвращает итератор - объект класса `map`, который легко преобразовывается в `list`, `str` и тд."
      ]
    },
    {
      "cell_type": "code",
      "execution_count": null,
      "id": "5a6ef63f",
      "metadata": {
        "id": "5a6ef63f"
      },
      "outputs": [],
      "source": [
        "L = [1, 2, 3, 4, 5]\n",
        "M = map(lambda x: x ** 2, L)\n",
        "print(type(M))\n",
        "list(M)"
      ]
    },
    {
      "cell_type": "markdown",
      "id": "ddaa9644",
      "metadata": {
        "id": "ddaa9644"
      },
      "source": [
        "### `filter()`\n",
        "\n",
        "Функция `filter()` позводяет отфильтровать последовательность в соответствии с заданной в аргументе фильтрационной функцией, которая должна возвращать булевый тип для всех элементов последовательности. Интерфейс функции похож на интерфейс функции `map()`, но возвращает итератор - объект класса `filter`, который тоже легко преобровывается в `list`, `str` и тд."
      ]
    },
    {
      "cell_type": "code",
      "execution_count": null,
      "id": "2f8fb5df",
      "metadata": {
        "id": "2f8fb5df"
      },
      "outputs": [],
      "source": [
        "L = [1, 2, 3, 4, 5]\n",
        "F = filter(lambda x: True if x%2==0 else False, L)\n",
        "print(type(F))\n",
        "list(F)"
      ]
    },
    {
      "cell_type": "markdown",
      "id": "a2e8ea1a",
      "metadata": {
        "id": "a2e8ea1a"
      },
      "source": [
        "> List Comprehension может делать все, что умеют функции `map()` и `filter()`..."
      ]
    },
    {
      "cell_type": "markdown",
      "id": "6cfb9cc4",
      "metadata": {
        "id": "6cfb9cc4"
      },
      "source": [
        "### Редуцирующие функции\n",
        "\n",
        "Общая идея редуцирующих функций в том, чотбы применить некую операцию к каждому элементу последовательности с аккумулированием результатов и тем самым свести (агрегировать) последовательность значений к одному. Таковы, например, функции `sum()`, `all()` и `any()`:\n",
        "- `sum()` возвращает значение суммы всей последовательности;\n",
        "- `all()` возвращает `True`, если все элементы последовательности являются Truthy, и `False`, если есть хотя бы оди Falsy элемент;\n",
        "- `any()` возвращает `True`, если хотя быодин элемент последовательности является Truthy, и `False` – в противном случае."
      ]
    },
    {
      "cell_type": "code",
      "execution_count": null,
      "id": "0b66e4ec",
      "metadata": {
        "id": "0b66e4ec"
      },
      "outputs": [],
      "source": [
        "print(f\"{ sum([0, 1, 2, 3, 4]) }\")\n",
        "print(f\"{ all([0, 1, 2, 3, 4]) }\")\n",
        "print(f\"{ any([0, 1, 2, 3, 4]) }\")"
      ]
    },
    {
      "cell_type": "markdown",
      "id": "580b6f8c",
      "metadata": {
        "id": "580b6f8c"
      },
      "source": [
        "### `reduce()`\n",
        "\n",
        "Функция `reduce()` из модуля `functools` кумулятивно применяет заданную агрегирующую функцию к элементам, агрегируя результаты. Задаваемая агрегирующая функция должна принимать два аргумента и возвращать одно значение. Функция `reduce()` сначала возьмет первую пару элементов последовательности и применит к ним агрегирующую функцию, затем, применит агрегирующую функцию к полученному результат и следующему в последовательности элементу, и так до конца последовательности. В результате будет получено одно значение.\n",
        "\n",
        "Рассмотрим в качестве примера агрегирующую функцию `mean()`, которая определена для пары значений и возвращает среднее арифметическое от них. Функция `reduce()` применит функцию `mean()` сначала для первой пары элементов (`1` и `2`), затем применит функцию `mean()` к полученному результату и следующему элементу (`3`) и тд. Заметим, что если поменять последовательность элементов в списке, результат изменится, так как результат в данном случае зависит от последовательности применения агрегирующей функции к элементам.\n"
      ]
    },
    {
      "cell_type": "code",
      "execution_count": null,
      "id": "0baddde4",
      "metadata": {
        "id": "0baddde4"
      },
      "outputs": [],
      "source": [
        "from functools import reduce\n",
        "\n",
        "def mean(x, y):\n",
        "    return (x + y) / 2\n",
        "\n",
        "reduce(mean, [1, 2, 3, 4])"
      ]
    },
    {
      "cell_type": "code",
      "execution_count": null,
      "id": "1b612f7b",
      "metadata": {
        "id": "1b612f7b"
      },
      "outputs": [],
      "source": [
        "reduce(mean, [4, 2, 3, 1])"
      ]
    },
    {
      "cell_type": "markdown",
      "id": "89be186f",
      "metadata": {
        "id": "89be186f"
      },
      "source": [
        "> Опционально можно задать третий аргумент `initial`. В этом случае функция `reduce()` начнет не с первых двух элементов последовательности, а передаст в агрегирующую функцию значение `initial` и первый элемент последовательности."
      ]
    },
    {
      "cell_type": "markdown",
      "id": "95388bac-3a3a-42c6-8bb4-618a8bd63dfb",
      "metadata": {
        "id": "95388bac-3a3a-42c6-8bb4-618a8bd63dfb"
      },
      "source": [
        "# Аргументы функций"
      ]
    },
    {
      "cell_type": "markdown",
      "id": "e32d1466",
      "metadata": {
        "id": "e32d1466"
      },
      "source": [
        "## Аргументы при определении функции\n",
        "\n",
        "- `def f(n)` Нормальные: являются обязательными при вызове;\n",
        "- `def f(n=15)` Дефолтные: аргументы со значениями по умолчению, являются необязательными при вызове.\n",
        "\n",
        "Дефолтные аргументы должны следовать за нормальными аргументами.\n",
        "\n",
        "При вызове функции нормальные и дефолтные аргументы функции сопоставляются передаваемым в функцию значениями в соответсвтвии с позицией, для позиционных аргументов, или в соответствии с именами, для именованных аргументов.\n",
        "\n",
        "- `def f(*args)` Избыточные позиционные аргументы упаковываются оператором `*` в кортеж с именем `args`;\n",
        "- `def f(**kwargs)` Избыточные именованные аргументы упаковываются оператором `**` в слварь с имененм `kwargs`.\n",
        "\n"
      ]
    },
    {
      "cell_type": "code",
      "execution_count": null,
      "id": "2f6842d0",
      "metadata": {
        "id": "2f6842d0"
      },
      "outputs": [],
      "source": [
        "def printAll(a, b, c=True, d='None', *args, **kwargs):\n",
        "    print(f\"    {a = } {b = } {c = } {d = }\")\n",
        "    print(f'    {args = } {kwargs = }')"
      ]
    },
    {
      "cell_type": "markdown",
      "id": "432669ac",
      "metadata": {
        "id": "432669ac"
      },
      "source": [
        "## Аргументы при вызове функции\n",
        "\n",
        "- `f(a, b, c)` Позиционные аргументы;\n",
        "- `f(x=4, y=2, z=5)` Именованные аргументы;\n",
        "- `f(*sequence)` Распаковка последовательности значений. Каждый элемент последовательности будет позиционным аргументом;\n",
        "- `f(**dict)` Распаковка словаря. Каждая запись словаря будет именованным аргументом, где ключ будет соответствовать имени аргумента, а значение по ключу будет значением аргумента.\n",
        "\n",
        "Именованные аргументы должны следовать за позиционными аргументами."
      ]
    },
    {
      "cell_type": "code",
      "execution_count": null,
      "id": "38dd93d2",
      "metadata": {
        "id": "38dd93d2"
      },
      "outputs": [],
      "source": [
        "print('вызов с двумя позиционными аргументами:')\n",
        "printAll(10, 11)\n",
        "print('вызов с множеством позиционных аргументов:')\n",
        "printAll(10, 11, 14, 32, 12, 32, 31)\n",
        "print('вызов с \"ожидаемыми\" именованными аргументами:')\n",
        "printAll(10, 11, c=31, d=14)\n",
        "print('вызов с \"избыточными\" именованными аргументами:')\n",
        "printAll(10, 11, y=31, x=14)\n",
        "print('вызов с множеством позиционных арг-тов и с \"незнакомыми\" именованными арг-ми:')\n",
        "printAll(10, 11, 32, 12, 32, 31, y=31, x=14)"
      ]
    },
    {
      "cell_type": "code",
      "execution_count": null,
      "id": "799d3d4e",
      "metadata": {
        "id": "799d3d4e"
      },
      "outputs": [],
      "source": [
        "sequence = (1, 2, 3, 4, 5, 6, 7)\n",
        "printAll(*sequence)"
      ]
    },
    {
      "cell_type": "code",
      "execution_count": null,
      "id": "16e92639",
      "metadata": {
        "id": "16e92639"
      },
      "outputs": [],
      "source": [
        "printAll(10, 20, *sequence)"
      ]
    },
    {
      "cell_type": "code",
      "execution_count": null,
      "id": "faa519f9",
      "metadata": {
        "id": "faa519f9"
      },
      "outputs": [],
      "source": [
        "dictionary = {'b': 20, 'c': 11, 'n': 1, 'm': 15}\n",
        "printAll(100, d=200, **dictionary)"
      ]
    },
    {
      "cell_type": "markdown",
      "id": "9e28c2b7-4ec2-4c72-b985-3c6d591c0d6a",
      "metadata": {
        "id": "9e28c2b7-4ec2-4c72-b985-3c6d591c0d6a"
      },
      "source": [
        "## Предостережение!\n",
        "\n",
        ">Не стоит задавать изменяемый объект в качестве значение аргумента функции по умолчанию!\n",
        "\n",
        "Значения по умлочанию аргументов функций задаются один раз при определении функции, а не отдельно во время вызова. Поэтому при каждом вызове функции его локальная перменная, соответствующая дефолтному аргументу, ссылается на тот объект, который создан при определении функции. Для неизменяемых значений это не проблема, но для изменяемых объектов это может привести к неприятностям: первый вызов функции может изменить дефолтный объект, и тогда следующий вызов функции будет иметь дело с измененным объектом."
      ]
    },
    {
      "cell_type": "code",
      "execution_count": null,
      "id": "045ec7f5-a78f-4c16-8d61-9000f9131a18",
      "metadata": {
        "id": "045ec7f5-a78f-4c16-8d61-9000f9131a18"
      },
      "outputs": [],
      "source": [
        "def f(a, b=[]):\n",
        "    b.append(a)\n",
        "    return b\n",
        "# дефолтный объект [] создан"
      ]
    },
    {
      "cell_type": "markdown",
      "id": "6d199bf0",
      "metadata": {
        "id": "6d199bf0"
      },
      "source": [
        "В данном коде для функции `f` определяется один дефолтный объект – пустой список. Далее, при вызове функции локальная переменная `b` будет ссылаться на тот самый объект и изменит его при выполнении функции."
      ]
    },
    {
      "cell_type": "code",
      "execution_count": null,
      "id": "94019ff6",
      "metadata": {
        "id": "94019ff6"
      },
      "outputs": [],
      "source": [
        "c = f(10)   # в объект [] записывается значение 10\n",
        "print(c)    # функция возвращает этот список и на него теперь ссылается c\n",
        "d = f(11)   # в объект [10] записыается значение 11\n",
        "print(d)    # теперь и d ссылается на список, значение которого теперь [10, 11]"
      ]
    },
    {
      "cell_type": "markdown",
      "id": "13048cb2",
      "metadata": {
        "id": "13048cb2"
      },
      "source": [
        "Переменным `c` и `d` был присвоен один и тот же объект: список, созданный при определении функции, поэтому:"
      ]
    },
    {
      "cell_type": "code",
      "execution_count": null,
      "id": "b64496cc",
      "metadata": {
        "id": "b64496cc"
      },
      "outputs": [],
      "source": [
        "c is d"
      ]
    },
    {
      "cell_type": "markdown",
      "id": "769c6f1c",
      "metadata": {
        "id": "769c6f1c"
      },
      "source": [
        "Если все же значением по умолчанию должен быть изменяемый объект, но уникальный при для каждого вызова функции, можно действовать так:"
      ]
    },
    {
      "cell_type": "code",
      "execution_count": null,
      "id": "40a1ee08",
      "metadata": {
        "id": "40a1ee08"
      },
      "outputs": [],
      "source": [
        "def f(a, b=None):\n",
        "    if b is None:\n",
        "        b = []\n",
        "    b.append(a)\n",
        "    return b\n",
        "\n",
        "c = f(10)\n",
        "print(c)\n",
        "d = f(11)\n",
        "print(d)\n",
        "print(c is d)"
      ]
    },
    {
      "cell_type": "markdown",
      "id": "5e4ac336",
      "metadata": {
        "id": "5e4ac336"
      },
      "source": [
        "В этом случае при определении функции создается объект `None`, а список создаются отдельно создается каждый раз при вызове функции."
      ]
    },
    {
      "cell_type": "markdown",
      "id": "7f424d6a-e540-4a0d-82d9-7d5103952765",
      "metadata": {
        "id": "7f424d6a-e540-4a0d-82d9-7d5103952765"
      },
      "source": [
        "# Декораторы\n",
        "Декоратор принимает в качестве аргумента функцию, и возвращает функцию обертку, в которой вызывается сама декорируемая функция, а так же некоторые инструкции до и после вызова функции."
      ]
    },
    {
      "cell_type": "code",
      "execution_count": null,
      "id": "OAyp0mO1iguM",
      "metadata": {
        "id": "OAyp0mO1iguM"
      },
      "outputs": [],
      "source": [
        "from time import time\n",
        "\n",
        "def decorator(function):\n",
        "    def wrapper(*args, **kwargs):\n",
        "        t = time()\n",
        "        value = function(*args, **kwargs)\n",
        "        print(f\"execution time: {(time()-t)*1000} ms\")\n",
        "        return value\n",
        "    return wrapper\n",
        "\n",
        "# определим функцию, которую нужно декорировать\n",
        "def f(a):\n",
        "    print('calling function', a)\n",
        "    return a\n",
        "\n",
        "# один из способов декорирования:\n",
        "f = decorator(f)\n",
        "f(5)"
      ]
    },
    {
      "cell_type": "code",
      "execution_count": null,
      "id": "5nQkPmCekhKx",
      "metadata": {
        "id": "5nQkPmCekhKx"
      },
      "outputs": [],
      "source": [
        "# второй способ декорирования (при определении функции):\n",
        "@decorator\n",
        "def g():\n",
        "    print('calling another function')\n",
        "\n",
        "g()"
      ]
    },
    {
      "cell_type": "code",
      "execution_count": null,
      "id": "eff89f46-d35c-468a-adec-a14cf31a4fcc",
      "metadata": {
        "id": "eff89f46-d35c-468a-adec-a14cf31a4fcc"
      },
      "outputs": [],
      "source": []
    }
  ],
  "metadata": {
    "colab": {
      "include_colab_link": true,
      "provenance": [],
      "toc_visible": true
    },
    "kernelspec": {
      "display_name": "Python 3 (ipykernel)",
      "language": "python",
      "name": "python3"
    },
    "language_info": {
      "codemirror_mode": {
        "name": "ipython",
        "version": 3
      },
      "file_extension": ".py",
      "mimetype": "text/x-python",
      "name": "python",
      "nbconvert_exporter": "python",
      "pygments_lexer": "ipython3",
      "version": "3.10.10"
    }
  },
  "nbformat": 4,
  "nbformat_minor": 5
}
