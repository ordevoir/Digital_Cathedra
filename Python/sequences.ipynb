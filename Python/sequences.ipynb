{
 "cells": [
  {
   "cell_type": "markdown",
   "id": "e878a412-281e-4317-b21a-da04a9d5b350",
   "metadata": {},
   "source": [
    "# `list`: базовые операции\n",
    "\n",
    "Список представляет собой последовательность объектов, доступ к которым можно получить посредством индексов. Для того, чтобы создать список, можно перечислить объекты в квадратных скобках, через запятую:"
   ]
  },
  {
   "cell_type": "code",
   "execution_count": 3,
   "id": "3cc16007-4adb-4b25-aef3-ae054be45767",
   "metadata": {},
   "outputs": [],
   "source": [
    "Y = [10, 12, 30, 44, 51, 36, 11, 12]"
   ]
  },
  {
   "cell_type": "markdown",
   "id": "cb669021-8141-44fa-bbce-8f72c006e502",
   "metadata": {},
   "source": [
    "Индексами служат целые неотрицательные числа. Индексация начинается с нуля. Получим **доступ к элементу** с индексом `3`:"
   ]
  },
  {
   "cell_type": "code",
   "execution_count": 8,
   "id": "e1d1e23c-d016-4575-93e4-ecef5c397b45",
   "metadata": {},
   "outputs": [
    {
     "name": "stdout",
     "output_type": "stream",
     "text": [
      "51\n"
     ]
    }
   ],
   "source": [
    "a = Y[3]\n",
    "print(a)"
   ]
  },
  {
   "cell_type": "markdown",
   "id": "28767b68-3394-4b9f-81fc-183803abd484",
   "metadata": {},
   "source": [
    "Можно **изменить значение**, расположенное под индексом `3`:"
   ]
  },
  {
   "cell_type": "code",
   "execution_count": 5,
   "id": "7a5c7acc-ca76-426c-9d4e-65c1e74f4f24",
   "metadata": {},
   "outputs": [
    {
     "name": "stdout",
     "output_type": "stream",
     "text": [
      "[10, 12, 30, 147, 51, 36, 11, 12]\n"
     ]
    }
   ],
   "source": [
    "Y[3] = 147\n",
    "print(Y)"
   ]
  },
  {
   "cell_type": "markdown",
   "id": "2c1d2492-a60d-4443-9f01-65758fa24f62",
   "metadata": {},
   "source": [
    "**Удалим** элемент, расположенный в списке под индексом `3`:"
   ]
  },
  {
   "cell_type": "code",
   "execution_count": 7,
   "id": "5655988e-cf92-493c-a176-ef71d5c861ea",
   "metadata": {},
   "outputs": [
    {
     "name": "stdout",
     "output_type": "stream",
     "text": [
      "[10, 12, 30, 51, 36, 11, 12]\n"
     ]
    }
   ],
   "source": [
    "del Y[3]\n",
    "print(Y)"
   ]
  },
  {
   "cell_type": "markdown",
   "id": "82345dcb-c519-48a1-85f8-7895c54130e2",
   "metadata": {},
   "source": [
    "Можно добавить элемент в конец списка:"
   ]
  },
  {
   "cell_type": "code",
   "execution_count": 10,
   "id": "116810cd-c71a-40c9-a0eb-e2a9174e5318",
   "metadata": {},
   "outputs": [
    {
     "name": "stdout",
     "output_type": "stream",
     "text": [
      "[10, 12, 30, 51, 36, 11, 12, 256]\n"
     ]
    }
   ],
   "source": [
    "Y.append(256)\n",
    "print(Y)"
   ]
  },
  {
   "cell_type": "markdown",
   "id": "8493f043-754c-4fa9-97c8-49781fe38cf4",
   "metadata": {},
   "source": [
    "Получить **длину списка**, т.е. количество элементов последовательности, можно при помощи встроенной функции `len()`:"
   ]
  },
  {
   "cell_type": "code",
   "execution_count": 11,
   "id": "ea0707e4-3586-42f1-abdc-bbb191bd1088",
   "metadata": {},
   "outputs": [
    {
     "name": "stdout",
     "output_type": "stream",
     "text": [
      "8\n"
     ]
    }
   ],
   "source": [
    "lenght = len(Y)\n",
    "print(lenght)"
   ]
  },
  {
   "cell_type": "markdown",
   "id": "5509ed17-1798-4d2c-8b41-07a36579b416",
   "metadata": {},
   "source": [
    "# `str`: базовые операции\n",
    "\n",
    "Строки представляют собой последовательности символов. Для создания строк используются кавычки `\"` или апострофы `'`:"
   ]
  },
  {
   "cell_type": "code",
   "execution_count": 18,
   "id": "9a694370-0a34-492a-83d2-d9e9604f2c53",
   "metadata": {},
   "outputs": [],
   "source": [
    "s = 'This is - some  text'"
   ]
  },
  {
   "cell_type": "markdown",
   "id": "2be899d9-c22a-4a87-9c57-622f1e2347ec",
   "metadata": {},
   "source": [
    "Важное отличие строк от списков заключается в том, что строки являются неизменяемыми объектами, в то время как списки – изменяемые, т.е. содержимое списков можно менять, а вот объект строки, после того как он создан, изменить уже не получится:"
   ]
  },
  {
   "cell_type": "code",
   "execution_count": 19,
   "id": "de18449b-5ee5-441b-a5bb-d830e26904f0",
   "metadata": {},
   "outputs": [],
   "source": [
    "# s[3] = '3'"
   ]
  },
  {
   "cell_type": "markdown",
   "id": "d224b3ce-c29f-496c-9703-5272dbde0189",
   "metadata": {},
   "source": [
    "Однако мы можем получать доступ к элементам строки посредством индексов, а также можем создавать новые строки на базе имеющихся."
   ]
  },
  {
   "cell_type": "code",
   "execution_count": 20,
   "id": "40b38eca-3a2c-4983-9682-5de40046a718",
   "metadata": {},
   "outputs": [
    {
     "name": "stdout",
     "output_type": "stream",
     "text": [
      "s\n"
     ]
    }
   ],
   "source": [
    "print(s[3])"
   ]
  },
  {
   "cell_type": "code",
   "execution_count": 23,
   "id": "f4b6c2c1-69fc-484c-b781-990163b7fa65",
   "metadata": {},
   "outputs": [
    {
     "name": "stdout",
     "output_type": "stream",
     "text": [
      "THIS IS - SOME  TEXT\n"
     ]
    }
   ],
   "source": [
    "new_s = s.upper()\n",
    "print(new_s)"
   ]
  },
  {
   "cell_type": "markdown",
   "id": "47311611-b46f-46cd-9787-37fbc6f5133d",
   "metadata": {},
   "source": [
    "Как и для списков, встроенная функция `len()` возвращает длину строки:"
   ]
  },
  {
   "cell_type": "code",
   "execution_count": 25,
   "id": "f8f50f24-4f58-4309-965e-d20c30083bb2",
   "metadata": {},
   "outputs": [
    {
     "name": "stdout",
     "output_type": "stream",
     "text": [
      "20\n"
     ]
    }
   ],
   "source": [
    "print( len(s) )"
   ]
  }
 ],
 "metadata": {
  "kernelspec": {
   "display_name": "Python 3 (ipykernel)",
   "language": "python",
   "name": "python3"
  },
  "language_info": {
   "codemirror_mode": {
    "name": "ipython",
    "version": 3
   },
   "file_extension": ".py",
   "mimetype": "text/x-python",
   "name": "python",
   "nbconvert_exporter": "python",
   "pygments_lexer": "ipython3",
   "version": "3.10.10"
  }
 },
 "nbformat": 4,
 "nbformat_minor": 5
}
