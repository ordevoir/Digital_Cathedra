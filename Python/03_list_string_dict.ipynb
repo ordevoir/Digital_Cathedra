{
 "cells": [
  {
   "cell_type": "markdown",
   "id": "6e13cfc3-cdc6-4915-988b-dffd6910a875",
   "metadata": {
    "id": "e878a412-281e-4317-b21a-da04a9d5b350"
   },
   "source": [
    "# Списки (`list`)\n",
    "\n",
    "Список представляет собой последовательность объектов, доступ к которым можно получить посредством индексов. Для того, чтобы создать список, можно перечислить объекты в квадратных скобках, через запятую:"
   ]
  },
  {
   "cell_type": "code",
   "execution_count": null,
   "id": "2c4405b5-07d2-4af1-9578-aaec4bd66fa2",
   "metadata": {
    "id": "3cc16007-4adb-4b25-aef3-ae054be45767"
   },
   "outputs": [],
   "source": [
    "Y = [10, 12, 30, 44, 51, 36, 11, 12]"
   ]
  },
  {
   "cell_type": "markdown",
   "id": "79972bcb-3954-441e-be81-b96f14272300",
   "metadata": {
    "id": "cb669021-8141-44fa-bbce-8f72c006e502"
   },
   "source": [
    "Индексами служат целые неотрицательные числа. Индексация начинается с нуля. Получим **доступ к элементу** с индексом `3`:"
   ]
  },
  {
   "cell_type": "code",
   "execution_count": null,
   "id": "1ce32d56-2f90-49e2-bf94-48c4edcba98b",
   "metadata": {
    "id": "e1d1e23c-d016-4575-93e4-ecef5c397b45"
   },
   "outputs": [],
   "source": [
    "a = Y[3]\n",
    "print(a)"
   ]
  },
  {
   "cell_type": "markdown",
   "id": "1ef6e5f2-0965-4697-b756-5c2ff4186a22",
   "metadata": {
    "id": "28767b68-3394-4b9f-81fc-183803abd484"
   },
   "source": [
    "Можно **изменить значение**, расположенное под индексом `3`:"
   ]
  },
  {
   "cell_type": "code",
   "execution_count": null,
   "id": "530bcdb6-ba41-4e26-b697-e6c91ad4c42d",
   "metadata": {
    "id": "7a5c7acc-ca76-426c-9d4e-65c1e74f4f24"
   },
   "outputs": [],
   "source": [
    "Y[3] = 147\n",
    "print(Y)"
   ]
  },
  {
   "cell_type": "markdown",
   "id": "8a281a74-5865-4039-bbbf-976ae6ba42cd",
   "metadata": {
    "id": "oAUKksM3kb6s"
   },
   "source": [
    "Отрицательные индексы ведут отсчет с конца последовательности:"
   ]
  },
  {
   "cell_type": "code",
   "execution_count": null,
   "id": "94a4be49-ffb0-4f76-9fd7-1dd5407305be",
   "metadata": {
    "id": "Cj7K_KO_kb6t",
    "outputId": "3618ee83-44f3-45ee-da89-dcc6e251ad2b"
   },
   "outputs": [
    {
     "name": "stdout",
     "output_type": "stream",
     "text": [
      "[10, 12, 30, 51, 36, 11, 12, 256]\n"
     ]
    },
    {
     "data": {
      "text/plain": [
       "(256, 12)"
      ]
     },
     "execution_count": 94,
     "metadata": {},
     "output_type": "execute_result"
    }
   ],
   "source": [
    "print(Y)\n",
    "Y[-1], Y[-2]"
   ]
  },
  {
   "cell_type": "markdown",
   "id": "e874cbb5-7e4a-44f7-a38e-8eb411bc2fb7",
   "metadata": {
    "id": "2c1d2492-a60d-4443-9f01-65758fa24f62"
   },
   "source": [
    "**Удалим** элемент, расположенный в списке под индексом `3`:"
   ]
  },
  {
   "cell_type": "code",
   "execution_count": null,
   "id": "04fbcaba-72d9-4e52-823c-b473a73247e0",
   "metadata": {
    "id": "5655988e-cf92-493c-a176-ef71d5c861ea"
   },
   "outputs": [],
   "source": [
    "del Y[3]\n",
    "print(Y)"
   ]
  },
  {
   "cell_type": "markdown",
   "id": "6678de24-8465-4b87-ba3c-fe77ff93a82e",
   "metadata": {
    "id": "82345dcb-c519-48a1-85f8-7895c54130e2"
   },
   "source": [
    "Можно добавить элемент в конец списка:"
   ]
  },
  {
   "cell_type": "code",
   "execution_count": null,
   "id": "19d3a7be-efb5-48dc-9433-ff7ca0bcc017",
   "metadata": {
    "id": "116810cd-c71a-40c9-a0eb-e2a9174e5318"
   },
   "outputs": [],
   "source": [
    "Y.append(256)\n",
    "print(Y)"
   ]
  },
  {
   "cell_type": "markdown",
   "id": "6929ae2a-620c-4d45-bab5-8da85cf1ce17",
   "metadata": {
    "id": "9SSbBQI6lUEX"
   },
   "source": [
    "Можно создать пустой список и затем добавить в него элементы:"
   ]
  },
  {
   "cell_type": "code",
   "execution_count": null,
   "id": "0673dc01-ca3f-44ec-8d0d-321db9545f31",
   "metadata": {
    "id": "y96Yf9DilUEX"
   },
   "outputs": [],
   "source": [
    "Z = list()          #   <=>  Z = []\n",
    "for i in range(6):\n",
    "    Z.append(i**2)\n",
    "\n",
    "print(Z)"
   ]
  },
  {
   "cell_type": "markdown",
   "id": "be187131-eceb-42cf-a7ec-362d87bec0a7",
   "metadata": {
    "id": "8493f043-754c-4fa9-97c8-49781fe38cf4"
   },
   "source": [
    "Получить **длину списка**, т.е. количество элементов последовательности, можно при помощи встроенной функции `len()`:"
   ]
  },
  {
   "cell_type": "code",
   "execution_count": null,
   "id": "e12c20a5-1393-4580-a509-6f7c619260b9",
   "metadata": {
    "id": "ea0707e4-3586-42f1-abdc-bbb191bd1088"
   },
   "outputs": [],
   "source": [
    "lenght = len(Y)\n",
    "print(lenght)"
   ]
  },
  {
   "cell_type": "markdown",
   "id": "90b91034-b452-4018-929b-e1c13ce1ff9f",
   "metadata": {
    "id": "8mrQR-Nxkb6u"
   },
   "source": [
    "> индексация идет с нуля, поэтому индекс последнего элемента на единицу меньше длины последовательности:"
   ]
  },
  {
   "cell_type": "code",
   "execution_count": null,
   "id": "4f7341d1-4f69-4818-9327-aac0a35e835d",
   "metadata": {
    "id": "k4Fzl1mXkb6u"
   },
   "outputs": [],
   "source": [
    "print(Y)\n",
    "print(Y[7])"
   ]
  },
  {
   "cell_type": "markdown",
   "id": "7c85d5ca-3619-4a2f-9ff5-f7009cbddb38",
   "metadata": {
    "id": "j8PyAGRnco-j"
   },
   "source": [
    "Проверить, содержится ли объект в списке можно используя оператор `in`:"
   ]
  },
  {
   "cell_type": "code",
   "execution_count": null,
   "id": "a56f71bf-8462-40bb-b709-7f1be3968389",
   "metadata": {
    "id": "TZaTxPDhcopT"
   },
   "outputs": [],
   "source": [
    "print(11 in Y)\n",
    "print(13 in Y)"
   ]
  },
  {
   "cell_type": "markdown",
   "id": "afc19627-665b-46fc-80cc-47aa5c038af6",
   "metadata": {
    "id": "WZ-Hx6u5lUEY"
   },
   "source": [
    "## Основные методы класса `list`\n",
    "\n",
    "Полный список методов списка приводится в [документации](https://docs.python.org/3/tutorial/datastructures.html)."
   ]
  },
  {
   "cell_type": "code",
   "execution_count": null,
   "id": "11ffa876-bb5b-4ca1-b008-1cb08686cb84",
   "metadata": {
    "id": "Np4879NslUEY"
   },
   "outputs": [],
   "source": [
    "Y.append(6)         # добавляет в конец списка объект 6\n",
    "Y.insert(4, 12)     # вставляет объект 12 в позицию 4\n",
    "Y.remove(1)         # удаляет из списка первый элемент со значением 1\n",
    "Y.extend(Z)         # расширение списка Y элементами списка Z\n",
    "print(Y.pop())      # удаляет и возвращаяет последний элемент\n",
    "print(Y.pop(6))     # удаляет и возвращаяет элемент с индексом 6\n",
    "print(Y.count(1),   'возвращает количество элементов со значением 1')\n",
    "print(Y.index(3),   'возвращает индекс первого элемента со значением 3')"
   ]
  },
  {
   "cell_type": "markdown",
   "id": "a34a7fc6-9831-469c-9e8e-2369ee1d8112",
   "metadata": {
    "id": "2dIxOT9MlUEY"
   },
   "source": [
    "## Поведение операторов `+` и `in`"
   ]
  },
  {
   "cell_type": "code",
   "execution_count": null,
   "id": "c0c3a8ac-8f0c-4d23-961b-443be626b8f0",
   "metadata": {
    "id": "eOKW-YVxlUEZ"
   },
   "outputs": [],
   "source": [
    "print(f\"{ Y = } \\n{Z = }\")\n",
    "print(f\"{ Y + Z = }\")        # оператор + производит конкатенацию двух списков\n",
    "print(f\"{ 12 in Y = }\")      # возвращает True, если элемент 12 содержится в Y"
   ]
  },
  {
   "cell_type": "markdown",
   "id": "87bd6546-59f3-481f-a65e-6b2dc0e8f300",
   "metadata": {
    "id": "5509ed17-1798-4d2c-8b41-07a36579b416"
   },
   "source": [
    "# Строки (`str`)\n",
    "\n",
    "Строки представляют собой последовательности символов. Для создания строк используются кавычки `\"` или апострофы `'`:"
   ]
  },
  {
   "cell_type": "code",
   "execution_count": null,
   "id": "86570023-18b3-4402-8999-233b8d147f23",
   "metadata": {
    "id": "9a694370-0a34-492a-83d2-d9e9604f2c53"
   },
   "outputs": [],
   "source": [
    "s = 'This is - some  text'"
   ]
  },
  {
   "cell_type": "markdown",
   "id": "1e72f4f9-97e0-4337-833d-f8867e5bbce8",
   "metadata": {
    "id": "2be899d9-c22a-4a87-9c57-622f1e2347ec"
   },
   "source": [
    "> Важное отличие строк от списков заключается в том, что строки являются неизменяемыми объектами, в то время как списки – изменяемые, т.е. содержимое списков можно менять, а вот объект строки, после того как он создан, изменить уже не получится:"
   ]
  },
  {
   "cell_type": "code",
   "execution_count": null,
   "id": "f31cfacb-25a3-48b2-8399-2d9a9488ea66",
   "metadata": {
    "id": "de18449b-5ee5-441b-a5bb-d830e26904f0"
   },
   "outputs": [],
   "source": [
    "# s[3] = '3'"
   ]
  },
  {
   "cell_type": "markdown",
   "id": "b002c36b-98cd-49c6-9556-3df204ad7244",
   "metadata": {
    "id": "d224b3ce-c29f-496c-9703-5272dbde0189"
   },
   "source": [
    "Однако мы можем получать доступ к элементам строки посредством индексов, а также можем создавать новые строки на базе имеющихся."
   ]
  },
  {
   "cell_type": "code",
   "execution_count": null,
   "id": "e77fb740-bfc3-4006-bc66-d0cf99f69b6d",
   "metadata": {
    "id": "40b38eca-3a2c-4983-9682-5de40046a718"
   },
   "outputs": [],
   "source": [
    "print(s[5])"
   ]
  },
  {
   "cell_type": "code",
   "execution_count": null,
   "id": "3bc1a407-c1ec-41f6-adfb-96897c7b8841",
   "metadata": {
    "id": "f4b6c2c1-69fc-484c-b781-990163b7fa65"
   },
   "outputs": [],
   "source": [
    "new_s = s.upper()\n",
    "print(new_s)"
   ]
  },
  {
   "cell_type": "markdown",
   "id": "13b8f715-95bf-42c1-98e4-bb4ec69bd571",
   "metadata": {
    "id": "47311611-b46f-46cd-9787-37fbc6f5133d"
   },
   "source": [
    "Как и для списков, встроенная функция `len()` возвращает длину строки:"
   ]
  },
  {
   "cell_type": "code",
   "execution_count": null,
   "id": "6d6b1389-64c6-4a09-b3fe-d3b6f10a341c",
   "metadata": {
    "id": "f8f50f24-4f58-4309-965e-d20c30083bb2",
    "jupyter": {
     "source_hidden": true
    }
   },
   "outputs": [],
   "source": [
    "print( len(s) )"
   ]
  },
  {
   "cell_type": "markdown",
   "id": "a9d28bdc-43e6-450e-8fe3-4108f2b47d14",
   "metadata": {
    "id": "rDUAcZyjhDI0"
   },
   "source": [
    "Последовательность может быть конвертирована в список при помощи функции `list()`:"
   ]
  },
  {
   "cell_type": "code",
   "execution_count": null,
   "id": "94ca47b6-aa2c-4871-8247-4e3703c01a21",
   "metadata": {
    "id": "ym1i_O1-g3NQ"
   },
   "outputs": [],
   "source": [
    "L = list(s)\n",
    "print(L)"
   ]
  },
  {
   "cell_type": "code",
   "execution_count": null,
   "id": "34474d24-474b-4277-b868-a0238dd4158b",
   "metadata": {
    "id": "SF2MdfIndScW"
   },
   "outputs": [],
   "source": [
    "\"his\" in s"
   ]
  },
  {
   "cell_type": "markdown",
   "id": "09aae17b-1e36-44fb-a911-9923d41a8fb1",
   "metadata": {
    "id": "OzfyCL96dTOe"
   },
   "source": [
    "Для строк оператор `in` может проверить не только наличие символа в строке, но и наличие некоторой последовательности символов:"
   ]
  },
  {
   "cell_type": "code",
   "execution_count": null,
   "id": "84ce9fd0-266e-49fa-9baa-8d815367327f",
   "metadata": {
    "id": "FqJTWMhKkb6w",
    "outputId": "a5c2ef0b-0f47-43e9-c09a-d41dc15c81dc"
   },
   "outputs": [
    {
     "name": "stdout",
     "output_type": "stream",
     "text": [
      "T\n",
      "h\n",
      "i\n",
      "s\n",
      " \n",
      "i\n",
      "s\n",
      " \n",
      "-\n",
      " \n",
      "s\n",
      "o\n",
      "m\n",
      "e\n",
      " \n",
      " \n",
      "t\n",
      "e\n",
      "x\n",
      "t\n"
     ]
    }
   ],
   "source": [
    "for i in s:\n",
    "    print(i)"
   ]
  },
  {
   "cell_type": "markdown",
   "id": "de601597-9aa0-4936-ae6b-bc9aa40b77ee",
   "metadata": {
    "id": "NOiL7rC_kb6w"
   },
   "source": [
    "## Методы строк\n",
    "\n",
    "Строки (`str`) являются неизменяемыми объектами, поэтому, они не содержат методов, которые меняли бы сам объект. Однако, они обладают множеством методов, которые могут возвращать значения на основе данной строки.\n",
    "\n",
    "Метод `split()` позволяет разбить строку на фрагменты по заданному разделителю. По-умолчанию разделителем является пробел."
   ]
  },
  {
   "cell_type": "code",
   "execution_count": null,
   "id": "35e26791-36d9-4057-9d85-11bdd79bb04b",
   "metadata": {
    "id": "sHxghCJ8kb6x"
   },
   "outputs": [],
   "source": [
    "s = 'This is - some  text'"
   ]
  },
  {
   "cell_type": "code",
   "execution_count": null,
   "id": "b1e7b3f8-6a82-442b-986b-734582ae7c27",
   "metadata": {
    "id": "QP0iztNbkb6x"
   },
   "outputs": [],
   "source": [
    "words = s.split()\n",
    "print(words)"
   ]
  },
  {
   "cell_type": "code",
   "execution_count": null,
   "id": "916aaedc-b937-4e43-87a3-5061c63e752c",
   "metadata": {
    "id": "gH0kIN_Dkb6x"
   },
   "outputs": [],
   "source": [
    "phrases = s.split('-')          # разделитель `-`\n",
    "print(phrases)"
   ]
  },
  {
   "cell_type": "markdown",
   "id": "d64ac1f4-468b-44ec-818c-0845ebbc9d61",
   "metadata": {
    "id": "53_JdUAZkb6x"
   },
   "source": [
    "Метод `join()` позволяет объединить строки из списка."
   ]
  },
  {
   "cell_type": "code",
   "execution_count": null,
   "id": "b43830fe-1689-4391-b9e0-cde0aa15cacb",
   "metadata": {
    "id": "2ie7ZG4dkb6x"
   },
   "outputs": [],
   "source": [
    "delimmiter = ' '\n",
    "s2 = delimmiter.join(words)\n",
    "print(s2)"
   ]
  },
  {
   "cell_type": "markdown",
   "id": "abec0b9a-050c-4d20-9138-f6c1a5c16132",
   "metadata": {
    "id": "R96LMNLLkb6x"
   },
   "source": [
    "### Методы, возвращающие модифицированную строку"
   ]
  },
  {
   "cell_type": "code",
   "execution_count": null,
   "id": "299e8e6e-1413-4bb8-a1d1-0a4171189c73",
   "metadata": {
    "id": "WzPz1X0Lkb6x"
   },
   "outputs": [],
   "source": [
    "s3 = s2.lower()\n",
    "print(s3)"
   ]
  },
  {
   "cell_type": "code",
   "execution_count": null,
   "id": "c0527177-158c-44a3-9608-bdfed1a47c19",
   "metadata": {
    "id": "6g4K0GcFkb6x"
   },
   "outputs": [],
   "source": [
    "s4 = s2.upper()\n",
    "print(s4)"
   ]
  },
  {
   "cell_type": "code",
   "execution_count": null,
   "id": "bdafd8a5-1290-4770-babf-eb5b79031d62",
   "metadata": {
    "id": "15Wff1bDkb6x"
   },
   "outputs": [],
   "source": [
    "s5 = s2.title()\n",
    "print(s5)"
   ]
  },
  {
   "cell_type": "markdown",
   "id": "582f93cb-7973-47a3-8989-8cc79c574a6b",
   "metadata": {
    "id": "7cDt9Vbukb6y"
   },
   "source": [
    "### Логические методы\n",
    "\n",
    "Логические методы позволяют выяснить, удовлетворяет ли оъект некоторому условию. Логические методы возвращают `True`, если объект удовлетворяет условию и `False` в противном случае."
   ]
  },
  {
   "cell_type": "code",
   "execution_count": null,
   "id": "d6d425dc-eaed-4761-b833-90cdfbd7006d",
   "metadata": {
    "id": "H1trHVGikb6y"
   },
   "outputs": [],
   "source": [
    "s2.isupper()"
   ]
  },
  {
   "cell_type": "code",
   "execution_count": null,
   "id": "632e19d2-5b36-4658-8cdd-9eae5408a291",
   "metadata": {
    "id": "wVtwqe7Zkb6y"
   },
   "outputs": [],
   "source": [
    "s2.islower()"
   ]
  },
  {
   "cell_type": "code",
   "execution_count": null,
   "id": "495ed8d6-39b5-41f7-8574-79647f307f2f",
   "metadata": {
    "id": "5YsDJwC-kb6y"
   },
   "outputs": [],
   "source": [
    "s2.istitle()"
   ]
  },
  {
   "cell_type": "code",
   "execution_count": null,
   "id": "13a5e678-baf6-425a-b0e2-11819e7e9bd0",
   "metadata": {
    "id": "rtCyCdwxkb6y"
   },
   "outputs": [],
   "source": [
    "s2.startswith('T')      # строка начинается заданным символом"
   ]
  },
  {
   "cell_type": "code",
   "execution_count": null,
   "id": "3bd275fa-c9d6-4712-8c14-61d1388db608",
   "metadata": {
    "id": "Be3wP4-jkb6y"
   },
   "outputs": [],
   "source": [
    "s2.endswith('t')      # строка заканчивается заданным символом"
   ]
  },
  {
   "cell_type": "markdown",
   "id": "dad7fe67-cf7a-4cf3-8a20-2b067cd28d0f",
   "metadata": {
    "id": "GTdkV92gkb6y"
   },
   "source": [
    "# Канкатенация\n",
    "\n",
    "Операция канкатенации представляет собой сшивание двух последовательностей, представляющих собой одну и ту же структуру данных. В частности, можно произвести канкатенацию двух списков, или двух строк:"
   ]
  },
  {
   "cell_type": "code",
   "execution_count": null,
   "id": "3943bda3-bc16-4f2e-adbf-16f8e24f90a0",
   "metadata": {
    "id": "ZLICiIQkkb6y"
   },
   "outputs": [],
   "source": [
    "[4, 5, 6] + [3, 2]"
   ]
  },
  {
   "cell_type": "code",
   "execution_count": null,
   "id": "612b02b6-56ff-430c-a583-dc3192d7d24f",
   "metadata": {
    "id": "w_kEJn2Qkb6y"
   },
   "outputs": [],
   "source": [
    "'tex' + 't'"
   ]
  },
  {
   "cell_type": "markdown",
   "id": "496cb0c1-3c20-40c4-b4a6-53545d960355",
   "metadata": {
    "id": "XZ5lwJcflUEn"
   },
   "source": [
    "# Словари (`dict`)\n",
    "\n",
    "Словарь представляет собой тип данных, в котором элементы содержатся в виде пары (ключ : значение). При этом, в одном словаре не могут присутствовать пары, с одинаковыми ключами – все ключи уникальны. Значения же могут повторяться. Доступ к значениям в словаре осуществляется через ключи.\n",
    "\n",
    "В Python словарь реализован в виде стуктуры данных, представленного классом `dict` (*dictionary* – словарь)."
   ]
  },
  {
   "cell_type": "markdown",
   "id": "f29c418c-9b85-4e37-88ed-a7ef46b2424c",
   "metadata": {
    "id": "HOafHW04lUEn"
   },
   "source": [
    "## Способы создания словарей\n",
    "Можно задать пары (ключ: значение) при создании словаря. В роли ключей могут выступать разные типы данных. Ограничением является то, что эти типы должны быть неизменяемыми: назначить в качестве ключа список или словарь не получится."
   ]
  },
  {
   "cell_type": "code",
   "execution_count": null,
   "id": "cffbeb19-abd9-418b-84ce-bf6d9376df2e",
   "metadata": {
    "id": "UQFmCdW3lUEn"
   },
   "outputs": [],
   "source": [
    "d = {1: 'value',\n",
    "     True: 23,\n",
    "     'a': [1, 3, 5]\n",
    "     }\n",
    "\n",
    "print(d)"
   ]
  },
  {
   "cell_type": "markdown",
   "id": "a0dabbf5-fb5f-4a6a-a7b1-ca2032abf292",
   "metadata": {
    "id": "JfI3nbpClUEn"
   },
   "source": [
    "Можно создать пустой словарь и затем добавить пары:"
   ]
  },
  {
   "cell_type": "code",
   "execution_count": null,
   "id": "6fd0ab14-ab8e-415a-82e5-32a1fb230d78",
   "metadata": {
    "id": "BV9ZK6sclUEn"
   },
   "outputs": [],
   "source": [
    "dictionary = dict()  # dictionary (словарь)\n",
    "\n",
    "# добавим несколько пар в формате dictionary[key] = value\n",
    "dictionary['key_1'] = 13\n",
    "dictionary[4] = [1, 4, 10]\n",
    "dictionary[(0,1)] = 'value'\n",
    "dictionary[3.4] = 23\n",
    "dictionary[False] = dictionary\n",
    "\n",
    "print(dictionary)"
   ]
  },
  {
   "cell_type": "markdown",
   "id": "493432ce-a10e-4d10-a766-ec8dc7cec7b4",
   "metadata": {
    "id": "dkmSZhqPlUEo"
   },
   "source": [
    "## Доступ к элементам словаря"
   ]
  },
  {
   "cell_type": "code",
   "execution_count": null,
   "id": "0427ea43-0e2c-4855-86a4-9ee86b241d9c",
   "metadata": {
    "id": "7CdvXUSVlUEo"
   },
   "outputs": [],
   "source": [
    "a = dictionary['key_1']     # получить значение по ключу 'key_1'\n",
    "print(a)\n",
    "dictionary['key_1'] = 12    # изменить значение ассоциированное с ключом\n",
    "# если такого ключа нет в словаре, то создается новая пара\n",
    "\n",
    "del dictionary[4]           # удаляется пара по ключу 4\n",
    "print(dictionary)"
   ]
  },
  {
   "cell_type": "code",
   "execution_count": null,
   "id": "3171749a-a3ed-454a-ba77-4774a7484b7d",
   "metadata": {
    "id": "jUVL37pmlUEo"
   },
   "outputs": [],
   "source": [
    "a = dictionary.pop(3.4)         # удаляет пару и возвращаяет значение по ключу\n",
    "print(a)\n",
    "b = dictionary.popitem()        # удаляет и возвращают пару в виде кортежа\n",
    "print(b)\n",
    "dictionary.setdefault('key_2')      # добавляет ключ со значением None\n",
    "dictionary.setdefault('key_3', 65)  # добавляет ключ со значением 65\n",
    "print(dictionary)"
   ]
  },
  {
   "cell_type": "markdown",
   "id": "58856ca0-1e38-4038-bd30-462d19716421",
   "metadata": {
    "id": "vjZrOnn_lUEo"
   },
   "source": [
    "## Получение последовательностей ключей и значений"
   ]
  },
  {
   "cell_type": "code",
   "execution_count": null,
   "id": "30fec3f0-4d3f-4490-a5ca-90993925d03b",
   "metadata": {
    "id": "MCuGXw9glUEo"
   },
   "outputs": [],
   "source": [
    "keys = dictionary.keys()        # получить набор ключей\n",
    "values = dictionary.values()    # получить набор значений\n",
    "print(keys)\n",
    "print(values)\n",
    "print(list(keys))       # набор можно преобразовать в список"
   ]
  },
  {
   "cell_type": "code",
   "execution_count": null,
   "id": "43521ec2-285b-4c4e-b976-97667096a0b4",
   "metadata": {
    "id": "WYalYHKulUEo"
   },
   "outputs": [],
   "source": [
    "a = {'a': 11, 'b': 12, 'c': 13}\n",
    "dictionary.update(a)    # пополнение словаря парами из другого словаря\n",
    "dictionary"
   ]
  },
  {
   "cell_type": "code",
   "execution_count": null,
   "id": "1b61ef84-4b7a-4d27-a8a8-cc7f9eb0ed60",
   "metadata": {
    "id": "hXepVorRlUEo"
   },
   "outputs": [],
   "source": [
    "# можно проверить, содержится ли такой ключ в словаре:\n",
    "isKey = (0, 1) in dictionary\n",
    "print('object is a key in the dictionary:', isKey)\n",
    "\n",
    "# перебор в цикле всех ключей словаря\n",
    "for key in dictionary:\n",
    "    print(key)\n",
    "# также можно перебрать непосредственно значения\n",
    "for value in dictionary.values():\n",
    "    print(value)"
   ]
  },
  {
   "cell_type": "code",
   "execution_count": null,
   "id": "773f0cbc-7e23-4ce1-a32c-4105b6a37acd",
   "metadata": {
    "id": "DrjpVeFKlUEo"
   },
   "outputs": [],
   "source": [
    "a = {'a': 11, 'b': 12, 'c': 13}\n",
    "b = {'b': 14, 'd': 15, 'e': 16}\n",
    "c = {**a, **b}          # объединение словарей путем распаковки\n",
    "print(f'{c =     }')\n",
    "print(f'{a | b = }')   # начиная с версии python 3.9"
   ]
  },
  {
   "cell_type": "markdown",
   "id": "fc3e93c6-da33-4404-a390-42b3c8e378f5",
   "metadata": {
    "id": "fc3e93c6-da33-4404-a390-42b3c8e378f5"
   },
   "source": [
    "## Поверхностное копирование"
   ]
  },
  {
   "cell_type": "markdown",
   "id": "a7b72159-9c42-483c-b475-c91ce67cf247",
   "metadata": {
    "id": "a7b72159-9c42-483c-b475-c91ce67cf247"
   },
   "source": [
    "### Копирование списков"
   ]
  },
  {
   "cell_type": "code",
   "execution_count": null,
   "id": "117dd1ce-cac4-47bb-8fbd-6202198f9ebb",
   "metadata": {
    "id": "117dd1ce-cac4-47bb-8fbd-6202198f9ebb"
   },
   "outputs": [],
   "source": [
    "from copy import copy\n",
    "\n",
    "L = [1, 3, 5]\n",
    "\n",
    "L_1 = L[:]      # первый способ\n",
    "L_2 = list(L)   # второй способ\n",
    "L_3 = copy(L)   # третий способ"
   ]
  },
  {
   "cell_type": "markdown",
   "id": "23caca98-cbb7-4d04-ba7e-33bb4c9df62a",
   "metadata": {
    "id": "23caca98-cbb7-4d04-ba7e-33bb4c9df62a"
   },
   "source": [
    "> Подобным же образом можно скопировать также кортежи и строки. Однако, так как это итак неизменяемые типы данных, смысла в этом не много. Нобходимость скорее будет возникать в глубоком копировании."
   ]
  },
  {
   "cell_type": "markdown",
   "id": "3101d9a8-7294-4fc6-8f59-5f9d19fafc32",
   "metadata": {
    "id": "3101d9a8-7294-4fc6-8f59-5f9d19fafc32"
   },
   "source": [
    "### Копирование множеств и словарей"
   ]
  },
  {
   "cell_type": "code",
   "execution_count": null,
   "id": "36880d8a-4a1e-4b97-80e4-4a819fc14067",
   "metadata": {
    "id": "36880d8a-4a1e-4b97-80e4-4a819fc14067"
   },
   "outputs": [],
   "source": [
    "from copy import copy\n",
    "\n",
    "D = {\"a\": 3, \"b\":3}\n",
    "D_2 = dict(D)\n",
    "D_3 = copy(D)\n",
    "\n",
    "S = {0, 1, 2, 3, 4}\n",
    "S_2 = set(S)\n",
    "S_3 = copy(S)"
   ]
  },
  {
   "cell_type": "markdown",
   "id": "6a226cf8-d439-48c5-b305-cb9d320fd897",
   "metadata": {
    "id": "6a226cf8-d439-48c5-b305-cb9d320fd897"
   },
   "source": [
    "## Глубокое копирование"
   ]
  },
  {
   "cell_type": "code",
   "execution_count": null,
   "id": "6d3a9a20-0ee3-4e2e-9d05-e84eaf2c8b89",
   "metadata": {
    "id": "6d3a9a20-0ee3-4e2e-9d05-e84eaf2c8b89"
   },
   "outputs": [],
   "source": [
    "from copy import deepcopy\n",
    "\n",
    "L_4 = deepcopy(L)\n",
    "D_4 = deepcopy(D)\n",
    "S_4 = deepcopy(S)"
   ]
  },
  {
   "cell_type": "markdown",
   "id": "bc1ffcda-5f48-4569-9a79-bfb7fa55930f",
   "metadata": {
    "id": "bc1ffcda-5f48-4569-9a79-bfb7fa55930f"
   },
   "source": [
    "## Срезы\n",
    "\n",
    "Срезы позволяют извлечь подпоследовательности из последовательности. Рассмотрим простой синтаксис, позволяющий извлечь первые или последние `n` элментов:"
   ]
  },
  {
   "cell_type": "code",
   "execution_count": null,
   "id": "00aa74dc-6c98-4a36-838d-eec74efc3a71",
   "metadata": {
    "id": "00aa74dc-6c98-4a36-838d-eec74efc3a71",
    "outputId": "3753c9b4-f2af-4e5e-8aa2-24f5c95c7d6e"
   },
   "outputs": [
    {
     "name": "stdout",
     "output_type": "stream",
     "text": [
      "Te xt Te xt\n",
      "Tex t\n",
      "T e xt\n"
     ]
    }
   ],
   "source": [
    "s = 'Text'\n",
    "\n",
    "a, b, c, d = s[:2], s[2:], s[:-2], s[-2:]\n",
    "print(a, b, c, d)\n",
    "\n",
    "a, b, = s[:-1], s[-1]\n",
    "print(a, b)\n",
    "\n",
    "(a, b), c = s[:2], s[2:]\n",
    "print(a, b, c)"
   ]
  },
  {
   "cell_type": "code",
   "execution_count": null,
   "id": "fc21d47e",
   "metadata": {
    "id": "fc21d47e"
   },
   "outputs": [],
   "source": [
    "L = list(range(12))"
   ]
  },
  {
   "cell_type": "markdown",
   "id": "e8fc11f2",
   "metadata": {
    "id": "e8fc11f2"
   },
   "source": [
    "Общий синтаксис:\n",
    "\n",
    "    L[start: end: step]\n",
    "\n",
    "Синтаксис напоминает работу функции `range()`: мы задаем стартовый индекс, полседний индекс и шаг, т.е. задаются диапазон и шаг. Например, выражение `L[3:11:2]` вернет последовательность из элементов с индексами `3`, `5`, `7`, `9`, т.е. извлекается элемент с индексом `3`, затем следующие индексы, идущие с шагом `2`. Правая граница диапазона не входит: элемент с идексом `11` не будет извлечен."
   ]
  },
  {
   "cell_type": "code",
   "execution_count": null,
   "id": "69babbdc",
   "metadata": {
    "id": "69babbdc",
    "outputId": "eb509ce0-7d66-4e0f-8c60-bb7317ba5d6a"
   },
   "outputs": [
    {
     "name": "stdout",
     "output_type": "stream",
     "text": [
      "  L         = [0, 1, 2, 3, 4, 5, 6, 7, 8, 9, 10, 11]\n",
      "  L[3:11:2] = [3, 5, 7, 9]\n"
     ]
    }
   ],
   "source": [
    "print(f'{  L         = }')\n",
    "print(f'{  L[3:11:2] = }')"
   ]
  },
  {
   "cell_type": "markdown",
   "id": "1f740622",
   "metadata": {
    "id": "1f740622"
   },
   "source": [
    "Если не задана левая граница диапазона `L[:8:2]`, то по умолчанию отсчет будет начинаться с `0`:"
   ]
  },
  {
   "cell_type": "code",
   "execution_count": null,
   "id": "61739902",
   "metadata": {
    "id": "61739902",
    "outputId": "9635794c-d65b-4ccf-d6e9-a526c2748cd6"
   },
   "outputs": [
    {
     "data": {
      "text/plain": [
       "[0, 2, 4, 6, 8, 10]"
      ]
     },
     "execution_count": 11,
     "metadata": {},
     "output_type": "execute_result"
    }
   ],
   "source": [
    "L[:11:2]"
   ]
  },
  {
   "cell_type": "markdown",
   "id": "e8cc73b2",
   "metadata": {
    "id": "e8cc73b2"
   },
   "source": [
    "Если не задана правая граница диапазона `L[3::2]`, то по умолчанию отсчет будет идти до конца последовательности:"
   ]
  },
  {
   "cell_type": "code",
   "execution_count": null,
   "id": "65d36af8",
   "metadata": {
    "id": "65d36af8",
    "outputId": "3e92cc66-0ea8-406e-f6fe-13ea7bb42b82"
   },
   "outputs": [
    {
     "data": {
      "text/plain": [
       "[3, 5, 7, 9, 11]"
      ]
     },
     "execution_count": 12,
     "metadata": {},
     "output_type": "execute_result"
    }
   ],
   "source": [
    "L[3::2]"
   ]
  },
  {
   "cell_type": "markdown",
   "id": "bbe864dd",
   "metadata": {
    "id": "bbe864dd"
   },
   "source": [
    "Если не задан шаг, то по умолчанию будет использован шаг, равный единице. При этом второй оператор `:` можно не писать:"
   ]
  },
  {
   "cell_type": "code",
   "execution_count": null,
   "id": "dcc51212",
   "metadata": {
    "id": "dcc51212",
    "outputId": "da3ab37d-8335-42eb-8096-a5d9a6b27f61"
   },
   "outputs": [
    {
     "name": "stdout",
     "output_type": "stream",
     "text": [
      "  L[3:11:] = [3, 4, 5, 6, 7, 8, 9, 10]\n",
      "  L[3:11]  = [3, 4, 5, 6, 7, 8, 9, 10]\n"
     ]
    }
   ],
   "source": [
    "print(f'{  L[3:11:] = }')\n",
    "print(f'{  L[3:11]  = }')"
   ]
  },
  {
   "cell_type": "markdown",
   "id": "8212206f",
   "metadata": {
    "id": "8212206f"
   },
   "source": [
    "Также можно одновременно не указывать ни правую ни левую границы диапазона. В этом случае индесны будут отсчитываться с `0` и до конца последовательности:"
   ]
  },
  {
   "cell_type": "code",
   "execution_count": null,
   "id": "9f0c0bda",
   "metadata": {
    "id": "9f0c0bda",
    "outputId": "35e395bc-e289-43e4-b83c-8b3ca3237781"
   },
   "outputs": [
    {
     "name": "stdout",
     "output_type": "stream",
     "text": [
      "  L[::2]  = [0, 2, 4, 6, 8, 10]\n"
     ]
    }
   ],
   "source": [
    "print(f'{  L[::2]  = }')"
   ]
  },
  {
   "cell_type": "code",
   "execution_count": null,
   "id": "60178437-68a3-4bf1-8d7a-b7932c1e62ad",
   "metadata": {
    "id": "60178437-68a3-4bf1-8d7a-b7932c1e62ad",
    "outputId": "15fcf8c6-ae04-4412-887e-ed2599da3d46"
   },
   "outputs": [
    {
     "name": "stdout",
     "output_type": "stream",
     "text": [
      "  L         = [0, 1, 2, 3, 4, 5, 6, 7, 8, 9, 10, 11]\n",
      "  L[3:10:2] = [3, 5, 7, 9]\n",
      "  L[5::4]   = [5, 9]\n",
      "  L[1::2]   = [1, 3, 5, 7, 9, 11]\n",
      "  L[::2]    = [0, 2, 4, 6, 8, 10]\n",
      "  L[::3]    = [0, 3, 6, 9]\n"
     ]
    }
   ],
   "source": [
    "L = list(range(12))\n",
    "print(f'{  L         = }')\n",
    "print(f'{  L[3:10:2] = }')  # каждый второй элемент в диапазоне от 3 до 10\n",
    "print(f'{  L[5::4]   = }')  # каждый четвертый элемент начиная с 5\n",
    "print(f'{  L[1::2]   = }')  # все элементы с нечетными индексами\n",
    "print(f'{  L[::2]    = }')  # все элементы с четными индексами [0::2]\n",
    "print(f'{  L[::3]    = }')  # каждый третий элемент начиная с нулевого"
   ]
  },
  {
   "cell_type": "markdown",
   "id": "373cf6db",
   "metadata": {
    "id": "373cf6db"
   },
   "source": [
    "Срезы могут быть произведены в обратном порядке, если задать отрицательный шаг:"
   ]
  },
  {
   "cell_type": "code",
   "execution_count": null,
   "id": "9258b599-0575-44e1-9e63-45d4541076ad",
   "metadata": {
    "id": "9258b599-0575-44e1-9e63-45d4541076ad",
    "outputId": "8b3569df-60bd-4d25-fb67-4ecc2f2c59fe",
    "scrolled": true
   },
   "outputs": [
    {
     "name": "stdout",
     "output_type": "stream",
     "text": [
      " L       = [0, 1, 2, 3, 4, 5, 6, 7, 8, 9, 10, 11]\n",
      " L[::-1] = [11, 10, 9, 8, 7, 6, 5, 4, 3, 2, 1, 0]\n",
      " L[::-3] = [11, 8, 5, 2]\n",
      " L[3::-1] = [3, 2, 1, 0]\n",
      " L[10:3:-2] = [10, 8, 6, 4]\n"
     ]
    }
   ],
   "source": [
    "print(f'{ L       = }')\n",
    "print(f'{ L[10:3:-2] = }') # каждый второй элемент в диапазоне от 10 до 3\n",
    "print(f'{ L[3::-1] = }')   # первые 4 элемента в обратном порядке\n",
    "print(f'{ L[::-1] = }')    # все элементы в обратном порядке\n",
    "print(f'{ L[::-3] = }')    # каждый третий эл. с конца начиная с последнего"
   ]
  }
 ],
 "metadata": {
  "kernelspec": {
   "display_name": "Python 3 (ipykernel)",
   "language": "python",
   "name": "python3"
  },
  "language_info": {
   "codemirror_mode": {
    "name": "ipython",
    "version": 3
   },
   "file_extension": ".py",
   "mimetype": "text/x-python",
   "name": "python",
   "nbconvert_exporter": "python",
   "pygments_lexer": "ipython3",
   "version": "3.10.10"
  }
 },
 "nbformat": 4,
 "nbformat_minor": 5
}
