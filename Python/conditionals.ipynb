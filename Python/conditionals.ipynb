{
 "cells": [
  {
   "cell_type": "markdown",
   "id": "48cc3fe9-64bb-441f-bc58-abceece4febb",
   "metadata": {
    "id": "lL-d_lm-4DlN"
   },
   "source": [
    "# Пример простой программы"
   ]
  },
  {
   "cell_type": "markdown",
   "id": "22b9277f-a886-486e-9b58-da5caecb66dc",
   "metadata": {
    "id": "2_Sfaiej4DlX"
   },
   "source": [
    "Рассмотрим в качестве примера программу, которая вычисляет площадь цилиндра.\n",
    "\n",
    "Так как основанием цилиндра является круг, **площадь основания** вычисляется по формуле $$S_b = \\pi r^2$$ А **площадь боковой поверхности** вычислется по формуле\n",
    "$$\n",
    "S_s = 2 \\pi r h\n",
    "$$\n",
    "**Полная площадь** цилиндра слагается из площади боковой поверхности и удвоенной площади снования \n",
    "$$S = 2 S_b + S_s$$\n",
    "\n",
    "<img src=\"https://homework.study.com/cimages/multimages/16/zsdkfj1019373429681313743.png\">"
   ]
  },
  {
   "cell_type": "code",
   "execution_count": 5,
   "id": "9999ce4f-49a0-4fd6-8916-6a1f02e92853",
   "metadata": {},
   "outputs": [
    {
     "name": "stdout",
     "output_type": "stream",
     "text": [
      "S = 471.0\n"
     ]
    }
   ],
   "source": [
    "h = 10\n",
    "r = 5\n",
    "pi = 3.14\n",
    "\n",
    "base_area = pi * r**2          # площадь основания\n",
    "side_area = 2 * pi * r * h     # площадь боковой поверхности\n",
    "area = 2*base_area + side_area      # возврат полной площади\n",
    "\n",
    "print('S =', area)"
   ]
  },
  {
   "cell_type": "markdown",
   "id": "b0494dc7-bbd2-4d71-b5ff-2df66992a84c",
   "metadata": {
    "id": "WRDkGjbFoQF8"
   },
   "source": [
    "Программа, реализованная в ячейке позволяет вычислять площадь цилиндра по задынным значениям высоты и радиуса, которые присваиваются переменным `h` и `r`.\n",
    "\n",
    "Для реализации программы помимо оператора присваивания `=` использовались также операторы сложения `+`, умножения `*` и возведения в степень `**`.\n",
    "\n",
    "Инструкции в python можно разделять переносом на следующую строку, а также символом \"`;`\". Принято разделять переносом. \n",
    "\n",
    "Для вывода результата была использована встроенная функция [`print()`](https://docs.python.org/3/library/functions.html#print), которая выводит на печать значения выражений, переданных в аргументе\n",
    "\n",
    "Полный список встроенных функций и их описание можно посмотреть в [документации](https://docs.python.org/3/library/functions.html)."
   ]
  },
  {
   "cell_type": "markdown",
   "id": "3f3abc88-f74a-42bc-bdea-bcfae6ca2be0",
   "metadata": {
    "id": "WlFXiWVMsYfX"
   },
   "source": [
    "# Выражения\n",
    "\n",
    "**Выражение** (*Expression*) представляет собой фрагмент кода, выдающий (возвращающий) в результате выполнения некоторый результат, который можно вывести на печать, либо присвоить некоторой переменной.\n",
    "\n",
    "Простые выражения представляют собой просто некотору константу, переменную или вызов функции:"
   ]
  },
  {
   "cell_type": "code",
   "execution_count": 1,
   "id": "c5a5a209-cc58-4716-91b2-adf80db194f1",
   "metadata": {
    "colab": {
     "base_uri": "https://localhost:8080/"
    },
    "id": "C0HjHJxWsYfe",
    "outputId": "b7d94508-0386-41d6-fc35-826f0ee69bf1"
   },
   "outputs": [
    {
     "data": {
      "text/plain": [
       "10"
      ]
     },
     "execution_count": 1,
     "metadata": {},
     "output_type": "execute_result"
    }
   ],
   "source": [
    "10"
   ]
  },
  {
   "cell_type": "markdown",
   "id": "00fc0b59-7a78-4799-a268-5bc90d75630c",
   "metadata": {
    "id": "qSGIV9v-sYfh"
   },
   "source": [
    "Сложные выражения содержат некоторые операторы, или функции:"
   ]
  },
  {
   "cell_type": "code",
   "execution_count": 4,
   "id": "18787a56-a80a-449b-b46d-3444bd8dc5c2",
   "metadata": {
    "colab": {
     "base_uri": "https://localhost:8080/"
    },
    "id": "1q4yyoTKsYfi",
    "outputId": "eb0965bc-cc4c-40aa-ea82-df9a12d2f633"
   },
   "outputs": [
    {
     "data": {
      "text/plain": [
       "25"
      ]
     },
     "execution_count": 4,
     "metadata": {},
     "output_type": "execute_result"
    }
   ],
   "source": [
    "10 + 15"
   ]
  },
  {
   "cell_type": "code",
   "execution_count": 6,
   "id": "56cdb4f1-f34b-4d72-a286-ba8c2edbc3ce",
   "metadata": {
    "colab": {
     "base_uri": "https://localhost:8080/"
    },
    "id": "ysqy9vJAsYfi",
    "outputId": "de5230b4-6585-4309-d5ce-3e8674d4b09b"
   },
   "outputs": [
    {
     "data": {
      "text/plain": [
       "20.0"
      ]
     },
     "execution_count": 6,
     "metadata": {},
     "output_type": "execute_result"
    }
   ],
   "source": [
    "float((10 + 15 * 2) // 2)"
   ]
  },
  {
   "cell_type": "markdown",
   "id": "2a034e9f-dc38-4de2-910c-e7459edaa811",
   "metadata": {},
   "source": [
    "### Тип объекта, возвращаемого выражением\n",
    "\n",
    "Для того, чтобы получить тип объекта, можно воспользоваться встроенной функцией [`type()`](https://docs.python.org/3/library/functions.html#type) :"
   ]
  },
  {
   "cell_type": "code",
   "execution_count": 2,
   "id": "bf8d5348-eb15-4da4-ab3d-2b77f2da92ca",
   "metadata": {
    "colab": {
     "base_uri": "https://localhost:8080/"
    },
    "id": "In_spfkesYfg",
    "outputId": "dcc66b0c-cf26-4ab4-ab69-ee9e19bb774f"
   },
   "outputs": [
    {
     "data": {
      "text/plain": [
       "int"
      ]
     },
     "execution_count": 2,
     "metadata": {},
     "output_type": "execute_result"
    }
   ],
   "source": [
    "type(10)"
   ]
  },
  {
   "cell_type": "code",
   "execution_count": 7,
   "id": "1ebd2966-fc55-438a-96e5-148a5ae27a85",
   "metadata": {},
   "outputs": [
    {
     "data": {
      "text/plain": [
       "float"
      ]
     },
     "execution_count": 7,
     "metadata": {},
     "output_type": "execute_result"
    }
   ],
   "source": [
    "type(float((10 + 15 * 2) // 2))"
   ]
  },
  {
   "cell_type": "markdown",
   "id": "8e24f07c-1dad-4c07-86cc-94920f8f00f9",
   "metadata": {
    "id": "nfrekIvgsYfm"
   },
   "source": [
    "# Инструкции\n",
    "\n",
    "**Инструкция** (*Statement*) представляет собой фрагмент кода, при выполнении которого совершается действие, приводящее к изменению в среде выполнения. Инструкции не возвращают значений. В частности, оператор присваивания приводит к тому, что в среде создается новая переменная, либо меняется значение уже существующей. Операторы циклов и ветвлений управляют действиями, но ничего не возвращают."
   ]
  },
  {
   "cell_type": "code",
   "execution_count": 8,
   "id": "9d83e7ad-f040-40b8-88f0-4e8e746c60ac",
   "metadata": {
    "id": "AXRIvT0KsYfm"
   },
   "outputs": [],
   "source": [
    "a = 10  # инструкция"
   ]
  },
  {
   "cell_type": "markdown",
   "id": "fd052e1f-fb7a-4736-a225-69db28ab5d72",
   "metadata": {
    "id": "dkQbCswDsYfm"
   },
   "source": [
    "Так как в последней ячейке с кодом выполнена инструкция, мы не получили под ячейкой никакого выходного значения. Было бы бессмысленно пытаться вывести на печать результат выполнения операции присовения `print(a = 10)`.\n",
    "\n",
    "Но так как в программе среде выполнения произошло изменение, мы можем обнаружить следы инструкции в следующей ячейке: в ячейке будет теперь доступна переменная `a`, которая была создана в результате выполнения инструкции:"
   ]
  },
  {
   "cell_type": "code",
   "execution_count": 9,
   "id": "26c0f099-ec15-4dd9-8b63-3c9e6e260ce4",
   "metadata": {
    "colab": {
     "base_uri": "https://localhost:8080/"
    },
    "id": "U6r8mQcBsYfn",
    "outputId": "0f507b9c-c057-424f-c32e-5453d1059c5a"
   },
   "outputs": [
    {
     "data": {
      "text/plain": [
       "10"
      ]
     },
     "execution_count": 9,
     "metadata": {},
     "output_type": "execute_result"
    }
   ],
   "source": [
    "a"
   ]
  },
  {
   "cell_type": "markdown",
   "id": "cabc3a94-5f72-48fb-9d84-48df7c54656e",
   "metadata": {
    "id": "Q8p7N3W3sYfn"
   },
   "source": [
    "Следует отметить, что в инструкции `a = 10` содержалось и выражение: то, что напечатано справа от операторая `=`. Это простое выражение `10`, результатом выполнения которого является значение типа `int`, которое и присваивается переменной `a` в инструкции.\n",
    "\n",
    "В инструкции `a = 10.` выражение `10.` возвращало бы значение типа `float`."
   ]
  },
  {
   "cell_type": "markdown",
   "id": "1c009cac-d413-4816-9f2c-820ea6e1bee0",
   "metadata": {},
   "source": [
    "# Логические выражения (*Boolean Expressions*)\n",
    "\n",
    "Логическими называются выражения, результатом выполнения которых является значение логического (*boolean*) типа, т.е. `True` или `False`."
   ]
  },
  {
   "cell_type": "markdown",
   "id": "04b0e006-886a-4f8a-9a7b-9830da493a49",
   "metadata": {
    "id": "4wXzlW7FoQGC"
   },
   "source": [
    "## Операторы сравнения"
   ]
  },
  {
   "cell_type": "code",
   "execution_count": 10,
   "id": "574f5ebc-8c15-4add-93b6-4a64ef181565",
   "metadata": {
    "id": "8MrO_BLPoQGC"
   },
   "outputs": [
    {
     "name": "stdout",
     "output_type": "stream",
     "text": [
      "True\n",
      "False\n",
      "True\n"
     ]
    }
   ],
   "source": [
    "print( 3 > 2 )      # больше\n",
    "print( 3 < 2 )      # меньше\n",
    "print( 3 >= 2 )     # больше либо равно"
   ]
  },
  {
   "cell_type": "code",
   "execution_count": 9,
   "id": "65af9304-2d85-4cdf-96ad-022233c42991",
   "metadata": {},
   "outputs": [
    {
     "name": "stdout",
     "output_type": "stream",
     "text": [
      "False\n",
      "False\n",
      "True\n"
     ]
    }
   ],
   "source": [
    "print( 3 <= 2 )     # меньше либо равно\n",
    "print( 3 == 2 )     # равно\n",
    "print( 3 != 2 )     # не равно\n",
    "# эти операторы возвращают логический тип (False, True)"
   ]
  },
  {
   "cell_type": "markdown",
   "id": "9514bf95-1831-4d5c-b393-8d0620e7caaf",
   "metadata": {
    "id": "u0j541ueoQGD"
   },
   "source": [
    "## Логические операторы\n",
    "\n",
    "Благодаря логическим опреаторам можно создавать сложные логические выражения, в которых истинность выражения определяется несколькими условиями.\n",
    "\n",
    "- `not` - **отрицание** (*negation*)\n",
    "\n",
    "`a`|`not a`\n",
    ":-:|:-:\n",
    "`False`  | `True`\n",
    "`True`  | `False`\n",
    "\n",
    "- `or` - **дизъюнкция** или логическое сложение (*disjunction*)\n",
    "\n",
    " `a` | `b` | `a or b`\n",
    ":-:|:-:|:-:\n",
    " `False` | `False` | `False`\n",
    " `False` | `True` | `True`\n",
    " `True` | `False` | `True`\n",
    " `True` | `True` | `True`\n",
    "\n",
    "- `and` - **конъюнкция** или логическое умножение (*conjunction*)\n",
    "\n",
    " `a` | `b` | `a and b`\n",
    ":-:|:-:|:-:\n",
    " `False` | `False` | `False`\n",
    " `False` | `True` | `False`\n",
    " `True` | `False` | `False`\n",
    " `True` | `True` | `True`"
   ]
  },
  {
   "cell_type": "code",
   "execution_count": null,
   "id": "101b45b8-2232-483e-b5c8-045148a387bc",
   "metadata": {
    "id": "YW46zI_YoQGD",
    "outputId": "d98d1efd-7512-4119-9c78-4c697625d3fd"
   },
   "outputs": [
    {
     "name": "stdout",
     "output_type": "stream",
     "text": [
      "False\n",
      "True\n",
      "\n",
      "True\n",
      "False\n"
     ]
    }
   ],
   "source": [
    "print( 1 == 2 )\n",
    "print( not 1 == 2 )                     # negation\n",
    "print()\n",
    "print( 1 == 2 or 1 == 1 or 2 != 3)      # disjunction\n",
    "print( 1 == 1 and 1 == 2 and 2 != 3)    # conjunction\n",
    "# эти операторы возвращают логический тип (False, True)"
   ]
  },
  {
   "cell_type": "markdown",
   "id": "aa365cd9-44d0-4df4-bb4f-6ea08b46f902",
   "metadata": {
    "id": "KDqTK5hQoQGD"
   },
   "source": [
    "## Ветвление (*Conditional*)\n",
    "Интерпретатор Python выполняет инструкции последовательно (построчно), сверху вниз. Это называется основным потоком выполнения инструкций. Часто возникает необходимость выполнить те или иные инструкции в зависимости от условий. Т.е. мы хотим определить несколько ветвей развития событий. Например, мы хотим вывести на печать разные сообщения в зависимости от того, чему равно значение переменной `b`, которую мы определили ранее. "
   ]
  },
  {
   "cell_type": "markdown",
   "id": "e2417c88-fc57-4cef-af75-0253fed131d5",
   "metadata": {},
   "source": [
    "### Инструкция `if`\n",
    "В простейшем случае мы просто хотим вывести на печать некоторое сообщение, если значение `b` оказалось меньше `5.3`. Иными словами мы хотим создать условное ответвление. Рассмотрим блок-схему:\n",
    "\n",
    "![](images/conditional_2.png)\n",
    "\n",
    "Опишем синтаксис. После ключевого слова `if` идет **логическое выражение** (в данном случае `b < 5.3`). Логическое выражение возвращает значение булевого типа `False` или `True`. Далее, после двоеточия в последующих сторках с отступом записывается блок инструкий (вложенный код). Если условное выражение возвращает `True`, то выполняется блок инструкций, в противном случае - блок инструкций пропускается."
   ]
  },
  {
   "cell_type": "code",
   "execution_count": 11,
   "id": "2b3f7688-61d6-4440-8d9e-7b9caa9e2e01",
   "metadata": {},
   "outputs": [],
   "source": [
    "b = 5"
   ]
  },
  {
   "cell_type": "code",
   "execution_count": 12,
   "id": "37b6c3de-8b6b-491a-8661-0c2a19e2a941",
   "metadata": {
    "id": "-rl2FiJooQGD",
    "outputId": "7e471bd0-44c4-481b-f003-6a9d4ee260d6"
   },
   "outputs": [
    {
     "name": "stdout",
     "output_type": "stream",
     "text": [
      "b = 5\n"
     ]
    }
   ],
   "source": [
    "if b < 5.3:            # условное выражение\n",
    "    print('b =', b)"
   ]
  },
  {
   "cell_type": "markdown",
   "id": "0bb9489c-d154-4dfa-a70b-dab5271227d4",
   "metadata": {
    "id": "m3HwOmngoQGD"
   },
   "source": [
    "Предположим теперь, что мы хотим проверить несколько условий и в зависимости от них выполнить определенный блок инструкуий\n",
    "Ключевое слово `elif` - сокращение от *else if*. Оно используется для разделения на несколько ветвей. Если условное выражение, идущее после `if` оказывается истинным, то выполняется только блок инструкций вложенный в заголовок, а все инструкции вложенные в `elif` игнорируются. Если условное выражение, идущее после `if` оказывается ложным, то блок инструкий вложенный в заголовок пропускается и проверяется условное выражение, идущее после `elif`. Если это выражение возвращает `True`, то выполняется блок инструкций, вложенный в этот `elif`.\n",
    "\n",
    "Блок инструкций, вложенный в `else` выполняется только в том случае, если ни одно условное выражение идущее после `if` или `elif` не оказалось истинным.\n",
    "\n",
    "Если отсутствует блок `else`, то возможен случай, при котором не выполняется ни один блок. В общем случае может быть выполнено не более одного блока инструкций, т.е. ситуация, при которой будет выполнено более одной ветви невозможно."
   ]
  },
  {
   "cell_type": "code",
   "execution_count": null,
   "id": "3fa83c03-b400-45f7-b51b-c2b59c463cc6",
   "metadata": {
    "id": "GbTLhOMBoQGD",
    "outputId": "bbf9cf5c-662c-4351-ce8a-7ebde20dc954"
   },
   "outputs": [
    {
     "name": "stdout",
     "output_type": "stream",
     "text": [
      "а эта инструкуия, пожалуй, выполнится\n"
     ]
    }
   ],
   "source": [
    "if b == 1:\n",
    "    print('инструкция, которая не будет выполнена')\n",
    "elif b != 1.3:\n",
    "    print('и эта инструкция не будет выполнена')\n",
    "elif False:\n",
    "    print('и еще одна инструкция, которая не будет выполнена')\n",
    "# элементов ветвления elif может быть произвольное количество\n",
    "else:\n",
    "    print('а эта инструкуия, пожалуй, выполнится')"
   ]
  },
  {
   "cell_type": "markdown",
   "id": "d5349eca-bffd-463e-8e96-972be29e6330",
   "metadata": {
    "id": "JoDG67c27BRQ"
   },
   "source": [
    "## Тернарный оператор (*Conditional Expression*)"
   ]
  },
  {
   "cell_type": "code",
   "execution_count": null,
   "id": "df7af982-2ff0-4e95-acdb-647b99c3a823",
   "metadata": {
    "id": "j_usv7kT7BRR",
    "outputId": "4d68ccc2-e0ea-4b1c-9ba0-b90822488d83"
   },
   "outputs": [
    {
     "name": "stdout",
     "output_type": "stream",
     "text": [
      "not this\n"
     ]
    }
   ],
   "source": [
    "s = 'this' if 10 > 12 else 'not this'   # Conditional Expression\n",
    "\n",
    "# равносильно условной инструкции:\n",
    "if 10 > 12:                             # Conditional Statement\n",
    "    s = 'this'\n",
    "else:\n",
    "    s = 'not this'\n",
    "print(s)"
   ]
  },
  {
   "cell_type": "code",
   "execution_count": null,
   "id": "af79662b-99c2-4b05-9ff6-194fe94bb70c",
   "metadata": {},
   "outputs": [],
   "source": []
  }
 ],
 "metadata": {
  "kernelspec": {
   "display_name": "Python 3 (ipykernel)",
   "language": "python",
   "name": "python3"
  },
  "language_info": {
   "codemirror_mode": {
    "name": "ipython",
    "version": 3
   },
   "file_extension": ".py",
   "mimetype": "text/x-python",
   "name": "python",
   "nbconvert_exporter": "python",
   "pygments_lexer": "ipython3",
   "version": "3.10.10"
  }
 },
 "nbformat": 4,
 "nbformat_minor": 5
}
