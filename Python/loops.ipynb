{
  "cells": [
    {
      "cell_type": "markdown",
      "metadata": {
        "id": "view-in-github",
        "colab_type": "text"
      },
      "source": [
        "<a href=\"https://colab.research.google.com/github/ordevoir/Digital_Cathedra/blob/main/Python/loops.ipynb\" target=\"_parent\"><img src=\"https://colab.research.google.com/assets/colab-badge.svg\" alt=\"Open In Colab\"/></a>"
      ]
    },
    {
      "cell_type": "markdown",
      "id": "fd12fec9",
      "metadata": {
        "id": "fd12fec9"
      },
      "source": [
        "# Конструкция `while`\n",
        "\n",
        "Часто возникает необходимость многократно выполнять определенный блок инструкций при некотором меняющемся параметре. Конструкции, позволяющие выполнить такие повторяющиеся однотипные действия называются **циклами**. Каждое отдельное выполнение блока инструкций называется **итерацией**.\n",
        "\n",
        "Предположим, что мы хотим вывести на печать квадраты чисел, от `1` до `6`. Для реализации такой программы можно воспользоваться конструкцией `while`. После ключевого слова `while` идет логическое выражение. Далее, после двоеточия `:` в последующих сторках с отступом записывается блок инструкий (вложенный код или тело цикла):"
      ]
    },
    {
      "cell_type": "code",
      "execution_count": 35,
      "id": "1ca95e45",
      "metadata": {
        "id": "1ca95e45",
        "outputId": "4e6d51ac-022f-4c19-81c0-5e538a5754d1",
        "colab": {
          "base_uri": "https://localhost:8080/"
        }
      },
      "outputs": [
        {
          "output_type": "stream",
          "name": "stdout",
          "text": [
            "Инструкция из основного потока\n",
            "1 squared = 1\n",
            "2 squared = 4\n",
            "3 squared = 9\n",
            "4 squared = 16\n",
            "5 squared = 25\n",
            "6 squared = 36\n",
            "Другая инструкция из основного потока\n"
          ]
        }
      ],
      "source": [
        "number = 1\n",
        "\n",
        "print(\"Инструкция из основного потока\")\n",
        "\n",
        "while number<=6:\n",
        "    print(number, 'squared =', number**2)\n",
        "    number = number + 1\n",
        "\n",
        "print(\"Другая инструкция из основного потока\")"
      ]
    },
    {
      "cell_type": "markdown",
      "id": "f3d8a11b",
      "metadata": {
        "id": "f3d8a11b"
      },
      "source": [
        "Тело цикла выполняется выполняется при условии, что логическое выражение `number<=6` возвращает `True`. Очевидно, что при стартовом значении `number = 1`, логическое выражение `number<=6` вернет `True`. Однако в каждой итерации значение переменной `number` увеличивается на единицу. Выражение `number<=6` будет возвращать `True` до тех пор, пока значение `number` не перепрыгнет число `6`. В итоге, выражение `number<=6` вернет `False` и цикл завершится. Программа продолжит выполнение инструкций, следующих за конструкцией `while`.\n",
        "\n",
        "Такая конструкция называется “циклом”, потому что программа продолжает возвращаться к началу оператора `while`, пока проверка логического выражения не даст ложное значение. Когда результат проверки становится ложным, программа переходит к инструкции, следующий после блока `while`. Совокупный эффект в том, что тело цикла выполняется многократно, пока проверка в заголовочной части дает истинное значение. Если проверка оценивается в ложное значение с самого начала, тогда тело цикла никогда не выполнится и оператор `while` пропускается."
      ]
    },
    {
      "cell_type": "markdown",
      "id": "Qbxm4vPODa3c",
      "metadata": {
        "id": "Qbxm4vPODa3c"
      },
      "source": [
        "# Операторы `break`, `continue`\n",
        "\n",
        "Данные операторы позволяют управлять циклом непосредственно в теле цикла, пропуская некоторый блок инструкций либо завершая выполнение цикла.\n",
        "\n",
        "Инструкция `break` позаовляет завершить цикл и перейти к инструкции, следующей за блоком `while`.\n",
        "\n",
        "Инструкция `continue` позволяет пропустить блок инструкций тела цикла, следующие за этим оператором, и перейти в начало цикла (на строку заголовка цикла)."
      ]
    },
    {
      "cell_type": "code",
      "execution_count": 36,
      "id": "ayY_nVxfJmSu",
      "metadata": {
        "id": "ayY_nVxfJmSu",
        "outputId": "5f31a9e3-673d-425b-e847-c692f529e609",
        "colab": {
          "base_uri": "https://localhost:8080/"
        }
      },
      "outputs": [
        {
          "output_type": "stream",
          "name": "stdout",
          "text": [
            "remainder of division by 2: 0 for 0\n",
            "remainder of division by 2: 1 for 1\n",
            "remainder of division by 2: 0 for 2\n",
            "remainder of division by 2: 1 for 3\n",
            "remainder of division by 2: 0 for 4\n",
            "remainder of division by 2: 1 for 5\n",
            "remainder of division by 2: 0 for 6\n",
            "remainder of division by 2: 1 for 7\n"
          ]
        }
      ],
      "source": [
        "x = 0\n",
        "while True:\n",
        "    if x == 8:\n",
        "        break\n",
        "    print('remainder of division by 2:', x % 2, 'for', x)\n",
        "    x = x + 1"
      ]
    },
    {
      "cell_type": "markdown",
      "id": "9eKdH041KZ_V",
      "metadata": {
        "id": "9eKdH041KZ_V"
      },
      "source": [
        "Заметим, что для четных чисел остаток от деления на `2` всегда равен `0`, а для нечетных чисел – `1`. Это обстоятельство позволяет нам легко проверять число на четность/нечетность, путем сравнения результата выражения `x % 2` со значением `0`:"
      ]
    },
    {
      "cell_type": "code",
      "execution_count": 37,
      "id": "9NLSchskK6ma",
      "metadata": {
        "id": "9NLSchskK6ma",
        "outputId": "21ee0c55-65ed-4615-fd16-62bb88565f08",
        "colab": {
          "base_uri": "https://localhost:8080/"
        }
      },
      "outputs": [
        {
          "output_type": "execute_result",
          "data": {
            "text/plain": [
              "True"
            ]
          },
          "metadata": {},
          "execution_count": 37
        }
      ],
      "source": [
        "x = 10\n",
        "x % 2 == 0      # является ли x четным?"
      ]
    },
    {
      "cell_type": "markdown",
      "id": "3SU15sayLSW6",
      "metadata": {
        "id": "3SU15sayLSW6"
      },
      "source": [
        "Воспользуемся этим знанием для того, чтобы продемонтсрировать работу оператора `continue`. Будем работать в цикле со значениями переменной `a`. Значение `a` стартоует с `10` и в начале каждой итерации уменьшается на единицу. В конце блока инструкций `while` прописана инструкция для вывода на печать квадрата значения `a`. Перед этим, однако, распологается условная конструкция `if`, в которой проверяется, не является ли число `a` нечетным. Если условное выражение возвращает значение `True`: то будет выполнена инструкция `continue`, при котором программа тут же прыгнет на начало цикла, минуя инструкцию печати, которая расположена ниже оператора `continue`. В конечном счете при выполнении инструкции будут выведены на печать квадраты только четных значений."
      ]
    },
    {
      "cell_type": "code",
      "execution_count": 38,
      "id": "dCdn611XIdzg",
      "metadata": {
        "id": "dCdn611XIdzg",
        "outputId": "2f6f29f1-8933-46c4-f8bc-82b1308bf84b",
        "colab": {
          "base_uri": "https://localhost:8080/"
        }
      },
      "outputs": [
        {
          "output_type": "stream",
          "name": "stdout",
          "text": [
            "8 squared: 64\n",
            "6 squared: 36\n",
            "4 squared: 16\n",
            "2 squared: 4\n",
            "0 squared: 0\n"
          ]
        }
      ],
      "source": [
        "a = 10\n",
        "\n",
        "while a > 0:\n",
        "    a = a - 1\n",
        "    if not a%2==0:\n",
        "        continue\n",
        "    print(a, 'squared:', a**2)"
      ]
    },
    {
      "cell_type": "markdown",
      "id": "pzJ9CYUlNbWc",
      "metadata": {
        "id": "pzJ9CYUlNbWc"
      },
      "source": [
        "Одну и ту же задачу можно выполнять несколькими способами. В частности, следующий код будет выполнять все тоже, что и предыдущий код, но без использования оператора `continue`."
      ]
    },
    {
      "cell_type": "code",
      "execution_count": 39,
      "id": "TwMbOClPNtGP",
      "metadata": {
        "id": "TwMbOClPNtGP",
        "outputId": "49d0b35f-6cfd-4fdd-e276-f21b513a3b59",
        "colab": {
          "base_uri": "https://localhost:8080/"
        }
      },
      "outputs": [
        {
          "output_type": "stream",
          "name": "stdout",
          "text": [
            "8 squared: 64\n",
            "6 squared: 36\n",
            "4 squared: 16\n",
            "2 squared: 4\n",
            "0 squared: 0\n"
          ]
        }
      ],
      "source": [
        "a = 10\n",
        "\n",
        "while a > 0:\n",
        "    a = a - 1\n",
        "    if a%2==0:\n",
        "        print(a, 'squared:', a**2)"
      ]
    },
    {
      "cell_type": "markdown",
      "id": "e878a412-281e-4317-b21a-da04a9d5b350",
      "metadata": {
        "id": "e878a412-281e-4317-b21a-da04a9d5b350"
      },
      "source": [
        "# `list`: базовые операции\n",
        "\n",
        "Список представляет собой последовательность объектов, доступ к которым можно получить посредством индексов. Для того, чтобы создать список, можно перечислить объекты в квадратных скобках, через запятую:"
      ]
    },
    {
      "cell_type": "code",
      "execution_count": 40,
      "id": "3cc16007-4adb-4b25-aef3-ae054be45767",
      "metadata": {
        "id": "3cc16007-4adb-4b25-aef3-ae054be45767"
      },
      "outputs": [],
      "source": [
        "Y = [10, 12, 30, 44, 51, 36, 11, 12]"
      ]
    },
    {
      "cell_type": "markdown",
      "id": "cb669021-8141-44fa-bbce-8f72c006e502",
      "metadata": {
        "id": "cb669021-8141-44fa-bbce-8f72c006e502"
      },
      "source": [
        "Индексами служат целые неотрицательные числа. Индексация начинается с нуля. Получим **доступ к элементу** с индексом `3`:"
      ]
    },
    {
      "cell_type": "code",
      "execution_count": 41,
      "id": "e1d1e23c-d016-4575-93e4-ecef5c397b45",
      "metadata": {
        "id": "e1d1e23c-d016-4575-93e4-ecef5c397b45",
        "outputId": "9aae7ea0-6605-4c83-f33d-35a08d02b653",
        "colab": {
          "base_uri": "https://localhost:8080/"
        }
      },
      "outputs": [
        {
          "output_type": "stream",
          "name": "stdout",
          "text": [
            "44\n"
          ]
        }
      ],
      "source": [
        "a = Y[3]\n",
        "print(a)"
      ]
    },
    {
      "cell_type": "markdown",
      "id": "28767b68-3394-4b9f-81fc-183803abd484",
      "metadata": {
        "id": "28767b68-3394-4b9f-81fc-183803abd484"
      },
      "source": [
        "Можно **изменить значение**, расположенное под индексом `3`:"
      ]
    },
    {
      "cell_type": "code",
      "execution_count": 42,
      "id": "7a5c7acc-ca76-426c-9d4e-65c1e74f4f24",
      "metadata": {
        "id": "7a5c7acc-ca76-426c-9d4e-65c1e74f4f24",
        "outputId": "b1d1f1c1-83c3-45ae-f44d-d49b59bb64f9",
        "colab": {
          "base_uri": "https://localhost:8080/"
        }
      },
      "outputs": [
        {
          "output_type": "stream",
          "name": "stdout",
          "text": [
            "[10, 12, 30, 147, 51, 36, 11, 12]\n"
          ]
        }
      ],
      "source": [
        "Y[3] = 147\n",
        "print(Y)"
      ]
    },
    {
      "cell_type": "markdown",
      "id": "2c1d2492-a60d-4443-9f01-65758fa24f62",
      "metadata": {
        "id": "2c1d2492-a60d-4443-9f01-65758fa24f62"
      },
      "source": [
        "**Удалим** элемент, расположенный в списке под индексом `3`:"
      ]
    },
    {
      "cell_type": "code",
      "execution_count": 43,
      "id": "5655988e-cf92-493c-a176-ef71d5c861ea",
      "metadata": {
        "id": "5655988e-cf92-493c-a176-ef71d5c861ea",
        "outputId": "ad0fc2f4-0839-4ee4-c529-87bc9afd4774",
        "colab": {
          "base_uri": "https://localhost:8080/"
        }
      },
      "outputs": [
        {
          "output_type": "stream",
          "name": "stdout",
          "text": [
            "[10, 12, 30, 51, 36, 11, 12]\n"
          ]
        }
      ],
      "source": [
        "del Y[3]\n",
        "print(Y)"
      ]
    },
    {
      "cell_type": "markdown",
      "id": "82345dcb-c519-48a1-85f8-7895c54130e2",
      "metadata": {
        "id": "82345dcb-c519-48a1-85f8-7895c54130e2"
      },
      "source": [
        "Можно добавить элемент в конец списка:"
      ]
    },
    {
      "cell_type": "code",
      "execution_count": 44,
      "id": "116810cd-c71a-40c9-a0eb-e2a9174e5318",
      "metadata": {
        "id": "116810cd-c71a-40c9-a0eb-e2a9174e5318",
        "outputId": "cf23e758-d0a3-4e0c-d78e-ab308f60f6a2",
        "colab": {
          "base_uri": "https://localhost:8080/"
        }
      },
      "outputs": [
        {
          "output_type": "stream",
          "name": "stdout",
          "text": [
            "[10, 12, 30, 51, 36, 11, 12, 256]\n"
          ]
        }
      ],
      "source": [
        "Y.append(256)\n",
        "print(Y)"
      ]
    },
    {
      "cell_type": "markdown",
      "id": "8493f043-754c-4fa9-97c8-49781fe38cf4",
      "metadata": {
        "id": "8493f043-754c-4fa9-97c8-49781fe38cf4"
      },
      "source": [
        "Получить **длину списка**, т.е. количество элементов последовательности, можно при помощи встроенной функции `len()`:"
      ]
    },
    {
      "cell_type": "code",
      "execution_count": 45,
      "id": "ea0707e4-3586-42f1-abdc-bbb191bd1088",
      "metadata": {
        "id": "ea0707e4-3586-42f1-abdc-bbb191bd1088",
        "outputId": "6d8c36ff-0223-47f8-fecf-17217ca9b50b",
        "colab": {
          "base_uri": "https://localhost:8080/"
        }
      },
      "outputs": [
        {
          "output_type": "stream",
          "name": "stdout",
          "text": [
            "8\n"
          ]
        }
      ],
      "source": [
        "lenght = len(Y)\n",
        "print(lenght)"
      ]
    },
    {
      "cell_type": "markdown",
      "id": "5509ed17-1798-4d2c-8b41-07a36579b416",
      "metadata": {
        "id": "5509ed17-1798-4d2c-8b41-07a36579b416"
      },
      "source": [
        "# Строки (`str`)\n",
        "\n",
        "Строки представляют собой последовательности символов. Для создания строк используются кавычки `\"` или апострофы `'`:"
      ]
    },
    {
      "cell_type": "code",
      "execution_count": 46,
      "id": "9a694370-0a34-492a-83d2-d9e9604f2c53",
      "metadata": {
        "id": "9a694370-0a34-492a-83d2-d9e9604f2c53"
      },
      "outputs": [],
      "source": [
        "s = 'This is - some  text'"
      ]
    },
    {
      "cell_type": "markdown",
      "id": "2be899d9-c22a-4a87-9c57-622f1e2347ec",
      "metadata": {
        "id": "2be899d9-c22a-4a87-9c57-622f1e2347ec"
      },
      "source": [
        "> Важное отличие строк от списков заключается в том, что строки являются неизменяемыми объектами, в то время как списки – изменяемые, т.е. содержимое списков можно менять, а вот объект строки, после того как он создан, изменить уже не получится:"
      ]
    },
    {
      "cell_type": "code",
      "execution_count": 47,
      "id": "de18449b-5ee5-441b-a5bb-d830e26904f0",
      "metadata": {
        "id": "de18449b-5ee5-441b-a5bb-d830e26904f0"
      },
      "outputs": [],
      "source": [
        "# s[3] = '3'"
      ]
    },
    {
      "cell_type": "markdown",
      "id": "d224b3ce-c29f-496c-9703-5272dbde0189",
      "metadata": {
        "id": "d224b3ce-c29f-496c-9703-5272dbde0189"
      },
      "source": [
        "Однако мы можем получать доступ к элементам строки посредством индексов, а также можем создавать новые строки на базе имеющихся."
      ]
    },
    {
      "cell_type": "code",
      "execution_count": 63,
      "id": "40b38eca-3a2c-4983-9682-5de40046a718",
      "metadata": {
        "id": "40b38eca-3a2c-4983-9682-5de40046a718",
        "outputId": "425bfd56-95e3-4483-eea5-d65338937a35",
        "colab": {
          "base_uri": "https://localhost:8080/"
        }
      },
      "outputs": [
        {
          "output_type": "stream",
          "name": "stdout",
          "text": [
            "i\n"
          ]
        }
      ],
      "source": [
        "print(s[5])"
      ]
    },
    {
      "cell_type": "code",
      "execution_count": 49,
      "id": "f4b6c2c1-69fc-484c-b781-990163b7fa65",
      "metadata": {
        "id": "f4b6c2c1-69fc-484c-b781-990163b7fa65",
        "outputId": "d4f9f164-29ab-452f-afee-d5441651fc8a",
        "colab": {
          "base_uri": "https://localhost:8080/"
        }
      },
      "outputs": [
        {
          "output_type": "stream",
          "name": "stdout",
          "text": [
            "THIS IS - SOME  TEXT\n"
          ]
        }
      ],
      "source": [
        "new_s = s.upper()\n",
        "print(new_s)"
      ]
    },
    {
      "cell_type": "markdown",
      "id": "47311611-b46f-46cd-9787-37fbc6f5133d",
      "metadata": {
        "id": "47311611-b46f-46cd-9787-37fbc6f5133d"
      },
      "source": [
        "Как и для списков, встроенная функция `len()` возвращает длину строки:"
      ]
    },
    {
      "cell_type": "code",
      "execution_count": 50,
      "id": "f8f50f24-4f58-4309-965e-d20c30083bb2",
      "metadata": {
        "jupyter": {
          "source_hidden": true
        },
        "id": "f8f50f24-4f58-4309-965e-d20c30083bb2",
        "outputId": "c0b32899-15a2-4fb6-bd06-57925c393d05",
        "colab": {
          "base_uri": "https://localhost:8080/"
        }
      },
      "outputs": [
        {
          "output_type": "stream",
          "name": "stdout",
          "text": [
            "20\n"
          ]
        }
      ],
      "source": [
        "print( len(s) )"
      ]
    },
    {
      "cell_type": "markdown",
      "source": [
        "Последовательность может быть конвертирована в список при помощи функции `list()`:"
      ],
      "metadata": {
        "id": "rDUAcZyjhDI0"
      },
      "id": "rDUAcZyjhDI0"
    },
    {
      "cell_type": "code",
      "source": [
        "L = list(s)\n",
        "print(L)"
      ],
      "metadata": {
        "id": "ym1i_O1-g3NQ",
        "outputId": "6e5de1f7-674d-41ef-d2a8-1331a39c525b",
        "colab": {
          "base_uri": "https://localhost:8080/"
        }
      },
      "id": "ym1i_O1-g3NQ",
      "execution_count": 60,
      "outputs": [
        {
          "output_type": "stream",
          "name": "stdout",
          "text": [
            "['T', 'h', 'i', 's', ' ', 'i', 's', ' ', '-', ' ', 's', 'o', 'm', 'e', ' ', ' ', 't', 'e', 'x', 't']\n"
          ]
        }
      ]
    },
    {
      "cell_type": "markdown",
      "id": "fc307b5f",
      "metadata": {
        "id": "fc307b5f"
      },
      "source": [
        "# Констуркция `for`\n",
        "\n",
        "Часто возникает необходимость перебирать в цикле элементы некоторой полседовательности. Например, элементы списка. После ключевого слова `for` следует имя переменной, которой будут присваиваться элементы последовательности (в примере ниже это `number`). Далее идет оператор `in` за которым следует имя объекта (`L`), который представляет собой последовательность. На каждой итерации цикла переменной `number` будет присваиваться очередной элемент последовательности и будет выполняться тело цикла. Цикл будет продолжаться до тех пор, пока не исчерпаются все элементы последовательности."
      ]
    },
    {
      "cell_type": "code",
      "execution_count": 52,
      "id": "0b8ee283",
      "metadata": {
        "id": "0b8ee283",
        "outputId": "cab0ecd1-9ce5-4ac7-fedc-acc8bc030a77",
        "colab": {
          "base_uri": "https://localhost:8080/"
        }
      },
      "outputs": [
        {
          "output_type": "stream",
          "name": "stdout",
          "text": [
            "Инструкция из основного потока\n",
            "1 squared = 1\n",
            "3 squared = 9\n",
            "5 squared = 25\n",
            "7 squared = 49\n",
            "9 squared = 81\n",
            "Другая инструкция из основного потока\n"
          ]
        }
      ],
      "source": [
        "L = [1, 3, 5, 7, 9]\n",
        "\n",
        "print(\"Инструкция из основного потока\")\n",
        "\n",
        "for number in L:\n",
        "    print(number, 'squared =', number**2)\n",
        "\n",
        "print(\"Другая инструкция из основного потока\")"
      ]
    },
    {
      "cell_type": "markdown",
      "source": [
        "Аналогичным образом можно перебрать в цикле и элементы строки:"
      ],
      "metadata": {
        "id": "tLR554WIfxQG"
      },
      "id": "tLR554WIfxQG"
    },
    {
      "cell_type": "code",
      "source": [
        "S = 'abc de'\n",
        "\n",
        "for symbol in S:\n",
        "    print(symbol)"
      ],
      "metadata": {
        "id": "enEv949lffGr",
        "outputId": "1e17acdb-eb0c-45b6-d6b4-4360a2f5feaa",
        "colab": {
          "base_uri": "https://localhost:8080/"
        }
      },
      "id": "enEv949lffGr",
      "execution_count": 53,
      "outputs": [
        {
          "output_type": "stream",
          "name": "stdout",
          "text": [
            "a\n",
            "b\n",
            "c\n",
            " \n",
            "d\n",
            "e\n"
          ]
        }
      ]
    },
    {
      "cell_type": "markdown",
      "id": "a129b9fb",
      "metadata": {
        "id": "a129b9fb"
      },
      "source": [
        "Последовательность чисел в заданном диапазоне и с заданным шагом может быть сгенерированна при помощи функции `range()`. Для этого в скобках указываются границы диапозона и шаг. Объект, возвращаемый функцией `range()` представляет собой последовательность. Преобразоуем ее в список, для того, чтобы вывести на печать:"
      ]
    },
    {
      "cell_type": "code",
      "execution_count": 54,
      "id": "9a73d7bf",
      "metadata": {
        "id": "9a73d7bf",
        "outputId": "27327800-c390-419f-b671-32f985f79f24",
        "colab": {
          "base_uri": "https://localhost:8080/"
        }
      },
      "outputs": [
        {
          "output_type": "execute_result",
          "data": {
            "text/plain": [
              "[10, 25, 40, 55, 70, 85]"
            ]
          },
          "metadata": {},
          "execution_count": 54
        }
      ],
      "source": [
        "start = 10\n",
        "stop = 100\n",
        "step = 15\n",
        "\n",
        "list(range(start, stop, step))"
      ]
    },
    {
      "cell_type": "code",
      "execution_count": 55,
      "id": "cd5e0eea",
      "metadata": {
        "id": "cd5e0eea",
        "outputId": "ec684012-a4de-4812-fe73-4183b76e9084",
        "colab": {
          "base_uri": "https://localhost:8080/"
        }
      },
      "outputs": [
        {
          "output_type": "stream",
          "name": "stdout",
          "text": [
            "1 squared = 1\n",
            "3 squared = 9\n",
            "5 squared = 25\n",
            "7 squared = 49\n",
            "9 squared = 81\n"
          ]
        }
      ],
      "source": [
        "for number in range(1, 11, 2):\n",
        "    print(number, 'squared =', number**2)"
      ]
    },
    {
      "cell_type": "markdown",
      "id": "00024514",
      "metadata": {
        "id": "00024514"
      },
      "source": [
        "Можно использовать упрощенный вариант, при котором в функции `range()` задаются только два значения – границы диапазона. В этом случае по умолчанию шаг будет равен единице:"
      ]
    },
    {
      "cell_type": "code",
      "execution_count": 56,
      "id": "780dedba",
      "metadata": {
        "id": "780dedba",
        "outputId": "b5c4721e-2355-425a-df96-39feddf639a7",
        "colab": {
          "base_uri": "https://localhost:8080/"
        }
      },
      "outputs": [
        {
          "output_type": "execute_result",
          "data": {
            "text/plain": [
              "[3, 4, 5, 6, 7, 8, 9]"
            ]
          },
          "metadata": {},
          "execution_count": 56
        }
      ],
      "source": [
        "list(range(3, 10))"
      ]
    },
    {
      "cell_type": "markdown",
      "id": "33c05b0e",
      "metadata": {
        "id": "33c05b0e"
      },
      "source": [
        "> Обратите внимание, что правая граница диапазона (в нашем случае `10`) не входит в генерируемую последовательность.\n",
        "\n",
        "Можно использовать еще более простой вариант, при котором в функции `range()` задается только одно значение: правая граница диапазона. Тогда левая граница по умочанию будет равна нулю:"
      ]
    },
    {
      "cell_type": "code",
      "execution_count": 57,
      "id": "2cc8679e",
      "metadata": {
        "id": "2cc8679e",
        "outputId": "b815d72a-359e-4b92-b393-a3984a97a179",
        "colab": {
          "base_uri": "https://localhost:8080/"
        }
      },
      "outputs": [
        {
          "output_type": "execute_result",
          "data": {
            "text/plain": [
              "[0, 1, 2, 3, 4, 5, 6, 7, 8, 9]"
            ]
          },
          "metadata": {},
          "execution_count": 57
        }
      ],
      "source": [
        "list(range(10))"
      ]
    },
    {
      "cell_type": "code",
      "execution_count": 58,
      "id": "013e9a7e",
      "metadata": {
        "id": "013e9a7e",
        "outputId": "33647bc9-61ed-4605-d3a0-9846ad01216c",
        "colab": {
          "base_uri": "https://localhost:8080/"
        }
      },
      "outputs": [
        {
          "output_type": "stream",
          "name": "stdout",
          "text": [
            "0 squared = 0\n",
            "2 squared = 4\n",
            "4 squared = 16\n",
            "6 squared = 36\n",
            "8 squared = 64\n"
          ]
        }
      ],
      "source": [
        "for number in range(10):\n",
        "    if number%2 == 0:\n",
        "        print(number, 'squared =', number**2)"
      ]
    },
    {
      "cell_type": "code",
      "execution_count": 58,
      "id": "38377015-3093-4b10-9afd-352bf9b2b568",
      "metadata": {
        "id": "38377015-3093-4b10-9afd-352bf9b2b568"
      },
      "outputs": [],
      "source": []
    }
  ],
  "metadata": {
    "colab": {
      "provenance": [],
      "toc_visible": true,
      "include_colab_link": true
    },
    "kernelspec": {
      "display_name": "Python 3 (ipykernel)",
      "language": "python",
      "name": "python3"
    },
    "language_info": {
      "codemirror_mode": {
        "name": "ipython",
        "version": 3
      },
      "file_extension": ".py",
      "mimetype": "text/x-python",
      "name": "python",
      "nbconvert_exporter": "python",
      "pygments_lexer": "ipython3",
      "version": "3.10.10"
    }
  },
  "nbformat": 4,
  "nbformat_minor": 5
}