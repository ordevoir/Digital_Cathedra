{
 "cells": [
  {
   "cell_type": "markdown",
   "id": "e2ff1a02",
   "metadata": {
    "colab_type": "text",
    "id": "view-in-github"
   },
   "source": [
    "<a href=\"https://colab.research.google.com/github/ordevoir/Digital_Cathedra/blob/main/Python/loops.ipynb\" target=\"_parent\"><img src=\"https://colab.research.google.com/assets/colab-badge.svg\" alt=\"Open In Colab\"/></a>"
   ]
  },
  {
   "cell_type": "markdown",
   "id": "fd12fec9",
   "metadata": {
    "id": "fd12fec9"
   },
   "source": [
    "# Конструкция `while`\n",
    "\n",
    "Часто возникает необходимость многократно выполнять определенный блок инструкций при некотором меняющемся параметре. Конструкции, позволяющие выполнить такие повторяющиеся однотипные действия называются **циклами**. Каждое отдельное выполнение блока инструкций называется **итерацией**.\n",
    "\n",
    "Предположим, что мы хотим вывести на печать квадраты чисел, от `1` до `6`. Можно напечатать `6` строчек с соответствующим вызовом функции `print()`:"
   ]
  },
  {
   "cell_type": "code",
   "execution_count": null,
   "id": "eaf9ffda",
   "metadata": {},
   "outputs": [],
   "source": [
    "print(\"предшествующие инструкции\")\n",
    "\n",
    "print(1, 'squared =', 1**2)\n",
    "print(2, 'squared =', 2**2)\n",
    "print(3, 'squared =', 3**2)\n",
    "print(4, 'squared =', 4**2)\n",
    "print(5, 'squared =', 5**2)\n",
    "print(6, 'squared =', 6**2)\n",
    "\n",
    "print(\"следующие инструкции\")"
   ]
  },
  {
   "cell_type": "markdown",
   "id": "2baf1b0f",
   "metadata": {},
   "source": [
    "Для реализации такой программы можно воспользоваться конструкцией `while`. После ключевого слова `while` идет логическое выражение. Далее, после двоеточия `:` в последующих сторках с отступом записывается блок инструкий (вложенный код или тело цикла):"
   ]
  },
  {
   "cell_type": "code",
   "execution_count": null,
   "id": "1ca95e45",
   "metadata": {
    "colab": {
     "base_uri": "https://localhost:8080/"
    },
    "id": "1ca95e45",
    "outputId": "15367d8b-f9e4-40d7-d741-269f4a666aa1"
   },
   "outputs": [],
   "source": [
    "number = 1\n",
    "\n",
    "print(\"Инструкция из основного потока\")\n",
    "\n",
    "while number<=6:\n",
    "    print(number, 'squared =', number**2)\n",
    "    number = number + 1\n",
    "\n",
    "print(\"Другая инструкция из основного потока\")"
   ]
  },
  {
   "cell_type": "markdown",
   "id": "f3d8a11b",
   "metadata": {
    "id": "f3d8a11b"
   },
   "source": [
    "Тело цикла выполняется выполняется при условии, что логическое выражение `number<=6` возвращает `True`. Очевидно, что при стартовом значении `number = 1`, логическое выражение `number<=6` вернет `True`. Однако в каждой итерации значение переменной `number` увеличивается на единицу. Выражение `number<=6` будет возвращать `True` до тех пор, пока значение `number` не перепрыгнет число `6`. В итоге, выражение `number<=6` вернет `False` и цикл завершится. Программа продолжит выполнение инструкций, следующих за конструкцией `while`.\n",
    "\n",
    "Такая конструкция называется “циклом”, потому что программа продолжает возвращаться к началу оператора `while`, пока проверка логического выражения не даст ложное значение. Когда результат проверки становится ложным, программа переходит к инструкции, следующий после блока `while`. Совокупный эффект в том, что тело цикла выполняется многократно, пока проверка в заголовочной части дает истинное значение. Если проверка оценивается в ложное значение с самого начала, тогда тело цикла никогда не выполнится и оператор `while` пропускается."
   ]
  },
  {
   "cell_type": "markdown",
   "id": "Qbxm4vPODa3c",
   "metadata": {
    "id": "Qbxm4vPODa3c"
   },
   "source": [
    "# Операторы `break`, `continue`\n",
    "\n",
    "Данные операторы позволяют управлять циклом непосредственно в теле цикла, пропуская некоторый блок инструкций либо завершая выполнение цикла.\n",
    "\n",
    "Инструкция `break` позаовляет завершить цикл и перейти к инструкции, следующей за блоком `while`.\n",
    "\n",
    "Инструкция `continue` позволяет пропустить блок инструкций тела цикла, следующие за этим оператором, и перейти в начало цикла (на строку заголовка цикла)."
   ]
  },
  {
   "cell_type": "code",
   "execution_count": null,
   "id": "ayY_nVxfJmSu",
   "metadata": {
    "colab": {
     "base_uri": "https://localhost:8080/"
    },
    "id": "ayY_nVxfJmSu",
    "outputId": "a14f29d8-6cce-4185-94b8-fc9034a24b45"
   },
   "outputs": [],
   "source": [
    "x = 0\n",
    "while True:\n",
    "    if x == 8:\n",
    "        break\n",
    "    print('remainder of division by 2:', x % 2, 'for', x)\n",
    "    x = x + 1"
   ]
  },
  {
   "cell_type": "markdown",
   "id": "9eKdH041KZ_V",
   "metadata": {
    "id": "9eKdH041KZ_V"
   },
   "source": [
    "Заметим, что для четных чисел остаток от деления на `2` всегда равен `0`, а для нечетных чисел – `1`. Это обстоятельство позволяет нам легко проверять число на четность/нечетность, путем сравнения результата выражения `x % 2` со значением `0`:"
   ]
  },
  {
   "cell_type": "code",
   "execution_count": null,
   "id": "9NLSchskK6ma",
   "metadata": {
    "colab": {
     "base_uri": "https://localhost:8080/"
    },
    "id": "9NLSchskK6ma",
    "outputId": "15072a38-f1f3-4917-bda4-8d7e7c5d30c7"
   },
   "outputs": [],
   "source": [
    "x = 10\n",
    "x % 2 == 0      # является ли x четным?"
   ]
  },
  {
   "cell_type": "markdown",
   "id": "3SU15sayLSW6",
   "metadata": {
    "id": "3SU15sayLSW6"
   },
   "source": [
    "Воспользуемся этим знанием для того, чтобы продемонтсрировать работу оператора `continue`. Будем работать в цикле со значениями переменной `a`. Значение `a` стартоует с `10` и в начале каждой итерации уменьшается на единицу. В конце блока инструкций `while` прописана инструкция для вывода на печать квадрата значения `a`. Перед этим, однако, распологается условная конструкция `if`, в которой проверяется, не является ли число `a` нечетным. Если условное выражение возвращает значение `True`: то будет выполнена инструкция `continue`, при котором программа тут же прыгнет на начало цикла, минуя инструкцию печати, которая расположена ниже оператора `continue`. В конечном счете при выполнении инструкции будут выведены на печать квадраты только четных значений."
   ]
  },
  {
   "cell_type": "code",
   "execution_count": null,
   "id": "dCdn611XIdzg",
   "metadata": {
    "colab": {
     "base_uri": "https://localhost:8080/"
    },
    "id": "dCdn611XIdzg",
    "outputId": "28e84ddb-45eb-463d-cefd-a99f039f2a78"
   },
   "outputs": [],
   "source": [
    "a = 10\n",
    "\n",
    "while a > 0:\n",
    "    a = a - 1\n",
    "    if not a%2==0:\n",
    "        continue\n",
    "    print(a, 'squared:', a**2)"
   ]
  },
  {
   "cell_type": "markdown",
   "id": "pzJ9CYUlNbWc",
   "metadata": {
    "id": "pzJ9CYUlNbWc"
   },
   "source": [
    "Одну и ту же задачу можно выполнять несколькими способами. В частности, следующий код будет выполнять все тоже, что и предыдущий код, но без использования оператора `continue`."
   ]
  },
  {
   "cell_type": "code",
   "execution_count": null,
   "id": "TwMbOClPNtGP",
   "metadata": {
    "colab": {
     "base_uri": "https://localhost:8080/"
    },
    "id": "TwMbOClPNtGP",
    "outputId": "ebf2691e-d6c5-4105-c1c4-cd8994b5a1f7"
   },
   "outputs": [],
   "source": [
    "a = 10\n",
    "\n",
    "while a > 0:\n",
    "    a = a - 1\n",
    "    if a%2==0:\n",
    "        print(a, 'squared:', a**2)"
   ]
  },
  {
   "cell_type": "markdown",
   "id": "fc307b5f",
   "metadata": {
    "id": "fc307b5f"
   },
   "source": [
    "# Конструкция `for`\n",
    "\n",
    "Часто возникает необходимость перебирать в цикле элементы некоторой полседовательности. Например, элементы списка. После ключевого слова `for` следует имя переменной, которой будут присваиваться элементы последовательности (в примере ниже это `number`). Далее идет оператор `in` за которым следует имя объекта (`L`), который представляет собой последовательность. На каждой итерации цикла переменной `number` будет присваиваться очередной элемент последовательности и будет выполняться тело цикла. Цикл будет продолжаться до тех пор, пока не исчерпаются все элементы последовательности."
   ]
  },
  {
   "cell_type": "code",
   "execution_count": null,
   "id": "0b8ee283",
   "metadata": {
    "colab": {
     "base_uri": "https://localhost:8080/"
    },
    "id": "0b8ee283",
    "outputId": "2dc6f2f4-2724-4b1d-ac73-1c15b126095b"
   },
   "outputs": [],
   "source": [
    "L = [1, 3, 5, 7, 9]\n",
    "\n",
    "print(\"Инструкция из основного потока\")\n",
    "\n",
    "for number in L:\n",
    "    print(number, 'squared =', number**2)\n",
    "\n",
    "print(\"Другая инструкция из основного потока\")"
   ]
  },
  {
   "cell_type": "markdown",
   "id": "tLR554WIfxQG",
   "metadata": {
    "id": "tLR554WIfxQG"
   },
   "source": [
    "Аналогичным образом можно перебрать в цикле и элементы строки:"
   ]
  },
  {
   "cell_type": "code",
   "execution_count": null,
   "id": "enEv949lffGr",
   "metadata": {
    "colab": {
     "base_uri": "https://localhost:8080/"
    },
    "id": "enEv949lffGr",
    "outputId": "ed817d81-bc66-4239-d437-09814abfc114"
   },
   "outputs": [],
   "source": [
    "S = 'abc de'\n",
    "\n",
    "for symbol in S:\n",
    "    print(symbol)"
   ]
  },
  {
   "cell_type": "markdown",
   "id": "a129b9fb",
   "metadata": {
    "id": "a129b9fb"
   },
   "source": [
    "Последовательность чисел в заданном диапазоне и с заданным шагом может быть сгенерированна при помощи функции `range()`. Для этого в скобках указываются границы диапозона и шаг. Объект, возвращаемый функцией `range()` представляет собой последовательность. Преобразоуем ее в список, для того, чтобы вывести на печать:"
   ]
  },
  {
   "cell_type": "code",
   "execution_count": null,
   "id": "9a73d7bf",
   "metadata": {
    "colab": {
     "base_uri": "https://localhost:8080/"
    },
    "id": "9a73d7bf",
    "outputId": "caa6165d-9cb4-4504-d41a-781ae93b1e5b"
   },
   "outputs": [],
   "source": [
    "start = 10\n",
    "stop = 100\n",
    "step = 15\n",
    "\n",
    "list(range(start, stop, step))"
   ]
  },
  {
   "cell_type": "code",
   "execution_count": null,
   "id": "cd5e0eea",
   "metadata": {
    "colab": {
     "base_uri": "https://localhost:8080/"
    },
    "id": "cd5e0eea",
    "outputId": "49863f8f-3976-42f6-c42d-ef1b7f04e135"
   },
   "outputs": [],
   "source": [
    "for number in range(1, 11, 2):\n",
    "    print(number, 'squared =', number**2)"
   ]
  },
  {
   "cell_type": "markdown",
   "id": "00024514",
   "metadata": {
    "id": "00024514"
   },
   "source": [
    "Можно использовать упрощенный вариант, при котором в функции `range()` задаются только два значения – границы диапазона. В этом случае по умолчанию шаг будет равен единице:"
   ]
  },
  {
   "cell_type": "code",
   "execution_count": null,
   "id": "780dedba",
   "metadata": {
    "colab": {
     "base_uri": "https://localhost:8080/"
    },
    "id": "780dedba",
    "outputId": "b4d0f2a9-eab7-4adb-ca69-5ddd44ca6906"
   },
   "outputs": [],
   "source": [
    "list(range(3, 10))"
   ]
  },
  {
   "cell_type": "markdown",
   "id": "33c05b0e",
   "metadata": {
    "id": "33c05b0e"
   },
   "source": [
    "> Обратите внимание, что правая граница диапазона (в нашем случае `10`) не входит в генерируемую последовательность.\n",
    "\n",
    "Можно использовать еще более простой вариант, при котором в функции `range()` задается только одно значение: правая граница диапазона. Тогда левая граница по умочанию будет равна нулю:"
   ]
  },
  {
   "cell_type": "code",
   "execution_count": null,
   "id": "2cc8679e",
   "metadata": {
    "colab": {
     "base_uri": "https://localhost:8080/"
    },
    "id": "2cc8679e",
    "outputId": "0abb94af-33b5-4931-ec7c-e21cad420f2a"
   },
   "outputs": [],
   "source": [
    "list(range(10))"
   ]
  },
  {
   "cell_type": "code",
   "execution_count": null,
   "id": "013e9a7e",
   "metadata": {
    "colab": {
     "base_uri": "https://localhost:8080/"
    },
    "id": "013e9a7e",
    "outputId": "a3157fcb-472d-481a-9516-4966085ce634"
   },
   "outputs": [],
   "source": [
    "for number in range(10):\n",
    "    if number%2 == 0:\n",
    "        print(number, 'squared =', number**2)"
   ]
  },
  {
   "cell_type": "markdown",
   "id": "5n0r8y5KeGj7",
   "metadata": {
    "id": "5n0r8y5KeGj7"
   },
   "source": [
    "# Примеры"
   ]
  },
  {
   "cell_type": "markdown",
   "id": "60d2c897",
   "metadata": {},
   "source": [
    "## Сумма четных чисел\n",
    "\n",
    "Получим сумму всех четных чисел, от `0` до `100` (включительно!)"
   ]
  },
  {
   "cell_type": "code",
   "execution_count": null,
   "id": "d0f1636a",
   "metadata": {},
   "outputs": [],
   "source": [
    "total = 0\n",
    "n = 0\n",
    "\n",
    "while n <= 100:\n",
    "    total = total + n\n",
    "    n += 2\n",
    "\n",
    "total"
   ]
  },
  {
   "cell_type": "code",
   "execution_count": null,
   "id": "ae297a08",
   "metadata": {},
   "outputs": [],
   "source": [
    "total = 0\n",
    "\n",
    "for n in range(0, 101, 2):\n",
    "    total = total + n\n",
    "\n",
    "total"
   ]
  },
  {
   "cell_type": "markdown",
   "id": "04f3fd18",
   "metadata": {},
   "source": [
    "## Подсчет доли аденина в последовательности\n",
    "\n",
    "Предположим, дана последовательность нуклеотидов в виде строки.\n",
    "Найдем долю аденина в последовательности."
   ]
  },
  {
   "cell_type": "code",
   "execution_count": 2,
   "id": "g9NewS9Md000",
   "metadata": {
    "id": "g9NewS9Md000"
   },
   "outputs": [],
   "source": [
    "sequence = 'ATTGCTTAAGACATTAAGACATAATTACCAAGTAGCAGATGAAATTAGC'"
   ]
  },
  {
   "cell_type": "code",
   "execution_count": 3,
   "id": "QXbPqDMFeatk",
   "metadata": {
    "colab": {
     "base_uri": "https://localhost:8080/"
    },
    "id": "QXbPqDMFeatk",
    "outputId": "d9fe2432-124d-425d-ee20-99d96d951047"
   },
   "outputs": [
    {
     "name": "stdout",
     "output_type": "stream",
     "text": [
      "adenine fraction: 42.857142857142854 %\n"
     ]
    }
   ],
   "source": [
    "lenght = len(sequence)      # длина последовательности\n",
    "counter = 0                 # счетчик для аденина\n",
    "index = 0                   # начальное значение индекса\n",
    "while index < lenght:\n",
    "    if sequence[index] == 'A':\n",
    "        counter = counter + 1\n",
    "    index = index + 1\n",
    "\n",
    "fraction = counter / lenght\n",
    "print('adenine fraction:', fraction * 100, \"%\")"
   ]
  },
  {
   "cell_type": "markdown",
   "id": "c6594ef1",
   "metadata": {},
   "source": [
    "## Гуанин-цитозиновый состав (*GC-content*)\n",
    "\n",
    "![](https://homework.study.com/cimages/multimages/16/4_bases8772415126514494284.png)"
   ]
  },
  {
   "cell_type": "code",
   "execution_count": 6,
   "id": "0f26eee8",
   "metadata": {},
   "outputs": [
    {
     "name": "stdout",
     "output_type": "stream",
     "text": [
      "GC-content: 30.61%\n"
     ]
    }
   ],
   "source": [
    "gc_count = 0\n",
    "for nucleotide in sequence:\n",
    "    if nucleotide == 'G' or nucleotide == 'C':\n",
    "        gc_count += 1   #   <=>  gc_count = gc_count + 1\n",
    "\n",
    "gc_fraction = gc_count / len(sequence)\n",
    "print(f\"GC-content: {gc_fraction*100 :.2f}%\")"
   ]
  }
 ],
 "metadata": {
  "colab": {
   "include_colab_link": true,
   "provenance": [],
   "toc_visible": true
  },
  "kernelspec": {
   "display_name": "Python 3 (ipykernel)",
   "language": "python",
   "name": "python3"
  },
  "language_info": {
   "codemirror_mode": {
    "name": "ipython",
    "version": 3
   },
   "file_extension": ".py",
   "mimetype": "text/x-python",
   "name": "python",
   "nbconvert_exporter": "python",
   "pygments_lexer": "ipython3",
   "version": "3.10.10"
  }
 },
 "nbformat": 4,
 "nbformat_minor": 5
}
