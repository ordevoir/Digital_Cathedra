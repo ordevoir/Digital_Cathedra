{
 "cells": [
  {
   "cell_type": "markdown",
   "id": "8191e855",
   "metadata": {},
   "source": [
    "# Циклы (*Loops*)\n",
    "\n",
    "Часто возникает необходимость многократно выполнять определенный блок инструкций при некотором меняющемся параметре. Конструкции, позволяющие выполнить такие повторяющиеся однотипные действия называются **циклами**. Каждое отдельное выполнение блока инструкций называется **итерацией**."
   ]
  },
  {
   "cell_type": "markdown",
   "id": "fd12fec9",
   "metadata": {},
   "source": [
    "## Конструкция `while`\n",
    "\n",
    "Предположим, что мы хотим вывести на печать квадраты чисел, от `1` до `6`. Для реализации такой программы можно воспользоваться конструкцией `while`. После ключевого слова `while` идет логическое выражение. Далее, после двоеточия `:` в последующих сторках с отступом записывается блок инструкий (вложенный код или тело цикла):"
   ]
  },
  {
   "cell_type": "code",
   "execution_count": 18,
   "id": "1ca95e45",
   "metadata": {},
   "outputs": [
    {
     "name": "stdout",
     "output_type": "stream",
     "text": [
      "Инструкция из основного потока\n",
      "1 squared = 1\n",
      "2 squared = 4\n",
      "3 squared = 9\n",
      "4 squared = 16\n",
      "5 squared = 25\n",
      "6 squared = 36\n",
      "Другая инструкция из основного потока\n"
     ]
    }
   ],
   "source": [
    "number = 1\n",
    "\n",
    "print(\"Инструкция из основного потока\")\n",
    "\n",
    "while number<=6:\n",
    "    print(number, 'squared =', number**2)\n",
    "    number = number + 1\n",
    "\n",
    "print(\"Другая инструкция из основного потока\")"
   ]
  },
  {
   "cell_type": "markdown",
   "id": "f3d8a11b",
   "metadata": {},
   "source": [
    "Тело цикла выполняется выполняется при условии, что логическое выражение `number<=6` возвращает `True`. Очевидно, что при стартовом значении `number = 1`, логическое выражение `number<=6` вернет `True`. Однако в каждой итерации значение переменной `number` увеличивается на единицу. Выражение `number<=6` будет возвращать `True` до тех пор, пока значение `number` не перепрыгнет число `6`. В итоге, выражение `number<=6` вернет `False` и цикл завершится. Программа продолжит выполнение инструкций, следующих за конструкцией `while`."
   ]
  },
  {
   "cell_type": "code",
   "execution_count": 19,
   "id": "6e6a273f",
   "metadata": {},
   "outputs": [
    {
     "data": {
      "text/plain": [
       "[1, 11, 21, 31, 41, 51, 61, 71, 81, 91]"
      ]
     },
     "execution_count": 19,
     "metadata": {},
     "output_type": "execute_result"
    }
   ],
   "source": [
    "list(range(1, 100, 10))"
   ]
  },
  {
   "cell_type": "markdown",
   "id": "fc307b5f",
   "metadata": {},
   "source": [
    "## Констуркция `for`\n",
    "\n",
    "Часто возникает необходимость перебирать в цикле элементы некоторой полседовательности. Например, элементы списка. После ключевого слова `for` следует имя переменной, которой будут присваиваться элементы последовательности (в примере ниже это `number`). Далее идет оператор `in` за которым следует имя объекта (`L`), который представляет собой последовательность. На каждой итерации цикла переменной `number` будет присваиваться очередной элемент последовательности и будет выполняться тело цикла. Цикл будет продолжаться до тех пор, пока не исчерпаются все элементы последовательности."
   ]
  },
  {
   "cell_type": "code",
   "execution_count": 26,
   "id": "0b8ee283",
   "metadata": {},
   "outputs": [
    {
     "name": "stdout",
     "output_type": "stream",
     "text": [
      "Инструкция из основного потока\n",
      "1 squared = 1\n",
      "2 squared = 4\n",
      "3 squared = 9\n",
      "4 squared = 16\n",
      "5 squared = 25\n",
      "6 squared = 36\n",
      "Другая инструкция из основного потока\n"
     ]
    }
   ],
   "source": [
    "L = [1, 2, 3, 4, 5, 6]\n",
    "\n",
    "print(\"Инструкция из основного потока\")\n",
    "\n",
    "for number in L:\n",
    "    print(number, 'squared =', number**2)\n",
    "\n",
    "print(\"Другая инструкция из основного потока\")"
   ]
  },
  {
   "cell_type": "markdown",
   "id": "a129b9fb",
   "metadata": {},
   "source": [
    "Последовательность чисел в заданном диапазоне и с заданным шагом может быть сгенерированна при помощи функции `range()`. Для этого в скобках указываются границы диапозона и шаг."
   ]
  },
  {
   "cell_type": "code",
   "execution_count": 30,
   "id": "9a73d7bf",
   "metadata": {},
   "outputs": [
    {
     "data": {
      "text/plain": [
       "[10, 25, 40, 55, 70, 85]"
      ]
     },
     "execution_count": 30,
     "metadata": {},
     "output_type": "execute_result"
    }
   ],
   "source": [
    "start = 10\n",
    "stop = 100\n",
    "step = 15\n",
    "\n",
    "list(range(start, stop, step))"
   ]
  },
  {
   "cell_type": "code",
   "execution_count": 31,
   "id": "cd5e0eea",
   "metadata": {},
   "outputs": [
    {
     "name": "stdout",
     "output_type": "stream",
     "text": [
      "1 squared = 1\n",
      "2 squared = 4\n",
      "3 squared = 9\n",
      "4 squared = 16\n",
      "5 squared = 25\n",
      "6 squared = 36\n"
     ]
    }
   ],
   "source": [
    "for number in range(1, 7, 1):\n",
    "    print(number, 'squared =', number**2)"
   ]
  },
  {
   "cell_type": "markdown",
   "id": "00024514",
   "metadata": {},
   "source": [
    "Можно использовать упрощенный вариант, при котором в функции `range()` задаются только два значения – границы диапазона. В этом случае по умолчанию шаг будет равен единице:"
   ]
  },
  {
   "cell_type": "code",
   "execution_count": 32,
   "id": "780dedba",
   "metadata": {},
   "outputs": [
    {
     "data": {
      "text/plain": [
       "[3, 4, 5, 6, 7, 8, 9]"
      ]
     },
     "execution_count": 32,
     "metadata": {},
     "output_type": "execute_result"
    }
   ],
   "source": [
    "list(range(3, 10))"
   ]
  },
  {
   "cell_type": "markdown",
   "id": "33c05b0e",
   "metadata": {},
   "source": [
    "Можно использовать еще более простой вариант, при котором в функции `range()` задается только одно значение: правая граница диапазона. Тогда левая граница по умочанию будет равна нулю:"
   ]
  },
  {
   "cell_type": "code",
   "execution_count": 33,
   "id": "2cc8679e",
   "metadata": {},
   "outputs": [
    {
     "data": {
      "text/plain": [
       "[0, 1, 2, 3, 4, 5, 6, 7, 8, 9]"
      ]
     },
     "execution_count": 33,
     "metadata": {},
     "output_type": "execute_result"
    }
   ],
   "source": [
    "list(range(10))"
   ]
  },
  {
   "cell_type": "code",
   "execution_count": 35,
   "id": "013e9a7e",
   "metadata": {},
   "outputs": [
    {
     "name": "stdout",
     "output_type": "stream",
     "text": [
      "0 squared = 0\n",
      "1 squared = 1\n",
      "2 squared = 4\n",
      "3 squared = 9\n",
      "4 squared = 16\n",
      "5 squared = 25\n",
      "6 squared = 36\n"
     ]
    }
   ],
   "source": [
    "for number in range(7):\n",
    "    print(number, 'squared =', number**2)"
   ]
  },
  {
   "cell_type": "markdown",
   "id": "298d2cd9",
   "metadata": {},
   "source": [
    "### `break`"
   ]
  },
  {
   "cell_type": "code",
   "execution_count": 44,
   "id": "683e0ade",
   "metadata": {},
   "outputs": [
    {
     "name": "stdout",
     "output_type": "stream",
     "text": [
      "4\n"
     ]
    }
   ],
   "source": [
    "L = [1, 2, 3, 4, 20, 5, 6]\n",
    "\n",
    "counter = 0\n",
    "value = 20\n",
    "index = None\n",
    "\n",
    "for i in L:\n",
    "    if i == value:\n",
    "        # print('found with index =', counter)\n",
    "        index = counter\n",
    "        break\n",
    "    # print('iteration', counter)\n",
    "    counter = counter + 1\n",
    "\n",
    "print(index)"
   ]
  },
  {
   "cell_type": "markdown",
   "id": "c4534e75",
   "metadata": {},
   "source": [
    "### `continue`"
   ]
  },
  {
   "cell_type": "code",
   "execution_count": 81,
   "id": "65c408dd",
   "metadata": {},
   "outputs": [
    {
     "name": "stdout",
     "output_type": "stream",
     "text": [
      "1 squared = 1\n",
      "3 squared = 9\n",
      "5 squared = 25\n",
      "7 squared = 49\n",
      "9 squared = 81\n"
     ]
    }
   ],
   "source": [
    "number = 0 \n",
    "while number < 10: \n",
    "    number += 1 \n",
    "    if number % 2 == 0: # если число четное\n",
    "        continue\n",
    "    print(number, 'squared =', number**2)"
   ]
  },
  {
   "cell_type": "code",
   "execution_count": null,
   "id": "38377015-3093-4b10-9afd-352bf9b2b568",
   "metadata": {},
   "outputs": [],
   "source": []
  }
 ],
 "metadata": {
  "kernelspec": {
   "display_name": "Python 3 (ipykernel)",
   "language": "python",
   "name": "python3"
  },
  "language_info": {
   "codemirror_mode": {
    "name": "ipython",
    "version": 3
   },
   "file_extension": ".py",
   "mimetype": "text/x-python",
   "name": "python",
   "nbconvert_exporter": "python",
   "pygments_lexer": "ipython3",
   "version": "3.10.10"
  }
 },
 "nbformat": 4,
 "nbformat_minor": 5
}
