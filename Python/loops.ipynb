{
  "cells": [
    {
      "cell_type": "markdown",
      "metadata": {
        "id": "view-in-github",
        "colab_type": "text"
      },
      "source": [
        "<a href=\"https://colab.research.google.com/github/ordevoir/Digital_Cathedra/blob/main/Python/loops.ipynb\" target=\"_parent\"><img src=\"https://colab.research.google.com/assets/colab-badge.svg\" alt=\"Open In Colab\"/></a>"
      ]
    },
    {
      "cell_type": "markdown",
      "id": "fd12fec9",
      "metadata": {
        "id": "fd12fec9"
      },
      "source": [
        "# Конструкция `while`\n",
        "\n",
        "Часто возникает необходимость многократно выполнять определенный блок инструкций при некотором меняющемся параметре. Конструкции, позволяющие выполнить такие повторяющиеся однотипные действия называются **циклами**. Каждое отдельное выполнение блока инструкций называется **итерацией**.\n",
        "\n",
        "Предположим, что мы хотим вывести на печать квадраты чисел, от `1` до `6`. Для реализации такой программы можно воспользоваться конструкцией `while`. После ключевого слова `while` идет логическое выражение. Далее, после двоеточия `:` в последующих сторках с отступом записывается блок инструкий (вложенный код или тело цикла):"
      ]
    },
    {
      "cell_type": "code",
      "execution_count": null,
      "id": "1ca95e45",
      "metadata": {
        "id": "1ca95e45"
      },
      "outputs": [],
      "source": [
        "number = 1\n",
        "\n",
        "print(\"Инструкция из основного потока\")\n",
        "\n",
        "while number<=6:\n",
        "    print(number, 'squared =', number**2)\n",
        "    number = number + 1\n",
        "\n",
        "print(\"Другая инструкция из основного потока\")"
      ]
    },
    {
      "cell_type": "markdown",
      "id": "f3d8a11b",
      "metadata": {
        "id": "f3d8a11b"
      },
      "source": [
        "Тело цикла выполняется выполняется при условии, что логическое выражение `number<=6` возвращает `True`. Очевидно, что при стартовом значении `number = 1`, логическое выражение `number<=6` вернет `True`. Однако в каждой итерации значение переменной `number` увеличивается на единицу. Выражение `number<=6` будет возвращать `True` до тех пор, пока значение `number` не перепрыгнет число `6`. В итоге, выражение `number<=6` вернет `False` и цикл завершится. Программа продолжит выполнение инструкций, следующих за конструкцией `while`.\n",
        "\n",
        "Такая конструкция называется “циклом”, потому что программа продолжает возвращаться к началу оператора `while`, пока проверка логического выражения не даст ложное значение. Когда результат проверки становится ложным, программа переходит к инструкции, следующий после блока `while`. Совокупный эффект в том, что тело цикла выполняется многократно, пока проверка в заголовочной части дает истинное значение. Если проверка оценивается в ложное значение с самого начала, тогда тело цикла никогда не выполнится и оператор `while` пропускается."
      ]
    },
    {
      "cell_type": "markdown",
      "source": [
        "# Операторы `break`, `continue`\n",
        "\n",
        "Данные операторы позволяют управлять циклом непосредственно в теле цикла, пропуская некоторый блок инструкций либо завершая выполнение цикла.\n",
        "\n",
        "Инструкция `break` позаовляет завершить цикл и перейти к инструкции, следующей за блоком `while`.\n",
        "\n",
        "Инструкция `continue` позволяет пропустить блок инструкций тела цикла, следующие за этим оператором, и перейти в начало цикла (на строку заголовка цикла)."
      ],
      "metadata": {
        "id": "Qbxm4vPODa3c"
      },
      "id": "Qbxm4vPODa3c"
    },
    {
      "cell_type": "code",
      "source": [
        "x = 0\n",
        "while True:\n",
        "    if x == 8:\n",
        "        break\n",
        "    print('remainder of division by 2:', x % 2, 'for', x)\n",
        "    x = x + 1"
      ],
      "metadata": {
        "id": "ayY_nVxfJmSu"
      },
      "id": "ayY_nVxfJmSu",
      "execution_count": null,
      "outputs": []
    },
    {
      "cell_type": "markdown",
      "source": [
        "Заметим, что для четных чисел остаток от деления на `2` всегда равен `0`, а для нечетных чисел – `1`. Это обстоятельство позволяет нам легко проверять число на четность/нечетность, путем сравнения результата выражения `x % 2` со значением `0`:"
      ],
      "metadata": {
        "id": "9eKdH041KZ_V"
      },
      "id": "9eKdH041KZ_V"
    },
    {
      "cell_type": "code",
      "source": [
        "x = 10\n",
        "x % 2 == 0      # является ли x четным?"
      ],
      "metadata": {
        "id": "9NLSchskK6ma"
      },
      "id": "9NLSchskK6ma",
      "execution_count": null,
      "outputs": []
    },
    {
      "cell_type": "markdown",
      "source": [
        "Воспользуемся этим знанием для того, чтобы продемонтсрировать работу оператора `continue`. Будем работать в цикле со значениями переменной `a`. Значение `a` стартоует с `10` и в начале каждой итерации уменьшается на единицу. В конце блока инструкций `while` прописана инструкция для вывода на печать квадрата значения `a`. Перед этим, однако, распологается условная конструкция `if`, в которой проверяется, не является ли число `a` нечетным. Если условное выражение возвращает значение `True`: то будет выполнена инструкция `continue`, при котором программа тут же прыгнет на начало цикла, минуя инструкцию печати, которая расположена ниже оператора `continue`. В конечном счете при выполнении инструкции будут выведены на печать квадраты только четных значений."
      ],
      "metadata": {
        "id": "3SU15sayLSW6"
      },
      "id": "3SU15sayLSW6"
    },
    {
      "cell_type": "code",
      "source": [
        "a = 10\n",
        "\n",
        "while a > 0:\n",
        "    a = a - 1\n",
        "    if not a%2==0:\n",
        "        continue\n",
        "    print(a, 'squared:', a**2)"
      ],
      "metadata": {
        "id": "dCdn611XIdzg"
      },
      "id": "dCdn611XIdzg",
      "execution_count": null,
      "outputs": []
    },
    {
      "cell_type": "markdown",
      "source": [
        "Одну и ту же задачу можно выполнять несколькими способами. В частности, следующий код будет выполнять все тоже, что и предыдущий код, но без использования оператора `continue`."
      ],
      "metadata": {
        "id": "pzJ9CYUlNbWc"
      },
      "id": "pzJ9CYUlNbWc"
    },
    {
      "cell_type": "code",
      "source": [
        "a = 10\n",
        "\n",
        "while a > 0:\n",
        "    a = a - 1\n",
        "    if a%2==0:\n",
        "        print(a, 'squared:', a**2)"
      ],
      "metadata": {
        "id": "TwMbOClPNtGP"
      },
      "id": "TwMbOClPNtGP",
      "execution_count": null,
      "outputs": []
    },
    {
      "cell_type": "markdown",
      "id": "fc307b5f",
      "metadata": {
        "id": "fc307b5f"
      },
      "source": [
        "# Констуркция `for`\n",
        "\n",
        "Часто возникает необходимость перебирать в цикле элементы некоторой полседовательности. Например, элементы списка. После ключевого слова `for` следует имя переменной, которой будут присваиваться элементы последовательности (в примере ниже это `number`). Далее идет оператор `in` за которым следует имя объекта (`L`), который представляет собой последовательность. На каждой итерации цикла переменной `number` будет присваиваться очередной элемент последовательности и будет выполняться тело цикла. Цикл будет продолжаться до тех пор, пока не исчерпаются все элементы последовательности."
      ]
    },
    {
      "cell_type": "code",
      "execution_count": null,
      "id": "0b8ee283",
      "metadata": {
        "id": "0b8ee283"
      },
      "outputs": [],
      "source": [
        "L = [1, 2, 3, 4, 5, 6]\n",
        "\n",
        "print(\"Инструкция из основного потока\")\n",
        "\n",
        "for number in L:\n",
        "    print(number, 'squared =', number**2)\n",
        "\n",
        "print(\"Другая инструкция из основного потока\")"
      ]
    },
    {
      "cell_type": "markdown",
      "id": "a129b9fb",
      "metadata": {
        "id": "a129b9fb"
      },
      "source": [
        "Последовательность чисел в заданном диапазоне и с заданным шагом может быть сгенерированна при помощи функции `range()`. Для этого в скобках указываются границы диапозона и шаг."
      ]
    },
    {
      "cell_type": "code",
      "execution_count": null,
      "id": "9a73d7bf",
      "metadata": {
        "id": "9a73d7bf"
      },
      "outputs": [],
      "source": [
        "start = 10\n",
        "stop = 100\n",
        "step = 15\n",
        "\n",
        "list(range(start, stop, step))"
      ]
    },
    {
      "cell_type": "code",
      "execution_count": null,
      "id": "cd5e0eea",
      "metadata": {
        "id": "cd5e0eea"
      },
      "outputs": [],
      "source": [
        "for number in range(1, 7, 1):\n",
        "    print(number, 'squared =', number**2)"
      ]
    },
    {
      "cell_type": "markdown",
      "id": "00024514",
      "metadata": {
        "id": "00024514"
      },
      "source": [
        "Можно использовать упрощенный вариант, при котором в функции `range()` задаются только два значения – границы диапазона. В этом случае по умолчанию шаг будет равен единице:"
      ]
    },
    {
      "cell_type": "code",
      "execution_count": null,
      "id": "780dedba",
      "metadata": {
        "id": "780dedba"
      },
      "outputs": [],
      "source": [
        "list(range(3, 10))"
      ]
    },
    {
      "cell_type": "markdown",
      "id": "33c05b0e",
      "metadata": {
        "id": "33c05b0e"
      },
      "source": [
        "Можно использовать еще более простой вариант, при котором в функции `range()` задается только одно значение: правая граница диапазона. Тогда левая граница по умочанию будет равна нулю:"
      ]
    },
    {
      "cell_type": "code",
      "execution_count": null,
      "id": "2cc8679e",
      "metadata": {
        "id": "2cc8679e"
      },
      "outputs": [],
      "source": [
        "list(range(10))"
      ]
    },
    {
      "cell_type": "code",
      "execution_count": null,
      "id": "013e9a7e",
      "metadata": {
        "id": "013e9a7e"
      },
      "outputs": [],
      "source": [
        "for number in range(7):\n",
        "    print(number, 'squared =', number**2)"
      ]
    },
    {
      "cell_type": "markdown",
      "id": "298d2cd9",
      "metadata": {
        "id": "298d2cd9"
      },
      "source": [
        "### `break`"
      ]
    },
    {
      "cell_type": "code",
      "execution_count": null,
      "id": "683e0ade",
      "metadata": {
        "id": "683e0ade"
      },
      "outputs": [],
      "source": [
        "L = [1, 2, 3, 4, 20, 5, 6]\n",
        "\n",
        "counter = 0\n",
        "value = 20\n",
        "index = None\n",
        "\n",
        "for i in L:\n",
        "    if i == value:\n",
        "        # print('found with index =', counter)\n",
        "        index = counter\n",
        "        break\n",
        "    # print('iteration', counter)\n",
        "    counter = counter + 1\n",
        "\n",
        "print(index)"
      ]
    },
    {
      "cell_type": "markdown",
      "id": "c4534e75",
      "metadata": {
        "id": "c4534e75"
      },
      "source": [
        "### `continue`"
      ]
    },
    {
      "cell_type": "code",
      "execution_count": null,
      "id": "65c408dd",
      "metadata": {
        "id": "65c408dd"
      },
      "outputs": [],
      "source": [
        "number = 0\n",
        "while number < 10:\n",
        "    number += 1\n",
        "    if number % 2 == 0: # если число четное\n",
        "        continue\n",
        "    print(number, 'squared =', number**2)"
      ]
    },
    {
      "cell_type": "code",
      "execution_count": null,
      "id": "38377015-3093-4b10-9afd-352bf9b2b568",
      "metadata": {
        "id": "38377015-3093-4b10-9afd-352bf9b2b568"
      },
      "outputs": [],
      "source": []
    }
  ],
  "metadata": {
    "kernelspec": {
      "display_name": "Python 3 (ipykernel)",
      "language": "python",
      "name": "python3"
    },
    "language_info": {
      "codemirror_mode": {
        "name": "ipython",
        "version": 3
      },
      "file_extension": ".py",
      "mimetype": "text/x-python",
      "name": "python",
      "nbconvert_exporter": "python",
      "pygments_lexer": "ipython3",
      "version": "3.10.10"
    },
    "colab": {
      "provenance": [],
      "include_colab_link": true
    }
  },
  "nbformat": 4,
  "nbformat_minor": 5
}